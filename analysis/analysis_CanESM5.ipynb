{
 "cells": [
  {
   "cell_type": "markdown",
   "id": "4d047299",
   "metadata": {
    "papermill": {
     "duration": 0.056388,
     "end_time": "2022-03-08T04:24:20.960038",
     "exception": false,
     "start_time": "2022-03-08T04:24:20.903650",
     "status": "completed"
    },
    "tags": []
   },
   "source": [
    "# November rain\n",
    "\n",
    "November 2021 was the wettest November on record for Australia."
   ]
  },
  {
   "cell_type": "code",
   "execution_count": 1,
   "id": "95569a41",
   "metadata": {
    "execution": {
     "iopub.execute_input": "2022-03-08T04:24:21.258604Z",
     "iopub.status.busy": "2022-03-08T04:24:21.249523Z",
     "iopub.status.idle": "2022-03-08T04:24:32.829407Z",
     "shell.execute_reply": "2022-03-08T04:24:32.828261Z"
    },
    "papermill": {
     "duration": 11.636933,
     "end_time": "2022-03-08T04:24:32.829706",
     "exception": false,
     "start_time": "2022-03-08T04:24:21.192773",
     "status": "completed"
    },
    "tags": []
   },
   "outputs": [],
   "source": [
    "import os\n",
    "\n",
    "import matplotlib.pyplot as plt\n",
    "import pandas as pd\n",
    "import numpy as np\n",
    "from IPython.display import Image\n",
    "from scipy.stats import genextreme as gev\n",
    "\n",
    "from unseen import fileio\n",
    "from unseen import general_utils\n",
    "from unseen import indices\n",
    "from unseen import time_utils"
   ]
  },
  {
   "cell_type": "code",
   "execution_count": 2,
   "id": "56e9e0ab",
   "metadata": {
    "execution": {
     "iopub.execute_input": "2022-03-08T04:24:32.926605Z",
     "iopub.status.busy": "2022-03-08T04:24:32.925644Z",
     "iopub.status.idle": "2022-03-08T04:24:32.930122Z",
     "shell.execute_reply": "2022-03-08T04:24:32.929194Z"
    },
    "papermill": {
     "duration": 0.057426,
     "end_time": "2022-03-08T04:24:32.930353",
     "exception": false,
     "start_time": "2022-03-08T04:24:32.872927",
     "status": "completed"
    },
    "tags": [
     "parameters"
    ]
   },
   "outputs": [],
   "source": [
    "# Optional parameters \n",
    "# (This cell is tagged \"parameters\")\n",
    "dpi = 300"
   ]
  },
  {
   "cell_type": "code",
   "execution_count": 3,
   "id": "a81a61ba",
   "metadata": {
    "execution": {
     "iopub.execute_input": "2022-03-08T04:24:33.017978Z",
     "iopub.status.busy": "2022-03-08T04:24:33.017012Z",
     "iopub.status.idle": "2022-03-08T04:24:33.021524Z",
     "shell.execute_reply": "2022-03-08T04:24:33.020589Z"
    },
    "papermill": {
     "duration": 0.05047,
     "end_time": "2022-03-08T04:24:33.021741",
     "exception": false,
     "start_time": "2022-03-08T04:24:32.971271",
     "status": "completed"
    },
    "tags": [
     "injected-parameters"
    ]
   },
   "outputs": [],
   "source": [
    "# Parameters\n",
    "bom_file = \"/g/data/xv83/dbi599/nov-rain/data/pr_BoM_1900-2021_nov_aus-mean.nc\"\n",
    "model_file = \"/g/data/xv83/dbi599/nov-rain/data/pr_CanESM5-dcppA-hindcast_196101-201701_nov_aus-mean.zarr.zip\"\n",
    "model_bc_file = \"/g/data/xv83/dbi599/nov-rain/data/pr_CanESM5-dcppA-hindcast_196101-201701_nov_aus-mean_bias-corrected-BoM-multiplicative.zarr.zip\"\n",
    "similarity_bc_file = \"/g/data/xv83/dbi599/nov-rain/data/ks-test_pr_CanESM5-dcppA-hindcast_196101-201701_nov_aus-mean_bias-corrected-BoM-multiplicative.zarr.zip\"\n",
    "similarity_raw_file = \"/g/data/xv83/dbi599/nov-rain/data/ks-test_pr_CanESM5-dcppA-hindcast_196101-201701_nov_aus-mean_BoM.zarr.zip\"\n",
    "independence_plot = \"/g/data/xv83/dbi599/nov-rain/figures/independence-test_pr_CanESM5-dcppA-hindcast_196101-201701_nov_aus-mean.png\"\n",
    "model_name = \"CanESM5\"\n",
    "min_lead = 3\n"
   ]
  },
  {
   "cell_type": "code",
   "execution_count": 4,
   "id": "b9787631",
   "metadata": {
    "execution": {
     "iopub.execute_input": "2022-03-08T04:24:33.113800Z",
     "iopub.status.busy": "2022-03-08T04:24:33.112847Z",
     "iopub.status.idle": "2022-03-08T04:24:33.118341Z",
     "shell.execute_reply": "2022-03-08T04:24:33.117488Z"
    },
    "papermill": {
     "duration": 0.055338,
     "end_time": "2022-03-08T04:24:33.118602",
     "exception": false,
     "start_time": "2022-03-08T04:24:33.063264",
     "status": "completed"
    },
    "tags": []
   },
   "outputs": [],
   "source": [
    "# Required parameters\n",
    "assert 'model_name' in locals(), \"Must provide a model name\"\n",
    "assert 'min_lead' in locals(), \"Must provide a minimum lead time\"\n",
    "assert os.path.isfile(bom_file), \"Must provide an BoM data file (papermill option -p agcd_file [filepath])\"\n",
    "assert os.path.isfile(model_file), \"Must provide an model data file (papermill option -p cafe_file [filepath])\"\n",
    "assert os.path.isfile(model_bc_file), \"Must provide a model bias corrected data file (papermill option -p cafe_bc_file [filepath])\"\n",
    "assert os.path.isfile(similarity_bc_file), \"Must provide an bias corrected similarity test file (papermill option -p similarity_bias_file [filepath])\"\n",
    "assert os.path.isfile(similarity_raw_file), \"Must provide an raw data similarity test file (papermill option -p similarity_raw_file [filepath])\"\n",
    "assert os.path.isfile(independence_plot), \"Must provide an independence test plot (papermill option -p independence_plot [filepath])\""
   ]
  },
  {
   "cell_type": "markdown",
   "id": "5c8da4f2",
   "metadata": {
    "papermill": {
     "duration": 0.040814,
     "end_time": "2022-03-08T04:24:33.200634",
     "exception": false,
     "start_time": "2022-03-08T04:24:33.159820",
     "status": "completed"
    },
    "tags": []
   },
   "source": [
    "## Observations"
   ]
  },
  {
   "cell_type": "code",
   "execution_count": 5,
   "id": "d80b0c20",
   "metadata": {
    "execution": {
     "iopub.execute_input": "2022-03-08T04:24:33.291188Z",
     "iopub.status.busy": "2022-03-08T04:24:33.290279Z",
     "iopub.status.idle": "2022-03-08T04:24:33.303532Z",
     "shell.execute_reply": "2022-03-08T04:24:33.304182Z"
    },
    "papermill": {
     "duration": 0.062888,
     "end_time": "2022-03-08T04:24:33.304486",
     "exception": false,
     "start_time": "2022-03-08T04:24:33.241598",
     "status": "completed"
    },
    "tags": []
   },
   "outputs": [
    {
     "data": {
      "image/png": "[encoded data removed]",
      "text/plain": [
       "<IPython.core.display.Image object>"
      ]
     },
     "execution_count": 5,
     "metadata": {},
     "output_type": "execute_result"
    }
   ],
   "source": [
    "Image(filename='/home/599/dbi599/nov-rain/analysis/pr_BoM_1900-2021_nov_aus-mean.png')"
   ]
  },
  {
   "cell_type": "code",
   "execution_count": 6,
   "id": "f40952f6",
   "metadata": {
    "execution": {
     "iopub.execute_input": "2022-03-08T04:24:33.399457Z",
     "iopub.status.busy": "2022-03-08T04:24:33.397951Z",
     "iopub.status.idle": "2022-03-08T04:24:33.568234Z",
     "shell.execute_reply": "2022-03-08T04:24:33.567557Z"
    },
    "papermill": {
     "duration": 0.220754,
     "end_time": "2022-03-08T04:24:33.568539",
     "exception": false,
     "start_time": "2022-03-08T04:24:33.347785",
     "status": "completed"
    },
    "tags": []
   },
   "outputs": [],
   "source": [
    "bom_ds = fileio.open_dataset(bom_file)"
   ]
  },
  {
   "cell_type": "code",
   "execution_count": 7,
   "id": "1493ff0f",
   "metadata": {
    "execution": {
     "iopub.execute_input": "2022-03-08T04:24:33.670810Z",
     "iopub.status.busy": "2022-03-08T04:24:33.665479Z",
     "iopub.status.idle": "2022-03-08T04:24:33.690615Z",
     "shell.execute_reply": "2022-03-08T04:24:33.691257Z"
    },
    "papermill": {
     "duration": 0.080108,
     "end_time": "2022-03-08T04:24:33.691568",
     "exception": false,
     "start_time": "2022-03-08T04:24:33.611460",
     "status": "completed"
    },
    "tags": []
   },
   "outputs": [
    {
     "data": {
      "text/html": [
       "<div><svg style=\"position: absolute; width: 0; height: 0; overflow: hidden\">\n",
       "<defs>\n",
       "<symbol id=\"icon-database\" viewBox=\"0 0 32 32\">\n",
       "<path d=\"M16 0c-8.837 0-16 2.239-16 5v4c0 2.761 7.163 5 16 5s16-2.239 16-5v-4c0-2.761-7.163-5-16-5z\"></path>\n",
       "<path d=\"M16 17c-8.837 0-16-2.239-16-5v6c0 2.761 7.163 5 16 5s16-2.239 16-5v-6c0 2.761-7.163 5-16 5z\"></path>\n",
       "<path d=\"M16 26c-8.837 0-16-2.239-16-5v6c0 2.761 7.163 5 16 5s16-2.239 16-5v-6c0 2.761-7.163 5-16 5z\"></path>\n",
       "</symbol>\n",
       "<symbol id=\"icon-file-text2\" viewBox=\"0 0 32 32\">\n",
       "<path d=\"M28.681 7.159c-0.694-0.947-1.662-2.053-2.724-3.116s-2.169-2.030-3.116-2.724c-1.612-1.182-2.393-1.319-2.841-1.319h-15.5c-1.378 0-2.5 1.121-2.5 2.5v27c0 1.378 1.122 2.5 2.5 2.5h23c1.378 0 2.5-1.122 2.5-2.5v-19.5c0-0.448-0.137-1.23-1.319-2.841zM24.543 5.457c0.959 0.959 1.712 1.825 2.268 2.543h-4.811v-4.811c0.718 0.556 1.584 1.309 2.543 2.268zM28 29.5c0 0.271-0.229 0.5-0.5 0.5h-23c-0.271 0-0.5-0.229-0.5-0.5v-27c0-0.271 0.229-0.5 0.5-0.5 0 0 15.499-0 15.5 0v7c0 0.552 0.448 1 1 1h7v19.5z\"></path>\n",
       "<path d=\"M23 26h-14c-0.552 0-1-0.448-1-1s0.448-1 1-1h14c0.552 0 1 0.448 1 1s-0.448 1-1 1z\"></path>\n",
       "<path d=\"M23 22h-14c-0.552 0-1-0.448-1-1s0.448-1 1-1h14c0.552 0 1 0.448 1 1s-0.448 1-1 1z\"></path>\n",
       "<path d=\"M23 18h-14c-0.552 0-1-0.448-1-1s0.448-1 1-1h14c0.552 0 1 0.448 1 1s-0.448 1-1 1z\"></path>\n",
       "</symbol>\n",
       "</defs>\n",
       "</svg>\n",
       "<style>/* CSS stylesheet for displaying xarray objects in jupyterlab.\n",
       " *\n",
       " */\n",
       "\n",
       ":root {\n",
       "  --xr-font-color0: var(--jp-content-font-color0, rgba(0, 0, 0, 1));\n",
       "  --xr-font-color2: var(--jp-content-font-color2, rgba(0, 0, 0, 0.54));\n",
       "  --xr-font-color3: var(--jp-content-font-color3, rgba(0, 0, 0, 0.38));\n",
       "  --xr-border-color: var(--jp-border-color2, #e0e0e0);\n",
       "  --xr-disabled-color: var(--jp-layout-color3, #bdbdbd);\n",
       "  --xr-background-color: var(--jp-layout-color0, white);\n",
       "  --xr-background-color-row-even: var(--jp-layout-color1, white);\n",
       "  --xr-background-color-row-odd: var(--jp-layout-color2, #eeeeee);\n",
       "}\n",
       "\n",
       "html[theme=dark],\n",
       "body.vscode-dark {\n",
       "  --xr-font-color0: rgba(255, 255, 255, 1);\n",
       "  --xr-font-color2: rgba(255, 255, 255, 0.54);\n",
       "  --xr-font-color3: rgba(255, 255, 255, 0.38);\n",
       "  --xr-border-color: #1F1F1F;\n",
       "  --xr-disabled-color: #515151;\n",
       "  --xr-background-color: #111111;\n",
       "  --xr-background-color-row-even: #111111;\n",
       "  --xr-background-color-row-odd: #313131;\n",
       "}\n",
       "\n",
       ".xr-wrap {\n",
       "  display: block;\n",
       "  min-width: 300px;\n",
       "  max-width: 700px;\n",
       "}\n",
       "\n",
       ".xr-text-repr-fallback {\n",
       "  /* fallback to plain text repr when CSS is not injected (untrusted notebook) */\n",
       "  display: none;\n",
       "}\n",
       "\n",
       ".xr-header {\n",
       "  padding-top: 6px;\n",
       "  padding-bottom: 6px;\n",
       "  margin-bottom: 4px;\n",
       "  border-bottom: solid 1px var(--xr-border-color);\n",
       "}\n",
       "\n",
       ".xr-header > div,\n",
       ".xr-header > ul {\n",
       "  display: inline;\n",
       "  margin-top: 0;\n",
       "  margin-bottom: 0;\n",
       "}\n",
       "\n",
       ".xr-obj-type,\n",
       ".xr-array-name {\n",
       "  margin-left: 2px;\n",
       "  margin-right: 10px;\n",
       "}\n",
       "\n",
       ".xr-obj-type {\n",
       "  color: var(--xr-font-color2);\n",
       "}\n",
       "\n",
       ".xr-sections {\n",
       "  padding-left: 0 !important;\n",
       "  display: grid;\n",
       "  grid-template-columns: 150px auto auto 1fr 20px 20px;\n",
       "}\n",
       "\n",
       ".xr-section-item {\n",
       "  display: contents;\n",
       "}\n",
       "\n",
       ".xr-section-item input {\n",
       "  display: none;\n",
       "}\n",
       "\n",
       ".xr-section-item input + label {\n",
       "  color: var(--xr-disabled-color);\n",
       "}\n",
       "\n",
       ".xr-section-item input:enabled + label {\n",
       "  cursor: pointer;\n",
       "  color: var(--xr-font-color2);\n",
       "}\n",
       "\n",
       ".xr-section-item input:enabled + label:hover {\n",
       "  color: var(--xr-font-color0);\n",
       "}\n",
       "\n",
       ".xr-section-summary {\n",
       "  grid-column: 1;\n",
       "  color: var(--xr-font-color2);\n",
       "  font-weight: 500;\n",
       "}\n",
       "\n",
       ".xr-section-summary > span {\n",
       "  display: inline-block;\n",
       "  padding-left: 0.5em;\n",
       "}\n",
       "\n",
       ".xr-section-summary-in:disabled + label {\n",
       "  color: var(--xr-font-color2);\n",
       "}\n",
       "\n",
       ".xr-section-summary-in + label:before {\n",
       "  display: inline-block;\n",
       "  content: '►';\n",
       "  font-size: 11px;\n",
       "  width: 15px;\n",
       "  text-align: center;\n",
       "}\n",
       "\n",
       ".xr-section-summary-in:disabled + label:before {\n",
       "  color: var(--xr-disabled-color);\n",
       "}\n",
       "\n",
       ".xr-section-summary-in:checked + label:before {\n",
       "  content: '▼';\n",
       "}\n",
       "\n",
       ".xr-section-summary-in:checked + label > span {\n",
       "  display: none;\n",
       "}\n",
       "\n",
       ".xr-section-summary,\n",
       ".xr-section-inline-details {\n",
       "  padding-top: 4px;\n",
       "  padding-bottom: 4px;\n",
       "}\n",
       "\n",
       ".xr-section-inline-details {\n",
       "  grid-column: 2 / -1;\n",
       "}\n",
       "\n",
       ".xr-section-details {\n",
       "  display: none;\n",
       "  grid-column: 1 / -1;\n",
       "  margin-bottom: 5px;\n",
       "}\n",
       "\n",
       ".xr-section-summary-in:checked ~ .xr-section-details {\n",
       "  display: contents;\n",
       "}\n",
       "\n",
       ".xr-array-wrap {\n",
       "  grid-column: 1 / -1;\n",
       "  display: grid;\n",
       "  grid-template-columns: 20px auto;\n",
       "}\n",
       "\n",
       ".xr-array-wrap > label {\n",
       "  grid-column: 1;\n",
       "  vertical-align: top;\n",
       "}\n",
       "\n",
       ".xr-preview {\n",
       "  color: var(--xr-font-color3);\n",
       "}\n",
       "\n",
       ".xr-array-preview,\n",
       ".xr-array-data {\n",
       "  padding: 0 5px !important;\n",
       "  grid-column: 2;\n",
       "}\n",
       "\n",
       ".xr-array-data,\n",
       ".xr-array-in:checked ~ .xr-array-preview {\n",
       "  display: none;\n",
       "}\n",
       "\n",
       ".xr-array-in:checked ~ .xr-array-data,\n",
       ".xr-array-preview {\n",
       "  display: inline-block;\n",
       "}\n",
       "\n",
       ".xr-dim-list {\n",
       "  display: inline-block !important;\n",
       "  list-style: none;\n",
       "  padding: 0 !important;\n",
       "  margin: 0;\n",
       "}\n",
       "\n",
       ".xr-dim-list li {\n",
       "  display: inline-block;\n",
       "  padding: 0;\n",
       "  margin: 0;\n",
       "}\n",
       "\n",
       ".xr-dim-list:before {\n",
       "  content: '(';\n",
       "}\n",
       "\n",
       ".xr-dim-list:after {\n",
       "  content: ')';\n",
       "}\n",
       "\n",
       ".xr-dim-list li:not(:last-child):after {\n",
       "  content: ',';\n",
       "  padding-right: 5px;\n",
       "}\n",
       "\n",
       ".xr-has-index {\n",
       "  font-weight: bold;\n",
       "}\n",
       "\n",
       ".xr-var-list,\n",
       ".xr-var-item {\n",
       "  display: contents;\n",
       "}\n",
       "\n",
       ".xr-var-item > div,\n",
       ".xr-var-item label,\n",
       ".xr-var-item > .xr-var-name span {\n",
       "  background-color: var(--xr-background-color-row-even);\n",
       "  margin-bottom: 0;\n",
       "}\n",
       "\n",
       ".xr-var-item > .xr-var-name:hover span {\n",
       "  padding-right: 5px;\n",
       "}\n",
       "\n",
       ".xr-var-list > li:nth-child(odd) > div,\n",
       ".xr-var-list > li:nth-child(odd) > label,\n",
       ".xr-var-list > li:nth-child(odd) > .xr-var-name span {\n",
       "  background-color: var(--xr-background-color-row-odd);\n",
       "}\n",
       "\n",
       ".xr-var-name {\n",
       "  grid-column: 1;\n",
       "}\n",
       "\n",
       ".xr-var-dims {\n",
       "  grid-column: 2;\n",
       "}\n",
       "\n",
       ".xr-var-dtype {\n",
       "  grid-column: 3;\n",
       "  text-align: right;\n",
       "  color: var(--xr-font-color2);\n",
       "}\n",
       "\n",
       ".xr-var-preview {\n",
       "  grid-column: 4;\n",
       "}\n",
       "\n",
       ".xr-var-name,\n",
       ".xr-var-dims,\n",
       ".xr-var-dtype,\n",
       ".xr-preview,\n",
       ".xr-attrs dt {\n",
       "  white-space: nowrap;\n",
       "  overflow: hidden;\n",
       "  text-overflow: ellipsis;\n",
       "  padding-right: 10px;\n",
       "}\n",
       "\n",
       ".xr-var-name:hover,\n",
       ".xr-var-dims:hover,\n",
       ".xr-var-dtype:hover,\n",
       ".xr-attrs dt:hover {\n",
       "  overflow: visible;\n",
       "  width: auto;\n",
       "  z-index: 1;\n",
       "}\n",
       "\n",
       ".xr-var-attrs,\n",
       ".xr-var-data {\n",
       "  display: none;\n",
       "  background-color: var(--xr-background-color) !important;\n",
       "  padding-bottom: 5px !important;\n",
       "}\n",
       "\n",
       ".xr-var-attrs-in:checked ~ .xr-var-attrs,\n",
       ".xr-var-data-in:checked ~ .xr-var-data {\n",
       "  display: block;\n",
       "}\n",
       "\n",
       ".xr-var-data > table {\n",
       "  float: right;\n",
       "}\n",
       "\n",
       ".xr-var-name span,\n",
       ".xr-var-data,\n",
       ".xr-attrs {\n",
       "  padding-left: 25px !important;\n",
       "}\n",
       "\n",
       ".xr-attrs,\n",
       ".xr-var-attrs,\n",
       ".xr-var-data {\n",
       "  grid-column: 1 / -1;\n",
       "}\n",
       "\n",
       "dl.xr-attrs {\n",
       "  padding: 0;\n",
       "  margin: 0;\n",
       "  display: grid;\n",
       "  grid-template-columns: 125px auto;\n",
       "}\n",
       "\n",
       ".xr-attrs dt,\n",
       ".xr-attrs dd {\n",
       "  padding: 0;\n",
       "  margin: 0;\n",
       "  float: left;\n",
       "  padding-right: 10px;\n",
       "  width: auto;\n",
       "}\n",
       "\n",
       ".xr-attrs dt {\n",
       "  font-weight: normal;\n",
       "  grid-column: 1;\n",
       "}\n",
       "\n",
       ".xr-attrs dt:hover span {\n",
       "  display: inline-block;\n",
       "  background: var(--xr-background-color);\n",
       "  padding-right: 10px;\n",
       "}\n",
       "\n",
       ".xr-attrs dd {\n",
       "  grid-column: 2;\n",
       "  white-space: pre-wrap;\n",
       "  word-break: break-all;\n",
       "}\n",
       "\n",
       ".xr-icon-database,\n",
       ".xr-icon-file-text2 {\n",
       "  display: inline-block;\n",
       "  vertical-align: middle;\n",
       "  width: 1em;\n",
       "  height: 1.5em !important;\n",
       "  stroke-width: 0;\n",
       "  stroke: currentColor;\n",
       "  fill: currentColor;\n",
       "}\n",
       "</style><pre class='xr-text-repr-fallback'>&lt;xarray.Dataset&gt;\n",
       "Dimensions:  (time: 122)\n",
       "Coordinates:\n",
       "  * time     (time) object 1900-11-15 00:00:00 ... 2021-11-15 00:00:00\n",
       "Data variables:\n",
       "    pr       (time) float64 dask.array&lt;chunksize=(122,), meta=np.ndarray&gt;\n",
       "Attributes:\n",
       "    history:  Fri Feb 18 11:06:30 2022: /g/data/xv83/dbi599/miniconda3/envs/u...\n",
       "    source:   http://www.bom.gov.au/climate/change/</pre><div class='xr-wrap' hidden><div class='xr-header'><div class='xr-obj-type'>xarray.Dataset</div></div><ul class='xr-sections'><li class='xr-section-item'><input id='section-39a5d726-e6f3-4c16-bfdb-c4426e8e9ac1' class='xr-section-summary-in' type='checkbox' disabled ><label for='section-39a5d726-e6f3-4c16-bfdb-c4426e8e9ac1' class='xr-section-summary'  title='Expand/collapse section'>Dimensions:</label><div class='xr-section-inline-details'><ul class='xr-dim-list'><li><span class='xr-has-index'>time</span>: 122</li></ul></div><div class='xr-section-details'></div></li><li class='xr-section-item'><input id='section-dc2c10b7-6646-4f9d-b294-377138b0fc2f' class='xr-section-summary-in' type='checkbox'  checked><label for='section-dc2c10b7-6646-4f9d-b294-377138b0fc2f' class='xr-section-summary' >Coordinates: <span>(1)</span></label><div class='xr-section-inline-details'></div><div class='xr-section-details'><ul class='xr-var-list'><li class='xr-var-item'><div class='xr-var-name'><span class='xr-has-index'>time</span></div><div class='xr-var-dims'>(time)</div><div class='xr-var-dtype'>object</div><div class='xr-var-preview xr-preview'>1900-11-15 00:00:00 ... 2021-11-...</div><input id='attrs-6e57b47b-f3df-4bff-84f3-db9869a164d1' class='xr-var-attrs-in' type='checkbox' ><label for='attrs-6e57b47b-f3df-4bff-84f3-db9869a164d1' title='Show/Hide attributes'><svg class='icon xr-icon-file-text2'><use xlink:href='#icon-file-text2'></use></svg></label><input id='data-4e26156a-083d-4010-87b8-a9c0d8b24a86' class='xr-var-data-in' type='checkbox'><label for='data-4e26156a-083d-4010-87b8-a9c0d8b24a86' title='Show/Hide data repr'><svg class='icon xr-icon-database'><use xlink:href='#icon-database'></use></svg></label><div class='xr-var-attrs'><dl class='xr-attrs'><dt><span>long_name :</span></dt><dd>time</dd></dl></div><div class='xr-var-data'><pre>array([cftime.DatetimeJulian(1900, 11, 15, 0, 0, 0, 0, has_year_zero=False),\n",
       "       cftime.DatetimeJulian(1901, 11, 15, 0, 0, 0, 0, has_year_zero=False),\n",
       "       cftime.DatetimeJulian(1902, 11, 15, 0, 0, 0, 0, has_year_zero=False),\n",
       "       cftime.DatetimeJulian(1903, 11, 15, 0, 0, 0, 0, has_year_zero=False),\n",
       "       cftime.DatetimeJulian(1904, 11, 15, 0, 0, 0, 0, has_year_zero=False),\n",
       "       cftime.DatetimeJulian(1905, 11, 15, 0, 0, 0, 0, has_year_zero=False),\n",
       "       cftime.DatetimeJulian(1906, 11, 15, 0, 0, 0, 0, has_year_zero=False),\n",
       "       cftime.DatetimeJulian(1907, 11, 15, 0, 0, 0, 0, has_year_zero=False),\n",
       "       cftime.DatetimeJulian(1908, 11, 15, 0, 0, 0, 0, has_year_zero=False),\n",
       "       cftime.DatetimeJulian(1909, 11, 15, 0, 0, 0, 0, has_year_zero=False),\n",
       "       cftime.DatetimeJulian(1910, 11, 15, 0, 0, 0, 0, has_year_zero=False),\n",
       "       cftime.DatetimeJulian(1911, 11, 15, 0, 0, 0, 0, has_year_zero=False),\n",
       "       cftime.DatetimeJulian(1912, 11, 15, 0, 0, 0, 0, has_year_zero=False),\n",
       "       cftime.DatetimeJulian(1913, 11, 15, 0, 0, 0, 0, has_year_zero=False),\n",
       "       cftime.DatetimeJulian(1914, 11, 15, 0, 0, 0, 0, has_year_zero=False),\n",
       "       cftime.DatetimeJulian(1915, 11, 15, 0, 0, 0, 0, has_year_zero=False),\n",
       "       cftime.DatetimeJulian(1916, 11, 15, 0, 0, 0, 0, has_year_zero=False),\n",
       "       cftime.DatetimeJulian(1917, 11, 15, 0, 0, 0, 0, has_year_zero=False),\n",
       "       cftime.DatetimeJulian(1918, 11, 15, 0, 0, 0, 0, has_year_zero=False),\n",
       "       cftime.DatetimeJulian(1919, 11, 15, 0, 0, 0, 0, has_year_zero=False),\n",
       "       cftime.DatetimeJulian(1920, 11, 15, 0, 0, 0, 0, has_year_zero=False),\n",
       "       cftime.DatetimeJulian(1921, 11, 15, 0, 0, 0, 0, has_year_zero=False),\n",
       "       cftime.DatetimeJulian(1922, 11, 15, 0, 0, 0, 0, has_year_zero=False),\n",
       "       cftime.DatetimeJulian(1923, 11, 15, 0, 0, 0, 0, has_year_zero=False),\n",
       "       cftime.DatetimeJulian(1924, 11, 15, 0, 0, 0, 0, has_year_zero=False),\n",
       "       cftime.DatetimeJulian(1925, 11, 15, 0, 0, 0, 0, has_year_zero=False),\n",
       "       cftime.DatetimeJulian(1926, 11, 15, 0, 0, 0, 0, has_year_zero=False),\n",
       "       cftime.DatetimeJulian(1927, 11, 15, 0, 0, 0, 0, has_year_zero=False),\n",
       "       cftime.DatetimeJulian(1928, 11, 15, 0, 0, 0, 0, has_year_zero=False),\n",
       "       cftime.DatetimeJulian(1929, 11, 15, 0, 0, 0, 0, has_year_zero=False),\n",
       "       cftime.DatetimeJulian(1930, 11, 15, 0, 0, 0, 0, has_year_zero=False),\n",
       "       cftime.DatetimeJulian(1931, 11, 15, 0, 0, 0, 0, has_year_zero=False),\n",
       "       cftime.DatetimeJulian(1932, 11, 15, 0, 0, 0, 0, has_year_zero=False),\n",
       "       cftime.DatetimeJulian(1933, 11, 15, 0, 0, 0, 0, has_year_zero=False),\n",
       "       cftime.DatetimeJulian(1934, 11, 15, 0, 0, 0, 0, has_year_zero=False),\n",
       "       cftime.DatetimeJulian(1935, 11, 15, 0, 0, 0, 0, has_year_zero=False),\n",
       "       cftime.DatetimeJulian(1936, 11, 15, 0, 0, 0, 0, has_year_zero=False),\n",
       "       cftime.DatetimeJulian(1937, 11, 15, 0, 0, 0, 0, has_year_zero=False),\n",
       "       cftime.DatetimeJulian(1938, 11, 15, 0, 0, 0, 0, has_year_zero=False),\n",
       "       cftime.DatetimeJulian(1939, 11, 15, 0, 0, 0, 0, has_year_zero=False),\n",
       "       cftime.DatetimeJulian(1940, 11, 15, 0, 0, 0, 0, has_year_zero=False),\n",
       "       cftime.DatetimeJulian(1941, 11, 15, 0, 0, 0, 0, has_year_zero=False),\n",
       "       cftime.DatetimeJulian(1942, 11, 15, 0, 0, 0, 0, has_year_zero=False),\n",
       "       cftime.DatetimeJulian(1943, 11, 15, 0, 0, 0, 0, has_year_zero=False),\n",
       "       cftime.DatetimeJulian(1944, 11, 15, 0, 0, 0, 0, has_year_zero=False),\n",
       "       cftime.DatetimeJulian(1945, 11, 15, 0, 0, 0, 0, has_year_zero=False),\n",
       "       cftime.DatetimeJulian(1946, 11, 15, 0, 0, 0, 0, has_year_zero=False),\n",
       "       cftime.DatetimeJulian(1947, 11, 15, 0, 0, 0, 0, has_year_zero=False),\n",
       "       cftime.DatetimeJulian(1948, 11, 15, 0, 0, 0, 0, has_year_zero=False),\n",
       "       cftime.DatetimeJulian(1949, 11, 15, 0, 0, 0, 0, has_year_zero=False),\n",
       "       cftime.DatetimeJulian(1950, 11, 15, 0, 0, 0, 0, has_year_zero=False),\n",
       "       cftime.DatetimeJulian(1951, 11, 15, 0, 0, 0, 0, has_year_zero=False),\n",
       "       cftime.DatetimeJulian(1952, 11, 15, 0, 0, 0, 0, has_year_zero=False),\n",
       "       cftime.DatetimeJulian(1953, 11, 15, 0, 0, 0, 0, has_year_zero=False),\n",
       "       cftime.DatetimeJulian(1954, 11, 15, 0, 0, 0, 0, has_year_zero=False),\n",
       "       cftime.DatetimeJulian(1955, 11, 15, 0, 0, 0, 0, has_year_zero=False),\n",
       "       cftime.DatetimeJulian(1956, 11, 15, 0, 0, 0, 0, has_year_zero=False),\n",
       "       cftime.DatetimeJulian(1957, 11, 15, 0, 0, 0, 0, has_year_zero=False),\n",
       "       cftime.DatetimeJulian(1958, 11, 15, 0, 0, 0, 0, has_year_zero=False),\n",
       "       cftime.DatetimeJulian(1959, 11, 15, 0, 0, 0, 0, has_year_zero=False),\n",
       "       cftime.DatetimeJulian(1960, 11, 15, 0, 0, 0, 0, has_year_zero=False),\n",
       "       cftime.DatetimeJulian(1961, 11, 15, 0, 0, 0, 0, has_year_zero=False),\n",
       "       cftime.DatetimeJulian(1962, 11, 15, 0, 0, 0, 0, has_year_zero=False),\n",
       "       cftime.DatetimeJulian(1963, 11, 15, 0, 0, 0, 0, has_year_zero=False),\n",
       "       cftime.DatetimeJulian(1964, 11, 15, 0, 0, 0, 0, has_year_zero=False),\n",
       "       cftime.DatetimeJulian(1965, 11, 15, 0, 0, 0, 0, has_year_zero=False),\n",
       "       cftime.DatetimeJulian(1966, 11, 15, 0, 0, 0, 0, has_year_zero=False),\n",
       "       cftime.DatetimeJulian(1967, 11, 15, 0, 0, 0, 0, has_year_zero=False),\n",
       "       cftime.DatetimeJulian(1968, 11, 15, 0, 0, 0, 0, has_year_zero=False),\n",
       "       cftime.DatetimeJulian(1969, 11, 15, 0, 0, 0, 0, has_year_zero=False),\n",
       "       cftime.DatetimeJulian(1970, 11, 15, 0, 0, 0, 0, has_year_zero=False),\n",
       "       cftime.DatetimeJulian(1971, 11, 15, 0, 0, 0, 0, has_year_zero=False),\n",
       "       cftime.DatetimeJulian(1972, 11, 15, 0, 0, 0, 0, has_year_zero=False),\n",
       "       cftime.DatetimeJulian(1973, 11, 15, 0, 0, 0, 0, has_year_zero=False),\n",
       "       cftime.DatetimeJulian(1974, 11, 15, 0, 0, 0, 0, has_year_zero=False),\n",
       "       cftime.DatetimeJulian(1975, 11, 15, 0, 0, 0, 0, has_year_zero=False),\n",
       "       cftime.DatetimeJulian(1976, 11, 15, 0, 0, 0, 0, has_year_zero=False),\n",
       "       cftime.DatetimeJulian(1977, 11, 15, 0, 0, 0, 0, has_year_zero=False),\n",
       "       cftime.DatetimeJulian(1978, 11, 15, 0, 0, 0, 0, has_year_zero=False),\n",
       "       cftime.DatetimeJulian(1979, 11, 15, 0, 0, 0, 0, has_year_zero=False),\n",
       "       cftime.DatetimeJulian(1980, 11, 15, 0, 0, 0, 0, has_year_zero=False),\n",
       "       cftime.DatetimeJulian(1981, 11, 15, 0, 0, 0, 0, has_year_zero=False),\n",
       "       cftime.DatetimeJulian(1982, 11, 15, 0, 0, 0, 0, has_year_zero=False),\n",
       "       cftime.DatetimeJulian(1983, 11, 15, 0, 0, 0, 0, has_year_zero=False),\n",
       "       cftime.DatetimeJulian(1984, 11, 15, 0, 0, 0, 0, has_year_zero=False),\n",
       "       cftime.DatetimeJulian(1985, 11, 15, 0, 0, 0, 0, has_year_zero=False),\n",
       "       cftime.DatetimeJulian(1986, 11, 15, 0, 0, 0, 0, has_year_zero=False),\n",
       "       cftime.DatetimeJulian(1987, 11, 15, 0, 0, 0, 0, has_year_zero=False),\n",
       "       cftime.DatetimeJulian(1988, 11, 15, 0, 0, 0, 0, has_year_zero=False),\n",
       "       cftime.DatetimeJulian(1989, 11, 15, 0, 0, 0, 0, has_year_zero=False),\n",
       "       cftime.DatetimeJulian(1990, 11, 15, 0, 0, 0, 0, has_year_zero=False),\n",
       "       cftime.DatetimeJulian(1991, 11, 15, 0, 0, 0, 0, has_year_zero=False),\n",
       "       cftime.DatetimeJulian(1992, 11, 15, 0, 0, 0, 0, has_year_zero=False),\n",
       "       cftime.DatetimeJulian(1993, 11, 15, 0, 0, 0, 0, has_year_zero=False),\n",
       "       cftime.DatetimeJulian(1994, 11, 15, 0, 0, 0, 0, has_year_zero=False),\n",
       "       cftime.DatetimeJulian(1995, 11, 15, 0, 0, 0, 0, has_year_zero=False),\n",
       "       cftime.DatetimeJulian(1996, 11, 15, 0, 0, 0, 0, has_year_zero=False),\n",
       "       cftime.DatetimeJulian(1997, 11, 15, 0, 0, 0, 0, has_year_zero=False),\n",
       "       cftime.DatetimeJulian(1998, 11, 15, 0, 0, 0, 0, has_year_zero=False),\n",
       "       cftime.DatetimeJulian(1999, 11, 15, 0, 0, 0, 0, has_year_zero=False),\n",
       "       cftime.DatetimeJulian(2000, 11, 15, 0, 0, 0, 0, has_year_zero=False),\n",
       "       cftime.DatetimeJulian(2001, 11, 15, 0, 0, 0, 0, has_year_zero=False),\n",
       "       cftime.DatetimeJulian(2002, 11, 15, 0, 0, 0, 0, has_year_zero=False),\n",
       "       cftime.DatetimeJulian(2003, 11, 15, 0, 0, 0, 0, has_year_zero=False),\n",
       "       cftime.DatetimeJulian(2004, 11, 15, 0, 0, 0, 0, has_year_zero=False),\n",
       "       cftime.DatetimeJulian(2005, 11, 15, 0, 0, 0, 0, has_year_zero=False),\n",
       "       cftime.DatetimeJulian(2006, 11, 15, 0, 0, 0, 0, has_year_zero=False),\n",
       "       cftime.DatetimeJulian(2007, 11, 15, 0, 0, 0, 0, has_year_zero=False),\n",
       "       cftime.DatetimeJulian(2008, 11, 15, 0, 0, 0, 0, has_year_zero=False),\n",
       "       cftime.DatetimeJulian(2009, 11, 15, 0, 0, 0, 0, has_year_zero=False),\n",
       "       cftime.DatetimeJulian(2010, 11, 15, 0, 0, 0, 0, has_year_zero=False),\n",
       "       cftime.DatetimeJulian(2011, 11, 15, 0, 0, 0, 0, has_year_zero=False),\n",
       "       cftime.DatetimeJulian(2012, 11, 15, 0, 0, 0, 0, has_year_zero=False),\n",
       "       cftime.DatetimeJulian(2013, 11, 15, 0, 0, 0, 0, has_year_zero=False),\n",
       "       cftime.DatetimeJulian(2014, 11, 15, 0, 0, 0, 0, has_year_zero=False),\n",
       "       cftime.DatetimeJulian(2015, 11, 15, 0, 0, 0, 0, has_year_zero=False),\n",
       "       cftime.DatetimeJulian(2016, 11, 15, 0, 0, 0, 0, has_year_zero=False),\n",
       "       cftime.DatetimeJulian(2017, 11, 15, 0, 0, 0, 0, has_year_zero=False),\n",
       "       cftime.DatetimeJulian(2018, 11, 15, 0, 0, 0, 0, has_year_zero=False),\n",
       "       cftime.DatetimeJulian(2019, 11, 15, 0, 0, 0, 0, has_year_zero=False),\n",
       "       cftime.DatetimeJulian(2020, 11, 15, 0, 0, 0, 0, has_year_zero=False),\n",
       "       cftime.DatetimeJulian(2021, 11, 15, 0, 0, 0, 0, has_year_zero=False)],\n",
       "      dtype=object)</pre></div></li></ul></div></li><li class='xr-section-item'><input id='section-06468364-c508-4498-8124-c2a08b951ef4' class='xr-section-summary-in' type='checkbox'  checked><label for='section-06468364-c508-4498-8124-c2a08b951ef4' class='xr-section-summary' >Data variables: <span>(1)</span></label><div class='xr-section-inline-details'></div><div class='xr-section-details'><ul class='xr-var-list'><li class='xr-var-item'><div class='xr-var-name'><span>pr</span></div><div class='xr-var-dims'>(time)</div><div class='xr-var-dtype'>float64</div><div class='xr-var-preview xr-preview'>dask.array&lt;chunksize=(122,), meta=np.ndarray&gt;</div><input id='attrs-63bc2613-c19a-40d8-9455-3ab5cbba282f' class='xr-var-attrs-in' type='checkbox' ><label for='attrs-63bc2613-c19a-40d8-9455-3ab5cbba282f' title='Show/Hide attributes'><svg class='icon xr-icon-file-text2'><use xlink:href='#icon-file-text2'></use></svg></label><input id='data-4686d326-a685-44aa-a454-5d879819e8da' class='xr-var-data-in' type='checkbox'><label for='data-4686d326-a685-44aa-a454-5d879819e8da' title='Show/Hide data repr'><svg class='icon xr-icon-database'><use xlink:href='#icon-database'></use></svg></label><div class='xr-var-attrs'><dl class='xr-attrs'><dt><span>long_name :</span></dt><dd>precipitation</dd><dt><span>units :</span></dt><dd>mm month-1</dd></dl></div><div class='xr-var-data'><table>\n",
       "<tr>\n",
       "<td>\n",
       "<table>\n",
       "  <thead>\n",
       "    <tr><td> </td><th> Array </th><th> Chunk </th></tr>\n",
       "  </thead>\n",
       "  <tbody>\n",
       "    <tr><th> Bytes </th><td> 0.95 kiB </td> <td> 0.95 kiB </td></tr>\n",
       "    <tr><th> Shape </th><td> (122,) </td> <td> (122,) </td></tr>\n",
       "    <tr><th> Count </th><td> 2 Tasks </td><td> 1 Chunks </td></tr>\n",
       "    <tr><th> Type </th><td> float64 </td><td> numpy.ndarray </td></tr>\n",
       "  </tbody>\n",
       "</table>\n",
       "</td>\n",
       "<td>\n",
       "<svg width=\"170\" height=\"75\" style=\"stroke:rgb(0,0,0);stroke-width:1\" >\n",
       "\n",
       "  <!-- Horizontal lines -->\n",
       "  <line x1=\"0\" y1=\"0\" x2=\"120\" y2=\"0\" style=\"stroke-width:2\" />\n",
       "  <line x1=\"0\" y1=\"25\" x2=\"120\" y2=\"25\" style=\"stroke-width:2\" />\n",
       "\n",
       "  <!-- Vertical lines -->\n",
       "  <line x1=\"0\" y1=\"0\" x2=\"0\" y2=\"25\" style=\"stroke-width:2\" />\n",
       "  <line x1=\"120\" y1=\"0\" x2=\"120\" y2=\"25\" style=\"stroke-width:2\" />\n",
       "\n",
       "  <!-- Colored Rectangle -->\n",
       "  <polygon points=\"0.0,0.0 120.0,0.0 120.0,25.412616514582485 0.0,25.412616514582485\" style=\"fill:#ECB172A0;stroke-width:0\"/>\n",
       "\n",
       "  <!-- Text -->\n",
       "  <text x=\"60.000000\" y=\"45.412617\" font-size=\"1.0rem\" font-weight=\"100\" text-anchor=\"middle\" >122</text>\n",
       "  <text x=\"140.000000\" y=\"12.706308\" font-size=\"1.0rem\" font-weight=\"100\" text-anchor=\"middle\" transform=\"rotate(0,140.000000,12.706308)\">1</text>\n",
       "</svg>\n",
       "</td>\n",
       "</tr>\n",
       "</table></div></li></ul></div></li><li class='xr-section-item'><input id='section-075d4e7d-49fd-49af-8075-458f83445781' class='xr-section-summary-in' type='checkbox'  checked><label for='section-075d4e7d-49fd-49af-8075-458f83445781' class='xr-section-summary' >Attributes: <span>(2)</span></label><div class='xr-section-inline-details'></div><div class='xr-section-details'><dl class='xr-attrs'><dt><span>history :</span></dt><dd>Fri Feb 18 11:06:30 2022: /g/data/xv83/dbi599/miniconda3/envs/unseen/bin/python bom_txt_to_nc.py /g/data/xv83/dbi599/nov-rain/data/pr_BoM_1900-2021_nov_aus-mean.txt pr http://www.bom.gov.au/climate/change/ /g/data/xv83/dbi599/nov-rain/data/pr_BoM_1900-2021_nov_aus-mean.nc (git@github.com:AusClimateService/nov-rain)</dd><dt><span>source :</span></dt><dd>http://www.bom.gov.au/climate/change/</dd></dl></div></li></ul></div></div>"
      ],
      "text/plain": [
       "<xarray.Dataset>\n",
       "Dimensions:  (time: 122)\n",
       "Coordinates:\n",
       "  * time     (time) object 1900-11-15 00:00:00 ... 2021-11-15 00:00:00\n",
       "Data variables:\n",
       "    pr       (time) float64 dask.array<chunksize=(122,), meta=np.ndarray>\n",
       "Attributes:\n",
       "    history:  Fri Feb 18 11:06:30 2022: /g/data/xv83/dbi599/miniconda3/envs/u...\n",
       "    source:   http://www.bom.gov.au/climate/change/"
      ]
     },
     "execution_count": 7,
     "metadata": {},
     "output_type": "execute_result"
    }
   ],
   "source": [
    "bom_ds"
   ]
  },
  {
   "cell_type": "code",
   "execution_count": 8,
   "id": "9c701895",
   "metadata": {
    "execution": {
     "iopub.execute_input": "2022-03-08T04:24:33.795952Z",
     "iopub.status.busy": "2022-03-08T04:24:33.795056Z",
     "iopub.status.idle": "2022-03-08T04:24:33.802317Z",
     "shell.execute_reply": "2022-03-08T04:24:33.802941Z"
    },
    "papermill": {
     "duration": 0.066116,
     "end_time": "2022-03-08T04:24:33.803222",
     "exception": false,
     "start_time": "2022-03-08T04:24:33.737106",
     "status": "completed"
    },
    "tags": []
   },
   "outputs": [],
   "source": [
    "years = bom_ds['time'].dt.year.values\n",
    "bom_df = pd.DataFrame(index=years)\n",
    "bom_df['pr'] = bom_ds['pr'].values"
   ]
  },
  {
   "cell_type": "code",
   "execution_count": 9,
   "id": "6c1bcdcc",
   "metadata": {
    "execution": {
     "iopub.execute_input": "2022-03-08T04:24:33.906408Z",
     "iopub.status.busy": "2022-03-08T04:24:33.899389Z",
     "iopub.status.idle": "2022-03-08T04:24:33.912472Z",
     "shell.execute_reply": "2022-03-08T04:24:33.913076Z"
    },
    "papermill": {
     "duration": 0.065234,
     "end_time": "2022-03-08T04:24:33.913446",
     "exception": false,
     "start_time": "2022-03-08T04:24:33.848212",
     "status": "completed"
    },
    "tags": []
   },
   "outputs": [
    {
     "name": "stdout",
     "output_type": "stream",
     "text": [
      "pr    32.909262\n",
      "dtype: float64\n"
     ]
    }
   ],
   "source": [
    "mean_rainfall = bom_df.mean()\n",
    "print(mean_rainfall)"
   ]
  },
  {
   "cell_type": "code",
   "execution_count": 10,
   "id": "c8bfcbcf",
   "metadata": {
    "execution": {
     "iopub.execute_input": "2022-03-08T04:24:34.014923Z",
     "iopub.status.busy": "2022-03-08T04:24:34.014038Z",
     "iopub.status.idle": "2022-03-08T04:24:34.020414Z",
     "shell.execute_reply": "2022-03-08T04:24:34.019514Z"
    },
    "papermill": {
     "duration": 0.062111,
     "end_time": "2022-03-08T04:24:34.020646",
     "exception": false,
     "start_time": "2022-03-08T04:24:33.958535",
     "status": "completed"
    },
    "tags": []
   },
   "outputs": [
    {
     "name": "stdout",
     "output_type": "stream",
     "text": [
      "76.18\n"
     ]
    }
   ],
   "source": [
    "pr2021 = bom_ds['pr'].values.max()\n",
    "print(pr2021)"
   ]
  },
  {
   "cell_type": "code",
   "execution_count": 11,
   "id": "527ce770",
   "metadata": {
    "execution": {
     "iopub.execute_input": "2022-03-08T04:24:34.124740Z",
     "iopub.status.busy": "2022-03-08T04:24:34.123841Z",
     "iopub.status.idle": "2022-03-08T04:24:34.130237Z",
     "shell.execute_reply": "2022-03-08T04:24:34.130866Z"
    },
    "papermill": {
     "duration": 0.064452,
     "end_time": "2022-03-08T04:24:34.131149",
     "exception": false,
     "start_time": "2022-03-08T04:24:34.066697",
     "status": "completed"
    },
    "tags": []
   },
   "outputs": [
    {
     "data": {
      "text/plain": [
       "2021    76.18\n",
       "1973    70.14\n",
       "1917    68.51\n",
       "2000    68.41\n",
       "1950    63.03\n",
       "2008    62.38\n",
       "1999    62.30\n",
       "2011    62.29\n",
       "2010    60.67\n",
       "1998    55.49\n",
       "Name: pr, dtype: float64"
      ]
     },
     "execution_count": 11,
     "metadata": {},
     "output_type": "execute_result"
    }
   ],
   "source": [
    "ranked_years = bom_df['pr'].sort_values(ascending=False)\n",
    "ranked_years.head(n=10)"
   ]
  },
  {
   "cell_type": "code",
   "execution_count": 12,
   "id": "e31dba77",
   "metadata": {
    "execution": {
     "iopub.execute_input": "2022-03-08T04:24:34.235843Z",
     "iopub.status.busy": "2022-03-08T04:24:34.234860Z",
     "iopub.status.idle": "2022-03-08T04:24:34.414772Z",
     "shell.execute_reply": "2022-03-08T04:24:34.414070Z"
    },
    "papermill": {
     "duration": 0.237596,
     "end_time": "2022-03-08T04:24:34.415044",
     "exception": false,
     "start_time": "2022-03-08T04:24:34.177448",
     "status": "completed"
    },
    "tags": []
   },
   "outputs": [
    {
     "name": "stdout",
     "output_type": "stream",
     "text": [
      "Shape parameter: -0.07\n",
      "Location parameter: 26.16\n",
      "Scale parameter: 10.43\n"
     ]
    }
   ],
   "source": [
    "bom_gev_shape, bom_gev_loc, bom_gev_scale = indices.fit_gev(bom_df['pr'].values)\n",
    "print(f'Shape parameter: {bom_gev_shape:.2f}')\n",
    "print(f'Location parameter: {bom_gev_loc:.2f}')\n",
    "print(f'Scale parameter: {bom_gev_scale:.2f}')"
   ]
  },
  {
   "cell_type": "code",
   "execution_count": 13,
   "id": "806ebb06",
   "metadata": {
    "execution": {
     "iopub.execute_input": "2022-03-08T04:24:34.547320Z",
     "iopub.status.busy": "2022-03-08T04:24:34.546449Z",
     "iopub.status.idle": "2022-03-08T04:24:35.094489Z",
     "shell.execute_reply": "2022-03-08T04:24:35.093578Z"
    },
    "papermill": {
     "duration": 0.6326,
     "end_time": "2022-03-08T04:24:35.094735",
     "exception": false,
     "start_time": "2022-03-08T04:24:34.462135",
     "status": "completed"
    },
    "tags": []
   },
   "outputs": [
    {
     "data": {
      "image/png": "[encoded data removed]",
      "text/plain": [
       "<Figure size 720x576 with 1 Axes>"
      ]
     },
     "metadata": {
      "needs_background": "light"
     },
     "output_type": "display_data"
    }
   ],
   "source": [
    "fig, ax = plt.subplots(figsize=[10, 8])\n",
    "gev_xvals = np.arange(0, 120)\n",
    "bom_df['pr'].plot.hist(bins=40, density=True, color='tab:green', alpha=0.5)\n",
    "bom_gev_pdf = gev.pdf(gev_xvals, bom_gev_shape, bom_gev_loc, bom_gev_scale)\n",
    "plt.plot(gev_xvals, bom_gev_pdf, color='tab:green', linewidth=4.0)\n",
    "plt.show()"
   ]
  },
  {
   "cell_type": "code",
   "execution_count": 14,
   "id": "2b8059b4",
   "metadata": {
    "execution": {
     "iopub.execute_input": "2022-03-08T04:24:35.205677Z",
     "iopub.status.busy": "2022-03-08T04:24:35.204356Z",
     "iopub.status.idle": "2022-03-08T04:24:35.360328Z",
     "shell.execute_reply": "2022-03-08T04:24:35.359447Z"
    },
    "papermill": {
     "duration": 0.215578,
     "end_time": "2022-03-08T04:24:35.360602",
     "exception": false,
     "start_time": "2022-03-08T04:24:35.145024",
     "status": "completed"
    },
    "tags": []
   },
   "outputs": [
    {
     "name": "stdout",
     "output_type": "stream",
     "text": [
      "Sample size: 1000\n",
      "98.20% percentile\n",
      "56 year return period\n",
      "\n",
      "Sample size: 5000\n",
      "98.64% percentile\n",
      "74 year return period\n",
      "\n",
      "Sample size: 10000\n",
      "98.31% percentile\n",
      "59 year return period\n",
      "\n",
      "Sample size: 50000\n",
      "98.49% percentile\n",
      "66 year return period\n",
      "\n",
      "Sample size: 100000\n",
      "98.46% percentile\n",
      "65 year return period\n",
      "\n",
      "Sample size: 500000\n",
      "98.44% percentile\n",
      "64 year return period\n",
      "\n"
     ]
    }
   ],
   "source": [
    "for sample_size in [1000, 5000, 10000, 50000, 100000, 500000]:\n",
    "    bom_gev_data = gev.rvs(bom_gev_shape, loc=bom_gev_loc, scale=bom_gev_scale, size=sample_size)\n",
    "    bom_percentile, bom_return_period = general_utils.event_in_context(bom_gev_data, pr2021, 'above')\n",
    "    print(f'Sample size: {sample_size}')\n",
    "    print(f'{bom_percentile:.2f}% percentile')\n",
    "    print(f'{bom_return_period:.0f} year return period\\n')"
   ]
  },
  {
   "cell_type": "markdown",
   "id": "51274b2c",
   "metadata": {
    "papermill": {
     "duration": 0.053013,
     "end_time": "2022-03-08T04:24:35.463559",
     "exception": false,
     "start_time": "2022-03-08T04:24:35.410546",
     "status": "completed"
    },
    "tags": []
   },
   "source": [
    "Accordining to a GEV fitted to the observations, the event is in the 98th percentile with a 60-70 year return period."
   ]
  },
  {
   "cell_type": "markdown",
   "id": "d082e6af",
   "metadata": {
    "papermill": {
     "duration": 0.052651,
     "end_time": "2022-03-08T04:24:35.565982",
     "exception": false,
     "start_time": "2022-03-08T04:24:35.513331",
     "status": "completed"
    },
    "tags": []
   },
   "source": [
    "## Model ensemble"
   ]
  },
  {
   "cell_type": "code",
   "execution_count": 15,
   "id": "1620b927",
   "metadata": {
    "execution": {
     "iopub.execute_input": "2022-03-08T04:24:35.670825Z",
     "iopub.status.busy": "2022-03-08T04:24:35.669939Z",
     "iopub.status.idle": "2022-03-08T04:24:35.788794Z",
     "shell.execute_reply": "2022-03-08T04:24:35.787698Z"
    },
    "papermill": {
     "duration": 0.173753,
     "end_time": "2022-03-08T04:24:35.789151",
     "exception": false,
     "start_time": "2022-03-08T04:24:35.615398",
     "status": "completed"
    },
    "tags": []
   },
   "outputs": [],
   "source": [
    "model_ds = fileio.open_dataset(model_file)\n",
    "model_bc_ds = fileio.open_dataset(model_bc_file)"
   ]
  },
  {
   "cell_type": "code",
   "execution_count": 16,
   "id": "b3d4100a",
   "metadata": {
    "execution": {
     "iopub.execute_input": "2022-03-08T04:24:35.915578Z",
     "iopub.status.busy": "2022-03-08T04:24:35.913358Z",
     "iopub.status.idle": "2022-03-08T04:24:35.935783Z",
     "shell.execute_reply": "2022-03-08T04:24:35.934653Z"
    },
    "papermill": {
     "duration": 0.092005,
     "end_time": "2022-03-08T04:24:35.936124",
     "exception": false,
     "start_time": "2022-03-08T04:24:35.844119",
     "status": "completed"
    },
    "tags": []
   },
   "outputs": [
    {
     "data": {
      "text/html": [
       "<div><svg style=\"position: absolute; width: 0; height: 0; overflow: hidden\">\n",
       "<defs>\n",
       "<symbol id=\"icon-database\" viewBox=\"0 0 32 32\">\n",
       "<path d=\"M16 0c-8.837 0-16 2.239-16 5v4c0 2.761 7.163 5 16 5s16-2.239 16-5v-4c0-2.761-7.163-5-16-5z\"></path>\n",
       "<path d=\"M16 17c-8.837 0-16-2.239-16-5v6c0 2.761 7.163 5 16 5s16-2.239 16-5v-6c0 2.761-7.163 5-16 5z\"></path>\n",
       "<path d=\"M16 26c-8.837 0-16-2.239-16-5v6c0 2.761 7.163 5 16 5s16-2.239 16-5v-6c0 2.761-7.163 5-16 5z\"></path>\n",
       "</symbol>\n",
       "<symbol id=\"icon-file-text2\" viewBox=\"0 0 32 32\">\n",
       "<path d=\"M28.681 7.159c-0.694-0.947-1.662-2.053-2.724-3.116s-2.169-2.030-3.116-2.724c-1.612-1.182-2.393-1.319-2.841-1.319h-15.5c-1.378 0-2.5 1.121-2.5 2.5v27c0 1.378 1.122 2.5 2.5 2.5h23c1.378 0 2.5-1.122 2.5-2.5v-19.5c0-0.448-0.137-1.23-1.319-2.841zM24.543 5.457c0.959 0.959 1.712 1.825 2.268 2.543h-4.811v-4.811c0.718 0.556 1.584 1.309 2.543 2.268zM28 29.5c0 0.271-0.229 0.5-0.5 0.5h-23c-0.271 0-0.5-0.229-0.5-0.5v-27c0-0.271 0.229-0.5 0.5-0.5 0 0 15.499-0 15.5 0v7c0 0.552 0.448 1 1 1h7v19.5z\"></path>\n",
       "<path d=\"M23 26h-14c-0.552 0-1-0.448-1-1s0.448-1 1-1h14c0.552 0 1 0.448 1 1s-0.448 1-1 1z\"></path>\n",
       "<path d=\"M23 22h-14c-0.552 0-1-0.448-1-1s0.448-1 1-1h14c0.552 0 1 0.448 1 1s-0.448 1-1 1z\"></path>\n",
       "<path d=\"M23 18h-14c-0.552 0-1-0.448-1-1s0.448-1 1-1h14c0.552 0 1 0.448 1 1s-0.448 1-1 1z\"></path>\n",
       "</symbol>\n",
       "</defs>\n",
       "</svg>\n",
       "<style>/* CSS stylesheet for displaying xarray objects in jupyterlab.\n",
       " *\n",
       " */\n",
       "\n",
       ":root {\n",
       "  --xr-font-color0: var(--jp-content-font-color0, rgba(0, 0, 0, 1));\n",
       "  --xr-font-color2: var(--jp-content-font-color2, rgba(0, 0, 0, 0.54));\n",
       "  --xr-font-color3: var(--jp-content-font-color3, rgba(0, 0, 0, 0.38));\n",
       "  --xr-border-color: var(--jp-border-color2, #e0e0e0);\n",
       "  --xr-disabled-color: var(--jp-layout-color3, #bdbdbd);\n",
       "  --xr-background-color: var(--jp-layout-color0, white);\n",
       "  --xr-background-color-row-even: var(--jp-layout-color1, white);\n",
       "  --xr-background-color-row-odd: var(--jp-layout-color2, #eeeeee);\n",
       "}\n",
       "\n",
       "html[theme=dark],\n",
       "body.vscode-dark {\n",
       "  --xr-font-color0: rgba(255, 255, 255, 1);\n",
       "  --xr-font-color2: rgba(255, 255, 255, 0.54);\n",
       "  --xr-font-color3: rgba(255, 255, 255, 0.38);\n",
       "  --xr-border-color: #1F1F1F;\n",
       "  --xr-disabled-color: #515151;\n",
       "  --xr-background-color: #111111;\n",
       "  --xr-background-color-row-even: #111111;\n",
       "  --xr-background-color-row-odd: #313131;\n",
       "}\n",
       "\n",
       ".xr-wrap {\n",
       "  display: block;\n",
       "  min-width: 300px;\n",
       "  max-width: 700px;\n",
       "}\n",
       "\n",
       ".xr-text-repr-fallback {\n",
       "  /* fallback to plain text repr when CSS is not injected (untrusted notebook) */\n",
       "  display: none;\n",
       "}\n",
       "\n",
       ".xr-header {\n",
       "  padding-top: 6px;\n",
       "  padding-bottom: 6px;\n",
       "  margin-bottom: 4px;\n",
       "  border-bottom: solid 1px var(--xr-border-color);\n",
       "}\n",
       "\n",
       ".xr-header > div,\n",
       ".xr-header > ul {\n",
       "  display: inline;\n",
       "  margin-top: 0;\n",
       "  margin-bottom: 0;\n",
       "}\n",
       "\n",
       ".xr-obj-type,\n",
       ".xr-array-name {\n",
       "  margin-left: 2px;\n",
       "  margin-right: 10px;\n",
       "}\n",
       "\n",
       ".xr-obj-type {\n",
       "  color: var(--xr-font-color2);\n",
       "}\n",
       "\n",
       ".xr-sections {\n",
       "  padding-left: 0 !important;\n",
       "  display: grid;\n",
       "  grid-template-columns: 150px auto auto 1fr 20px 20px;\n",
       "}\n",
       "\n",
       ".xr-section-item {\n",
       "  display: contents;\n",
       "}\n",
       "\n",
       ".xr-section-item input {\n",
       "  display: none;\n",
       "}\n",
       "\n",
       ".xr-section-item input + label {\n",
       "  color: var(--xr-disabled-color);\n",
       "}\n",
       "\n",
       ".xr-section-item input:enabled + label {\n",
       "  cursor: pointer;\n",
       "  color: var(--xr-font-color2);\n",
       "}\n",
       "\n",
       ".xr-section-item input:enabled + label:hover {\n",
       "  color: var(--xr-font-color0);\n",
       "}\n",
       "\n",
       ".xr-section-summary {\n",
       "  grid-column: 1;\n",
       "  color: var(--xr-font-color2);\n",
       "  font-weight: 500;\n",
       "}\n",
       "\n",
       ".xr-section-summary > span {\n",
       "  display: inline-block;\n",
       "  padding-left: 0.5em;\n",
       "}\n",
       "\n",
       ".xr-section-summary-in:disabled + label {\n",
       "  color: var(--xr-font-color2);\n",
       "}\n",
       "\n",
       ".xr-section-summary-in + label:before {\n",
       "  display: inline-block;\n",
       "  content: '►';\n",
       "  font-size: 11px;\n",
       "  width: 15px;\n",
       "  text-align: center;\n",
       "}\n",
       "\n",
       ".xr-section-summary-in:disabled + label:before {\n",
       "  color: var(--xr-disabled-color);\n",
       "}\n",
       "\n",
       ".xr-section-summary-in:checked + label:before {\n",
       "  content: '▼';\n",
       "}\n",
       "\n",
       ".xr-section-summary-in:checked + label > span {\n",
       "  display: none;\n",
       "}\n",
       "\n",
       ".xr-section-summary,\n",
       ".xr-section-inline-details {\n",
       "  padding-top: 4px;\n",
       "  padding-bottom: 4px;\n",
       "}\n",
       "\n",
       ".xr-section-inline-details {\n",
       "  grid-column: 2 / -1;\n",
       "}\n",
       "\n",
       ".xr-section-details {\n",
       "  display: none;\n",
       "  grid-column: 1 / -1;\n",
       "  margin-bottom: 5px;\n",
       "}\n",
       "\n",
       ".xr-section-summary-in:checked ~ .xr-section-details {\n",
       "  display: contents;\n",
       "}\n",
       "\n",
       ".xr-array-wrap {\n",
       "  grid-column: 1 / -1;\n",
       "  display: grid;\n",
       "  grid-template-columns: 20px auto;\n",
       "}\n",
       "\n",
       ".xr-array-wrap > label {\n",
       "  grid-column: 1;\n",
       "  vertical-align: top;\n",
       "}\n",
       "\n",
       ".xr-preview {\n",
       "  color: var(--xr-font-color3);\n",
       "}\n",
       "\n",
       ".xr-array-preview,\n",
       ".xr-array-data {\n",
       "  padding: 0 5px !important;\n",
       "  grid-column: 2;\n",
       "}\n",
       "\n",
       ".xr-array-data,\n",
       ".xr-array-in:checked ~ .xr-array-preview {\n",
       "  display: none;\n",
       "}\n",
       "\n",
       ".xr-array-in:checked ~ .xr-array-data,\n",
       ".xr-array-preview {\n",
       "  display: inline-block;\n",
       "}\n",
       "\n",
       ".xr-dim-list {\n",
       "  display: inline-block !important;\n",
       "  list-style: none;\n",
       "  padding: 0 !important;\n",
       "  margin: 0;\n",
       "}\n",
       "\n",
       ".xr-dim-list li {\n",
       "  display: inline-block;\n",
       "  padding: 0;\n",
       "  margin: 0;\n",
       "}\n",
       "\n",
       ".xr-dim-list:before {\n",
       "  content: '(';\n",
       "}\n",
       "\n",
       ".xr-dim-list:after {\n",
       "  content: ')';\n",
       "}\n",
       "\n",
       ".xr-dim-list li:not(:last-child):after {\n",
       "  content: ',';\n",
       "  padding-right: 5px;\n",
       "}\n",
       "\n",
       ".xr-has-index {\n",
       "  font-weight: bold;\n",
       "}\n",
       "\n",
       ".xr-var-list,\n",
       ".xr-var-item {\n",
       "  display: contents;\n",
       "}\n",
       "\n",
       ".xr-var-item > div,\n",
       ".xr-var-item label,\n",
       ".xr-var-item > .xr-var-name span {\n",
       "  background-color: var(--xr-background-color-row-even);\n",
       "  margin-bottom: 0;\n",
       "}\n",
       "\n",
       ".xr-var-item > .xr-var-name:hover span {\n",
       "  padding-right: 5px;\n",
       "}\n",
       "\n",
       ".xr-var-list > li:nth-child(odd) > div,\n",
       ".xr-var-list > li:nth-child(odd) > label,\n",
       ".xr-var-list > li:nth-child(odd) > .xr-var-name span {\n",
       "  background-color: var(--xr-background-color-row-odd);\n",
       "}\n",
       "\n",
       ".xr-var-name {\n",
       "  grid-column: 1;\n",
       "}\n",
       "\n",
       ".xr-var-dims {\n",
       "  grid-column: 2;\n",
       "}\n",
       "\n",
       ".xr-var-dtype {\n",
       "  grid-column: 3;\n",
       "  text-align: right;\n",
       "  color: var(--xr-font-color2);\n",
       "}\n",
       "\n",
       ".xr-var-preview {\n",
       "  grid-column: 4;\n",
       "}\n",
       "\n",
       ".xr-var-name,\n",
       ".xr-var-dims,\n",
       ".xr-var-dtype,\n",
       ".xr-preview,\n",
       ".xr-attrs dt {\n",
       "  white-space: nowrap;\n",
       "  overflow: hidden;\n",
       "  text-overflow: ellipsis;\n",
       "  padding-right: 10px;\n",
       "}\n",
       "\n",
       ".xr-var-name:hover,\n",
       ".xr-var-dims:hover,\n",
       ".xr-var-dtype:hover,\n",
       ".xr-attrs dt:hover {\n",
       "  overflow: visible;\n",
       "  width: auto;\n",
       "  z-index: 1;\n",
       "}\n",
       "\n",
       ".xr-var-attrs,\n",
       ".xr-var-data {\n",
       "  display: none;\n",
       "  background-color: var(--xr-background-color) !important;\n",
       "  padding-bottom: 5px !important;\n",
       "}\n",
       "\n",
       ".xr-var-attrs-in:checked ~ .xr-var-attrs,\n",
       ".xr-var-data-in:checked ~ .xr-var-data {\n",
       "  display: block;\n",
       "}\n",
       "\n",
       ".xr-var-data > table {\n",
       "  float: right;\n",
       "}\n",
       "\n",
       ".xr-var-name span,\n",
       ".xr-var-data,\n",
       ".xr-attrs {\n",
       "  padding-left: 25px !important;\n",
       "}\n",
       "\n",
       ".xr-attrs,\n",
       ".xr-var-attrs,\n",
       ".xr-var-data {\n",
       "  grid-column: 1 / -1;\n",
       "}\n",
       "\n",
       "dl.xr-attrs {\n",
       "  padding: 0;\n",
       "  margin: 0;\n",
       "  display: grid;\n",
       "  grid-template-columns: 125px auto;\n",
       "}\n",
       "\n",
       ".xr-attrs dt,\n",
       ".xr-attrs dd {\n",
       "  padding: 0;\n",
       "  margin: 0;\n",
       "  float: left;\n",
       "  padding-right: 10px;\n",
       "  width: auto;\n",
       "}\n",
       "\n",
       ".xr-attrs dt {\n",
       "  font-weight: normal;\n",
       "  grid-column: 1;\n",
       "}\n",
       "\n",
       ".xr-attrs dt:hover span {\n",
       "  display: inline-block;\n",
       "  background: var(--xr-background-color);\n",
       "  padding-right: 10px;\n",
       "}\n",
       "\n",
       ".xr-attrs dd {\n",
       "  grid-column: 2;\n",
       "  white-space: pre-wrap;\n",
       "  word-break: break-all;\n",
       "}\n",
       "\n",
       ".xr-icon-database,\n",
       ".xr-icon-file-text2 {\n",
       "  display: inline-block;\n",
       "  vertical-align: middle;\n",
       "  width: 1em;\n",
       "  height: 1.5em !important;\n",
       "  stroke-width: 0;\n",
       "  stroke: currentColor;\n",
       "  fill: currentColor;\n",
       "}\n",
       "</style><pre class='xr-text-repr-fallback'>&lt;xarray.Dataset&gt;\n",
       "Dimensions:    (ensemble: 40, init_date: 57, lead_time: 10)\n",
       "Coordinates:\n",
       "  * ensemble   (ensemble) int64 0 1 2 3 4 5 6 7 8 ... 31 32 33 34 35 36 37 38 39\n",
       "  * init_date  (init_date) object 1961-01-16 00:00:00 ... 2017-01-16 00:00:00\n",
       "  * lead_time  (lead_time) int64 0 1 2 3 4 5 6 7 8 9\n",
       "    time       (lead_time, init_date) object dask.array&lt;chunksize=(10, 57), meta=np.ndarray&gt;\n",
       "Data variables:\n",
       "    pr         (init_date, ensemble, lead_time) float64 dask.array&lt;chunksize=(1, 1, 10), meta=np.ndarray&gt;\n",
       "Attributes: (12/53)\n",
       "    CCCma_model_hash:            Unknown\n",
       "    CCCma_parent_runid:          d2a-asm-e01\n",
       "    CCCma_pycmor_hash:           13db8596c37129e414cad7ae31f2927ca8f5dd39\n",
       "    CCCma_runid:                 d2a196101e01\n",
       "    Conventions:                 CF-1.7 CMIP-6.2\n",
       "    YMDH_branch_time_in_child:   1961:01:01:00\n",
       "    ...                          ...\n",
       "    table_info:                  Creation Date:(20 February 2019) MD5:374fbe5...\n",
       "    title:                       CanESM5 output prepared for CMIP6\n",
       "    tracking_id:                 hdl:21.14100/26d92b20-201b-4f56-8575-b1154e9...\n",
       "    variable_id:                 pr\n",
       "    variant_label:               r1i1p2f1\n",
       "    version:                     v20190429</pre><div class='xr-wrap' hidden><div class='xr-header'><div class='xr-obj-type'>xarray.Dataset</div></div><ul class='xr-sections'><li class='xr-section-item'><input id='section-767d1e30-89ab-4967-b418-ba287c69c1e5' class='xr-section-summary-in' type='checkbox' disabled ><label for='section-767d1e30-89ab-4967-b418-ba287c69c1e5' class='xr-section-summary'  title='Expand/collapse section'>Dimensions:</label><div class='xr-section-inline-details'><ul class='xr-dim-list'><li><span class='xr-has-index'>ensemble</span>: 40</li><li><span class='xr-has-index'>init_date</span>: 57</li><li><span class='xr-has-index'>lead_time</span>: 10</li></ul></div><div class='xr-section-details'></div></li><li class='xr-section-item'><input id='section-ebd3547e-f140-482b-813d-f830ae94cb75' class='xr-section-summary-in' type='checkbox'  checked><label for='section-ebd3547e-f140-482b-813d-f830ae94cb75' class='xr-section-summary' >Coordinates: <span>(4)</span></label><div class='xr-section-inline-details'></div><div class='xr-section-details'><ul class='xr-var-list'><li class='xr-var-item'><div class='xr-var-name'><span class='xr-has-index'>ensemble</span></div><div class='xr-var-dims'>(ensemble)</div><div class='xr-var-dtype'>int64</div><div class='xr-var-preview xr-preview'>0 1 2 3 4 5 6 ... 34 35 36 37 38 39</div><input id='attrs-fda49d6c-8164-4985-9313-8fdf0c274743' class='xr-var-attrs-in' type='checkbox' disabled><label for='attrs-fda49d6c-8164-4985-9313-8fdf0c274743' title='Show/Hide attributes'><svg class='icon xr-icon-file-text2'><use xlink:href='#icon-file-text2'></use></svg></label><input id='data-4c0d0577-3463-4971-a45e-b9936fc0bf69' class='xr-var-data-in' type='checkbox'><label for='data-4c0d0577-3463-4971-a45e-b9936fc0bf69' title='Show/Hide data repr'><svg class='icon xr-icon-database'><use xlink:href='#icon-database'></use></svg></label><div class='xr-var-attrs'><dl class='xr-attrs'></dl></div><div class='xr-var-data'><pre>array([ 0,  1,  2,  3,  4,  5,  6,  7,  8,  9, 10, 11, 12, 13, 14, 15, 16, 17,\n",
       "       18, 19, 20, 21, 22, 23, 24, 25, 26, 27, 28, 29, 30, 31, 32, 33, 34, 35,\n",
       "       36, 37, 38, 39])</pre></div></li><li class='xr-var-item'><div class='xr-var-name'><span class='xr-has-index'>init_date</span></div><div class='xr-var-dims'>(init_date)</div><div class='xr-var-dtype'>object</div><div class='xr-var-preview xr-preview'>1961-01-16 00:00:00 ... 2017-01-...</div><input id='attrs-9d51082d-d497-45ea-b62b-1c504b5e284e' class='xr-var-attrs-in' type='checkbox' disabled><label for='attrs-9d51082d-d497-45ea-b62b-1c504b5e284e' title='Show/Hide attributes'><svg class='icon xr-icon-file-text2'><use xlink:href='#icon-file-text2'></use></svg></label><input id='data-356424f1-d06b-4bbf-b38c-262183db2269' class='xr-var-data-in' type='checkbox'><label for='data-356424f1-d06b-4bbf-b38c-262183db2269' title='Show/Hide data repr'><svg class='icon xr-icon-database'><use xlink:href='#icon-database'></use></svg></label><div class='xr-var-attrs'><dl class='xr-attrs'></dl></div><div class='xr-var-data'><pre>array([cftime.DatetimeJulian(1961, 1, 16, 0, 0, 0, 0, has_year_zero=False),\n",
       "       cftime.DatetimeJulian(1962, 1, 16, 0, 0, 0, 0, has_year_zero=False),\n",
       "       cftime.DatetimeJulian(1963, 1, 16, 0, 0, 0, 0, has_year_zero=False),\n",
       "       cftime.DatetimeJulian(1964, 1, 16, 0, 0, 0, 0, has_year_zero=False),\n",
       "       cftime.DatetimeJulian(1965, 1, 16, 0, 0, 0, 0, has_year_zero=False),\n",
       "       cftime.DatetimeJulian(1966, 1, 16, 0, 0, 0, 0, has_year_zero=False),\n",
       "       cftime.DatetimeJulian(1967, 1, 16, 0, 0, 0, 0, has_year_zero=False),\n",
       "       cftime.DatetimeJulian(1968, 1, 16, 0, 0, 0, 0, has_year_zero=False),\n",
       "       cftime.DatetimeJulian(1969, 1, 16, 0, 0, 0, 0, has_year_zero=False),\n",
       "       cftime.DatetimeJulian(1970, 1, 16, 0, 0, 0, 0, has_year_zero=False),\n",
       "       cftime.DatetimeJulian(1971, 1, 16, 0, 0, 0, 0, has_year_zero=False),\n",
       "       cftime.DatetimeJulian(1972, 1, 16, 0, 0, 0, 0, has_year_zero=False),\n",
       "       cftime.DatetimeJulian(1973, 1, 16, 0, 0, 0, 0, has_year_zero=False),\n",
       "       cftime.DatetimeJulian(1974, 1, 16, 0, 0, 0, 0, has_year_zero=False),\n",
       "       cftime.DatetimeJulian(1975, 1, 16, 0, 0, 0, 0, has_year_zero=False),\n",
       "       cftime.DatetimeJulian(1976, 1, 16, 0, 0, 0, 0, has_year_zero=False),\n",
       "       cftime.DatetimeJulian(1977, 1, 16, 0, 0, 0, 0, has_year_zero=False),\n",
       "       cftime.DatetimeJulian(1978, 1, 16, 0, 0, 0, 0, has_year_zero=False),\n",
       "       cftime.DatetimeJulian(1979, 1, 16, 0, 0, 0, 0, has_year_zero=False),\n",
       "       cftime.DatetimeJulian(1980, 1, 16, 0, 0, 0, 0, has_year_zero=False),\n",
       "       cftime.DatetimeJulian(1981, 1, 16, 0, 0, 0, 0, has_year_zero=False),\n",
       "       cftime.DatetimeJulian(1982, 1, 16, 0, 0, 0, 0, has_year_zero=False),\n",
       "       cftime.DatetimeJulian(1983, 1, 16, 0, 0, 0, 0, has_year_zero=False),\n",
       "       cftime.DatetimeJulian(1984, 1, 16, 0, 0, 0, 0, has_year_zero=False),\n",
       "       cftime.DatetimeJulian(1985, 1, 16, 0, 0, 0, 0, has_year_zero=False),\n",
       "       cftime.DatetimeJulian(1986, 1, 16, 0, 0, 0, 0, has_year_zero=False),\n",
       "       cftime.DatetimeJulian(1987, 1, 16, 0, 0, 0, 0, has_year_zero=False),\n",
       "       cftime.DatetimeJulian(1988, 1, 16, 0, 0, 0, 0, has_year_zero=False),\n",
       "       cftime.DatetimeJulian(1989, 1, 16, 0, 0, 0, 0, has_year_zero=False),\n",
       "       cftime.DatetimeJulian(1990, 1, 16, 0, 0, 0, 0, has_year_zero=False),\n",
       "       cftime.DatetimeJulian(1991, 1, 16, 0, 0, 0, 0, has_year_zero=False),\n",
       "       cftime.DatetimeJulian(1992, 1, 16, 0, 0, 0, 0, has_year_zero=False),\n",
       "       cftime.DatetimeJulian(1993, 1, 16, 0, 0, 0, 0, has_year_zero=False),\n",
       "       cftime.DatetimeJulian(1994, 1, 16, 0, 0, 0, 0, has_year_zero=False),\n",
       "       cftime.DatetimeJulian(1995, 1, 16, 0, 0, 0, 0, has_year_zero=False),\n",
       "       cftime.DatetimeJulian(1996, 1, 16, 0, 0, 0, 0, has_year_zero=False),\n",
       "       cftime.DatetimeJulian(1997, 1, 16, 0, 0, 0, 0, has_year_zero=False),\n",
       "       cftime.DatetimeJulian(1998, 1, 16, 0, 0, 0, 0, has_year_zero=False),\n",
       "       cftime.DatetimeJulian(1999, 1, 16, 0, 0, 0, 0, has_year_zero=False),\n",
       "       cftime.DatetimeJulian(2000, 1, 16, 0, 0, 0, 0, has_year_zero=False),\n",
       "       cftime.DatetimeJulian(2001, 1, 16, 0, 0, 0, 0, has_year_zero=False),\n",
       "       cftime.DatetimeJulian(2002, 1, 16, 0, 0, 0, 0, has_year_zero=False),\n",
       "       cftime.DatetimeJulian(2003, 1, 16, 0, 0, 0, 0, has_year_zero=False),\n",
       "       cftime.DatetimeJulian(2004, 1, 16, 0, 0, 0, 0, has_year_zero=False),\n",
       "       cftime.DatetimeJulian(2005, 1, 16, 0, 0, 0, 0, has_year_zero=False),\n",
       "       cftime.DatetimeJulian(2006, 1, 16, 0, 0, 0, 0, has_year_zero=False),\n",
       "       cftime.DatetimeJulian(2007, 1, 16, 0, 0, 0, 0, has_year_zero=False),\n",
       "       cftime.DatetimeJulian(2008, 1, 16, 0, 0, 0, 0, has_year_zero=False),\n",
       "       cftime.DatetimeJulian(2009, 1, 16, 0, 0, 0, 0, has_year_zero=False),\n",
       "       cftime.DatetimeJulian(2010, 1, 16, 0, 0, 0, 0, has_year_zero=False),\n",
       "       cftime.DatetimeJulian(2011, 1, 16, 0, 0, 0, 0, has_year_zero=False),\n",
       "       cftime.DatetimeJulian(2012, 1, 16, 0, 0, 0, 0, has_year_zero=False),\n",
       "       cftime.DatetimeJulian(2013, 1, 16, 0, 0, 0, 0, has_year_zero=False),\n",
       "       cftime.DatetimeJulian(2014, 1, 16, 0, 0, 0, 0, has_year_zero=False),\n",
       "       cftime.DatetimeJulian(2015, 1, 16, 0, 0, 0, 0, has_year_zero=False),\n",
       "       cftime.DatetimeJulian(2016, 1, 16, 0, 0, 0, 0, has_year_zero=False),\n",
       "       cftime.DatetimeJulian(2017, 1, 16, 0, 0, 0, 0, has_year_zero=False)],\n",
       "      dtype=object)</pre></div></li><li class='xr-var-item'><div class='xr-var-name'><span class='xr-has-index'>lead_time</span></div><div class='xr-var-dims'>(lead_time)</div><div class='xr-var-dtype'>int64</div><div class='xr-var-preview xr-preview'>0 1 2 3 4 5 6 7 8 9</div><input id='attrs-4af12eca-763e-41da-a6c5-c2dbd1e20b43' class='xr-var-attrs-in' type='checkbox' disabled><label for='attrs-4af12eca-763e-41da-a6c5-c2dbd1e20b43' title='Show/Hide attributes'><svg class='icon xr-icon-file-text2'><use xlink:href='#icon-file-text2'></use></svg></label><input id='data-13bd85ce-2212-4763-aea4-a3a719b89e63' class='xr-var-data-in' type='checkbox'><label for='data-13bd85ce-2212-4763-aea4-a3a719b89e63' title='Show/Hide data repr'><svg class='icon xr-icon-database'><use xlink:href='#icon-database'></use></svg></label><div class='xr-var-attrs'><dl class='xr-attrs'></dl></div><div class='xr-var-data'><pre>array([0, 1, 2, 3, 4, 5, 6, 7, 8, 9])</pre></div></li><li class='xr-var-item'><div class='xr-var-name'><span>time</span></div><div class='xr-var-dims'>(lead_time, init_date)</div><div class='xr-var-dtype'>object</div><div class='xr-var-preview xr-preview'>dask.array&lt;chunksize=(10, 57), meta=np.ndarray&gt;</div><input id='attrs-12b86ba6-544c-4fad-8edc-2211559a534e' class='xr-var-attrs-in' type='checkbox' disabled><label for='attrs-12b86ba6-544c-4fad-8edc-2211559a534e' title='Show/Hide attributes'><svg class='icon xr-icon-file-text2'><use xlink:href='#icon-file-text2'></use></svg></label><input id='data-575e9ecc-4e68-43f6-9c7b-751f15e92953' class='xr-var-data-in' type='checkbox'><label for='data-575e9ecc-4e68-43f6-9c7b-751f15e92953' title='Show/Hide data repr'><svg class='icon xr-icon-database'><use xlink:href='#icon-database'></use></svg></label><div class='xr-var-attrs'><dl class='xr-attrs'></dl></div><div class='xr-var-data'><table>\n",
       "<tr>\n",
       "<td>\n",
       "<table>\n",
       "  <thead>\n",
       "    <tr><td> </td><th> Array </th><th> Chunk </th></tr>\n",
       "  </thead>\n",
       "  <tbody>\n",
       "    <tr><th> Bytes </th><td> 4.45 kiB </td> <td> 4.45 kiB </td></tr>\n",
       "    <tr><th> Shape </th><td> (10, 57) </td> <td> (10, 57) </td></tr>\n",
       "    <tr><th> Count </th><td> 2 Tasks </td><td> 1 Chunks </td></tr>\n",
       "    <tr><th> Type </th><td> object </td><td> numpy.ndarray </td></tr>\n",
       "  </tbody>\n",
       "</table>\n",
       "</td>\n",
       "<td>\n",
       "<svg width=\"170\" height=\"91\" style=\"stroke:rgb(0,0,0);stroke-width:1\" >\n",
       "\n",
       "  <!-- Horizontal lines -->\n",
       "  <line x1=\"0\" y1=\"0\" x2=\"120\" y2=\"0\" style=\"stroke-width:2\" />\n",
       "  <line x1=\"0\" y1=\"41\" x2=\"120\" y2=\"41\" style=\"stroke-width:2\" />\n",
       "\n",
       "  <!-- Vertical lines -->\n",
       "  <line x1=\"0\" y1=\"0\" x2=\"0\" y2=\"41\" style=\"stroke-width:2\" />\n",
       "  <line x1=\"120\" y1=\"0\" x2=\"120\" y2=\"41\" style=\"stroke-width:2\" />\n",
       "\n",
       "  <!-- Colored Rectangle -->\n",
       "  <polygon points=\"0.0,0.0 120.0,0.0 120.0,41.43772412900563 0.0,41.43772412900563\" style=\"fill:#ECB172A0;stroke-width:0\"/>\n",
       "\n",
       "  <!-- Text -->\n",
       "  <text x=\"60.000000\" y=\"61.437724\" font-size=\"1.0rem\" font-weight=\"100\" text-anchor=\"middle\" >57</text>\n",
       "  <text x=\"140.000000\" y=\"20.718862\" font-size=\"1.0rem\" font-weight=\"100\" text-anchor=\"middle\" transform=\"rotate(0,140.000000,20.718862)\">10</text>\n",
       "</svg>\n",
       "</td>\n",
       "</tr>\n",
       "</table></div></li></ul></div></li><li class='xr-section-item'><input id='section-7123ef60-eded-4dcf-8e74-a00b17e2828a' class='xr-section-summary-in' type='checkbox'  checked><label for='section-7123ef60-eded-4dcf-8e74-a00b17e2828a' class='xr-section-summary' >Data variables: <span>(1)</span></label><div class='xr-section-inline-details'></div><div class='xr-section-details'><ul class='xr-var-list'><li class='xr-var-item'><div class='xr-var-name'><span>pr</span></div><div class='xr-var-dims'>(init_date, ensemble, lead_time)</div><div class='xr-var-dtype'>float64</div><div class='xr-var-preview xr-preview'>dask.array&lt;chunksize=(1, 1, 10), meta=np.ndarray&gt;</div><input id='attrs-0d9c722b-e5c2-49f7-ab69-ddd94ad8c054' class='xr-var-attrs-in' type='checkbox' ><label for='attrs-0d9c722b-e5c2-49f7-ab69-ddd94ad8c054' title='Show/Hide attributes'><svg class='icon xr-icon-file-text2'><use xlink:href='#icon-file-text2'></use></svg></label><input id='data-ffd4dd43-6498-4209-99ef-e126f981f29c' class='xr-var-data-in' type='checkbox'><label for='data-ffd4dd43-6498-4209-99ef-e126f981f29c' title='Show/Hide data repr'><svg class='icon xr-icon-database'><use xlink:href='#icon-database'></use></svg></label><div class='xr-var-attrs'><dl class='xr-attrs'><dt><span>cell_measures :</span></dt><dd>area: areacella</dd><dt><span>cell_methods :</span></dt><dd>area: time: mean</dd><dt><span>comment :</span></dt><dd>includes both liquid and solid phases</dd><dt><span>history :</span></dt><dd>2019-06-18T21:27:42Z altered by CMOR: Reordered dimensions, original order: lat lon time. 2019-06-18T21:27:42Z altered by CMOR: replaced missing value flag (1e+38) with standard missing value (1e+20).</dd><dt><span>long_name :</span></dt><dd>Precipitation</dd><dt><span>original_name :</span></dt><dd>PCP</dd><dt><span>standard_name :</span></dt><dd>precipitation_flux</dd><dt><span>units :</span></dt><dd>mm month-1</dd></dl></div><div class='xr-var-data'><table>\n",
       "<tr>\n",
       "<td>\n",
       "<table>\n",
       "  <thead>\n",
       "    <tr><td> </td><th> Array </th><th> Chunk </th></tr>\n",
       "  </thead>\n",
       "  <tbody>\n",
       "    <tr><th> Bytes </th><td> 178.12 kiB </td> <td> 80 B </td></tr>\n",
       "    <tr><th> Shape </th><td> (57, 40, 10) </td> <td> (1, 1, 10) </td></tr>\n",
       "    <tr><th> Count </th><td> 2281 Tasks </td><td> 2280 Chunks </td></tr>\n",
       "    <tr><th> Type </th><td> float64 </td><td> numpy.ndarray </td></tr>\n",
       "  </tbody>\n",
       "</table>\n",
       "</td>\n",
       "<td>\n",
       "<svg width=\"172\" height=\"204\" style=\"stroke:rgb(0,0,0);stroke-width:1\" >\n",
       "\n",
       "  <!-- Horizontal lines -->\n",
       "  <line x1=\"10\" y1=\"0\" x2=\"80\" y2=\"70\" style=\"stroke-width:2\" />\n",
       "  <line x1=\"10\" y1=\"4\" x2=\"80\" y2=\"74\" />\n",
       "  <line x1=\"10\" y1=\"8\" x2=\"80\" y2=\"79\" />\n",
       "  <line x1=\"10\" y1=\"12\" x2=\"80\" y2=\"83\" />\n",
       "  <line x1=\"10\" y1=\"16\" x2=\"80\" y2=\"87\" />\n",
       "  <line x1=\"10\" y1=\"21\" x2=\"80\" y2=\"91\" />\n",
       "  <line x1=\"10\" y1=\"25\" x2=\"80\" y2=\"95\" />\n",
       "  <line x1=\"10\" y1=\"29\" x2=\"80\" y2=\"100\" />\n",
       "  <line x1=\"10\" y1=\"33\" x2=\"80\" y2=\"104\" />\n",
       "  <line x1=\"10\" y1=\"37\" x2=\"80\" y2=\"108\" />\n",
       "  <line x1=\"10\" y1=\"44\" x2=\"80\" y2=\"114\" />\n",
       "  <line x1=\"10\" y1=\"48\" x2=\"80\" y2=\"119\" />\n",
       "  <line x1=\"10\" y1=\"52\" x2=\"80\" y2=\"123\" />\n",
       "  <line x1=\"10\" y1=\"56\" x2=\"80\" y2=\"127\" />\n",
       "  <line x1=\"10\" y1=\"61\" x2=\"80\" y2=\"131\" />\n",
       "  <line x1=\"10\" y1=\"65\" x2=\"80\" y2=\"135\" />\n",
       "  <line x1=\"10\" y1=\"69\" x2=\"80\" y2=\"140\" />\n",
       "  <line x1=\"10\" y1=\"73\" x2=\"80\" y2=\"144\" />\n",
       "  <line x1=\"10\" y1=\"77\" x2=\"80\" y2=\"148\" />\n",
       "  <line x1=\"10\" y1=\"84\" x2=\"80\" y2=\"154\" style=\"stroke-width:2\" />\n",
       "\n",
       "  <!-- Vertical lines -->\n",
       "  <line x1=\"10\" y1=\"0\" x2=\"10\" y2=\"84\" style=\"stroke-width:2\" />\n",
       "  <line x1=\"13\" y1=\"3\" x2=\"13\" y2=\"87\" />\n",
       "  <line x1=\"17\" y1=\"7\" x2=\"17\" y2=\"91\" />\n",
       "  <line x1=\"21\" y1=\"11\" x2=\"21\" y2=\"95\" />\n",
       "  <line x1=\"24\" y1=\"14\" x2=\"24\" y2=\"99\" />\n",
       "  <line x1=\"28\" y1=\"18\" x2=\"28\" y2=\"102\" />\n",
       "  <line x1=\"32\" y1=\"22\" x2=\"32\" y2=\"106\" />\n",
       "  <line x1=\"36\" y1=\"26\" x2=\"36\" y2=\"110\" />\n",
       "  <line x1=\"39\" y1=\"29\" x2=\"39\" y2=\"113\" />\n",
       "  <line x1=\"43\" y1=\"33\" x2=\"43\" y2=\"117\" />\n",
       "  <line x1=\"47\" y1=\"37\" x2=\"47\" y2=\"121\" />\n",
       "  <line x1=\"50\" y1=\"40\" x2=\"50\" y2=\"125\" />\n",
       "  <line x1=\"54\" y1=\"44\" x2=\"54\" y2=\"128\" />\n",
       "  <line x1=\"58\" y1=\"48\" x2=\"58\" y2=\"132\" />\n",
       "  <line x1=\"62\" y1=\"52\" x2=\"62\" y2=\"136\" />\n",
       "  <line x1=\"65\" y1=\"55\" x2=\"65\" y2=\"139\" />\n",
       "  <line x1=\"69\" y1=\"59\" x2=\"69\" y2=\"143\" />\n",
       "  <line x1=\"73\" y1=\"63\" x2=\"73\" y2=\"147\" />\n",
       "  <line x1=\"76\" y1=\"66\" x2=\"76\" y2=\"151\" />\n",
       "  <line x1=\"80\" y1=\"70\" x2=\"80\" y2=\"154\" style=\"stroke-width:2\" />\n",
       "\n",
       "  <!-- Colored Rectangle -->\n",
       "  <polygon points=\"10.0,0.0 80.58823529411765,70.58823529411765 80.58823529411765,154.7987616099071 10.0,84.21052631578947\" style=\"fill:#8B4903A0;stroke-width:0\"/>\n",
       "\n",
       "  <!-- Horizontal lines -->\n",
       "  <line x1=\"10\" y1=\"0\" x2=\"51\" y2=\"0\" style=\"stroke-width:2\" />\n",
       "  <line x1=\"13\" y1=\"3\" x2=\"55\" y2=\"3\" />\n",
       "  <line x1=\"17\" y1=\"7\" x2=\"58\" y2=\"7\" />\n",
       "  <line x1=\"21\" y1=\"11\" x2=\"62\" y2=\"11\" />\n",
       "  <line x1=\"24\" y1=\"14\" x2=\"66\" y2=\"14\" />\n",
       "  <line x1=\"28\" y1=\"18\" x2=\"70\" y2=\"18\" />\n",
       "  <line x1=\"32\" y1=\"22\" x2=\"73\" y2=\"22\" />\n",
       "  <line x1=\"36\" y1=\"26\" x2=\"77\" y2=\"26\" />\n",
       "  <line x1=\"39\" y1=\"29\" x2=\"81\" y2=\"29\" />\n",
       "  <line x1=\"43\" y1=\"33\" x2=\"84\" y2=\"33\" />\n",
       "  <line x1=\"47\" y1=\"37\" x2=\"88\" y2=\"37\" />\n",
       "  <line x1=\"50\" y1=\"40\" x2=\"92\" y2=\"40\" />\n",
       "  <line x1=\"54\" y1=\"44\" x2=\"96\" y2=\"44\" />\n",
       "  <line x1=\"58\" y1=\"48\" x2=\"99\" y2=\"48\" />\n",
       "  <line x1=\"62\" y1=\"52\" x2=\"103\" y2=\"52\" />\n",
       "  <line x1=\"65\" y1=\"55\" x2=\"107\" y2=\"55\" />\n",
       "  <line x1=\"69\" y1=\"59\" x2=\"110\" y2=\"59\" />\n",
       "  <line x1=\"73\" y1=\"63\" x2=\"114\" y2=\"63\" />\n",
       "  <line x1=\"76\" y1=\"66\" x2=\"118\" y2=\"66\" />\n",
       "  <line x1=\"80\" y1=\"70\" x2=\"122\" y2=\"70\" style=\"stroke-width:2\" />\n",
       "\n",
       "  <!-- Vertical lines -->\n",
       "  <line x1=\"10\" y1=\"0\" x2=\"80\" y2=\"70\" style=\"stroke-width:2\" />\n",
       "  <line x1=\"51\" y1=\"0\" x2=\"122\" y2=\"70\" style=\"stroke-width:2\" />\n",
       "\n",
       "  <!-- Colored Rectangle -->\n",
       "  <polygon points=\"10.0,0.0 51.43772412900563,0.0 122.02595942312328,70.58823529411765 80.58823529411765,70.58823529411765\" style=\"fill:#8B4903A0;stroke-width:0\"/>\n",
       "\n",
       "  <!-- Horizontal lines -->\n",
       "  <line x1=\"80\" y1=\"70\" x2=\"122\" y2=\"70\" style=\"stroke-width:2\" />\n",
       "  <line x1=\"80\" y1=\"74\" x2=\"122\" y2=\"74\" />\n",
       "  <line x1=\"80\" y1=\"79\" x2=\"122\" y2=\"79\" />\n",
       "  <line x1=\"80\" y1=\"83\" x2=\"122\" y2=\"83\" />\n",
       "  <line x1=\"80\" y1=\"87\" x2=\"122\" y2=\"87\" />\n",
       "  <line x1=\"80\" y1=\"91\" x2=\"122\" y2=\"91\" />\n",
       "  <line x1=\"80\" y1=\"95\" x2=\"122\" y2=\"95\" />\n",
       "  <line x1=\"80\" y1=\"100\" x2=\"122\" y2=\"100\" />\n",
       "  <line x1=\"80\" y1=\"104\" x2=\"122\" y2=\"104\" />\n",
       "  <line x1=\"80\" y1=\"108\" x2=\"122\" y2=\"108\" />\n",
       "  <line x1=\"80\" y1=\"114\" x2=\"122\" y2=\"114\" />\n",
       "  <line x1=\"80\" y1=\"119\" x2=\"122\" y2=\"119\" />\n",
       "  <line x1=\"80\" y1=\"123\" x2=\"122\" y2=\"123\" />\n",
       "  <line x1=\"80\" y1=\"127\" x2=\"122\" y2=\"127\" />\n",
       "  <line x1=\"80\" y1=\"131\" x2=\"122\" y2=\"131\" />\n",
       "  <line x1=\"80\" y1=\"135\" x2=\"122\" y2=\"135\" />\n",
       "  <line x1=\"80\" y1=\"140\" x2=\"122\" y2=\"140\" />\n",
       "  <line x1=\"80\" y1=\"144\" x2=\"122\" y2=\"144\" />\n",
       "  <line x1=\"80\" y1=\"148\" x2=\"122\" y2=\"148\" />\n",
       "  <line x1=\"80\" y1=\"154\" x2=\"122\" y2=\"154\" style=\"stroke-width:2\" />\n",
       "\n",
       "  <!-- Vertical lines -->\n",
       "  <line x1=\"80\" y1=\"70\" x2=\"80\" y2=\"154\" style=\"stroke-width:2\" />\n",
       "  <line x1=\"122\" y1=\"70\" x2=\"122\" y2=\"154\" style=\"stroke-width:2\" />\n",
       "\n",
       "  <!-- Colored Rectangle -->\n",
       "  <polygon points=\"80.58823529411765,70.58823529411765 122.02595942312328,70.58823529411765 122.02595942312328,154.7987616099071 80.58823529411765,154.7987616099071\" style=\"fill:#8B4903A0;stroke-width:0\"/>\n",
       "\n",
       "  <!-- Text -->\n",
       "  <text x=\"101.307097\" y=\"174.798762\" font-size=\"1.0rem\" font-weight=\"100\" text-anchor=\"middle\" >10</text>\n",
       "  <text x=\"142.025959\" y=\"112.693498\" font-size=\"1.0rem\" font-weight=\"100\" text-anchor=\"middle\" transform=\"rotate(0,142.025959,112.693498)\">40</text>\n",
       "  <text x=\"35.294118\" y=\"139.504644\" font-size=\"1.0rem\" font-weight=\"100\" text-anchor=\"middle\" transform=\"rotate(45,35.294118,139.504644)\">57</text>\n",
       "</svg>\n",
       "</td>\n",
       "</tr>\n",
       "</table></div></li></ul></div></li><li class='xr-section-item'><input id='section-9fcd6645-dacb-4ccb-9ba0-a026985e620b' class='xr-section-summary-in' type='checkbox'  ><label for='section-9fcd6645-dacb-4ccb-9ba0-a026985e620b' class='xr-section-summary' >Attributes: <span>(53)</span></label><div class='xr-section-inline-details'></div><div class='xr-section-details'><dl class='xr-attrs'><dt><span>CCCma_model_hash :</span></dt><dd>Unknown</dd><dt><span>CCCma_parent_runid :</span></dt><dd>d2a-asm-e01</dd><dt><span>CCCma_pycmor_hash :</span></dt><dd>13db8596c37129e414cad7ae31f2927ca8f5dd39</dd><dt><span>CCCma_runid :</span></dt><dd>d2a196101e01</dd><dt><span>Conventions :</span></dt><dd>CF-1.7 CMIP-6.2</dd><dt><span>YMDH_branch_time_in_child :</span></dt><dd>1961:01:01:00</dd><dt><span>YMDH_branch_time_in_parent :</span></dt><dd>1961:01:01:00</dd><dt><span>activity_id :</span></dt><dd>DCPP</dd><dt><span>branch_method :</span></dt><dd>Spin-up documentation</dd><dt><span>branch_time_in_child :</span></dt><dd>40515.0</dd><dt><span>branch_time_in_parent :</span></dt><dd>40515.0</dd><dt><span>cmor_version :</span></dt><dd>3.4.0</dd><dt><span>contact :</span></dt><dd>ec.cccma.info-info.ccmac.ec@canada.ca</dd><dt><span>creation_date :</span></dt><dd>2019-06-18T21:27:42Z</dd><dt><span>data_specs_version :</span></dt><dd>01.00.29</dd><dt><span>experiment :</span></dt><dd>hindcast initialized based on observations and using historical forcing</dd><dt><span>experiment_id :</span></dt><dd>dcppA-hindcast</dd><dt><span>external_variables :</span></dt><dd>areacella</dd><dt><span>forcing_index :</span></dt><dd>1</dd><dt><span>frequency :</span></dt><dd>mon</dd><dt><span>further_info_url :</span></dt><dd>https://furtherinfo.es-doc.org/CMIP6.CCCma.CanESM5.dcppA-hindcast.s1960.r1i1p2f1</dd><dt><span>grid :</span></dt><dd>T63L49 native atmosphere, T63 Linear Gaussian Grid; 128 x 64 longitude/latitude; 49 levels; top level 1 hPa</dd><dt><span>grid_label :</span></dt><dd>gn</dd><dt><span>history :</span></dt><dd>Fri Feb 18 10:25:09 2022: /g/data/xv83/dbi599/miniconda3/envs/unseen/bin/python3.9 /g/data/xv83/dbi599/miniconda3/envs/unseen/bin/fileio CanESM5_DCPP_files.txt /g/data/xv83/dbi599/nov-rain/data/pr_CanESM5-dcppA-hindcast_196101-201701_nov_aus-mean.zarr.zip --forecast --variables pr --spatial_coords -44 -11 113 154 --month 11 --shapefile /g/data/xv83/dbi599/nov-rain/shapefiles/australia.shp --spatial_agg mean --units pr=mm month-1 --units_timing middle --n_ensemble_files 40 --reset_times --output_chunks lead_time=50 --dask_config dask_local.yml (git@github.com:AusClimateService/nov-rain)</dd><dt><span>initialization_index :</span></dt><dd>1</dd><dt><span>institution :</span></dt><dd>Canadian Centre for Climate Modelling and Analysis, Environment and Climate Change Canada, Victoria, BC V8P 5C2, Canada</dd><dt><span>institution_id :</span></dt><dd>CCCma</dd><dt><span>license :</span></dt><dd>CMIP6 model data produced by The Government of Canada (Canadian Centre for Climate Modelling and Analysis, Environment and Climate Change Canada) is licensed under a Creative Commons Attribution ShareAlike 4.0 International License (https://creativecommons.org/licenses). Consult https://pcmdi.llnl.gov/CMIP6/TermsOfUse for terms of use governing CMIP6 output, including citation requirements and proper acknowledgment. Further information about this data, including some limitations, can be found via the further_info_url (recorded as a global attribute in this file) and at https:///pcmdi.llnl.gov/. The data producers and data providers make no warranty, either express or implied, including, but not limited to, warranties of merchantability and fitness for a particular purpose. All liabilities arising from the supply of the information (including any liability arising in negligence) are excluded to the fullest extent permitted by law.</dd><dt><span>mip_era :</span></dt><dd>CMIP6</dd><dt><span>nominal_resolution :</span></dt><dd>500 km</dd><dt><span>parent_activity_id :</span></dt><dd>DCPP</dd><dt><span>parent_experiment_id :</span></dt><dd>dcppA-assim</dd><dt><span>parent_mip_era :</span></dt><dd>CMIP6</dd><dt><span>parent_source_id :</span></dt><dd>CanESM5</dd><dt><span>parent_time_units :</span></dt><dd>days since 1850-01-01 0:0:0.0</dd><dt><span>parent_variant_label :</span></dt><dd>r1i1p2f1</dd><dt><span>physics_index :</span></dt><dd>2</dd><dt><span>product :</span></dt><dd>model-output</dd><dt><span>realization_index :</span></dt><dd>1</dd><dt><span>realm :</span></dt><dd>atmos</dd><dt><span>references :</span></dt><dd>Geophysical Model Development Special issue on CanESM5 (https://www.geosci-model-dev.net/special_issues.html)</dd><dt><span>source :</span></dt><dd>CanESM5 (2019): \n",
       "aerosol: interactive\n",
       "atmos: CanAM5 (T63L49 native atmosphere, T63 Linear Gaussian Grid; 128 x 64 longitude/latitude; 49 levels; top level 1 hPa)\n",
       "atmosChem: specified oxidants for aerosols\n",
       "land: CLASS3.6/CTEM1.2\n",
       "landIce: specified ice sheets\n",
       "ocean: NEMO3.4.1 (ORCA1 tripolar grid, 1 deg with refinement to 1/3 deg within 20 degrees of the equator; 361 x 290 longitude/latitude; 45 vertical levels; top grid cell 0-6.19 m)\n",
       "ocnBgchem: Canadian Model of Ocean Carbon (CMOC); NPZD ecosystem with OMIP prescribed carbonate chemistry\n",
       "seaIce: LIM2</dd><dt><span>source_id :</span></dt><dd>CanESM5</dd><dt><span>source_type :</span></dt><dd>AOGCM</dd><dt><span>sub_experiment :</span></dt><dd>initialized near end of year 1960</dd><dt><span>sub_experiment_id :</span></dt><dd>s1960</dd><dt><span>table_id :</span></dt><dd>Amon</dd><dt><span>table_info :</span></dt><dd>Creation Date:(20 February 2019) MD5:374fbe5a2bcca535c40f7f23da271e49</dd><dt><span>title :</span></dt><dd>CanESM5 output prepared for CMIP6</dd><dt><span>tracking_id :</span></dt><dd>hdl:21.14100/26d92b20-201b-4f56-8575-b1154e9827df</dd><dt><span>variable_id :</span></dt><dd>pr</dd><dt><span>variant_label :</span></dt><dd>r1i1p2f1</dd><dt><span>version :</span></dt><dd>v20190429</dd></dl></div></li></ul></div></div>"
      ],
      "text/plain": [
       "<xarray.Dataset>\n",
       "Dimensions:    (ensemble: 40, init_date: 57, lead_time: 10)\n",
       "Coordinates:\n",
       "  * ensemble   (ensemble) int64 0 1 2 3 4 5 6 7 8 ... 31 32 33 34 35 36 37 38 39\n",
       "  * init_date  (init_date) object 1961-01-16 00:00:00 ... 2017-01-16 00:00:00\n",
       "  * lead_time  (lead_time) int64 0 1 2 3 4 5 6 7 8 9\n",
       "    time       (lead_time, init_date) object dask.array<chunksize=(10, 57), meta=np.ndarray>\n",
       "Data variables:\n",
       "    pr         (init_date, ensemble, lead_time) float64 dask.array<chunksize=(1, 1, 10), meta=np.ndarray>\n",
       "Attributes: (12/53)\n",
       "    CCCma_model_hash:            Unknown\n",
       "    CCCma_parent_runid:          d2a-asm-e01\n",
       "    CCCma_pycmor_hash:           13db8596c37129e414cad7ae31f2927ca8f5dd39\n",
       "    CCCma_runid:                 d2a196101e01\n",
       "    Conventions:                 CF-1.7 CMIP-6.2\n",
       "    YMDH_branch_time_in_child:   1961:01:01:00\n",
       "    ...                          ...\n",
       "    table_info:                  Creation Date:(20 February 2019) MD5:374fbe5...\n",
       "    title:                       CanESM5 output prepared for CMIP6\n",
       "    tracking_id:                 hdl:21.14100/26d92b20-201b-4f56-8575-b1154e9...\n",
       "    variable_id:                 pr\n",
       "    variant_label:               r1i1p2f1\n",
       "    version:                     v20190429"
      ]
     },
     "execution_count": 16,
     "metadata": {},
     "output_type": "execute_result"
    }
   ],
   "source": [
    "model_ds"
   ]
  },
  {
   "cell_type": "markdown",
   "id": "b25bd815",
   "metadata": {
    "papermill": {
     "duration": 0.05293,
     "end_time": "2022-03-08T04:24:36.043558",
     "exception": false,
     "start_time": "2022-03-08T04:24:35.990628",
     "status": "completed"
    },
    "tags": []
   },
   "source": [
    "### Independence testing"
   ]
  },
  {
   "cell_type": "code",
   "execution_count": 17,
   "id": "b819d698",
   "metadata": {
    "execution": {
     "iopub.execute_input": "2022-03-08T04:24:36.155497Z",
     "iopub.status.busy": "2022-03-08T04:24:36.154153Z",
     "iopub.status.idle": "2022-03-08T04:24:36.165562Z",
     "shell.execute_reply": "2022-03-08T04:24:36.164065Z"
    },
    "papermill": {
     "duration": 0.071285,
     "end_time": "2022-03-08T04:24:36.165914",
     "exception": false,
     "start_time": "2022-03-08T04:24:36.094629",
     "status": "completed"
    },
    "tags": []
   },
   "outputs": [
    {
     "data": {
      "image/png": "[encoded data removed]",
      "text/plain": [
       "<IPython.core.display.Image object>"
      ]
     },
     "execution_count": 17,
     "metadata": {},
     "output_type": "execute_result"
    }
   ],
   "source": [
    "Image(filename=independence_plot)"
   ]
  },
  {
   "cell_type": "code",
   "execution_count": 18,
   "id": "a5ccabe2",
   "metadata": {
    "execution": {
     "iopub.execute_input": "2022-03-08T04:24:36.287333Z",
     "iopub.status.busy": "2022-03-08T04:24:36.286409Z",
     "iopub.status.idle": "2022-03-08T04:24:36.292886Z",
     "shell.execute_reply": "2022-03-08T04:24:36.291890Z"
    },
    "papermill": {
     "duration": 0.071165,
     "end_time": "2022-03-08T04:24:36.293145",
     "exception": false,
     "start_time": "2022-03-08T04:24:36.221980",
     "status": "completed"
    },
    "tags": []
   },
   "outputs": [
    {
     "name": "stdout",
     "output_type": "stream",
     "text": [
      "3\n"
     ]
    }
   ],
   "source": [
    "print(min_lead)"
   ]
  },
  {
   "cell_type": "code",
   "execution_count": 19,
   "id": "e055048c",
   "metadata": {
    "execution": {
     "iopub.execute_input": "2022-03-08T04:24:36.424178Z",
     "iopub.status.busy": "2022-03-08T04:24:36.423142Z",
     "iopub.status.idle": "2022-03-08T04:24:36.429951Z",
     "shell.execute_reply": "2022-03-08T04:24:36.428507Z"
    },
    "papermill": {
     "duration": 0.080056,
     "end_time": "2022-03-08T04:24:36.430303",
     "exception": false,
     "start_time": "2022-03-08T04:24:36.350247",
     "status": "completed"
    },
    "tags": []
   },
   "outputs": [],
   "source": [
    "model_da = model_ds['pr'].where(model_ds['lead_time'] >= min_lead)"
   ]
  },
  {
   "cell_type": "markdown",
   "id": "1e039e61",
   "metadata": {
    "papermill": {
     "duration": 0.057836,
     "end_time": "2022-03-08T04:24:36.545017",
     "exception": false,
     "start_time": "2022-03-08T04:24:36.487181",
     "status": "completed"
    },
    "tags": []
   },
   "source": [
    "### Bias correction and similarity testing"
   ]
  },
  {
   "cell_type": "code",
   "execution_count": 20,
   "id": "110c554e",
   "metadata": {
    "execution": {
     "iopub.execute_input": "2022-03-08T04:24:36.700965Z",
     "iopub.status.busy": "2022-03-08T04:24:36.692738Z",
     "iopub.status.idle": "2022-03-08T04:24:52.765211Z",
     "shell.execute_reply": "2022-03-08T04:24:52.763986Z"
    },
    "papermill": {
     "duration": 16.164996,
     "end_time": "2022-03-08T04:24:52.765628",
     "exception": false,
     "start_time": "2022-03-08T04:24:36.600632",
     "status": "completed"
    },
    "tags": []
   },
   "outputs": [
    {
     "data": {
      "image/png": "[encoded data removed]",
      "text/plain": [
       "<Figure size 720x432 with 1 Axes>"
      ]
     },
     "metadata": {
      "needs_background": "light"
     },
     "output_type": "display_data"
    }
   ],
   "source": [
    "fig = plt.figure(figsize=[10, 6])\n",
    "model_da.plot.hist(bins=50, density=True, label=model_name, alpha=0.7)\n",
    "model_bc_ds['pr'].plot.hist(bins=50, density=True, label=f'{model_name} bias corrected', facecolor='darkblue', alpha=0.7)\n",
    "bom_ds['pr'].plot.hist(bins=50, density=True, label='BoM', facecolor='green', alpha=0.7)\n",
    "plt.xlabel('precipitation (mm)')\n",
    "plt.ylabel('probability')\n",
    "plt.title(f'November rainfall for Australia ({model_name})')\n",
    "plt.legend()\n",
    "plt.savefig(f'/g/data/xv83/dbi599/nov-rain/figures/nov_precip_histogram_aus_{model_name}.png',\n",
    "            bbox_inches='tight', facecolor='white', dpi=dpi)\n",
    "plt.show()"
   ]
  },
  {
   "cell_type": "code",
   "execution_count": 21,
   "id": "8b3f7de0",
   "metadata": {
    "execution": {
     "iopub.execute_input": "2022-03-08T04:24:52.912009Z",
     "iopub.status.busy": "2022-03-08T04:24:52.910537Z",
     "iopub.status.idle": "2022-03-08T04:24:53.074719Z",
     "shell.execute_reply": "2022-03-08T04:24:53.073064Z"
    },
    "papermill": {
     "duration": 0.252232,
     "end_time": "2022-03-08T04:24:53.075128",
     "exception": false,
     "start_time": "2022-03-08T04:24:52.822896",
     "status": "completed"
    },
    "tags": []
   },
   "outputs": [
    {
     "data": {
      "text/plain": [
       "array([0.65597   , 0.6891245 , 0.66150506, 0.55185393, 0.64489837,\n",
       "       0.73819692, 0.6891245 ])"
      ]
     },
     "execution_count": 21,
     "metadata": {},
     "output_type": "execute_result"
    }
   ],
   "source": [
    "similarity_bias_ds = fileio.open_dataset(similarity_bc_file)\n",
    "similarity_bias_ds['pval'].values"
   ]
  },
  {
   "cell_type": "code",
   "execution_count": 22,
   "id": "a21af1f7",
   "metadata": {
    "execution": {
     "iopub.execute_input": "2022-03-08T04:24:53.199824Z",
     "iopub.status.busy": "2022-03-08T04:24:53.198294Z",
     "iopub.status.idle": "2022-03-08T04:24:53.246112Z",
     "shell.execute_reply": "2022-03-08T04:24:53.244555Z"
    },
    "papermill": {
     "duration": 0.112373,
     "end_time": "2022-03-08T04:24:53.246583",
     "exception": false,
     "start_time": "2022-03-08T04:24:53.134210",
     "status": "completed"
    },
    "tags": []
   },
   "outputs": [
    {
     "data": {
      "text/plain": [
       "array([0.01644571, 0.01364784, 0.06413952, 0.52525734, 0.57888493,\n",
       "       0.76479356, 0.41534455, 0.36138039, 0.41067334, 0.46868652])"
      ]
     },
     "execution_count": 22,
     "metadata": {},
     "output_type": "execute_result"
    }
   ],
   "source": [
    "similarity_raw_ds = fileio.open_dataset(similarity_raw_file)\n",
    "similarity_raw_ds['pval'].values"
   ]
  },
  {
   "cell_type": "markdown",
   "id": "1a8210c0",
   "metadata": {
    "papermill": {
     "duration": 0.057462,
     "end_time": "2022-03-08T04:24:53.362219",
     "exception": false,
     "start_time": "2022-03-08T04:24:53.304757",
     "status": "completed"
    },
    "tags": []
   },
   "source": [
    "These are the p-values for each lead time.\n",
    "\n",
    "p > 0.05 means the null hypothesis (that the two samples are from the same population) can't be rejected."
   ]
  },
  {
   "cell_type": "markdown",
   "id": "692c7b58",
   "metadata": {
    "papermill": {
     "duration": 0.056552,
     "end_time": "2022-03-08T04:24:53.474440",
     "exception": false,
     "start_time": "2022-03-08T04:24:53.417888",
     "status": "completed"
    },
    "tags": []
   },
   "source": [
    "### Exceedance curves"
   ]
  },
  {
   "cell_type": "code",
   "execution_count": 23,
   "id": "167fdeff",
   "metadata": {
    "execution": {
     "iopub.execute_input": "2022-03-08T04:24:53.600951Z",
     "iopub.status.busy": "2022-03-08T04:24:53.599425Z",
     "iopub.status.idle": "2022-03-08T04:24:53.605252Z",
     "shell.execute_reply": "2022-03-08T04:24:53.603903Z"
    },
    "papermill": {
     "duration": 0.076336,
     "end_time": "2022-03-08T04:24:53.605676",
     "exception": false,
     "start_time": "2022-03-08T04:24:53.529340",
     "status": "completed"
    },
    "tags": []
   },
   "outputs": [],
   "source": [
    "def plot_exceedance(sample_ds, model_name):\n",
    "    \"\"\"Plot single exceedance curve\"\"\"\n",
    "    \n",
    "    sorted_data, exceedance_data = general_utils.exceedance_curve(sample_ds)\n",
    "    \n",
    "    fig = plt.figure(figsize=[8, 6])\n",
    "    ax = fig.add_subplot()\n",
    "    ax.plot(sorted_data, exceedance_data)\n",
    "    ax.set_title(f'November rainfall for Australia ({model_name})')\n",
    "    ax.set_ylabel('likelihood of exceedance (%)')\n",
    "    ax.set_xlabel('monthly precipitation (mm)')\n",
    "    ax.axvline(pr2021, color='0.5', linestyle='--')\n",
    "    outfile = f'/g/data/xv83/dbi599/nov-rain/figures/nov_precip_exceedence_aus_{model_name}.png'\n",
    "    plt.savefig(outfile, bbox_inches='tight', facecolor='white', dpi=dpi)\n",
    "    print(outfile)"
   ]
  },
  {
   "cell_type": "code",
   "execution_count": 24,
   "id": "a80aac3d",
   "metadata": {
    "execution": {
     "iopub.execute_input": "2022-03-08T04:24:53.745339Z",
     "iopub.status.busy": "2022-03-08T04:24:53.744269Z",
     "iopub.status.idle": "2022-03-08T04:24:53.749445Z",
     "shell.execute_reply": "2022-03-08T04:24:53.750477Z"
    },
    "papermill": {
     "duration": 0.086896,
     "end_time": "2022-03-08T04:24:53.750907",
     "exception": false,
     "start_time": "2022-03-08T04:24:53.664011",
     "status": "completed"
    },
    "tags": []
   },
   "outputs": [],
   "source": [
    "def plot_exceedance_by_decade(sample_ds, model_name):\n",
    "    \"\"\"Plot exceedance curve by decade\"\"\"\n",
    "\n",
    "    fig = plt.figure(figsize=[8, 6])\n",
    "    ax = fig.add_subplot()\n",
    "    start_years = [1960, 1970, 1980, 1990, 2000, 2010]\n",
    "    colors = iter(plt.cm.hot_r(np.linspace(0.3, 1, len(start_years))))\n",
    "\n",
    "    for start_year in start_years:\n",
    "        end_year = start_year + 9\n",
    "        start_date = f'{start_year}-01-01'\n",
    "        end_date = f'{end_year}-12-31'\n",
    "        ds_selection = time_utils.select_time_period(sample_ds, [start_date, end_date])\n",
    "        ds_selection = ds_selection.dropna('sample')\n",
    "        sorted_data, exceedance_data = general_utils.exceedance_curve(ds_selection)\n",
    "        n_years = len(sorted_data)\n",
    "        label = f'{start_year}-{end_year} ({n_years} samples)'\n",
    "        color = next(colors)\n",
    "        ax.plot(sorted_data, exceedance_data, label=label, color=color)\n",
    "    \n",
    "        print(f'{start_year}-{end_year}')\n",
    "        percentile, return_period = general_utils.event_in_context(ds_selection.values, pr2021, 'above')\n",
    "        print(f'{percentile:.2f}% percentile')\n",
    "        print(f'{return_period:.0f} year return period\\n')\n",
    "\n",
    "    ax.set_title(f'November rainfall for Australia ({model_name})')\n",
    "    ax.set_ylabel('likelihood of exceedance (%)')\n",
    "    ax.set_xlabel('monthly precipitation (mm)')\n",
    "    ax.legend()\n",
    "    ax.axvline(pr2021, color='0.5', linestyle='--')\n",
    "    outfile = f'/g/data/xv83/dbi599/nov-rain/figures/nov_precip_exceedence_aus_{model_name}_by-decade.png'\n",
    "    plt.savefig(outfile, bbox_inches='tight', facecolor='white', dpi=dpi)"
   ]
  },
  {
   "cell_type": "markdown",
   "id": "d6a40828",
   "metadata": {
    "papermill": {
     "duration": 0.060079,
     "end_time": "2022-03-08T04:24:53.869623",
     "exception": false,
     "start_time": "2022-03-08T04:24:53.809544",
     "status": "completed"
    },
    "tags": []
   },
   "source": [
    "#### Bias corrected data"
   ]
  },
  {
   "cell_type": "code",
   "execution_count": 25,
   "id": "f0b0019b",
   "metadata": {
    "execution": {
     "iopub.execute_input": "2022-03-08T04:24:54.005811Z",
     "iopub.status.busy": "2022-03-08T04:24:53.996692Z",
     "iopub.status.idle": "2022-03-08T04:25:02.793979Z",
     "shell.execute_reply": "2022-03-08T04:25:02.792430Z"
    },
    "papermill": {
     "duration": 8.867741,
     "end_time": "2022-03-08T04:25:02.794331",
     "exception": false,
     "start_time": "2022-03-08T04:24:53.926590",
     "status": "completed"
    },
    "tags": []
   },
   "outputs": [],
   "source": [
    "model_bc_da_stacked = model_bc_ds.dropna('lead_time')['pr'].stack({'sample': ['ensemble', 'init_date', 'lead_time']})"
   ]
  },
  {
   "cell_type": "code",
   "execution_count": 26,
   "id": "7d4fdc9e",
   "metadata": {
    "execution": {
     "iopub.execute_input": "2022-03-08T04:25:02.926711Z",
     "iopub.status.busy": "2022-03-08T04:25:02.925703Z",
     "iopub.status.idle": "2022-03-08T04:25:02.931792Z",
     "shell.execute_reply": "2022-03-08T04:25:02.930865Z"
    },
    "papermill": {
     "duration": 0.075124,
     "end_time": "2022-03-08T04:25:02.932026",
     "exception": false,
     "start_time": "2022-03-08T04:25:02.856902",
     "status": "completed"
    },
    "tags": []
   },
   "outputs": [
    {
     "data": {
      "text/plain": [
       "(15960,)"
      ]
     },
     "execution_count": 26,
     "metadata": {},
     "output_type": "execute_result"
    }
   ],
   "source": [
    "model_bc_da_stacked.shape"
   ]
  },
  {
   "cell_type": "code",
   "execution_count": 27,
   "id": "85a87917",
   "metadata": {
    "execution": {
     "iopub.execute_input": "2022-03-08T04:25:03.103483Z",
     "iopub.status.busy": "2022-03-08T04:25:03.067460Z",
     "iopub.status.idle": "2022-03-08T04:25:13.415611Z",
     "shell.execute_reply": "2022-03-08T04:25:13.414544Z"
    },
    "papermill": {
     "duration": 10.422195,
     "end_time": "2022-03-08T04:25:13.415919",
     "exception": false,
     "start_time": "2022-03-08T04:25:02.993724",
     "status": "completed"
    },
    "tags": []
   },
   "outputs": [
    {
     "name": "stdout",
     "output_type": "stream",
     "text": [
      "/g/data/xv83/dbi599/nov-rain/figures/nov_precip_exceedence_aus_CanESM5.png\n"
     ]
    },
    {
     "data": {
      "image/png": "[encoded data removed]",
      "text/plain": [
       "<Figure size 576x432 with 1 Axes>"
      ]
     },
     "metadata": {
      "needs_background": "light"
     },
     "output_type": "display_data"
    }
   ],
   "source": [
    "plot_exceedance(model_bc_da_stacked, model_name)"
   ]
  },
  {
   "cell_type": "code",
   "execution_count": 28,
   "id": "b52e2f6e",
   "metadata": {
    "execution": {
     "iopub.execute_input": "2022-03-08T04:25:13.601676Z",
     "iopub.status.busy": "2022-03-08T04:25:13.598334Z",
     "iopub.status.idle": "2022-03-08T04:27:14.078105Z",
     "shell.execute_reply": "2022-03-08T04:27:14.077182Z"
    },
    "papermill": {
     "duration": 120.593665,
     "end_time": "2022-03-08T04:27:14.078400",
     "exception": false,
     "start_time": "2022-03-08T04:25:13.484735",
     "status": "completed"
    },
    "tags": []
   },
   "outputs": [
    {
     "name": "stdout",
     "output_type": "stream",
     "text": [
      "1960-1969\n"
     ]
    },
    {
     "name": "stdout",
     "output_type": "stream",
     "text": [
      "98.10% percentile\n",
      "52 year return period\n",
      "\n"
     ]
    },
    {
     "name": "stdout",
     "output_type": "stream",
     "text": [
      "1970-1979\n"
     ]
    },
    {
     "name": "stdout",
     "output_type": "stream",
     "text": [
      "97.86% percentile\n",
      "47 year return period\n",
      "\n"
     ]
    },
    {
     "name": "stdout",
     "output_type": "stream",
     "text": [
      "1980-1989\n"
     ]
    },
    {
     "name": "stdout",
     "output_type": "stream",
     "text": [
      "97.36% percentile\n",
      "38 year return period\n",
      "\n"
     ]
    },
    {
     "name": "stdout",
     "output_type": "stream",
     "text": [
      "1990-1999\n"
     ]
    },
    {
     "name": "stdout",
     "output_type": "stream",
     "text": [
      "96.89% percentile\n",
      "32 year return period\n",
      "\n"
     ]
    },
    {
     "name": "stdout",
     "output_type": "stream",
     "text": [
      "2000-2009\n"
     ]
    },
    {
     "name": "stdout",
     "output_type": "stream",
     "text": [
      "96.61% percentile\n",
      "29 year return period\n",
      "\n"
     ]
    },
    {
     "name": "stdout",
     "output_type": "stream",
     "text": [
      "2010-2019\n"
     ]
    },
    {
     "name": "stdout",
     "output_type": "stream",
     "text": [
      "97.64% percentile\n",
      "42 year return period\n",
      "\n"
     ]
    },
    {
     "data": {
      "image/png": "[encoded data removed]",
      "text/plain": [
       "<Figure size 576x432 with 1 Axes>"
      ]
     },
     "metadata": {
      "needs_background": "light"
     },
     "output_type": "display_data"
    }
   ],
   "source": [
    "plot_exceedance_by_decade(model_bc_da_stacked, model_name)"
   ]
  },
  {
   "cell_type": "code",
   "execution_count": 29,
   "id": "39e4acf0",
   "metadata": {
    "execution": {
     "iopub.execute_input": "2022-03-08T04:27:14.249698Z",
     "iopub.status.busy": "2022-03-08T04:27:14.234292Z",
     "iopub.status.idle": "2022-03-08T04:27:25.713331Z",
     "shell.execute_reply": "2022-03-08T04:27:25.711911Z"
    },
    "papermill": {
     "duration": 11.565679,
     "end_time": "2022-03-08T04:27:25.713786",
     "exception": false,
     "start_time": "2022-03-08T04:27:14.148107",
     "status": "completed"
    },
    "tags": []
   },
   "outputs": [
    {
     "name": "stdout",
     "output_type": "stream",
     "text": [
      "BIAS CORRECTED DATA\n",
      "97.37% percentile\n",
      "38 year return period\n"
     ]
    }
   ],
   "source": [
    "percentile_bc, return_period_bc = general_utils.event_in_context(model_bc_da_stacked.values, pr2021, 'above')\n",
    "print('BIAS CORRECTED DATA')\n",
    "print(f'{percentile_bc:.2f}% percentile')\n",
    "print(f'{return_period_bc:.0f} year return period')"
   ]
  },
  {
   "cell_type": "markdown",
   "id": "c6a2c14c",
   "metadata": {
    "papermill": {
     "duration": 0.08836,
     "end_time": "2022-03-08T04:27:25.878273",
     "exception": false,
     "start_time": "2022-03-08T04:27:25.789913",
     "status": "completed"
    },
    "tags": []
   },
   "source": [
    "#### Raw data"
   ]
  },
  {
   "cell_type": "code",
   "execution_count": 30,
   "id": "6b40107c",
   "metadata": {
    "execution": {
     "iopub.execute_input": "2022-03-08T04:27:26.067003Z",
     "iopub.status.busy": "2022-03-08T04:27:26.038484Z",
     "iopub.status.idle": "2022-03-08T04:27:32.386701Z",
     "shell.execute_reply": "2022-03-08T04:27:32.385007Z"
    },
    "papermill": {
     "duration": 6.438001,
     "end_time": "2022-03-08T04:27:32.387089",
     "exception": false,
     "start_time": "2022-03-08T04:27:25.949088",
     "status": "completed"
    },
    "tags": []
   },
   "outputs": [],
   "source": [
    "model_da_stacked = model_da.dropna('lead_time').stack({'sample': ['ensemble', 'init_date', 'lead_time']})"
   ]
  },
  {
   "cell_type": "code",
   "execution_count": 31,
   "id": "10aaf4a0",
   "metadata": {
    "execution": {
     "iopub.execute_input": "2022-03-08T04:27:32.556690Z",
     "iopub.status.busy": "2022-03-08T04:27:32.555762Z",
     "iopub.status.idle": "2022-03-08T04:27:32.562064Z",
     "shell.execute_reply": "2022-03-08T04:27:32.561419Z"
    },
    "papermill": {
     "duration": 0.082784,
     "end_time": "2022-03-08T04:27:32.562297",
     "exception": false,
     "start_time": "2022-03-08T04:27:32.479513",
     "status": "completed"
    },
    "tags": []
   },
   "outputs": [
    {
     "data": {
      "text/plain": [
       "(15960,)"
      ]
     },
     "execution_count": 31,
     "metadata": {},
     "output_type": "execute_result"
    }
   ],
   "source": [
    "model_da_stacked.shape"
   ]
  },
  {
   "cell_type": "code",
   "execution_count": 32,
   "id": "cb75fa43",
   "metadata": {
    "execution": {
     "iopub.execute_input": "2022-03-08T04:27:32.982789Z",
     "iopub.status.busy": "2022-03-08T04:27:32.962562Z",
     "iopub.status.idle": "2022-03-08T04:27:40.028897Z",
     "shell.execute_reply": "2022-03-08T04:27:40.027550Z"
    },
    "papermill": {
     "duration": 7.30056,
     "end_time": "2022-03-08T04:27:40.029263",
     "exception": false,
     "start_time": "2022-03-08T04:27:32.728703",
     "status": "completed"
    },
    "tags": []
   },
   "outputs": [
    {
     "name": "stdout",
     "output_type": "stream",
     "text": [
      "/g/data/xv83/dbi599/nov-rain/figures/nov_precip_exceedence_aus_CanESM5.png\n"
     ]
    },
    {
     "data": {
      "image/png": "[encoded data removed]",
      "text/plain": [
       "<Figure size 576x432 with 1 Axes>"
      ]
     },
     "metadata": {
      "needs_background": "light"
     },
     "output_type": "display_data"
    }
   ],
   "source": [
    "plot_exceedance(model_da_stacked, model_name)"
   ]
  },
  {
   "cell_type": "code",
   "execution_count": 33,
   "id": "89138fa6",
   "metadata": {
    "execution": {
     "iopub.execute_input": "2022-03-08T04:27:40.234043Z",
     "iopub.status.busy": "2022-03-08T04:27:40.228888Z",
     "iopub.status.idle": "2022-03-08T04:27:48.770832Z",
     "shell.execute_reply": "2022-03-08T04:27:48.769513Z"
    },
    "papermill": {
     "duration": 8.664918,
     "end_time": "2022-03-08T04:27:48.771179",
     "exception": false,
     "start_time": "2022-03-08T04:27:40.106261",
     "status": "completed"
    },
    "tags": []
   },
   "outputs": [
    {
     "name": "stdout",
     "output_type": "stream",
     "text": [
      "RAW DATA\n",
      "96.94% percentile\n",
      "33 year return period\n"
     ]
    }
   ],
   "source": [
    "percentile, return_period = general_utils.event_in_context(model_da_stacked.values, pr2021, 'above')\n",
    "print('RAW DATA')\n",
    "print(f'{percentile:.2f}% percentile')\n",
    "print(f'{return_period:.0f} year return period')"
   ]
  },
  {
   "cell_type": "code",
   "execution_count": null,
   "id": "cbfda751",
   "metadata": {
    "papermill": {
     "duration": 0.073362,
     "end_time": "2022-03-08T04:27:48.920420",
     "exception": false,
     "start_time": "2022-03-08T04:27:48.847058",
     "status": "completed"
    },
    "tags": []
   },
   "outputs": [],
   "source": []
  }
 ],
 "metadata": {
  "kernelspec": {
   "display_name": "Python 3",
   "language": "python",
   "name": "python3"
  },
  "language_info": {
   "codemirror_mode": {
    "name": "ipython",
    "version": 3
   },
   "file_extension": ".py",
   "mimetype": "text/x-python",
   "name": "python",
   "nbconvert_exporter": "python",
   "pygments_lexer": "ipython3",
   "version": "3.9.4"
  },
  "papermill": {
   "default_parameters": {},
   "duration": 212.199422,
   "end_time": "2022-03-08T04:27:49.810220",
   "environment_variables": {},
   "exception": null,
   "input_path": "analysis/analysis.ipynb",
   "output_path": "analysis/analysis_CanESM5.ipynb",
   "parameters": {
    "bom_file": "/g/data/xv83/dbi599/nov-rain/data/pr_BoM_1900-2021_nov_aus-mean.nc",
    "independence_plot": "/g/data/xv83/dbi599/nov-rain/figures/independence-test_pr_CanESM5-dcppA-hindcast_196101-201701_nov_aus-mean.png",
    "min_lead": 3,
    "model_bc_file": "/g/data/xv83/dbi599/nov-rain/data/pr_CanESM5-dcppA-hindcast_196101-201701_nov_aus-mean_bias-corrected-BoM-multiplicative.zarr.zip",
    "model_file": "/g/data/xv83/dbi599/nov-rain/data/pr_CanESM5-dcppA-hindcast_196101-201701_nov_aus-mean.zarr.zip",
    "model_name": "CanESM5",
    "similarity_bc_file": "/g/data/xv83/dbi599/nov-rain/data/ks-test_pr_CanESM5-dcppA-hindcast_196101-201701_nov_aus-mean_bias-corrected-BoM-multiplicative.zarr.zip",
    "similarity_raw_file": "/g/data/xv83/dbi599/nov-rain/data/ks-test_pr_CanESM5-dcppA-hindcast_196101-201701_nov_aus-mean_BoM.zarr.zip"
   },
   "start_time": "2022-03-08T04:24:17.610798",
   "version": "2.3.3"
  }
 },
 "nbformat": 4,
 "nbformat_minor": 5
}