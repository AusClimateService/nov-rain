{
 "cells": [
  {
   "cell_type": "markdown",
   "id": "4d047299",
   "metadata": {
    "papermill": {
     "duration": 0.059285,
     "end_time": "2022-01-31T05:22:03.555526",
     "exception": false,
     "start_time": "2022-01-31T05:22:03.496241",
     "status": "completed"
    },
    "tags": []
   },
   "source": [
    "# November rain\n",
    "\n",
    "November 2021 was the wettest November on record for Australia."
   ]
  },
  {
   "cell_type": "code",
   "execution_count": null,
   "id": "95569a41",
   "metadata": {
    "execution": {
     "iopub.execute_input": "2022-01-31T05:22:04.554180Z",
     "iopub.status.busy": "2022-01-31T05:22:04.552658Z",
     "iopub.status.idle": "2022-01-31T05:22:30.677491Z",
     "shell.execute_reply": "2022-01-31T05:22:30.675267Z"
    },
    "papermill": {
     "duration": 26.264947,
     "end_time": "2022-01-31T05:22:30.678100",
     "exception": false,
     "start_time": "2022-01-31T05:22:04.413153",
     "status": "completed"
    },
    "tags": []
   },
   "outputs": [],
   "source": [
    "import os\n",
    "\n",
    "import matplotlib.pyplot as plt\n",
    "import pandas as pd\n",
    "import numpy as np\n",
    "from IPython.display import Image\n",
    "from scipy.stats import genextreme as gev\n",
    "\n",
    "from unseen import fileio\n",
    "from unseen import general_utils\n",
    "from unseen import indices\n",
    "from unseen import time_utils"
   ]
  },
  {
   "cell_type": "code",
   "execution_count": null,
   "id": "56e9e0ab",
   "metadata": {
    "execution": {
     "iopub.execute_input": "2022-01-31T05:22:31.374727Z",
     "iopub.status.busy": "2022-01-31T05:22:31.373529Z",
     "iopub.status.idle": "2022-01-31T05:22:31.378918Z",
     "shell.execute_reply": "2022-01-31T05:22:31.380298Z"
    },
    "papermill": {
     "duration": 0.279771,
     "end_time": "2022-01-31T05:22:31.380661",
     "exception": false,
     "start_time": "2022-01-31T05:22:31.100890",
     "status": "completed"
    },
    "tags": [
     "parameters"
    ]
   },
   "outputs": [],
   "source": [
    "# Optional parameters \n",
    "# (This cell is tagged \"parameters\")\n",
    "dpi = 300"
   ]
  },
  {
   "cell_type": "code",
   "execution_count": null,
   "id": "b9787631",
   "metadata": {
    "execution": {
     "iopub.execute_input": "2022-01-31T05:22:33.521675Z",
     "iopub.status.busy": "2022-01-31T05:22:33.520753Z",
     "iopub.status.idle": "2022-01-31T05:22:33.546048Z",
     "shell.execute_reply": "2022-01-31T05:22:33.545284Z"
    },
    "papermill": {
     "duration": 0.434214,
     "end_time": "2022-01-31T05:22:33.546282",
     "exception": false,
     "start_time": "2022-01-31T05:22:33.112068",
     "status": "completed"
    },
    "tags": []
   },
   "outputs": [],
   "source": [
    "# Required parameters\n",
    "assert 'model_name' in locals(), \"Must provide a model name\"\n",
    "assert 'min_lead' in locals(), \"Must provide a minimum lead time\"\n",
    "assert os.path.isfile(bom_file), \"Must provide an BoM data file (papermill option -p agcd_file [filepath])\"\n",
    "assert os.path.isfile(model_file), \"Must provide an model data file (papermill option -p cafe_file [filepath])\"\n",
    "assert os.path.isfile(model_bc_file), \"Must provide a model bias corrected data file (papermill option -p cafe_bc_file [filepath])\"\n",
    "assert os.path.isfile(similarity_bc_file), \"Must provide an bias corrected similarity test file (papermill option -p similarity_bias_file [filepath])\"\n",
    "assert os.path.isfile(similarity_raw_file), \"Must provide an raw data similarity test file (papermill option -p similarity_raw_file [filepath])\"\n",
    "assert os.path.isfile(independence_plot), \"Must provide an independence test plot (papermill option -p independence_plot [filepath])\""
   ]
  },
  {
   "cell_type": "markdown",
   "id": "5c8da4f2",
   "metadata": {
    "papermill": {
     "duration": 0.430593,
     "end_time": "2022-01-31T05:22:34.400573",
     "exception": false,
     "start_time": "2022-01-31T05:22:33.969980",
     "status": "completed"
    },
    "tags": []
   },
   "source": [
    "## Observations"
   ]
  },
  {
   "cell_type": "code",
   "execution_count": null,
   "id": "d80b0c20",
   "metadata": {
    "execution": {
     "iopub.execute_input": "2022-01-31T05:22:30.906101Z",
     "iopub.status.busy": "2022-01-31T05:22:30.904510Z",
     "iopub.status.idle": "2022-01-31T05:22:31.025705Z",
     "shell.execute_reply": "2022-01-31T05:22:31.026389Z"
    },
    "papermill": {
     "duration": 0.300468,
     "end_time": "2022-01-31T05:22:31.026700",
     "exception": false,
     "start_time": "2022-01-31T05:22:30.726232",
     "status": "completed"
    },
    "tags": []
   },
   "outputs": [],
   "source": [
    "Image(filename='/home/599/dbi599/nov-rain/analysis/pr_BoM_1900-2021_nov_aus-mean.png')"
   ]
  },
  {
   "cell_type": "code",
   "execution_count": null,
   "id": "f40952f6",
   "metadata": {
    "execution": {
     "iopub.execute_input": "2022-01-31T05:22:34.833684Z",
     "iopub.status.busy": "2022-01-31T05:22:34.832466Z",
     "iopub.status.idle": "2022-01-31T05:22:35.299744Z",
     "shell.execute_reply": "2022-01-31T05:22:35.301339Z"
    },
    "papermill": {
     "duration": 0.554737,
     "end_time": "2022-01-31T05:22:35.302037",
     "exception": false,
     "start_time": "2022-01-31T05:22:34.747300",
     "status": "completed"
    },
    "tags": []
   },
   "outputs": [],
   "source": [
    "bom_ds = fileio.open_dataset(bom_file)"
   ]
  },
  {
   "cell_type": "code",
   "execution_count": null,
   "id": "1493ff0f",
   "metadata": {
    "execution": {
     "iopub.execute_input": "2022-01-31T05:22:35.548479Z",
     "iopub.status.busy": "2022-01-31T05:22:35.538391Z",
     "iopub.status.idle": "2022-01-31T05:22:35.747477Z",
     "shell.execute_reply": "2022-01-31T05:22:35.746076Z"
    },
    "papermill": {
     "duration": 0.370051,
     "end_time": "2022-01-31T05:22:35.747837",
     "exception": false,
     "start_time": "2022-01-31T05:22:35.377786",
     "status": "completed"
    },
    "tags": []
   },
   "outputs": [],
   "source": [
    "bom_ds"
   ]
  },
  {
   "cell_type": "code",
   "execution_count": null,
   "id": "9c701895",
   "metadata": {
    "execution": {
     "iopub.execute_input": "2022-01-31T05:22:36.326185Z",
     "iopub.status.busy": "2022-01-31T05:22:36.315080Z",
     "iopub.status.idle": "2022-01-31T05:22:36.726233Z",
     "shell.execute_reply": "2022-01-31T05:22:36.725376Z"
    },
    "papermill": {
     "duration": 0.660362,
     "end_time": "2022-01-31T05:22:36.726584",
     "exception": false,
     "start_time": "2022-01-31T05:22:36.066222",
     "status": "completed"
    },
    "tags": []
   },
   "outputs": [],
   "source": [
    "years = bom_ds['time'].dt.year.values\n",
    "bom_df = pd.DataFrame(index=years)\n",
    "bom_df['pr'] = bom_ds['pr'].values"
   ]
  },
  {
   "cell_type": "code",
   "execution_count": null,
   "id": "6c1bcdcc",
   "metadata": {
    "execution": {
     "iopub.execute_input": "2022-01-31T05:22:37.560666Z",
     "iopub.status.busy": "2022-01-31T05:22:37.559677Z",
     "iopub.status.idle": "2022-01-31T05:22:37.566845Z",
     "shell.execute_reply": "2022-01-31T05:22:37.565153Z"
    },
    "papermill": {
     "duration": 0.769166,
     "end_time": "2022-01-31T05:22:37.567318",
     "exception": false,
     "start_time": "2022-01-31T05:22:36.798152",
     "status": "completed"
    },
    "tags": []
   },
   "outputs": [],
   "source": [
    "mean_rainfall = bom_df.mean()\n",
    "print(mean_rainfall)"
   ]
  },
  {
   "cell_type": "code",
   "execution_count": null,
   "id": "c8bfcbcf",
   "metadata": {},
   "outputs": [],
   "source": [
    "pr2021 = bom_ds['pr'].values.max()\n",
    "print(pr2021)"
   ]
  },
  {
   "cell_type": "code",
   "execution_count": null,
   "id": "527ce770",
   "metadata": {
    "execution": {
     "iopub.execute_input": "2022-01-31T05:22:46.601432Z",
     "iopub.status.busy": "2022-01-31T05:22:46.600390Z",
     "iopub.status.idle": "2022-01-31T05:22:46.607862Z",
     "shell.execute_reply": "2022-01-31T05:22:46.606555Z"
    },
    "papermill": {
     "duration": 0.09872,
     "end_time": "2022-01-31T05:22:46.608237",
     "exception": false,
     "start_time": "2022-01-31T05:22:46.509517",
     "status": "completed"
    },
    "tags": []
   },
   "outputs": [],
   "source": [
    "ranked_years = bom_df['pr'].sort_values(ascending=False)\n",
    "ranked_years.head(n=10)"
   ]
  },
  {
   "cell_type": "code",
   "execution_count": null,
   "id": "e31dba77",
   "metadata": {},
   "outputs": [],
   "source": [
    "bom_gev_shape, bom_gev_loc, bom_gev_scale = indices.fit_gev(bom_df['pr'].values)\n",
    "print(f'Shape parameter: {bom_gev_shape:.2f}')\n",
    "print(f'Location parameter: {bom_gev_loc:.2f}')\n",
    "print(f'Scale parameter: {bom_gev_scale:.2f}')"
   ]
  },
  {
   "cell_type": "code",
   "execution_count": null,
   "id": "806ebb06",
   "metadata": {},
   "outputs": [],
   "source": [
    "fig, ax = plt.subplots(figsize=[10, 8])\n",
    "gev_xvals = np.arange(0, 120)\n",
    "bom_df['pr'].plot.hist(bins=40, density=True, color='tab:green', alpha=0.5)\n",
    "bom_gev_pdf = gev.pdf(gev_xvals, bom_gev_shape, bom_gev_loc, bom_gev_scale)\n",
    "plt.plot(gev_xvals, bom_gev_pdf, color='tab:green', linewidth=4.0)\n",
    "plt.show()"
   ]
  },
  {
   "cell_type": "code",
   "execution_count": null,
   "id": "2b8059b4",
   "metadata": {},
   "outputs": [],
   "source": [
    "for sample_size in [1000, 5000, 10000, 50000, 100000, 500000]:\n",
    "    bom_gev_data = gev.rvs(bom_gev_shape, loc=bom_gev_loc, scale=bom_gev_scale, size=sample_size)\n",
    "    bom_percentile, bom_return_period = general_utils.event_in_context(bom_gev_data, pr2021, 'above')\n",
    "    print(f'Sample size: {sample_size}')\n",
    "    print(f'{bom_percentile:.2f}% percentile')\n",
    "    print(f'{bom_return_period:.0f} year return period\\n')"
   ]
  },
  {
   "cell_type": "markdown",
   "id": "51274b2c",
   "metadata": {},
   "source": [
    "Accordining to a GEV fitted to the observations, the event is in the 98th percentile with a 60-70 year return period."
   ]
  },
  {
   "cell_type": "markdown",
   "id": "d082e6af",
   "metadata": {
    "papermill": {
     "duration": 0.241672,
     "end_time": "2022-01-31T05:22:53.782096",
     "exception": false,
     "start_time": "2022-01-31T05:22:53.540424",
     "status": "completed"
    },
    "tags": []
   },
   "source": [
    "## Model ensemble"
   ]
  },
  {
   "cell_type": "code",
   "execution_count": null,
   "id": "1620b927",
   "metadata": {
    "execution": {
     "iopub.execute_input": "2022-01-31T05:22:56.641573Z",
     "iopub.status.busy": "2022-01-31T05:22:56.640661Z",
     "iopub.status.idle": "2022-01-31T05:22:56.706828Z",
     "shell.execute_reply": "2022-01-31T05:22:56.705452Z"
    },
    "papermill": {
     "duration": 1.665882,
     "end_time": "2022-01-31T05:22:56.707312",
     "exception": false,
     "start_time": "2022-01-31T05:22:55.041430",
     "status": "completed"
    },
    "tags": []
   },
   "outputs": [],
   "source": [
    "model_ds = fileio.open_dataset(model_file)\n",
    "model_bc_ds = fileio.open_dataset(model_bc_file)"
   ]
  },
  {
   "cell_type": "code",
   "execution_count": null,
   "id": "b3d4100a",
   "metadata": {},
   "outputs": [],
   "source": [
    "model_ds"
   ]
  },
  {
   "cell_type": "markdown",
   "id": "b25bd815",
   "metadata": {
    "papermill": {
     "duration": 0.074501,
     "end_time": "2022-01-31T05:23:03.290162",
     "exception": false,
     "start_time": "2022-01-31T05:23:03.215661",
     "status": "completed"
    },
    "tags": []
   },
   "source": [
    "### Independence testing"
   ]
  },
  {
   "cell_type": "code",
   "execution_count": null,
   "id": "b819d698",
   "metadata": {
    "execution": {
     "iopub.execute_input": "2022-01-31T05:23:03.663804Z",
     "iopub.status.busy": "2022-01-31T05:23:03.662951Z",
     "iopub.status.idle": "2022-01-31T05:23:03.674794Z",
     "shell.execute_reply": "2022-01-31T05:23:03.673559Z"
    },
    "papermill": {
     "duration": 0.309888,
     "end_time": "2022-01-31T05:23:03.675057",
     "exception": false,
     "start_time": "2022-01-31T05:23:03.365169",
     "status": "completed"
    },
    "tags": []
   },
   "outputs": [],
   "source": [
    "Image(filename=independence_plot)"
   ]
  },
  {
   "cell_type": "code",
   "execution_count": null,
   "id": "a5ccabe2",
   "metadata": {},
   "outputs": [],
   "source": [
    "print(min_lead)"
   ]
  },
  {
   "cell_type": "code",
   "execution_count": null,
   "id": "e055048c",
   "metadata": {},
   "outputs": [],
   "source": [
    "model_da = model_ds['pr'].where(model_ds['lead_time'] >= min_lead)"
   ]
  },
  {
   "cell_type": "markdown",
   "id": "1e039e61",
   "metadata": {
    "papermill": {
     "duration": 0.08559,
     "end_time": "2022-01-31T05:22:57.797438",
     "exception": false,
     "start_time": "2022-01-31T05:22:57.711848",
     "status": "completed"
    },
    "tags": []
   },
   "source": [
    "### Bias correction and similarity testing"
   ]
  },
  {
   "cell_type": "code",
   "execution_count": null,
   "id": "110c554e",
   "metadata": {
    "execution": {
     "iopub.execute_input": "2022-01-31T05:22:58.015981Z",
     "iopub.status.busy": "2022-01-31T05:22:58.007523Z",
     "iopub.status.idle": "2022-01-31T05:23:00.997391Z",
     "shell.execute_reply": "2022-01-31T05:23:00.996458Z"
    },
    "papermill": {
     "duration": 3.091335,
     "end_time": "2022-01-31T05:23:00.997634",
     "exception": false,
     "start_time": "2022-01-31T05:22:57.906299",
     "status": "completed"
    },
    "tags": []
   },
   "outputs": [],
   "source": [
    "fig = plt.figure(figsize=[10, 6])\n",
    "model_da.plot.hist(bins=50, density=True, label=model_name, alpha=0.7)\n",
    "model_bc_ds['pr'].plot.hist(bins=50, density=True, label=f'{model_name} bias corrected', facecolor='darkblue', alpha=0.7)\n",
    "bom_ds['pr'].plot.hist(bins=50, density=True, label='BoM', facecolor='green', alpha=0.7)\n",
    "plt.xlabel('precipitation (mm)')\n",
    "plt.ylabel('probability')\n",
    "plt.title(f'November rainfall for Australia ({model_name})')\n",
    "plt.legend()\n",
    "plt.savefig(f'/g/data/xv83/dbi599/nov-rain/figures/nov_precip_histogram_aus_{model_name}.png',\n",
    "            bbox_inches='tight', facecolor='white', dpi=dpi)\n",
    "plt.show()"
   ]
  },
  {
   "cell_type": "code",
   "execution_count": null,
   "id": "8b3f7de0",
   "metadata": {
    "execution": {
     "iopub.execute_input": "2022-01-31T05:23:01.251647Z",
     "iopub.status.busy": "2022-01-31T05:23:01.250753Z",
     "iopub.status.idle": "2022-01-31T05:23:01.268511Z",
     "shell.execute_reply": "2022-01-31T05:23:01.267481Z"
    },
    "papermill": {
     "duration": 0.192347,
     "end_time": "2022-01-31T05:23:01.268747",
     "exception": false,
     "start_time": "2022-01-31T05:23:01.076400",
     "status": "completed"
    },
    "tags": []
   },
   "outputs": [],
   "source": [
    "similarity_bias_ds = fileio.open_dataset(similarity_bc_file)\n",
    "similarity_bias_ds['pval'].values"
   ]
  },
  {
   "cell_type": "code",
   "execution_count": null,
   "id": "a21af1f7",
   "metadata": {
    "execution": {
     "iopub.execute_input": "2022-01-31T05:23:02.429065Z",
     "iopub.status.busy": "2022-01-31T05:23:02.419174Z",
     "iopub.status.idle": "2022-01-31T05:23:02.445239Z",
     "shell.execute_reply": "2022-01-31T05:23:02.444328Z"
    },
    "papermill": {
     "duration": 0.360292,
     "end_time": "2022-01-31T05:23:02.445497",
     "exception": false,
     "start_time": "2022-01-31T05:23:02.085205",
     "status": "completed"
    },
    "tags": []
   },
   "outputs": [],
   "source": [
    "similarity_raw_ds = fileio.open_dataset(similarity_raw_file)\n",
    "similarity_raw_ds['pval'].values"
   ]
  },
  {
   "cell_type": "markdown",
   "id": "1a8210c0",
   "metadata": {
    "papermill": {
     "duration": 0.114041,
     "end_time": "2022-01-31T05:23:03.142858",
     "exception": false,
     "start_time": "2022-01-31T05:23:03.028817",
     "status": "completed"
    },
    "tags": []
   },
   "source": [
    "These are the p-values for each lead time.\n",
    "\n",
    "p > 0.05 means the null hypothesis (that the two samples are from the same population) can't be rejected."
   ]
  },
  {
   "cell_type": "markdown",
   "id": "692c7b58",
   "metadata": {
    "papermill": {
     "duration": 0.960718,
     "end_time": "2022-01-31T05:23:04.747819",
     "exception": false,
     "start_time": "2022-01-31T05:23:03.787101",
     "status": "completed"
    },
    "tags": []
   },
   "source": [
    "### Exceedance curves"
   ]
  },
  {
   "cell_type": "code",
   "execution_count": null,
   "id": "76186045",
   "metadata": {},
   "outputs": [],
   "source": [
    "def plot_exceedance(sample_ds, model_name):\n",
    "    \"\"\"Plot single exceedance curve\"\"\"\n",
    "    \n",
    "    sorted_data, exceedance_data = general_utils.exceedance_curve(sample_ds)\n",
    "    \n",
    "    fig = plt.figure(figsize=[8, 6])\n",
    "    ax = fig.add_subplot()\n",
    "    ax.plot(sorted_data, exceedance_data)\n",
    "    ax.set_title(f'November rainfall for Australia ({model_name})')\n",
    "    ax.set_ylabel('likelihood of exceedance (%)')\n",
    "    ax.set_xlabel('monthly precipitation (mm)')\n",
    "    ax.axvline(pr2021, color='0.5', linestyle='--')\n",
    "    outfile = f'/g/data/xv83/dbi599/nov-rain/figures/nov_precip_exceedence_aus_{model_name}.png'\n",
    "    plt.savefig(outfile, bbox_inches='tight', facecolor='white', dpi=dpi)\n",
    "    print(outfile)"
   ]
  },
  {
   "cell_type": "code",
   "execution_count": null,
   "id": "116edf55",
   "metadata": {},
   "outputs": [],
   "source": [
    "def plot_exceedance_by_decade(sample_ds, model_name):\n",
    "    \"\"\"Plot exceedance curve by decade\"\"\"\n",
    "\n",
    "    fig = plt.figure(figsize=[8, 6])\n",
    "    ax = fig.add_subplot()\n",
    "    start_years = [1960, 1970, 1980, 1990, 2000, 2010]\n",
    "    colors = iter(plt.cm.hot_r(np.linspace(0.3, 1, len(start_years))))\n",
    "\n",
    "    for start_year in start_years:\n",
    "        end_year = start_year + 9\n",
    "        start_date = f'{start_year}-01-01'\n",
    "        end_date = f'{end_year}-12-31'\n",
    "        ds_selection = time_utils.select_time_period(sample_ds, [start_date, end_date])\n",
    "        ds_selection = ds_selection.dropna('sample')\n",
    "        sorted_data, exceedance_data = general_utils.exceedance_curve(ds_selection)\n",
    "        n_years = len(sorted_data)\n",
    "        label = f'{start_year}-{end_year} ({n_years} samples)'\n",
    "        color = next(colors)\n",
    "        ax.plot(sorted_data, exceedance_data, label=label, color=color)\n",
    "    \n",
    "        print(f'{start_year}-{end_year}')\n",
    "        percentile, return_period = general_utils.event_in_context(ds_selection.values, pr2021, 'above')\n",
    "        print(f'{percentile:.2f}% percentile')\n",
    "        print(f'{return_period:.0f} year return period\\n')\n",
    "\n",
    "    ax.set_title(f'November rainfall for Australia ({model_name})')\n",
    "    ax.set_ylabel('likelihood of exceedance (%)')\n",
    "    ax.set_xlabel('monthly precipitation (mm)')\n",
    "    ax.legend()\n",
    "    ax.axvline(pr2021, color='0.5', linestyle='--')\n",
    "    outfile = f'/g/data/xv83/dbi599/nov-rain/figures/nov_precip_exceedence_aus_{model_name}_by-decade.png'\n",
    "    plt.savefig(outfile, bbox_inches='tight', facecolor='white', dpi=dpi)\n",
    "    print(outfile)"
   ]
  },
  {
   "cell_type": "markdown",
   "id": "d6a40828",
   "metadata": {},
   "source": [
    "#### Bias corrected data"
   ]
  },
  {
   "cell_type": "code",
   "execution_count": null,
   "id": "f0b0019b",
   "metadata": {
    "execution": {
     "iopub.execute_input": "2022-01-31T05:23:05.063998Z",
     "iopub.status.busy": "2022-01-31T05:23:05.056212Z",
     "iopub.status.idle": "2022-01-31T05:23:05.072751Z",
     "shell.execute_reply": "2022-01-31T05:23:05.071389Z"
    },
    "papermill": {
     "duration": 0.239809,
     "end_time": "2022-01-31T05:23:05.073135",
     "exception": false,
     "start_time": "2022-01-31T05:23:04.833326",
     "status": "completed"
    },
    "tags": []
   },
   "outputs": [],
   "source": [
    "model_bc_da_stacked = model_bc_ds.dropna('lead_time')['pr'].stack({'sample': ['ensemble', 'init_date', 'lead_time']})"
   ]
  },
  {
   "cell_type": "code",
   "execution_count": null,
   "id": "7d4fdc9e",
   "metadata": {
    "execution": {
     "iopub.execute_input": "2022-01-31T05:23:06.076750Z",
     "iopub.status.busy": "2022-01-31T05:23:06.075497Z",
     "iopub.status.idle": "2022-01-31T05:23:06.081976Z",
     "shell.execute_reply": "2022-01-31T05:23:06.080857Z"
    },
    "papermill": {
     "duration": 0.476534,
     "end_time": "2022-01-31T05:23:06.082296",
     "exception": false,
     "start_time": "2022-01-31T05:23:05.605762",
     "status": "completed"
    },
    "tags": []
   },
   "outputs": [],
   "source": [
    "model_bc_da_stacked.shape"
   ]
  },
  {
   "cell_type": "code",
   "execution_count": null,
   "id": "59075ebb",
   "metadata": {},
   "outputs": [],
   "source": [
    "plot_exceedance(model_bc_da_stacked, model_name)"
   ]
  },
  {
   "cell_type": "code",
   "execution_count": null,
   "id": "7789699c",
   "metadata": {},
   "outputs": [],
   "source": [
    "plot_exceedance_by_decade(model_bc_da_stacked, model_name)"
   ]
  },
  {
   "cell_type": "code",
   "execution_count": null,
   "id": "39e4acf0",
   "metadata": {
    "papermill": {
     "duration": 0.10017,
     "end_time": "2022-01-31T05:43:10.778462",
     "exception": false,
     "start_time": "2022-01-31T05:43:10.678292",
     "status": "completed"
    },
    "tags": []
   },
   "outputs": [],
   "source": [
    "percentile_bc, return_period_bc = general_utils.event_in_context(model_bc_da_stacked.values, pr2021, 'above')\n",
    "print('BIAS CORRECTED DATA')\n",
    "print(f'{percentile_bc:.2f}% percentile')\n",
    "print(f'{return_period_bc:.0f} year return period')"
   ]
  },
  {
   "cell_type": "markdown",
   "id": "c6a2c14c",
   "metadata": {},
   "source": [
    "#### Raw data"
   ]
  },
  {
   "cell_type": "code",
   "execution_count": null,
   "id": "6b40107c",
   "metadata": {},
   "outputs": [],
   "source": [
    "model_da_stacked = model_da.dropna('lead_time').stack({'sample': ['ensemble', 'init_date', 'lead_time']})"
   ]
  },
  {
   "cell_type": "code",
   "execution_count": null,
   "id": "10aaf4a0",
   "metadata": {},
   "outputs": [],
   "source": [
    "model_da_stacked.shape"
   ]
  },
  {
   "cell_type": "code",
   "execution_count": null,
   "id": "cb75fa43",
   "metadata": {},
   "outputs": [],
   "source": [
    "plot_exceedance(model_da_stacked, model_name)"
   ]
  },
  {
   "cell_type": "code",
   "execution_count": null,
   "id": "89138fa6",
   "metadata": {},
   "outputs": [],
   "source": [
    "percentile, return_period = general_utils.event_in_context(model_da_stacked.values, pr2021, 'above')\n",
    "print('RAW DATA')\n",
    "print(f'{percentile:.2f}% percentile')\n",
    "print(f'{return_period:.0f} year return period')"
   ]
  },
  {
   "cell_type": "code",
   "execution_count": null,
   "id": "cbfda751",
   "metadata": {},
   "outputs": [],
   "source": []
  }
 ],
 "metadata": {
  "kernelspec": {
   "display_name": "Python 3",
   "language": "python",
   "name": "python3"
  },
  "language_info": {
   "codemirror_mode": {
    "name": "ipython",
    "version": 3
   },
   "file_extension": ".py",
   "mimetype": "text/x-python",
   "name": "python",
   "nbconvert_exporter": "python",
   "pygments_lexer": "ipython3",
   "version": "3.9.4"
  },
  "papermill": {
   "default_parameters": {},
   "duration": 1273.94372,
   "end_time": "2022-01-31T05:43:11.797334",
   "environment_variables": {},
   "exception": null,
   "input_path": "ag_analysis.ipynb",
   "output_path": "ag_analysis_all.ipynb",
   "parameters": {
    "agcd_file": "/g/data/xv83/dbi599/ag/data/pr_agcd_1900-2019_A-DEC_wheat-sheep-mean.zarr.zip",
    "cafe_bc_file": "/g/data/xv83/dbi599/ag/data/pr_cafe-c5-d60-pX-f6_19950501-20191101_A-DEC_wheat-sheep-mean_bias-corrected-agcd-additive.zarr.zip",
    "cafe_file": "/g/data/xv83/dbi599/ag/data/pr_cafe-c5-d60-pX-f6_19950501-20201101_A-DEC_wheat-sheep-mean.zarr.zip",
    "fidelity_file": "/g/data/xv83/dbi599/ag/data/ks-test_pr_cafe-c5-d60-pX-f6_19950501-20191101_A-DEC_wheat-sheep-mean_bias-corrected-agcd-additive.zarr.zip",
    "independence_plot": "/g/data/xv83/dbi599/ag/figures/independence-test_pr_cafe-c5-d60-pX-f6_19950501-20191101_A-DEC_wheat-sheep-all-mean_bias-corrected-agcd-additive.png",
    "region": "all"
   },
   "start_time": "2022-01-31T05:21:57.853614",
   "version": "2.3.3"
  }
 },
 "nbformat": 4,
 "nbformat_minor": 5
}
