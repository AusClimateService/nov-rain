{
 "cells": [
  {
   "cell_type": "markdown",
   "id": "4d047299",
   "metadata": {
    "papermill": {
     "duration": 0.056757,
     "end_time": "2022-03-09T00:06:51.398335",
     "exception": false,
     "start_time": "2022-03-09T00:06:51.341578",
     "status": "completed"
    },
    "tags": []
   },
   "source": [
    "# November rain\n",
    "\n",
    "November 2021 was the wettest November on record for Australia."
   ]
  },
  {
   "cell_type": "code",
   "execution_count": 1,
   "id": "95569a41",
   "metadata": {
    "execution": {
     "iopub.execute_input": "2022-03-09T00:06:51.508941Z",
     "iopub.status.busy": "2022-03-09T00:06:51.504489Z",
     "iopub.status.idle": "2022-03-09T00:07:03.018774Z",
     "shell.execute_reply": "2022-03-09T00:07:03.017738Z"
    },
    "papermill": {
     "duration": 11.574576,
     "end_time": "2022-03-09T00:07:03.019083",
     "exception": false,
     "start_time": "2022-03-09T00:06:51.444507",
     "status": "completed"
    },
    "tags": []
   },
   "outputs": [],
   "source": [
    "import os\n",
    "\n",
    "import matplotlib.pyplot as plt\n",
    "import pandas as pd\n",
    "import numpy as np\n",
    "from IPython.display import Image\n",
    "from scipy.stats import genextreme as gev\n",
    "\n",
    "from unseen import fileio\n",
    "from unseen import general_utils\n",
    "from unseen import indices\n",
    "from unseen import time_utils"
   ]
  },
  {
   "cell_type": "code",
   "execution_count": 2,
   "id": "56e9e0ab",
   "metadata": {
    "execution": {
     "iopub.execute_input": "2022-03-09T00:07:03.126567Z",
     "iopub.status.busy": "2022-03-09T00:07:03.124983Z",
     "iopub.status.idle": "2022-03-09T00:07:03.132210Z",
     "shell.execute_reply": "2022-03-09T00:07:03.130689Z"
    },
    "papermill": {
     "duration": 0.063874,
     "end_time": "2022-03-09T00:07:03.132555",
     "exception": false,
     "start_time": "2022-03-09T00:07:03.068681",
     "status": "completed"
    },
    "tags": [
     "parameters"
    ]
   },
   "outputs": [],
   "source": [
    "# Optional parameters \n",
    "# (This cell is tagged \"parameters\")\n",
    "dpi = 300"
   ]
  },
  {
   "cell_type": "code",
   "execution_count": 3,
   "id": "3c13ad7b",
   "metadata": {
    "execution": {
     "iopub.execute_input": "2022-03-09T00:07:03.233227Z",
     "iopub.status.busy": "2022-03-09T00:07:03.231691Z",
     "iopub.status.idle": "2022-03-09T00:07:03.238782Z",
     "shell.execute_reply": "2022-03-09T00:07:03.237318Z"
    },
    "papermill": {
     "duration": 0.062879,
     "end_time": "2022-03-09T00:07:03.239169",
     "exception": false,
     "start_time": "2022-03-09T00:07:03.176290",
     "status": "completed"
    },
    "tags": [
     "injected-parameters"
    ]
   },
   "outputs": [],
   "source": [
    "# Parameters\n",
    "bom_file = \"/g/data/xv83/dbi599/nov-rain/data/pr_BoM_1900-2021_nov_aus-mean.nc\"\n",
    "model_file = \"/g/data/xv83/dbi599/nov-rain/data/pr_BCC-CSM2-MR-dcppA-hindcast_196101-201401_nov_aus-mean.zarr.zip\"\n",
    "model_bc_file = \"/g/data/xv83/dbi599/nov-rain/data/pr_BCC-CSM2-MR-dcppA-hindcast_196101-201401_nov_aus-mean_bias-corrected-BoM-multiplicative.zarr.zip\"\n",
    "similarity_bc_file = \"/g/data/xv83/dbi599/nov-rain/data/ks-test_pr_BCC-CSM2-MR-dcppA-hindcast_1961-2014_nov_aus-mean_bias-corrected-BoM-multiplicative.zarr.zip\"\n",
    "similarity_raw_file = \"/g/data/xv83/dbi599/nov-rain/data/ks-test_pr_BCC-CSM2-MR-dcppA-hindcast_1961-2014_nov_aus-mean_BoM.zarr.zip\"\n",
    "independence_plot = \"/g/data/xv83/dbi599/nov-rain/figures/independence-test_pr_BCC-CSM2-MR-dcppA-hindcast_196101-201401_nov_aus-mean.png\"\n",
    "model_name = \"BCC-CSM2-MR\"\n",
    "min_lead = 1\n"
   ]
  },
  {
   "cell_type": "code",
   "execution_count": 4,
   "id": "b9787631",
   "metadata": {
    "execution": {
     "iopub.execute_input": "2022-03-09T00:07:03.343230Z",
     "iopub.status.busy": "2022-03-09T00:07:03.341811Z",
     "iopub.status.idle": "2022-03-09T00:07:03.351299Z",
     "shell.execute_reply": "2022-03-09T00:07:03.349658Z"
    },
    "papermill": {
     "duration": 0.066442,
     "end_time": "2022-03-09T00:07:03.351714",
     "exception": false,
     "start_time": "2022-03-09T00:07:03.285272",
     "status": "completed"
    },
    "tags": []
   },
   "outputs": [],
   "source": [
    "# Required parameters\n",
    "assert 'model_name' in locals(), \"Must provide a model name\"\n",
    "assert 'min_lead' in locals(), \"Must provide a minimum lead time\"\n",
    "assert os.path.isfile(bom_file), \"Must provide an BoM data file (papermill option -p agcd_file [filepath])\"\n",
    "assert os.path.isfile(model_file), \"Must provide an model data file (papermill option -p cafe_file [filepath])\"\n",
    "assert os.path.isfile(model_bc_file), \"Must provide a model bias corrected data file (papermill option -p cafe_bc_file [filepath])\"\n",
    "assert os.path.isfile(similarity_bc_file), \"Must provide an bias corrected similarity test file (papermill option -p similarity_bias_file [filepath])\"\n",
    "assert os.path.isfile(similarity_raw_file), \"Must provide an raw data similarity test file (papermill option -p similarity_raw_file [filepath])\"\n",
    "assert os.path.isfile(independence_plot), \"Must provide an independence test plot (papermill option -p independence_plot [filepath])\""
   ]
  },
  {
   "cell_type": "markdown",
   "id": "5c8da4f2",
   "metadata": {
    "papermill": {
     "duration": 0.053976,
     "end_time": "2022-03-09T00:07:03.455632",
     "exception": false,
     "start_time": "2022-03-09T00:07:03.401656",
     "status": "completed"
    },
    "tags": []
   },
   "source": [
    "## Observations"
   ]
  },
  {
   "cell_type": "code",
   "execution_count": 5,
   "id": "d80b0c20",
   "metadata": {
    "execution": {
     "iopub.execute_input": "2022-03-09T00:07:03.560039Z",
     "iopub.status.busy": "2022-03-09T00:07:03.559033Z",
     "iopub.status.idle": "2022-03-09T00:07:03.580959Z",
     "shell.execute_reply": "2022-03-09T00:07:03.579350Z"
    },
    "papermill": {
     "duration": 0.076268,
     "end_time": "2022-03-09T00:07:03.581413",
     "exception": false,
     "start_time": "2022-03-09T00:07:03.505145",
     "status": "completed"
    },
    "tags": []
   },
   "outputs": [
    {
     "data": {
      "image/png": "[encoded data removed]",
      "text/plain": [
       "<IPython.core.display.Image object>"
      ]
     },
     "execution_count": 5,
     "metadata": {},
     "output_type": "execute_result"
    }
   ],
   "source": [
    "Image(filename='/home/599/dbi599/nov-rain/analysis/pr_BoM_1900-2021_nov_aus-mean.png')"
   ]
  },
  {
   "cell_type": "code",
   "execution_count": 6,
   "id": "f40952f6",
   "metadata": {
    "execution": {
     "iopub.execute_input": "2022-03-09T00:07:03.691070Z",
     "iopub.status.busy": "2022-03-09T00:07:03.689551Z",
     "iopub.status.idle": "2022-03-09T00:07:03.870539Z",
     "shell.execute_reply": "2022-03-09T00:07:03.869757Z"
    },
    "papermill": {
     "duration": 0.237167,
     "end_time": "2022-03-09T00:07:03.870825",
     "exception": false,
     "start_time": "2022-03-09T00:07:03.633658",
     "status": "completed"
    },
    "tags": []
   },
   "outputs": [],
   "source": [
    "bom_ds = fileio.open_dataset(bom_file)"
   ]
  },
  {
   "cell_type": "code",
   "execution_count": 7,
   "id": "1493ff0f",
   "metadata": {
    "execution": {
     "iopub.execute_input": "2022-03-09T00:07:03.994471Z",
     "iopub.status.busy": "2022-03-09T00:07:03.992495Z",
     "iopub.status.idle": "2022-03-09T00:07:04.011506Z",
     "shell.execute_reply": "2022-03-09T00:07:04.012155Z"
    },
    "papermill": {
     "duration": 0.090886,
     "end_time": "2022-03-09T00:07:04.012459",
     "exception": false,
     "start_time": "2022-03-09T00:07:03.921573",
     "status": "completed"
    },
    "tags": []
   },
   "outputs": [
    {
     "data": {
      "text/html": [
       "<div><svg style=\"position: absolute; width: 0; height: 0; overflow: hidden\">\n",
       "<defs>\n",
       "<symbol id=\"icon-database\" viewBox=\"0 0 32 32\">\n",
       "<path d=\"M16 0c-8.837 0-16 2.239-16 5v4c0 2.761 7.163 5 16 5s16-2.239 16-5v-4c0-2.761-7.163-5-16-5z\"></path>\n",
       "<path d=\"M16 17c-8.837 0-16-2.239-16-5v6c0 2.761 7.163 5 16 5s16-2.239 16-5v-6c0 2.761-7.163 5-16 5z\"></path>\n",
       "<path d=\"M16 26c-8.837 0-16-2.239-16-5v6c0 2.761 7.163 5 16 5s16-2.239 16-5v-6c0 2.761-7.163 5-16 5z\"></path>\n",
       "</symbol>\n",
       "<symbol id=\"icon-file-text2\" viewBox=\"0 0 32 32\">\n",
       "<path d=\"M28.681 7.159c-0.694-0.947-1.662-2.053-2.724-3.116s-2.169-2.030-3.116-2.724c-1.612-1.182-2.393-1.319-2.841-1.319h-15.5c-1.378 0-2.5 1.121-2.5 2.5v27c0 1.378 1.122 2.5 2.5 2.5h23c1.378 0 2.5-1.122 2.5-2.5v-19.5c0-0.448-0.137-1.23-1.319-2.841zM24.543 5.457c0.959 0.959 1.712 1.825 2.268 2.543h-4.811v-4.811c0.718 0.556 1.584 1.309 2.543 2.268zM28 29.5c0 0.271-0.229 0.5-0.5 0.5h-23c-0.271 0-0.5-0.229-0.5-0.5v-27c0-0.271 0.229-0.5 0.5-0.5 0 0 15.499-0 15.5 0v7c0 0.552 0.448 1 1 1h7v19.5z\"></path>\n",
       "<path d=\"M23 26h-14c-0.552 0-1-0.448-1-1s0.448-1 1-1h14c0.552 0 1 0.448 1 1s-0.448 1-1 1z\"></path>\n",
       "<path d=\"M23 22h-14c-0.552 0-1-0.448-1-1s0.448-1 1-1h14c0.552 0 1 0.448 1 1s-0.448 1-1 1z\"></path>\n",
       "<path d=\"M23 18h-14c-0.552 0-1-0.448-1-1s0.448-1 1-1h14c0.552 0 1 0.448 1 1s-0.448 1-1 1z\"></path>\n",
       "</symbol>\n",
       "</defs>\n",
       "</svg>\n",
       "<style>/* CSS stylesheet for displaying xarray objects in jupyterlab.\n",
       " *\n",
       " */\n",
       "\n",
       ":root {\n",
       "  --xr-font-color0: var(--jp-content-font-color0, rgba(0, 0, 0, 1));\n",
       "  --xr-font-color2: var(--jp-content-font-color2, rgba(0, 0, 0, 0.54));\n",
       "  --xr-font-color3: var(--jp-content-font-color3, rgba(0, 0, 0, 0.38));\n",
       "  --xr-border-color: var(--jp-border-color2, #e0e0e0);\n",
       "  --xr-disabled-color: var(--jp-layout-color3, #bdbdbd);\n",
       "  --xr-background-color: var(--jp-layout-color0, white);\n",
       "  --xr-background-color-row-even: var(--jp-layout-color1, white);\n",
       "  --xr-background-color-row-odd: var(--jp-layout-color2, #eeeeee);\n",
       "}\n",
       "\n",
       "html[theme=dark],\n",
       "body.vscode-dark {\n",
       "  --xr-font-color0: rgba(255, 255, 255, 1);\n",
       "  --xr-font-color2: rgba(255, 255, 255, 0.54);\n",
       "  --xr-font-color3: rgba(255, 255, 255, 0.38);\n",
       "  --xr-border-color: #1F1F1F;\n",
       "  --xr-disabled-color: #515151;\n",
       "  --xr-background-color: #111111;\n",
       "  --xr-background-color-row-even: #111111;\n",
       "  --xr-background-color-row-odd: #313131;\n",
       "}\n",
       "\n",
       ".xr-wrap {\n",
       "  display: block;\n",
       "  min-width: 300px;\n",
       "  max-width: 700px;\n",
       "}\n",
       "\n",
       ".xr-text-repr-fallback {\n",
       "  /* fallback to plain text repr when CSS is not injected (untrusted notebook) */\n",
       "  display: none;\n",
       "}\n",
       "\n",
       ".xr-header {\n",
       "  padding-top: 6px;\n",
       "  padding-bottom: 6px;\n",
       "  margin-bottom: 4px;\n",
       "  border-bottom: solid 1px var(--xr-border-color);\n",
       "}\n",
       "\n",
       ".xr-header > div,\n",
       ".xr-header > ul {\n",
       "  display: inline;\n",
       "  margin-top: 0;\n",
       "  margin-bottom: 0;\n",
       "}\n",
       "\n",
       ".xr-obj-type,\n",
       ".xr-array-name {\n",
       "  margin-left: 2px;\n",
       "  margin-right: 10px;\n",
       "}\n",
       "\n",
       ".xr-obj-type {\n",
       "  color: var(--xr-font-color2);\n",
       "}\n",
       "\n",
       ".xr-sections {\n",
       "  padding-left: 0 !important;\n",
       "  display: grid;\n",
       "  grid-template-columns: 150px auto auto 1fr 20px 20px;\n",
       "}\n",
       "\n",
       ".xr-section-item {\n",
       "  display: contents;\n",
       "}\n",
       "\n",
       ".xr-section-item input {\n",
       "  display: none;\n",
       "}\n",
       "\n",
       ".xr-section-item input + label {\n",
       "  color: var(--xr-disabled-color);\n",
       "}\n",
       "\n",
       ".xr-section-item input:enabled + label {\n",
       "  cursor: pointer;\n",
       "  color: var(--xr-font-color2);\n",
       "}\n",
       "\n",
       ".xr-section-item input:enabled + label:hover {\n",
       "  color: var(--xr-font-color0);\n",
       "}\n",
       "\n",
       ".xr-section-summary {\n",
       "  grid-column: 1;\n",
       "  color: var(--xr-font-color2);\n",
       "  font-weight: 500;\n",
       "}\n",
       "\n",
       ".xr-section-summary > span {\n",
       "  display: inline-block;\n",
       "  padding-left: 0.5em;\n",
       "}\n",
       "\n",
       ".xr-section-summary-in:disabled + label {\n",
       "  color: var(--xr-font-color2);\n",
       "}\n",
       "\n",
       ".xr-section-summary-in + label:before {\n",
       "  display: inline-block;\n",
       "  content: '►';\n",
       "  font-size: 11px;\n",
       "  width: 15px;\n",
       "  text-align: center;\n",
       "}\n",
       "\n",
       ".xr-section-summary-in:disabled + label:before {\n",
       "  color: var(--xr-disabled-color);\n",
       "}\n",
       "\n",
       ".xr-section-summary-in:checked + label:before {\n",
       "  content: '▼';\n",
       "}\n",
       "\n",
       ".xr-section-summary-in:checked + label > span {\n",
       "  display: none;\n",
       "}\n",
       "\n",
       ".xr-section-summary,\n",
       ".xr-section-inline-details {\n",
       "  padding-top: 4px;\n",
       "  padding-bottom: 4px;\n",
       "}\n",
       "\n",
       ".xr-section-inline-details {\n",
       "  grid-column: 2 / -1;\n",
       "}\n",
       "\n",
       ".xr-section-details {\n",
       "  display: none;\n",
       "  grid-column: 1 / -1;\n",
       "  margin-bottom: 5px;\n",
       "}\n",
       "\n",
       ".xr-section-summary-in:checked ~ .xr-section-details {\n",
       "  display: contents;\n",
       "}\n",
       "\n",
       ".xr-array-wrap {\n",
       "  grid-column: 1 / -1;\n",
       "  display: grid;\n",
       "  grid-template-columns: 20px auto;\n",
       "}\n",
       "\n",
       ".xr-array-wrap > label {\n",
       "  grid-column: 1;\n",
       "  vertical-align: top;\n",
       "}\n",
       "\n",
       ".xr-preview {\n",
       "  color: var(--xr-font-color3);\n",
       "}\n",
       "\n",
       ".xr-array-preview,\n",
       ".xr-array-data {\n",
       "  padding: 0 5px !important;\n",
       "  grid-column: 2;\n",
       "}\n",
       "\n",
       ".xr-array-data,\n",
       ".xr-array-in:checked ~ .xr-array-preview {\n",
       "  display: none;\n",
       "}\n",
       "\n",
       ".xr-array-in:checked ~ .xr-array-data,\n",
       ".xr-array-preview {\n",
       "  display: inline-block;\n",
       "}\n",
       "\n",
       ".xr-dim-list {\n",
       "  display: inline-block !important;\n",
       "  list-style: none;\n",
       "  padding: 0 !important;\n",
       "  margin: 0;\n",
       "}\n",
       "\n",
       ".xr-dim-list li {\n",
       "  display: inline-block;\n",
       "  padding: 0;\n",
       "  margin: 0;\n",
       "}\n",
       "\n",
       ".xr-dim-list:before {\n",
       "  content: '(';\n",
       "}\n",
       "\n",
       ".xr-dim-list:after {\n",
       "  content: ')';\n",
       "}\n",
       "\n",
       ".xr-dim-list li:not(:last-child):after {\n",
       "  content: ',';\n",
       "  padding-right: 5px;\n",
       "}\n",
       "\n",
       ".xr-has-index {\n",
       "  font-weight: bold;\n",
       "}\n",
       "\n",
       ".xr-var-list,\n",
       ".xr-var-item {\n",
       "  display: contents;\n",
       "}\n",
       "\n",
       ".xr-var-item > div,\n",
       ".xr-var-item label,\n",
       ".xr-var-item > .xr-var-name span {\n",
       "  background-color: var(--xr-background-color-row-even);\n",
       "  margin-bottom: 0;\n",
       "}\n",
       "\n",
       ".xr-var-item > .xr-var-name:hover span {\n",
       "  padding-right: 5px;\n",
       "}\n",
       "\n",
       ".xr-var-list > li:nth-child(odd) > div,\n",
       ".xr-var-list > li:nth-child(odd) > label,\n",
       ".xr-var-list > li:nth-child(odd) > .xr-var-name span {\n",
       "  background-color: var(--xr-background-color-row-odd);\n",
       "}\n",
       "\n",
       ".xr-var-name {\n",
       "  grid-column: 1;\n",
       "}\n",
       "\n",
       ".xr-var-dims {\n",
       "  grid-column: 2;\n",
       "}\n",
       "\n",
       ".xr-var-dtype {\n",
       "  grid-column: 3;\n",
       "  text-align: right;\n",
       "  color: var(--xr-font-color2);\n",
       "}\n",
       "\n",
       ".xr-var-preview {\n",
       "  grid-column: 4;\n",
       "}\n",
       "\n",
       ".xr-var-name,\n",
       ".xr-var-dims,\n",
       ".xr-var-dtype,\n",
       ".xr-preview,\n",
       ".xr-attrs dt {\n",
       "  white-space: nowrap;\n",
       "  overflow: hidden;\n",
       "  text-overflow: ellipsis;\n",
       "  padding-right: 10px;\n",
       "}\n",
       "\n",
       ".xr-var-name:hover,\n",
       ".xr-var-dims:hover,\n",
       ".xr-var-dtype:hover,\n",
       ".xr-attrs dt:hover {\n",
       "  overflow: visible;\n",
       "  width: auto;\n",
       "  z-index: 1;\n",
       "}\n",
       "\n",
       ".xr-var-attrs,\n",
       ".xr-var-data {\n",
       "  display: none;\n",
       "  background-color: var(--xr-background-color) !important;\n",
       "  padding-bottom: 5px !important;\n",
       "}\n",
       "\n",
       ".xr-var-attrs-in:checked ~ .xr-var-attrs,\n",
       ".xr-var-data-in:checked ~ .xr-var-data {\n",
       "  display: block;\n",
       "}\n",
       "\n",
       ".xr-var-data > table {\n",
       "  float: right;\n",
       "}\n",
       "\n",
       ".xr-var-name span,\n",
       ".xr-var-data,\n",
       ".xr-attrs {\n",
       "  padding-left: 25px !important;\n",
       "}\n",
       "\n",
       ".xr-attrs,\n",
       ".xr-var-attrs,\n",
       ".xr-var-data {\n",
       "  grid-column: 1 / -1;\n",
       "}\n",
       "\n",
       "dl.xr-attrs {\n",
       "  padding: 0;\n",
       "  margin: 0;\n",
       "  display: grid;\n",
       "  grid-template-columns: 125px auto;\n",
       "}\n",
       "\n",
       ".xr-attrs dt,\n",
       ".xr-attrs dd {\n",
       "  padding: 0;\n",
       "  margin: 0;\n",
       "  float: left;\n",
       "  padding-right: 10px;\n",
       "  width: auto;\n",
       "}\n",
       "\n",
       ".xr-attrs dt {\n",
       "  font-weight: normal;\n",
       "  grid-column: 1;\n",
       "}\n",
       "\n",
       ".xr-attrs dt:hover span {\n",
       "  display: inline-block;\n",
       "  background: var(--xr-background-color);\n",
       "  padding-right: 10px;\n",
       "}\n",
       "\n",
       ".xr-attrs dd {\n",
       "  grid-column: 2;\n",
       "  white-space: pre-wrap;\n",
       "  word-break: break-all;\n",
       "}\n",
       "\n",
       ".xr-icon-database,\n",
       ".xr-icon-file-text2 {\n",
       "  display: inline-block;\n",
       "  vertical-align: middle;\n",
       "  width: 1em;\n",
       "  height: 1.5em !important;\n",
       "  stroke-width: 0;\n",
       "  stroke: currentColor;\n",
       "  fill: currentColor;\n",
       "}\n",
       "</style><pre class='xr-text-repr-fallback'>&lt;xarray.Dataset&gt;\n",
       "Dimensions:  (time: 122)\n",
       "Coordinates:\n",
       "  * time     (time) object 1900-11-15 00:00:00 ... 2021-11-15 00:00:00\n",
       "Data variables:\n",
       "    pr       (time) float64 dask.array&lt;chunksize=(122,), meta=np.ndarray&gt;\n",
       "Attributes:\n",
       "    history:  Fri Feb 18 11:06:30 2022: /g/data/xv83/dbi599/miniconda3/envs/u...\n",
       "    source:   http://www.bom.gov.au/climate/change/</pre><div class='xr-wrap' hidden><div class='xr-header'><div class='xr-obj-type'>xarray.Dataset</div></div><ul class='xr-sections'><li class='xr-section-item'><input id='section-5ccc1a54-5794-4148-bc01-aa2dda88d638' class='xr-section-summary-in' type='checkbox' disabled ><label for='section-5ccc1a54-5794-4148-bc01-aa2dda88d638' class='xr-section-summary'  title='Expand/collapse section'>Dimensions:</label><div class='xr-section-inline-details'><ul class='xr-dim-list'><li><span class='xr-has-index'>time</span>: 122</li></ul></div><div class='xr-section-details'></div></li><li class='xr-section-item'><input id='section-4118f130-bc22-456b-b7fb-197dea132629' class='xr-section-summary-in' type='checkbox'  checked><label for='section-4118f130-bc22-456b-b7fb-197dea132629' class='xr-section-summary' >Coordinates: <span>(1)</span></label><div class='xr-section-inline-details'></div><div class='xr-section-details'><ul class='xr-var-list'><li class='xr-var-item'><div class='xr-var-name'><span class='xr-has-index'>time</span></div><div class='xr-var-dims'>(time)</div><div class='xr-var-dtype'>object</div><div class='xr-var-preview xr-preview'>1900-11-15 00:00:00 ... 2021-11-...</div><input id='attrs-2bdae353-bb94-4a96-ade5-111a15a511e9' class='xr-var-attrs-in' type='checkbox' ><label for='attrs-2bdae353-bb94-4a96-ade5-111a15a511e9' title='Show/Hide attributes'><svg class='icon xr-icon-file-text2'><use xlink:href='#icon-file-text2'></use></svg></label><input id='data-8caefbf0-e362-43d3-9530-9555849f4641' class='xr-var-data-in' type='checkbox'><label for='data-8caefbf0-e362-43d3-9530-9555849f4641' title='Show/Hide data repr'><svg class='icon xr-icon-database'><use xlink:href='#icon-database'></use></svg></label><div class='xr-var-attrs'><dl class='xr-attrs'><dt><span>long_name :</span></dt><dd>time</dd></dl></div><div class='xr-var-data'><pre>array([cftime.DatetimeJulian(1900, 11, 15, 0, 0, 0, 0, has_year_zero=False),\n",
       "       cftime.DatetimeJulian(1901, 11, 15, 0, 0, 0, 0, has_year_zero=False),\n",
       "       cftime.DatetimeJulian(1902, 11, 15, 0, 0, 0, 0, has_year_zero=False),\n",
       "       cftime.DatetimeJulian(1903, 11, 15, 0, 0, 0, 0, has_year_zero=False),\n",
       "       cftime.DatetimeJulian(1904, 11, 15, 0, 0, 0, 0, has_year_zero=False),\n",
       "       cftime.DatetimeJulian(1905, 11, 15, 0, 0, 0, 0, has_year_zero=False),\n",
       "       cftime.DatetimeJulian(1906, 11, 15, 0, 0, 0, 0, has_year_zero=False),\n",
       "       cftime.DatetimeJulian(1907, 11, 15, 0, 0, 0, 0, has_year_zero=False),\n",
       "       cftime.DatetimeJulian(1908, 11, 15, 0, 0, 0, 0, has_year_zero=False),\n",
       "       cftime.DatetimeJulian(1909, 11, 15, 0, 0, 0, 0, has_year_zero=False),\n",
       "       cftime.DatetimeJulian(1910, 11, 15, 0, 0, 0, 0, has_year_zero=False),\n",
       "       cftime.DatetimeJulian(1911, 11, 15, 0, 0, 0, 0, has_year_zero=False),\n",
       "       cftime.DatetimeJulian(1912, 11, 15, 0, 0, 0, 0, has_year_zero=False),\n",
       "       cftime.DatetimeJulian(1913, 11, 15, 0, 0, 0, 0, has_year_zero=False),\n",
       "       cftime.DatetimeJulian(1914, 11, 15, 0, 0, 0, 0, has_year_zero=False),\n",
       "       cftime.DatetimeJulian(1915, 11, 15, 0, 0, 0, 0, has_year_zero=False),\n",
       "       cftime.DatetimeJulian(1916, 11, 15, 0, 0, 0, 0, has_year_zero=False),\n",
       "       cftime.DatetimeJulian(1917, 11, 15, 0, 0, 0, 0, has_year_zero=False),\n",
       "       cftime.DatetimeJulian(1918, 11, 15, 0, 0, 0, 0, has_year_zero=False),\n",
       "       cftime.DatetimeJulian(1919, 11, 15, 0, 0, 0, 0, has_year_zero=False),\n",
       "       cftime.DatetimeJulian(1920, 11, 15, 0, 0, 0, 0, has_year_zero=False),\n",
       "       cftime.DatetimeJulian(1921, 11, 15, 0, 0, 0, 0, has_year_zero=False),\n",
       "       cftime.DatetimeJulian(1922, 11, 15, 0, 0, 0, 0, has_year_zero=False),\n",
       "       cftime.DatetimeJulian(1923, 11, 15, 0, 0, 0, 0, has_year_zero=False),\n",
       "       cftime.DatetimeJulian(1924, 11, 15, 0, 0, 0, 0, has_year_zero=False),\n",
       "       cftime.DatetimeJulian(1925, 11, 15, 0, 0, 0, 0, has_year_zero=False),\n",
       "       cftime.DatetimeJulian(1926, 11, 15, 0, 0, 0, 0, has_year_zero=False),\n",
       "       cftime.DatetimeJulian(1927, 11, 15, 0, 0, 0, 0, has_year_zero=False),\n",
       "       cftime.DatetimeJulian(1928, 11, 15, 0, 0, 0, 0, has_year_zero=False),\n",
       "       cftime.DatetimeJulian(1929, 11, 15, 0, 0, 0, 0, has_year_zero=False),\n",
       "       cftime.DatetimeJulian(1930, 11, 15, 0, 0, 0, 0, has_year_zero=False),\n",
       "       cftime.DatetimeJulian(1931, 11, 15, 0, 0, 0, 0, has_year_zero=False),\n",
       "       cftime.DatetimeJulian(1932, 11, 15, 0, 0, 0, 0, has_year_zero=False),\n",
       "       cftime.DatetimeJulian(1933, 11, 15, 0, 0, 0, 0, has_year_zero=False),\n",
       "       cftime.DatetimeJulian(1934, 11, 15, 0, 0, 0, 0, has_year_zero=False),\n",
       "       cftime.DatetimeJulian(1935, 11, 15, 0, 0, 0, 0, has_year_zero=False),\n",
       "       cftime.DatetimeJulian(1936, 11, 15, 0, 0, 0, 0, has_year_zero=False),\n",
       "       cftime.DatetimeJulian(1937, 11, 15, 0, 0, 0, 0, has_year_zero=False),\n",
       "       cftime.DatetimeJulian(1938, 11, 15, 0, 0, 0, 0, has_year_zero=False),\n",
       "       cftime.DatetimeJulian(1939, 11, 15, 0, 0, 0, 0, has_year_zero=False),\n",
       "       cftime.DatetimeJulian(1940, 11, 15, 0, 0, 0, 0, has_year_zero=False),\n",
       "       cftime.DatetimeJulian(1941, 11, 15, 0, 0, 0, 0, has_year_zero=False),\n",
       "       cftime.DatetimeJulian(1942, 11, 15, 0, 0, 0, 0, has_year_zero=False),\n",
       "       cftime.DatetimeJulian(1943, 11, 15, 0, 0, 0, 0, has_year_zero=False),\n",
       "       cftime.DatetimeJulian(1944, 11, 15, 0, 0, 0, 0, has_year_zero=False),\n",
       "       cftime.DatetimeJulian(1945, 11, 15, 0, 0, 0, 0, has_year_zero=False),\n",
       "       cftime.DatetimeJulian(1946, 11, 15, 0, 0, 0, 0, has_year_zero=False),\n",
       "       cftime.DatetimeJulian(1947, 11, 15, 0, 0, 0, 0, has_year_zero=False),\n",
       "       cftime.DatetimeJulian(1948, 11, 15, 0, 0, 0, 0, has_year_zero=False),\n",
       "       cftime.DatetimeJulian(1949, 11, 15, 0, 0, 0, 0, has_year_zero=False),\n",
       "       cftime.DatetimeJulian(1950, 11, 15, 0, 0, 0, 0, has_year_zero=False),\n",
       "       cftime.DatetimeJulian(1951, 11, 15, 0, 0, 0, 0, has_year_zero=False),\n",
       "       cftime.DatetimeJulian(1952, 11, 15, 0, 0, 0, 0, has_year_zero=False),\n",
       "       cftime.DatetimeJulian(1953, 11, 15, 0, 0, 0, 0, has_year_zero=False),\n",
       "       cftime.DatetimeJulian(1954, 11, 15, 0, 0, 0, 0, has_year_zero=False),\n",
       "       cftime.DatetimeJulian(1955, 11, 15, 0, 0, 0, 0, has_year_zero=False),\n",
       "       cftime.DatetimeJulian(1956, 11, 15, 0, 0, 0, 0, has_year_zero=False),\n",
       "       cftime.DatetimeJulian(1957, 11, 15, 0, 0, 0, 0, has_year_zero=False),\n",
       "       cftime.DatetimeJulian(1958, 11, 15, 0, 0, 0, 0, has_year_zero=False),\n",
       "       cftime.DatetimeJulian(1959, 11, 15, 0, 0, 0, 0, has_year_zero=False),\n",
       "       cftime.DatetimeJulian(1960, 11, 15, 0, 0, 0, 0, has_year_zero=False),\n",
       "       cftime.DatetimeJulian(1961, 11, 15, 0, 0, 0, 0, has_year_zero=False),\n",
       "       cftime.DatetimeJulian(1962, 11, 15, 0, 0, 0, 0, has_year_zero=False),\n",
       "       cftime.DatetimeJulian(1963, 11, 15, 0, 0, 0, 0, has_year_zero=False),\n",
       "       cftime.DatetimeJulian(1964, 11, 15, 0, 0, 0, 0, has_year_zero=False),\n",
       "       cftime.DatetimeJulian(1965, 11, 15, 0, 0, 0, 0, has_year_zero=False),\n",
       "       cftime.DatetimeJulian(1966, 11, 15, 0, 0, 0, 0, has_year_zero=False),\n",
       "       cftime.DatetimeJulian(1967, 11, 15, 0, 0, 0, 0, has_year_zero=False),\n",
       "       cftime.DatetimeJulian(1968, 11, 15, 0, 0, 0, 0, has_year_zero=False),\n",
       "       cftime.DatetimeJulian(1969, 11, 15, 0, 0, 0, 0, has_year_zero=False),\n",
       "       cftime.DatetimeJulian(1970, 11, 15, 0, 0, 0, 0, has_year_zero=False),\n",
       "       cftime.DatetimeJulian(1971, 11, 15, 0, 0, 0, 0, has_year_zero=False),\n",
       "       cftime.DatetimeJulian(1972, 11, 15, 0, 0, 0, 0, has_year_zero=False),\n",
       "       cftime.DatetimeJulian(1973, 11, 15, 0, 0, 0, 0, has_year_zero=False),\n",
       "       cftime.DatetimeJulian(1974, 11, 15, 0, 0, 0, 0, has_year_zero=False),\n",
       "       cftime.DatetimeJulian(1975, 11, 15, 0, 0, 0, 0, has_year_zero=False),\n",
       "       cftime.DatetimeJulian(1976, 11, 15, 0, 0, 0, 0, has_year_zero=False),\n",
       "       cftime.DatetimeJulian(1977, 11, 15, 0, 0, 0, 0, has_year_zero=False),\n",
       "       cftime.DatetimeJulian(1978, 11, 15, 0, 0, 0, 0, has_year_zero=False),\n",
       "       cftime.DatetimeJulian(1979, 11, 15, 0, 0, 0, 0, has_year_zero=False),\n",
       "       cftime.DatetimeJulian(1980, 11, 15, 0, 0, 0, 0, has_year_zero=False),\n",
       "       cftime.DatetimeJulian(1981, 11, 15, 0, 0, 0, 0, has_year_zero=False),\n",
       "       cftime.DatetimeJulian(1982, 11, 15, 0, 0, 0, 0, has_year_zero=False),\n",
       "       cftime.DatetimeJulian(1983, 11, 15, 0, 0, 0, 0, has_year_zero=False),\n",
       "       cftime.DatetimeJulian(1984, 11, 15, 0, 0, 0, 0, has_year_zero=False),\n",
       "       cftime.DatetimeJulian(1985, 11, 15, 0, 0, 0, 0, has_year_zero=False),\n",
       "       cftime.DatetimeJulian(1986, 11, 15, 0, 0, 0, 0, has_year_zero=False),\n",
       "       cftime.DatetimeJulian(1987, 11, 15, 0, 0, 0, 0, has_year_zero=False),\n",
       "       cftime.DatetimeJulian(1988, 11, 15, 0, 0, 0, 0, has_year_zero=False),\n",
       "       cftime.DatetimeJulian(1989, 11, 15, 0, 0, 0, 0, has_year_zero=False),\n",
       "       cftime.DatetimeJulian(1990, 11, 15, 0, 0, 0, 0, has_year_zero=False),\n",
       "       cftime.DatetimeJulian(1991, 11, 15, 0, 0, 0, 0, has_year_zero=False),\n",
       "       cftime.DatetimeJulian(1992, 11, 15, 0, 0, 0, 0, has_year_zero=False),\n",
       "       cftime.DatetimeJulian(1993, 11, 15, 0, 0, 0, 0, has_year_zero=False),\n",
       "       cftime.DatetimeJulian(1994, 11, 15, 0, 0, 0, 0, has_year_zero=False),\n",
       "       cftime.DatetimeJulian(1995, 11, 15, 0, 0, 0, 0, has_year_zero=False),\n",
       "       cftime.DatetimeJulian(1996, 11, 15, 0, 0, 0, 0, has_year_zero=False),\n",
       "       cftime.DatetimeJulian(1997, 11, 15, 0, 0, 0, 0, has_year_zero=False),\n",
       "       cftime.DatetimeJulian(1998, 11, 15, 0, 0, 0, 0, has_year_zero=False),\n",
       "       cftime.DatetimeJulian(1999, 11, 15, 0, 0, 0, 0, has_year_zero=False),\n",
       "       cftime.DatetimeJulian(2000, 11, 15, 0, 0, 0, 0, has_year_zero=False),\n",
       "       cftime.DatetimeJulian(2001, 11, 15, 0, 0, 0, 0, has_year_zero=False),\n",
       "       cftime.DatetimeJulian(2002, 11, 15, 0, 0, 0, 0, has_year_zero=False),\n",
       "       cftime.DatetimeJulian(2003, 11, 15, 0, 0, 0, 0, has_year_zero=False),\n",
       "       cftime.DatetimeJulian(2004, 11, 15, 0, 0, 0, 0, has_year_zero=False),\n",
       "       cftime.DatetimeJulian(2005, 11, 15, 0, 0, 0, 0, has_year_zero=False),\n",
       "       cftime.DatetimeJulian(2006, 11, 15, 0, 0, 0, 0, has_year_zero=False),\n",
       "       cftime.DatetimeJulian(2007, 11, 15, 0, 0, 0, 0, has_year_zero=False),\n",
       "       cftime.DatetimeJulian(2008, 11, 15, 0, 0, 0, 0, has_year_zero=False),\n",
       "       cftime.DatetimeJulian(2009, 11, 15, 0, 0, 0, 0, has_year_zero=False),\n",
       "       cftime.DatetimeJulian(2010, 11, 15, 0, 0, 0, 0, has_year_zero=False),\n",
       "       cftime.DatetimeJulian(2011, 11, 15, 0, 0, 0, 0, has_year_zero=False),\n",
       "       cftime.DatetimeJulian(2012, 11, 15, 0, 0, 0, 0, has_year_zero=False),\n",
       "       cftime.DatetimeJulian(2013, 11, 15, 0, 0, 0, 0, has_year_zero=False),\n",
       "       cftime.DatetimeJulian(2014, 11, 15, 0, 0, 0, 0, has_year_zero=False),\n",
       "       cftime.DatetimeJulian(2015, 11, 15, 0, 0, 0, 0, has_year_zero=False),\n",
       "       cftime.DatetimeJulian(2016, 11, 15, 0, 0, 0, 0, has_year_zero=False),\n",
       "       cftime.DatetimeJulian(2017, 11, 15, 0, 0, 0, 0, has_year_zero=False),\n",
       "       cftime.DatetimeJulian(2018, 11, 15, 0, 0, 0, 0, has_year_zero=False),\n",
       "       cftime.DatetimeJulian(2019, 11, 15, 0, 0, 0, 0, has_year_zero=False),\n",
       "       cftime.DatetimeJulian(2020, 11, 15, 0, 0, 0, 0, has_year_zero=False),\n",
       "       cftime.DatetimeJulian(2021, 11, 15, 0, 0, 0, 0, has_year_zero=False)],\n",
       "      dtype=object)</pre></div></li></ul></div></li><li class='xr-section-item'><input id='section-1ffd1ac6-3d2d-462b-8737-14aed43d144a' class='xr-section-summary-in' type='checkbox'  checked><label for='section-1ffd1ac6-3d2d-462b-8737-14aed43d144a' class='xr-section-summary' >Data variables: <span>(1)</span></label><div class='xr-section-inline-details'></div><div class='xr-section-details'><ul class='xr-var-list'><li class='xr-var-item'><div class='xr-var-name'><span>pr</span></div><div class='xr-var-dims'>(time)</div><div class='xr-var-dtype'>float64</div><div class='xr-var-preview xr-preview'>dask.array&lt;chunksize=(122,), meta=np.ndarray&gt;</div><input id='attrs-eb54b9e5-ff34-4387-9cd4-4b338033028e' class='xr-var-attrs-in' type='checkbox' ><label for='attrs-eb54b9e5-ff34-4387-9cd4-4b338033028e' title='Show/Hide attributes'><svg class='icon xr-icon-file-text2'><use xlink:href='#icon-file-text2'></use></svg></label><input id='data-c7e66377-86a0-4c98-bdcb-1091960cb69a' class='xr-var-data-in' type='checkbox'><label for='data-c7e66377-86a0-4c98-bdcb-1091960cb69a' title='Show/Hide data repr'><svg class='icon xr-icon-database'><use xlink:href='#icon-database'></use></svg></label><div class='xr-var-attrs'><dl class='xr-attrs'><dt><span>long_name :</span></dt><dd>precipitation</dd><dt><span>units :</span></dt><dd>mm month-1</dd></dl></div><div class='xr-var-data'><table>\n",
       "<tr>\n",
       "<td>\n",
       "<table>\n",
       "  <thead>\n",
       "    <tr><td> </td><th> Array </th><th> Chunk </th></tr>\n",
       "  </thead>\n",
       "  <tbody>\n",
       "    <tr><th> Bytes </th><td> 0.95 kiB </td> <td> 0.95 kiB </td></tr>\n",
       "    <tr><th> Shape </th><td> (122,) </td> <td> (122,) </td></tr>\n",
       "    <tr><th> Count </th><td> 2 Tasks </td><td> 1 Chunks </td></tr>\n",
       "    <tr><th> Type </th><td> float64 </td><td> numpy.ndarray </td></tr>\n",
       "  </tbody>\n",
       "</table>\n",
       "</td>\n",
       "<td>\n",
       "<svg width=\"170\" height=\"75\" style=\"stroke:rgb(0,0,0);stroke-width:1\" >\n",
       "\n",
       "  <!-- Horizontal lines -->\n",
       "  <line x1=\"0\" y1=\"0\" x2=\"120\" y2=\"0\" style=\"stroke-width:2\" />\n",
       "  <line x1=\"0\" y1=\"25\" x2=\"120\" y2=\"25\" style=\"stroke-width:2\" />\n",
       "\n",
       "  <!-- Vertical lines -->\n",
       "  <line x1=\"0\" y1=\"0\" x2=\"0\" y2=\"25\" style=\"stroke-width:2\" />\n",
       "  <line x1=\"120\" y1=\"0\" x2=\"120\" y2=\"25\" style=\"stroke-width:2\" />\n",
       "\n",
       "  <!-- Colored Rectangle -->\n",
       "  <polygon points=\"0.0,0.0 120.0,0.0 120.0,25.412616514582485 0.0,25.412616514582485\" style=\"fill:#ECB172A0;stroke-width:0\"/>\n",
       "\n",
       "  <!-- Text -->\n",
       "  <text x=\"60.000000\" y=\"45.412617\" font-size=\"1.0rem\" font-weight=\"100\" text-anchor=\"middle\" >122</text>\n",
       "  <text x=\"140.000000\" y=\"12.706308\" font-size=\"1.0rem\" font-weight=\"100\" text-anchor=\"middle\" transform=\"rotate(0,140.000000,12.706308)\">1</text>\n",
       "</svg>\n",
       "</td>\n",
       "</tr>\n",
       "</table></div></li></ul></div></li><li class='xr-section-item'><input id='section-e57e4629-e6e1-4b27-936a-5324c734ae9f' class='xr-section-summary-in' type='checkbox'  checked><label for='section-e57e4629-e6e1-4b27-936a-5324c734ae9f' class='xr-section-summary' >Attributes: <span>(2)</span></label><div class='xr-section-inline-details'></div><div class='xr-section-details'><dl class='xr-attrs'><dt><span>history :</span></dt><dd>Fri Feb 18 11:06:30 2022: /g/data/xv83/dbi599/miniconda3/envs/unseen/bin/python bom_txt_to_nc.py /g/data/xv83/dbi599/nov-rain/data/pr_BoM_1900-2021_nov_aus-mean.txt pr http://www.bom.gov.au/climate/change/ /g/data/xv83/dbi599/nov-rain/data/pr_BoM_1900-2021_nov_aus-mean.nc (git@github.com:AusClimateService/nov-rain)</dd><dt><span>source :</span></dt><dd>http://www.bom.gov.au/climate/change/</dd></dl></div></li></ul></div></div>"
      ],
      "text/plain": [
       "<xarray.Dataset>\n",
       "Dimensions:  (time: 122)\n",
       "Coordinates:\n",
       "  * time     (time) object 1900-11-15 00:00:00 ... 2021-11-15 00:00:00\n",
       "Data variables:\n",
       "    pr       (time) float64 dask.array<chunksize=(122,), meta=np.ndarray>\n",
       "Attributes:\n",
       "    history:  Fri Feb 18 11:06:30 2022: /g/data/xv83/dbi599/miniconda3/envs/u...\n",
       "    source:   http://www.bom.gov.au/climate/change/"
      ]
     },
     "execution_count": 7,
     "metadata": {},
     "output_type": "execute_result"
    }
   ],
   "source": [
    "bom_ds"
   ]
  },
  {
   "cell_type": "code",
   "execution_count": 8,
   "id": "9c701895",
   "metadata": {
    "execution": {
     "iopub.execute_input": "2022-03-09T00:07:04.123666Z",
     "iopub.status.busy": "2022-03-09T00:07:04.122242Z",
     "iopub.status.idle": "2022-03-09T00:07:04.130951Z",
     "shell.execute_reply": "2022-03-09T00:07:04.131594Z"
    },
    "papermill": {
     "duration": 0.07129,
     "end_time": "2022-03-09T00:07:04.131869",
     "exception": false,
     "start_time": "2022-03-09T00:07:04.060579",
     "status": "completed"
    },
    "tags": []
   },
   "outputs": [],
   "source": [
    "years = bom_ds['time'].dt.year.values\n",
    "bom_df = pd.DataFrame(index=years)\n",
    "bom_df['pr'] = bom_ds['pr'].values"
   ]
  },
  {
   "cell_type": "code",
   "execution_count": 9,
   "id": "6c1bcdcc",
   "metadata": {
    "execution": {
     "iopub.execute_input": "2022-03-09T00:07:04.294905Z",
     "iopub.status.busy": "2022-03-09T00:07:04.293987Z",
     "iopub.status.idle": "2022-03-09T00:07:04.299692Z",
     "shell.execute_reply": "2022-03-09T00:07:04.300456Z"
    },
    "papermill": {
     "duration": 0.069376,
     "end_time": "2022-03-09T00:07:04.300724",
     "exception": false,
     "start_time": "2022-03-09T00:07:04.231348",
     "status": "completed"
    },
    "tags": []
   },
   "outputs": [
    {
     "name": "stdout",
     "output_type": "stream",
     "text": [
      "pr    32.909262\n",
      "dtype: float64\n"
     ]
    }
   ],
   "source": [
    "mean_rainfall = bom_df.mean()\n",
    "print(mean_rainfall)"
   ]
  },
  {
   "cell_type": "code",
   "execution_count": 10,
   "id": "c8bfcbcf",
   "metadata": {
    "execution": {
     "iopub.execute_input": "2022-03-09T00:07:04.409841Z",
     "iopub.status.busy": "2022-03-09T00:07:04.408429Z",
     "iopub.status.idle": "2022-03-09T00:07:04.416847Z",
     "shell.execute_reply": "2022-03-09T00:07:04.417533Z"
    },
    "papermill": {
     "duration": 0.070348,
     "end_time": "2022-03-09T00:07:04.417814",
     "exception": false,
     "start_time": "2022-03-09T00:07:04.347466",
     "status": "completed"
    },
    "tags": []
   },
   "outputs": [
    {
     "name": "stdout",
     "output_type": "stream",
     "text": [
      "76.18\n"
     ]
    }
   ],
   "source": [
    "pr2021 = bom_ds['pr'].values.max()\n",
    "print(pr2021)"
   ]
  },
  {
   "cell_type": "code",
   "execution_count": 11,
   "id": "527ce770",
   "metadata": {
    "execution": {
     "iopub.execute_input": "2022-03-09T00:07:04.533151Z",
     "iopub.status.busy": "2022-03-09T00:07:04.531885Z",
     "iopub.status.idle": "2022-03-09T00:07:04.543940Z",
     "shell.execute_reply": "2022-03-09T00:07:04.542777Z"
    },
    "papermill": {
     "duration": 0.076485,
     "end_time": "2022-03-09T00:07:04.544390",
     "exception": false,
     "start_time": "2022-03-09T00:07:04.467905",
     "status": "completed"
    },
    "tags": []
   },
   "outputs": [
    {
     "data": {
      "text/plain": [
       "2021    76.18\n",
       "1973    70.14\n",
       "1917    68.51\n",
       "2000    68.41\n",
       "1950    63.03\n",
       "2008    62.38\n",
       "1999    62.30\n",
       "2011    62.29\n",
       "2010    60.67\n",
       "1998    55.49\n",
       "Name: pr, dtype: float64"
      ]
     },
     "execution_count": 11,
     "metadata": {},
     "output_type": "execute_result"
    }
   ],
   "source": [
    "ranked_years = bom_df['pr'].sort_values(ascending=False)\n",
    "ranked_years.head(n=10)"
   ]
  },
  {
   "cell_type": "code",
   "execution_count": 12,
   "id": "e31dba77",
   "metadata": {
    "execution": {
     "iopub.execute_input": "2022-03-09T00:07:04.655446Z",
     "iopub.status.busy": "2022-03-09T00:07:04.654536Z",
     "iopub.status.idle": "2022-03-09T00:07:04.828994Z",
     "shell.execute_reply": "2022-03-09T00:07:04.827503Z"
    },
    "papermill": {
     "duration": 0.236934,
     "end_time": "2022-03-09T00:07:04.829397",
     "exception": false,
     "start_time": "2022-03-09T00:07:04.592463",
     "status": "completed"
    },
    "tags": []
   },
   "outputs": [
    {
     "name": "stdout",
     "output_type": "stream",
     "text": [
      "Shape parameter: -0.07\n",
      "Location parameter: 26.16\n",
      "Scale parameter: 10.43\n"
     ]
    }
   ],
   "source": [
    "bom_gev_shape, bom_gev_loc, bom_gev_scale = indices.fit_gev(bom_df['pr'].values)\n",
    "print(f'Shape parameter: {bom_gev_shape:.2f}')\n",
    "print(f'Location parameter: {bom_gev_loc:.2f}')\n",
    "print(f'Scale parameter: {bom_gev_scale:.2f}')"
   ]
  },
  {
   "cell_type": "code",
   "execution_count": 13,
   "id": "806ebb06",
   "metadata": {
    "execution": {
     "iopub.execute_input": "2022-03-09T00:07:04.975154Z",
     "iopub.status.busy": "2022-03-09T00:07:04.974151Z",
     "iopub.status.idle": "2022-03-09T00:07:06.232059Z",
     "shell.execute_reply": "2022-03-09T00:07:06.230538Z"
    },
    "papermill": {
     "duration": 1.354057,
     "end_time": "2022-03-09T00:07:06.232470",
     "exception": false,
     "start_time": "2022-03-09T00:07:04.878413",
     "status": "completed"
    },
    "tags": []
   },
   "outputs": [
    {
     "data": {
      "image/png": "[encoded data removed]",
      "text/plain": [
       "<Figure size 720x576 with 1 Axes>"
      ]
     },
     "metadata": {
      "needs_background": "light"
     },
     "output_type": "display_data"
    }
   ],
   "source": [
    "fig, ax = plt.subplots(figsize=[10, 8])\n",
    "gev_xvals = np.arange(0, 120)\n",
    "bom_df['pr'].plot.hist(bins=40, density=True, color='tab:green', alpha=0.5)\n",
    "bom_gev_pdf = gev.pdf(gev_xvals, bom_gev_shape, bom_gev_loc, bom_gev_scale)\n",
    "plt.plot(gev_xvals, bom_gev_pdf, color='tab:green', linewidth=4.0)\n",
    "plt.xlabel('precipitation (mm)')\n",
    "plt.ylabel('probability')\n",
    "plt.title(f'November rainfall for Australia (BoM)')\n",
    "plt.savefig(f'/g/data/xv83/dbi599/nov-rain/figures/nov_precip_histogram_aus_BoM.png',\n",
    "            bbox_inches='tight', facecolor='white', dpi=dpi)"
   ]
  },
  {
   "cell_type": "code",
   "execution_count": 14,
   "id": "2b8059b4",
   "metadata": {
    "execution": {
     "iopub.execute_input": "2022-03-09T00:07:06.357250Z",
     "iopub.status.busy": "2022-03-09T00:07:06.355786Z",
     "iopub.status.idle": "2022-03-09T00:07:06.472810Z",
     "shell.execute_reply": "2022-03-09T00:07:06.471828Z"
    },
    "papermill": {
     "duration": 0.185454,
     "end_time": "2022-03-09T00:07:06.473215",
     "exception": false,
     "start_time": "2022-03-09T00:07:06.287761",
     "status": "completed"
    },
    "tags": []
   },
   "outputs": [
    {
     "name": "stdout",
     "output_type": "stream",
     "text": [
      "Sample size: 1000\n",
      "98.90% percentile\n",
      "91 year return period\n",
      "\n",
      "Sample size: 5000\n",
      "98.56% percentile\n",
      "69 year return period\n",
      "\n",
      "Sample size: 10000\n",
      "98.60% percentile\n",
      "71 year return period\n",
      "\n",
      "Sample size: 50000\n",
      "98.50% percentile\n",
      "67 year return period\n",
      "\n",
      "Sample size: 100000\n",
      "98.49% percentile\n",
      "66 year return period\n",
      "\n",
      "Sample size: 500000\n",
      "98.50% percentile\n",
      "67 year return period\n",
      "\n"
     ]
    }
   ],
   "source": [
    "for sample_size in [1000, 5000, 10000, 50000, 100000, 500000]:\n",
    "    bom_gev_data = gev.rvs(bom_gev_shape, loc=bom_gev_loc, scale=bom_gev_scale, size=sample_size)\n",
    "    bom_percentile, bom_return_period = general_utils.event_in_context(bom_gev_data, pr2021, 'above')\n",
    "    print(f'Sample size: {sample_size}')\n",
    "    print(f'{bom_percentile:.2f}% percentile')\n",
    "    print(f'{bom_return_period:.0f} year return period\\n')"
   ]
  },
  {
   "cell_type": "markdown",
   "id": "51274b2c",
   "metadata": {
    "papermill": {
     "duration": 0.055606,
     "end_time": "2022-03-09T00:07:06.585507",
     "exception": false,
     "start_time": "2022-03-09T00:07:06.529901",
     "status": "completed"
    },
    "tags": []
   },
   "source": [
    "Accordining to a GEV fitted to the observations, the event is in the 98th percentile with a 60-70 year return period."
   ]
  },
  {
   "cell_type": "markdown",
   "id": "d082e6af",
   "metadata": {
    "papermill": {
     "duration": 0.054256,
     "end_time": "2022-03-09T00:07:06.698525",
     "exception": false,
     "start_time": "2022-03-09T00:07:06.644269",
     "status": "completed"
    },
    "tags": []
   },
   "source": [
    "## Model ensemble"
   ]
  },
  {
   "cell_type": "code",
   "execution_count": 15,
   "id": "1620b927",
   "metadata": {
    "execution": {
     "iopub.execute_input": "2022-03-09T00:07:06.810438Z",
     "iopub.status.busy": "2022-03-09T00:07:06.809281Z",
     "iopub.status.idle": "2022-03-09T00:07:06.870755Z",
     "shell.execute_reply": "2022-03-09T00:07:06.869261Z"
    },
    "papermill": {
     "duration": 0.121707,
     "end_time": "2022-03-09T00:07:06.871129",
     "exception": false,
     "start_time": "2022-03-09T00:07:06.749422",
     "status": "completed"
    },
    "tags": []
   },
   "outputs": [],
   "source": [
    "model_ds = fileio.open_dataset(model_file)\n",
    "model_bc_ds = fileio.open_dataset(model_bc_file)"
   ]
  },
  {
   "cell_type": "code",
   "execution_count": 16,
   "id": "b3d4100a",
   "metadata": {
    "execution": {
     "iopub.execute_input": "2022-03-09T00:07:06.996626Z",
     "iopub.status.busy": "2022-03-09T00:07:06.994229Z",
     "iopub.status.idle": "2022-03-09T00:07:07.017856Z",
     "shell.execute_reply": "2022-03-09T00:07:07.016359Z"
    },
    "papermill": {
     "duration": 0.091847,
     "end_time": "2022-03-09T00:07:07.018335",
     "exception": false,
     "start_time": "2022-03-09T00:07:06.926488",
     "status": "completed"
    },
    "tags": []
   },
   "outputs": [
    {
     "data": {
      "text/html": [
       "<div><svg style=\"position: absolute; width: 0; height: 0; overflow: hidden\">\n",
       "<defs>\n",
       "<symbol id=\"icon-database\" viewBox=\"0 0 32 32\">\n",
       "<path d=\"M16 0c-8.837 0-16 2.239-16 5v4c0 2.761 7.163 5 16 5s16-2.239 16-5v-4c0-2.761-7.163-5-16-5z\"></path>\n",
       "<path d=\"M16 17c-8.837 0-16-2.239-16-5v6c0 2.761 7.163 5 16 5s16-2.239 16-5v-6c0 2.761-7.163 5-16 5z\"></path>\n",
       "<path d=\"M16 26c-8.837 0-16-2.239-16-5v6c0 2.761 7.163 5 16 5s16-2.239 16-5v-6c0 2.761-7.163 5-16 5z\"></path>\n",
       "</symbol>\n",
       "<symbol id=\"icon-file-text2\" viewBox=\"0 0 32 32\">\n",
       "<path d=\"M28.681 7.159c-0.694-0.947-1.662-2.053-2.724-3.116s-2.169-2.030-3.116-2.724c-1.612-1.182-2.393-1.319-2.841-1.319h-15.5c-1.378 0-2.5 1.121-2.5 2.5v27c0 1.378 1.122 2.5 2.5 2.5h23c1.378 0 2.5-1.122 2.5-2.5v-19.5c0-0.448-0.137-1.23-1.319-2.841zM24.543 5.457c0.959 0.959 1.712 1.825 2.268 2.543h-4.811v-4.811c0.718 0.556 1.584 1.309 2.543 2.268zM28 29.5c0 0.271-0.229 0.5-0.5 0.5h-23c-0.271 0-0.5-0.229-0.5-0.5v-27c0-0.271 0.229-0.5 0.5-0.5 0 0 15.499-0 15.5 0v7c0 0.552 0.448 1 1 1h7v19.5z\"></path>\n",
       "<path d=\"M23 26h-14c-0.552 0-1-0.448-1-1s0.448-1 1-1h14c0.552 0 1 0.448 1 1s-0.448 1-1 1z\"></path>\n",
       "<path d=\"M23 22h-14c-0.552 0-1-0.448-1-1s0.448-1 1-1h14c0.552 0 1 0.448 1 1s-0.448 1-1 1z\"></path>\n",
       "<path d=\"M23 18h-14c-0.552 0-1-0.448-1-1s0.448-1 1-1h14c0.552 0 1 0.448 1 1s-0.448 1-1 1z\"></path>\n",
       "</symbol>\n",
       "</defs>\n",
       "</svg>\n",
       "<style>/* CSS stylesheet for displaying xarray objects in jupyterlab.\n",
       " *\n",
       " */\n",
       "\n",
       ":root {\n",
       "  --xr-font-color0: var(--jp-content-font-color0, rgba(0, 0, 0, 1));\n",
       "  --xr-font-color2: var(--jp-content-font-color2, rgba(0, 0, 0, 0.54));\n",
       "  --xr-font-color3: var(--jp-content-font-color3, rgba(0, 0, 0, 0.38));\n",
       "  --xr-border-color: var(--jp-border-color2, #e0e0e0);\n",
       "  --xr-disabled-color: var(--jp-layout-color3, #bdbdbd);\n",
       "  --xr-background-color: var(--jp-layout-color0, white);\n",
       "  --xr-background-color-row-even: var(--jp-layout-color1, white);\n",
       "  --xr-background-color-row-odd: var(--jp-layout-color2, #eeeeee);\n",
       "}\n",
       "\n",
       "html[theme=dark],\n",
       "body.vscode-dark {\n",
       "  --xr-font-color0: rgba(255, 255, 255, 1);\n",
       "  --xr-font-color2: rgba(255, 255, 255, 0.54);\n",
       "  --xr-font-color3: rgba(255, 255, 255, 0.38);\n",
       "  --xr-border-color: #1F1F1F;\n",
       "  --xr-disabled-color: #515151;\n",
       "  --xr-background-color: #111111;\n",
       "  --xr-background-color-row-even: #111111;\n",
       "  --xr-background-color-row-odd: #313131;\n",
       "}\n",
       "\n",
       ".xr-wrap {\n",
       "  display: block;\n",
       "  min-width: 300px;\n",
       "  max-width: 700px;\n",
       "}\n",
       "\n",
       ".xr-text-repr-fallback {\n",
       "  /* fallback to plain text repr when CSS is not injected (untrusted notebook) */\n",
       "  display: none;\n",
       "}\n",
       "\n",
       ".xr-header {\n",
       "  padding-top: 6px;\n",
       "  padding-bottom: 6px;\n",
       "  margin-bottom: 4px;\n",
       "  border-bottom: solid 1px var(--xr-border-color);\n",
       "}\n",
       "\n",
       ".xr-header > div,\n",
       ".xr-header > ul {\n",
       "  display: inline;\n",
       "  margin-top: 0;\n",
       "  margin-bottom: 0;\n",
       "}\n",
       "\n",
       ".xr-obj-type,\n",
       ".xr-array-name {\n",
       "  margin-left: 2px;\n",
       "  margin-right: 10px;\n",
       "}\n",
       "\n",
       ".xr-obj-type {\n",
       "  color: var(--xr-font-color2);\n",
       "}\n",
       "\n",
       ".xr-sections {\n",
       "  padding-left: 0 !important;\n",
       "  display: grid;\n",
       "  grid-template-columns: 150px auto auto 1fr 20px 20px;\n",
       "}\n",
       "\n",
       ".xr-section-item {\n",
       "  display: contents;\n",
       "}\n",
       "\n",
       ".xr-section-item input {\n",
       "  display: none;\n",
       "}\n",
       "\n",
       ".xr-section-item input + label {\n",
       "  color: var(--xr-disabled-color);\n",
       "}\n",
       "\n",
       ".xr-section-item input:enabled + label {\n",
       "  cursor: pointer;\n",
       "  color: var(--xr-font-color2);\n",
       "}\n",
       "\n",
       ".xr-section-item input:enabled + label:hover {\n",
       "  color: var(--xr-font-color0);\n",
       "}\n",
       "\n",
       ".xr-section-summary {\n",
       "  grid-column: 1;\n",
       "  color: var(--xr-font-color2);\n",
       "  font-weight: 500;\n",
       "}\n",
       "\n",
       ".xr-section-summary > span {\n",
       "  display: inline-block;\n",
       "  padding-left: 0.5em;\n",
       "}\n",
       "\n",
       ".xr-section-summary-in:disabled + label {\n",
       "  color: var(--xr-font-color2);\n",
       "}\n",
       "\n",
       ".xr-section-summary-in + label:before {\n",
       "  display: inline-block;\n",
       "  content: '►';\n",
       "  font-size: 11px;\n",
       "  width: 15px;\n",
       "  text-align: center;\n",
       "}\n",
       "\n",
       ".xr-section-summary-in:disabled + label:before {\n",
       "  color: var(--xr-disabled-color);\n",
       "}\n",
       "\n",
       ".xr-section-summary-in:checked + label:before {\n",
       "  content: '▼';\n",
       "}\n",
       "\n",
       ".xr-section-summary-in:checked + label > span {\n",
       "  display: none;\n",
       "}\n",
       "\n",
       ".xr-section-summary,\n",
       ".xr-section-inline-details {\n",
       "  padding-top: 4px;\n",
       "  padding-bottom: 4px;\n",
       "}\n",
       "\n",
       ".xr-section-inline-details {\n",
       "  grid-column: 2 / -1;\n",
       "}\n",
       "\n",
       ".xr-section-details {\n",
       "  display: none;\n",
       "  grid-column: 1 / -1;\n",
       "  margin-bottom: 5px;\n",
       "}\n",
       "\n",
       ".xr-section-summary-in:checked ~ .xr-section-details {\n",
       "  display: contents;\n",
       "}\n",
       "\n",
       ".xr-array-wrap {\n",
       "  grid-column: 1 / -1;\n",
       "  display: grid;\n",
       "  grid-template-columns: 20px auto;\n",
       "}\n",
       "\n",
       ".xr-array-wrap > label {\n",
       "  grid-column: 1;\n",
       "  vertical-align: top;\n",
       "}\n",
       "\n",
       ".xr-preview {\n",
       "  color: var(--xr-font-color3);\n",
       "}\n",
       "\n",
       ".xr-array-preview,\n",
       ".xr-array-data {\n",
       "  padding: 0 5px !important;\n",
       "  grid-column: 2;\n",
       "}\n",
       "\n",
       ".xr-array-data,\n",
       ".xr-array-in:checked ~ .xr-array-preview {\n",
       "  display: none;\n",
       "}\n",
       "\n",
       ".xr-array-in:checked ~ .xr-array-data,\n",
       ".xr-array-preview {\n",
       "  display: inline-block;\n",
       "}\n",
       "\n",
       ".xr-dim-list {\n",
       "  display: inline-block !important;\n",
       "  list-style: none;\n",
       "  padding: 0 !important;\n",
       "  margin: 0;\n",
       "}\n",
       "\n",
       ".xr-dim-list li {\n",
       "  display: inline-block;\n",
       "  padding: 0;\n",
       "  margin: 0;\n",
       "}\n",
       "\n",
       ".xr-dim-list:before {\n",
       "  content: '(';\n",
       "}\n",
       "\n",
       ".xr-dim-list:after {\n",
       "  content: ')';\n",
       "}\n",
       "\n",
       ".xr-dim-list li:not(:last-child):after {\n",
       "  content: ',';\n",
       "  padding-right: 5px;\n",
       "}\n",
       "\n",
       ".xr-has-index {\n",
       "  font-weight: bold;\n",
       "}\n",
       "\n",
       ".xr-var-list,\n",
       ".xr-var-item {\n",
       "  display: contents;\n",
       "}\n",
       "\n",
       ".xr-var-item > div,\n",
       ".xr-var-item label,\n",
       ".xr-var-item > .xr-var-name span {\n",
       "  background-color: var(--xr-background-color-row-even);\n",
       "  margin-bottom: 0;\n",
       "}\n",
       "\n",
       ".xr-var-item > .xr-var-name:hover span {\n",
       "  padding-right: 5px;\n",
       "}\n",
       "\n",
       ".xr-var-list > li:nth-child(odd) > div,\n",
       ".xr-var-list > li:nth-child(odd) > label,\n",
       ".xr-var-list > li:nth-child(odd) > .xr-var-name span {\n",
       "  background-color: var(--xr-background-color-row-odd);\n",
       "}\n",
       "\n",
       ".xr-var-name {\n",
       "  grid-column: 1;\n",
       "}\n",
       "\n",
       ".xr-var-dims {\n",
       "  grid-column: 2;\n",
       "}\n",
       "\n",
       ".xr-var-dtype {\n",
       "  grid-column: 3;\n",
       "  text-align: right;\n",
       "  color: var(--xr-font-color2);\n",
       "}\n",
       "\n",
       ".xr-var-preview {\n",
       "  grid-column: 4;\n",
       "}\n",
       "\n",
       ".xr-var-name,\n",
       ".xr-var-dims,\n",
       ".xr-var-dtype,\n",
       ".xr-preview,\n",
       ".xr-attrs dt {\n",
       "  white-space: nowrap;\n",
       "  overflow: hidden;\n",
       "  text-overflow: ellipsis;\n",
       "  padding-right: 10px;\n",
       "}\n",
       "\n",
       ".xr-var-name:hover,\n",
       ".xr-var-dims:hover,\n",
       ".xr-var-dtype:hover,\n",
       ".xr-attrs dt:hover {\n",
       "  overflow: visible;\n",
       "  width: auto;\n",
       "  z-index: 1;\n",
       "}\n",
       "\n",
       ".xr-var-attrs,\n",
       ".xr-var-data {\n",
       "  display: none;\n",
       "  background-color: var(--xr-background-color) !important;\n",
       "  padding-bottom: 5px !important;\n",
       "}\n",
       "\n",
       ".xr-var-attrs-in:checked ~ .xr-var-attrs,\n",
       ".xr-var-data-in:checked ~ .xr-var-data {\n",
       "  display: block;\n",
       "}\n",
       "\n",
       ".xr-var-data > table {\n",
       "  float: right;\n",
       "}\n",
       "\n",
       ".xr-var-name span,\n",
       ".xr-var-data,\n",
       ".xr-attrs {\n",
       "  padding-left: 25px !important;\n",
       "}\n",
       "\n",
       ".xr-attrs,\n",
       ".xr-var-attrs,\n",
       ".xr-var-data {\n",
       "  grid-column: 1 / -1;\n",
       "}\n",
       "\n",
       "dl.xr-attrs {\n",
       "  padding: 0;\n",
       "  margin: 0;\n",
       "  display: grid;\n",
       "  grid-template-columns: 125px auto;\n",
       "}\n",
       "\n",
       ".xr-attrs dt,\n",
       ".xr-attrs dd {\n",
       "  padding: 0;\n",
       "  margin: 0;\n",
       "  float: left;\n",
       "  padding-right: 10px;\n",
       "  width: auto;\n",
       "}\n",
       "\n",
       ".xr-attrs dt {\n",
       "  font-weight: normal;\n",
       "  grid-column: 1;\n",
       "}\n",
       "\n",
       ".xr-attrs dt:hover span {\n",
       "  display: inline-block;\n",
       "  background: var(--xr-background-color);\n",
       "  padding-right: 10px;\n",
       "}\n",
       "\n",
       ".xr-attrs dd {\n",
       "  grid-column: 2;\n",
       "  white-space: pre-wrap;\n",
       "  word-break: break-all;\n",
       "}\n",
       "\n",
       ".xr-icon-database,\n",
       ".xr-icon-file-text2 {\n",
       "  display: inline-block;\n",
       "  vertical-align: middle;\n",
       "  width: 1em;\n",
       "  height: 1.5em !important;\n",
       "  stroke-width: 0;\n",
       "  stroke: currentColor;\n",
       "  fill: currentColor;\n",
       "}\n",
       "</style><pre class='xr-text-repr-fallback'>&lt;xarray.Dataset&gt;\n",
       "Dimensions:    (ensemble: 8, init_date: 54, lead_time: 10)\n",
       "Coordinates:\n",
       "  * ensemble   (ensemble) int64 0 1 2 3 4 5 6 7\n",
       "  * init_date  (init_date) object 1961-01-16 00:00:00 ... 2014-01-16 00:00:00\n",
       "  * lead_time  (lead_time) int64 0 1 2 3 4 5 6 7 8 9\n",
       "    time       (lead_time, init_date) object dask.array&lt;chunksize=(10, 54), meta=np.ndarray&gt;\n",
       "Data variables:\n",
       "    pr         (init_date, ensemble, lead_time) float64 dask.array&lt;chunksize=(1, 1, 10), meta=np.ndarray&gt;\n",
       "Attributes: (12/49)\n",
       "    Conventions:            CF-1.7 CMIP-6.2\n",
       "    activity_id:            DCPP\n",
       "    branch_method:          no parent\n",
       "    branch_time_in_child:   0.0\n",
       "    branch_time_in_parent:  0.0\n",
       "    cmor_version:           3.3.2\n",
       "    ...                     ...\n",
       "    table_id:               Amon\n",
       "    table_info:             Creation Date:(30 July 2018) MD5:e53ff52009d0b97d...\n",
       "    title:                  BCC-CSM2-MR output prepared for CMIP6\n",
       "    tracking_id:            hdl:21.14100/bade3d12-e938-4e20-806b-ef2de6025814\n",
       "    variable_id:            pr\n",
       "    variant_label:          r1i1p1f1</pre><div class='xr-wrap' hidden><div class='xr-header'><div class='xr-obj-type'>xarray.Dataset</div></div><ul class='xr-sections'><li class='xr-section-item'><input id='section-37549356-cc9f-4218-b06c-84941cf75304' class='xr-section-summary-in' type='checkbox' disabled ><label for='section-37549356-cc9f-4218-b06c-84941cf75304' class='xr-section-summary'  title='Expand/collapse section'>Dimensions:</label><div class='xr-section-inline-details'><ul class='xr-dim-list'><li><span class='xr-has-index'>ensemble</span>: 8</li><li><span class='xr-has-index'>init_date</span>: 54</li><li><span class='xr-has-index'>lead_time</span>: 10</li></ul></div><div class='xr-section-details'></div></li><li class='xr-section-item'><input id='section-2ca00c52-e362-427e-8248-3ba0b1fa387f' class='xr-section-summary-in' type='checkbox'  checked><label for='section-2ca00c52-e362-427e-8248-3ba0b1fa387f' class='xr-section-summary' >Coordinates: <span>(4)</span></label><div class='xr-section-inline-details'></div><div class='xr-section-details'><ul class='xr-var-list'><li class='xr-var-item'><div class='xr-var-name'><span class='xr-has-index'>ensemble</span></div><div class='xr-var-dims'>(ensemble)</div><div class='xr-var-dtype'>int64</div><div class='xr-var-preview xr-preview'>0 1 2 3 4 5 6 7</div><input id='attrs-500e52db-0c82-46c4-9341-d21cf55943e1' class='xr-var-attrs-in' type='checkbox' disabled><label for='attrs-500e52db-0c82-46c4-9341-d21cf55943e1' title='Show/Hide attributes'><svg class='icon xr-icon-file-text2'><use xlink:href='#icon-file-text2'></use></svg></label><input id='data-9fee174b-b247-479c-b684-2423f5cf4270' class='xr-var-data-in' type='checkbox'><label for='data-9fee174b-b247-479c-b684-2423f5cf4270' title='Show/Hide data repr'><svg class='icon xr-icon-database'><use xlink:href='#icon-database'></use></svg></label><div class='xr-var-attrs'><dl class='xr-attrs'></dl></div><div class='xr-var-data'><pre>array([0, 1, 2, 3, 4, 5, 6, 7])</pre></div></li><li class='xr-var-item'><div class='xr-var-name'><span class='xr-has-index'>init_date</span></div><div class='xr-var-dims'>(init_date)</div><div class='xr-var-dtype'>object</div><div class='xr-var-preview xr-preview'>1961-01-16 00:00:00 ... 2014-01-...</div><input id='attrs-92095a8a-b352-4968-a91c-842b8bddba87' class='xr-var-attrs-in' type='checkbox' disabled><label for='attrs-92095a8a-b352-4968-a91c-842b8bddba87' title='Show/Hide attributes'><svg class='icon xr-icon-file-text2'><use xlink:href='#icon-file-text2'></use></svg></label><input id='data-9aacdbc0-3a90-4373-9340-623d73b5f185' class='xr-var-data-in' type='checkbox'><label for='data-9aacdbc0-3a90-4373-9340-623d73b5f185' title='Show/Hide data repr'><svg class='icon xr-icon-database'><use xlink:href='#icon-database'></use></svg></label><div class='xr-var-attrs'><dl class='xr-attrs'></dl></div><div class='xr-var-data'><pre>array([cftime.DatetimeJulian(1961, 1, 16, 0, 0, 0, 0, has_year_zero=False),\n",
       "       cftime.DatetimeJulian(1962, 1, 16, 0, 0, 0, 0, has_year_zero=False),\n",
       "       cftime.DatetimeJulian(1963, 1, 16, 0, 0, 0, 0, has_year_zero=False),\n",
       "       cftime.DatetimeJulian(1964, 1, 16, 0, 0, 0, 0, has_year_zero=False),\n",
       "       cftime.DatetimeJulian(1965, 1, 16, 0, 0, 0, 0, has_year_zero=False),\n",
       "       cftime.DatetimeJulian(1966, 1, 16, 0, 0, 0, 0, has_year_zero=False),\n",
       "       cftime.DatetimeJulian(1967, 1, 16, 0, 0, 0, 0, has_year_zero=False),\n",
       "       cftime.DatetimeJulian(1968, 1, 16, 0, 0, 0, 0, has_year_zero=False),\n",
       "       cftime.DatetimeJulian(1969, 1, 16, 0, 0, 0, 0, has_year_zero=False),\n",
       "       cftime.DatetimeJulian(1970, 1, 16, 0, 0, 0, 0, has_year_zero=False),\n",
       "       cftime.DatetimeJulian(1971, 1, 16, 0, 0, 0, 0, has_year_zero=False),\n",
       "       cftime.DatetimeJulian(1972, 1, 16, 0, 0, 0, 0, has_year_zero=False),\n",
       "       cftime.DatetimeJulian(1973, 1, 16, 0, 0, 0, 0, has_year_zero=False),\n",
       "       cftime.DatetimeJulian(1974, 1, 16, 0, 0, 0, 0, has_year_zero=False),\n",
       "       cftime.DatetimeJulian(1975, 1, 16, 0, 0, 0, 0, has_year_zero=False),\n",
       "       cftime.DatetimeJulian(1976, 1, 16, 0, 0, 0, 0, has_year_zero=False),\n",
       "       cftime.DatetimeJulian(1977, 1, 16, 0, 0, 0, 0, has_year_zero=False),\n",
       "       cftime.DatetimeJulian(1978, 1, 16, 0, 0, 0, 0, has_year_zero=False),\n",
       "       cftime.DatetimeJulian(1979, 1, 16, 0, 0, 0, 0, has_year_zero=False),\n",
       "       cftime.DatetimeJulian(1980, 1, 16, 0, 0, 0, 0, has_year_zero=False),\n",
       "       cftime.DatetimeJulian(1981, 1, 16, 0, 0, 0, 0, has_year_zero=False),\n",
       "       cftime.DatetimeJulian(1982, 1, 16, 0, 0, 0, 0, has_year_zero=False),\n",
       "       cftime.DatetimeJulian(1983, 1, 16, 0, 0, 0, 0, has_year_zero=False),\n",
       "       cftime.DatetimeJulian(1984, 1, 16, 0, 0, 0, 0, has_year_zero=False),\n",
       "       cftime.DatetimeJulian(1985, 1, 16, 0, 0, 0, 0, has_year_zero=False),\n",
       "       cftime.DatetimeJulian(1986, 1, 16, 0, 0, 0, 0, has_year_zero=False),\n",
       "       cftime.DatetimeJulian(1987, 1, 16, 0, 0, 0, 0, has_year_zero=False),\n",
       "       cftime.DatetimeJulian(1988, 1, 16, 0, 0, 0, 0, has_year_zero=False),\n",
       "       cftime.DatetimeJulian(1989, 1, 16, 0, 0, 0, 0, has_year_zero=False),\n",
       "       cftime.DatetimeJulian(1990, 1, 16, 0, 0, 0, 0, has_year_zero=False),\n",
       "       cftime.DatetimeJulian(1991, 1, 16, 0, 0, 0, 0, has_year_zero=False),\n",
       "       cftime.DatetimeJulian(1992, 1, 16, 0, 0, 0, 0, has_year_zero=False),\n",
       "       cftime.DatetimeJulian(1993, 1, 16, 0, 0, 0, 0, has_year_zero=False),\n",
       "       cftime.DatetimeJulian(1994, 1, 16, 0, 0, 0, 0, has_year_zero=False),\n",
       "       cftime.DatetimeJulian(1995, 1, 16, 0, 0, 0, 0, has_year_zero=False),\n",
       "       cftime.DatetimeJulian(1996, 1, 16, 0, 0, 0, 0, has_year_zero=False),\n",
       "       cftime.DatetimeJulian(1997, 1, 16, 0, 0, 0, 0, has_year_zero=False),\n",
       "       cftime.DatetimeJulian(1998, 1, 16, 0, 0, 0, 0, has_year_zero=False),\n",
       "       cftime.DatetimeJulian(1999, 1, 16, 0, 0, 0, 0, has_year_zero=False),\n",
       "       cftime.DatetimeJulian(2000, 1, 16, 0, 0, 0, 0, has_year_zero=False),\n",
       "       cftime.DatetimeJulian(2001, 1, 16, 0, 0, 0, 0, has_year_zero=False),\n",
       "       cftime.DatetimeJulian(2002, 1, 16, 0, 0, 0, 0, has_year_zero=False),\n",
       "       cftime.DatetimeJulian(2003, 1, 16, 0, 0, 0, 0, has_year_zero=False),\n",
       "       cftime.DatetimeJulian(2004, 1, 16, 0, 0, 0, 0, has_year_zero=False),\n",
       "       cftime.DatetimeJulian(2005, 1, 16, 0, 0, 0, 0, has_year_zero=False),\n",
       "       cftime.DatetimeJulian(2006, 1, 16, 0, 0, 0, 0, has_year_zero=False),\n",
       "       cftime.DatetimeJulian(2007, 1, 16, 0, 0, 0, 0, has_year_zero=False),\n",
       "       cftime.DatetimeJulian(2008, 1, 16, 0, 0, 0, 0, has_year_zero=False),\n",
       "       cftime.DatetimeJulian(2009, 1, 16, 0, 0, 0, 0, has_year_zero=False),\n",
       "       cftime.DatetimeJulian(2010, 1, 16, 0, 0, 0, 0, has_year_zero=False),\n",
       "       cftime.DatetimeJulian(2011, 1, 16, 0, 0, 0, 0, has_year_zero=False),\n",
       "       cftime.DatetimeJulian(2012, 1, 16, 0, 0, 0, 0, has_year_zero=False),\n",
       "       cftime.DatetimeJulian(2013, 1, 16, 0, 0, 0, 0, has_year_zero=False),\n",
       "       cftime.DatetimeJulian(2014, 1, 16, 0, 0, 0, 0, has_year_zero=False)],\n",
       "      dtype=object)</pre></div></li><li class='xr-var-item'><div class='xr-var-name'><span class='xr-has-index'>lead_time</span></div><div class='xr-var-dims'>(lead_time)</div><div class='xr-var-dtype'>int64</div><div class='xr-var-preview xr-preview'>0 1 2 3 4 5 6 7 8 9</div><input id='attrs-7a9ce8b7-a434-45b9-803c-221500aee991' class='xr-var-attrs-in' type='checkbox' disabled><label for='attrs-7a9ce8b7-a434-45b9-803c-221500aee991' title='Show/Hide attributes'><svg class='icon xr-icon-file-text2'><use xlink:href='#icon-file-text2'></use></svg></label><input id='data-009da74b-aa55-4afe-a34b-ea4c30da649d' class='xr-var-data-in' type='checkbox'><label for='data-009da74b-aa55-4afe-a34b-ea4c30da649d' title='Show/Hide data repr'><svg class='icon xr-icon-database'><use xlink:href='#icon-database'></use></svg></label><div class='xr-var-attrs'><dl class='xr-attrs'></dl></div><div class='xr-var-data'><pre>array([0, 1, 2, 3, 4, 5, 6, 7, 8, 9])</pre></div></li><li class='xr-var-item'><div class='xr-var-name'><span>time</span></div><div class='xr-var-dims'>(lead_time, init_date)</div><div class='xr-var-dtype'>object</div><div class='xr-var-preview xr-preview'>dask.array&lt;chunksize=(10, 54), meta=np.ndarray&gt;</div><input id='attrs-ac5a8dc9-5a68-4087-95bd-908610ba8b77' class='xr-var-attrs-in' type='checkbox' disabled><label for='attrs-ac5a8dc9-5a68-4087-95bd-908610ba8b77' title='Show/Hide attributes'><svg class='icon xr-icon-file-text2'><use xlink:href='#icon-file-text2'></use></svg></label><input id='data-268b5dc3-83a9-43a0-b29b-995fb615e2c7' class='xr-var-data-in' type='checkbox'><label for='data-268b5dc3-83a9-43a0-b29b-995fb615e2c7' title='Show/Hide data repr'><svg class='icon xr-icon-database'><use xlink:href='#icon-database'></use></svg></label><div class='xr-var-attrs'><dl class='xr-attrs'></dl></div><div class='xr-var-data'><table>\n",
       "<tr>\n",
       "<td>\n",
       "<table>\n",
       "  <thead>\n",
       "    <tr><td> </td><th> Array </th><th> Chunk </th></tr>\n",
       "  </thead>\n",
       "  <tbody>\n",
       "    <tr><th> Bytes </th><td> 4.22 kiB </td> <td> 4.22 kiB </td></tr>\n",
       "    <tr><th> Shape </th><td> (10, 54) </td> <td> (10, 54) </td></tr>\n",
       "    <tr><th> Count </th><td> 2 Tasks </td><td> 1 Chunks </td></tr>\n",
       "    <tr><th> Type </th><td> object </td><td> numpy.ndarray </td></tr>\n",
       "  </tbody>\n",
       "</table>\n",
       "</td>\n",
       "<td>\n",
       "<svg width=\"170\" height=\"91\" style=\"stroke:rgb(0,0,0);stroke-width:1\" >\n",
       "\n",
       "  <!-- Horizontal lines -->\n",
       "  <line x1=\"0\" y1=\"0\" x2=\"120\" y2=\"0\" style=\"stroke-width:2\" />\n",
       "  <line x1=\"0\" y1=\"41\" x2=\"120\" y2=\"41\" style=\"stroke-width:2\" />\n",
       "\n",
       "  <!-- Vertical lines -->\n",
       "  <line x1=\"0\" y1=\"0\" x2=\"0\" y2=\"41\" style=\"stroke-width:2\" />\n",
       "  <line x1=\"120\" y1=\"0\" x2=\"120\" y2=\"41\" style=\"stroke-width:2\" />\n",
       "\n",
       "  <!-- Colored Rectangle -->\n",
       "  <polygon points=\"0.0,0.0 120.0,0.0 120.0,41.67826628825476 0.0,41.67826628825476\" style=\"fill:#ECB172A0;stroke-width:0\"/>\n",
       "\n",
       "  <!-- Text -->\n",
       "  <text x=\"60.000000\" y=\"61.678266\" font-size=\"1.0rem\" font-weight=\"100\" text-anchor=\"middle\" >54</text>\n",
       "  <text x=\"140.000000\" y=\"20.839133\" font-size=\"1.0rem\" font-weight=\"100\" text-anchor=\"middle\" transform=\"rotate(0,140.000000,20.839133)\">10</text>\n",
       "</svg>\n",
       "</td>\n",
       "</tr>\n",
       "</table></div></li></ul></div></li><li class='xr-section-item'><input id='section-29ba0509-7ec8-4c9b-aeb4-bc26d4d0897f' class='xr-section-summary-in' type='checkbox'  checked><label for='section-29ba0509-7ec8-4c9b-aeb4-bc26d4d0897f' class='xr-section-summary' >Data variables: <span>(1)</span></label><div class='xr-section-inline-details'></div><div class='xr-section-details'><ul class='xr-var-list'><li class='xr-var-item'><div class='xr-var-name'><span>pr</span></div><div class='xr-var-dims'>(init_date, ensemble, lead_time)</div><div class='xr-var-dtype'>float64</div><div class='xr-var-preview xr-preview'>dask.array&lt;chunksize=(1, 1, 10), meta=np.ndarray&gt;</div><input id='attrs-948c7cda-8b8c-4f13-b322-c8189e7e80be' class='xr-var-attrs-in' type='checkbox' ><label for='attrs-948c7cda-8b8c-4f13-b322-c8189e7e80be' title='Show/Hide attributes'><svg class='icon xr-icon-file-text2'><use xlink:href='#icon-file-text2'></use></svg></label><input id='data-1f1b5d1b-dea9-454d-bc9f-87c47b5502ee' class='xr-var-data-in' type='checkbox'><label for='data-1f1b5d1b-dea9-454d-bc9f-87c47b5502ee' title='Show/Hide data repr'><svg class='icon xr-icon-database'><use xlink:href='#icon-database'></use></svg></label><div class='xr-var-attrs'><dl class='xr-attrs'><dt><span>cell_measures :</span></dt><dd>area: areacella</dd><dt><span>cell_methods :</span></dt><dd>area: time: mean (interval: 5 minutes)</dd><dt><span>comment :</span></dt><dd>includes both liquid and solid phases</dd><dt><span>long_name :</span></dt><dd>Precipitation</dd><dt><span>original_name :</span></dt><dd>PRECT</dd><dt><span>standard_name :</span></dt><dd>precipitation_flux</dd><dt><span>units :</span></dt><dd>mm month-1</dd></dl></div><div class='xr-var-data'><table>\n",
       "<tr>\n",
       "<td>\n",
       "<table>\n",
       "  <thead>\n",
       "    <tr><td> </td><th> Array </th><th> Chunk </th></tr>\n",
       "  </thead>\n",
       "  <tbody>\n",
       "    <tr><th> Bytes </th><td> 33.75 kiB </td> <td> 80 B </td></tr>\n",
       "    <tr><th> Shape </th><td> (54, 8, 10) </td> <td> (1, 1, 10) </td></tr>\n",
       "    <tr><th> Count </th><td> 433 Tasks </td><td> 432 Chunks </td></tr>\n",
       "    <tr><th> Type </th><td> float64 </td><td> numpy.ndarray </td></tr>\n",
       "  </tbody>\n",
       "</table>\n",
       "</td>\n",
       "<td>\n",
       "<svg width=\"172\" height=\"161\" style=\"stroke:rgb(0,0,0);stroke-width:1\" >\n",
       "\n",
       "  <!-- Horizontal lines -->\n",
       "  <line x1=\"10\" y1=\"0\" x2=\"80\" y2=\"70\" style=\"stroke-width:2\" />\n",
       "  <line x1=\"10\" y1=\"5\" x2=\"80\" y2=\"75\" />\n",
       "  <line x1=\"10\" y1=\"10\" x2=\"80\" y2=\"80\" />\n",
       "  <line x1=\"10\" y1=\"15\" x2=\"80\" y2=\"85\" />\n",
       "  <line x1=\"10\" y1=\"20\" x2=\"80\" y2=\"90\" />\n",
       "  <line x1=\"10\" y1=\"25\" x2=\"80\" y2=\"95\" />\n",
       "  <line x1=\"10\" y1=\"30\" x2=\"80\" y2=\"101\" />\n",
       "  <line x1=\"10\" y1=\"35\" x2=\"80\" y2=\"106\" />\n",
       "  <line x1=\"10\" y1=\"40\" x2=\"80\" y2=\"111\" style=\"stroke-width:2\" />\n",
       "\n",
       "  <!-- Vertical lines -->\n",
       "  <line x1=\"10\" y1=\"0\" x2=\"10\" y2=\"40\" style=\"stroke-width:2\" />\n",
       "  <line x1=\"12\" y1=\"2\" x2=\"12\" y2=\"43\" />\n",
       "  <line x1=\"16\" y1=\"6\" x2=\"16\" y2=\"47\" />\n",
       "  <line x1=\"20\" y1=\"10\" x2=\"20\" y2=\"51\" />\n",
       "  <line x1=\"24\" y1=\"14\" x2=\"24\" y2=\"55\" />\n",
       "  <line x1=\"28\" y1=\"18\" x2=\"28\" y2=\"58\" />\n",
       "  <line x1=\"32\" y1=\"22\" x2=\"32\" y2=\"62\" />\n",
       "  <line x1=\"34\" y1=\"24\" x2=\"34\" y2=\"65\" />\n",
       "  <line x1=\"38\" y1=\"28\" x2=\"38\" y2=\"69\" />\n",
       "  <line x1=\"42\" y1=\"32\" x2=\"42\" y2=\"73\" />\n",
       "  <line x1=\"46\" y1=\"36\" x2=\"46\" y2=\"77\" />\n",
       "  <line x1=\"50\" y1=\"40\" x2=\"50\" y2=\"81\" />\n",
       "  <line x1=\"54\" y1=\"44\" x2=\"54\" y2=\"85\" />\n",
       "  <line x1=\"57\" y1=\"47\" x2=\"57\" y2=\"87\" />\n",
       "  <line x1=\"60\" y1=\"50\" x2=\"60\" y2=\"91\" />\n",
       "  <line x1=\"64\" y1=\"54\" x2=\"64\" y2=\"95\" />\n",
       "  <line x1=\"68\" y1=\"58\" x2=\"68\" y2=\"99\" />\n",
       "  <line x1=\"72\" y1=\"62\" x2=\"72\" y2=\"103\" />\n",
       "  <line x1=\"76\" y1=\"66\" x2=\"76\" y2=\"107\" />\n",
       "  <line x1=\"80\" y1=\"70\" x2=\"80\" y2=\"111\" style=\"stroke-width:2\" />\n",
       "\n",
       "  <!-- Colored Rectangle -->\n",
       "  <polygon points=\"10.0,0.0 80.58823529411765,70.58823529411765 80.58823529411765,111.23447369129667 10.0,40.64623839717901\" style=\"fill:#8B4903A0;stroke-width:0\"/>\n",
       "\n",
       "  <!-- Horizontal lines -->\n",
       "  <line x1=\"10\" y1=\"0\" x2=\"51\" y2=\"0\" style=\"stroke-width:2\" />\n",
       "  <line x1=\"12\" y1=\"2\" x2=\"54\" y2=\"2\" />\n",
       "  <line x1=\"16\" y1=\"6\" x2=\"58\" y2=\"6\" />\n",
       "  <line x1=\"20\" y1=\"10\" x2=\"62\" y2=\"10\" />\n",
       "  <line x1=\"24\" y1=\"14\" x2=\"66\" y2=\"14\" />\n",
       "  <line x1=\"28\" y1=\"18\" x2=\"69\" y2=\"18\" />\n",
       "  <line x1=\"32\" y1=\"22\" x2=\"73\" y2=\"22\" />\n",
       "  <line x1=\"34\" y1=\"24\" x2=\"76\" y2=\"24\" />\n",
       "  <line x1=\"38\" y1=\"28\" x2=\"80\" y2=\"28\" />\n",
       "  <line x1=\"42\" y1=\"32\" x2=\"84\" y2=\"32\" />\n",
       "  <line x1=\"46\" y1=\"36\" x2=\"88\" y2=\"36\" />\n",
       "  <line x1=\"50\" y1=\"40\" x2=\"92\" y2=\"40\" />\n",
       "  <line x1=\"54\" y1=\"44\" x2=\"96\" y2=\"44\" />\n",
       "  <line x1=\"57\" y1=\"47\" x2=\"98\" y2=\"47\" />\n",
       "  <line x1=\"60\" y1=\"50\" x2=\"102\" y2=\"50\" />\n",
       "  <line x1=\"64\" y1=\"54\" x2=\"106\" y2=\"54\" />\n",
       "  <line x1=\"68\" y1=\"58\" x2=\"110\" y2=\"58\" />\n",
       "  <line x1=\"72\" y1=\"62\" x2=\"114\" y2=\"62\" />\n",
       "  <line x1=\"76\" y1=\"66\" x2=\"118\" y2=\"66\" />\n",
       "  <line x1=\"80\" y1=\"70\" x2=\"122\" y2=\"70\" style=\"stroke-width:2\" />\n",
       "\n",
       "  <!-- Vertical lines -->\n",
       "  <line x1=\"10\" y1=\"0\" x2=\"80\" y2=\"70\" style=\"stroke-width:2\" />\n",
       "  <line x1=\"51\" y1=\"0\" x2=\"122\" y2=\"70\" style=\"stroke-width:2\" />\n",
       "\n",
       "  <!-- Colored Rectangle -->\n",
       "  <polygon points=\"10.0,0.0 51.67826628825476,0.0 122.26650158237241,70.58823529411765 80.58823529411765,70.58823529411765\" style=\"fill:#8B4903A0;stroke-width:0\"/>\n",
       "\n",
       "  <!-- Horizontal lines -->\n",
       "  <line x1=\"80\" y1=\"70\" x2=\"122\" y2=\"70\" style=\"stroke-width:2\" />\n",
       "  <line x1=\"80\" y1=\"75\" x2=\"122\" y2=\"75\" />\n",
       "  <line x1=\"80\" y1=\"80\" x2=\"122\" y2=\"80\" />\n",
       "  <line x1=\"80\" y1=\"85\" x2=\"122\" y2=\"85\" />\n",
       "  <line x1=\"80\" y1=\"90\" x2=\"122\" y2=\"90\" />\n",
       "  <line x1=\"80\" y1=\"95\" x2=\"122\" y2=\"95\" />\n",
       "  <line x1=\"80\" y1=\"101\" x2=\"122\" y2=\"101\" />\n",
       "  <line x1=\"80\" y1=\"106\" x2=\"122\" y2=\"106\" />\n",
       "  <line x1=\"80\" y1=\"111\" x2=\"122\" y2=\"111\" style=\"stroke-width:2\" />\n",
       "\n",
       "  <!-- Vertical lines -->\n",
       "  <line x1=\"80\" y1=\"70\" x2=\"80\" y2=\"111\" style=\"stroke-width:2\" />\n",
       "  <line x1=\"122\" y1=\"70\" x2=\"122\" y2=\"111\" style=\"stroke-width:2\" />\n",
       "\n",
       "  <!-- Colored Rectangle -->\n",
       "  <polygon points=\"80.58823529411765,70.58823529411765 122.26650158237241,70.58823529411765 122.26650158237241,111.23447369129667 80.58823529411765,111.23447369129667\" style=\"fill:#ECB172A0;stroke-width:0\"/>\n",
       "\n",
       "  <!-- Text -->\n",
       "  <text x=\"101.427368\" y=\"131.234474\" font-size=\"1.0rem\" font-weight=\"100\" text-anchor=\"middle\" >10</text>\n",
       "  <text x=\"142.266502\" y=\"90.911354\" font-size=\"1.0rem\" font-weight=\"100\" text-anchor=\"middle\" transform=\"rotate(0,142.266502,90.911354)\">8</text>\n",
       "  <text x=\"35.294118\" y=\"95.940356\" font-size=\"1.0rem\" font-weight=\"100\" text-anchor=\"middle\" transform=\"rotate(45,35.294118,95.940356)\">54</text>\n",
       "</svg>\n",
       "</td>\n",
       "</tr>\n",
       "</table></div></li></ul></div></li><li class='xr-section-item'><input id='section-f13640b2-0c2b-4b01-9e2f-9bbde23838f8' class='xr-section-summary-in' type='checkbox'  ><label for='section-f13640b2-0c2b-4b01-9e2f-9bbde23838f8' class='xr-section-summary' >Attributes: <span>(49)</span></label><div class='xr-section-inline-details'></div><div class='xr-section-details'><dl class='xr-attrs'><dt><span>Conventions :</span></dt><dd>CF-1.7 CMIP-6.2</dd><dt><span>activity_id :</span></dt><dd>DCPP</dd><dt><span>branch_method :</span></dt><dd>no parent</dd><dt><span>branch_time_in_child :</span></dt><dd>0.0</dd><dt><span>branch_time_in_parent :</span></dt><dd>0.0</dd><dt><span>cmor_version :</span></dt><dd>3.3.2</dd><dt><span>comment :</span></dt><dd>The model 10-year-long hindcast integration starts from every October 1, November 1, December 1 of previous year, and January 1 of current year during the period of 1961-2014. The initial states are derived from two nudging experiments with  the oceanic temperature and salinity relaxing to the monthly observed anomaly data from the Simple Ocean Data Assimilation(SODA). The two nudging experiments were integrated from 1958 to 2014 and initialed from the Historical experiment of BCC_CSM_MR (January 1 of 1958) with difference on restore time scale</dd><dt><span>contact :</span></dt><dd>Dr. Tongwen Wu(twwu@cma.gov.cn)</dd><dt><span>creation_date :</span></dt><dd>2019-11-26T07:20:53Z</dd><dt><span>data_specs_version :</span></dt><dd>01.00.27</dd><dt><span>description :</span></dt><dd>dcppA-hindcast:s1961</dd><dt><span>experiment :</span></dt><dd>hindcast initialized based on observations and using historical forcing</dd><dt><span>experiment_id :</span></dt><dd>dcppA-hindcast</dd><dt><span>external_variables :</span></dt><dd>areacella</dd><dt><span>forcing_index :</span></dt><dd>1</dd><dt><span>frequency :</span></dt><dd>mon</dd><dt><span>further_info_url :</span></dt><dd>https://furtherinfo.es-doc.org/CMIP6.BCC.BCC-CSM2-MR.dcppA-hindcast.s1961.r1i1p1f1</dd><dt><span>grid :</span></dt><dd>T106</dd><dt><span>grid_label :</span></dt><dd>gn</dd><dt><span>history :</span></dt><dd>Mon Mar 07 17:04:46 2022: /g/data/xv83/dbi599/miniconda3/envs/unseen/bin/python3.9 /g/data/xv83/dbi599/miniconda3/envs/unseen/bin/fileio file_lists/BCC-CSM2-MR_dcppA-hindcast_files.txt /g/data/xv83/dbi599/nov-rain/data/pr_BCC-CSM2-MR-dcppA-hindcast_196101-201401_nov_aus-mean.zarr.zip --forecast --variables pr --spatial_coords -44 -11 113 154 --month 11 --shapefile /g/data/xv83/dbi599/nov-rain/shapefiles/australia.shp --spatial_agg mean --units pr=mm month-1 --units_timing middle --n_ensemble_files 8 --reset_times --output_chunks lead_time=50 --dask_config dask_local.yml --verbose (git@github.com:AusClimateService/nov-rain)</dd><dt><span>initialization_index :</span></dt><dd>1</dd><dt><span>institution :</span></dt><dd>Beijing Climate Center, Beijing 100081, China</dd><dt><span>institution_id :</span></dt><dd>BCC</dd><dt><span>license :</span></dt><dd>CMIP6 model data produced by BCC is licensed under a Creative Commons Attribution ShareAlike 4.0 International License (https://creativecommons.org/licenses). Consult https://pcmdi.llnl.gov/CMIP6/TermsOfUse for terms of use governing CMIP6 output, including citation requirements and proper acknowledgment. Further information about this data, including some limitations, can be found via the further_info_url (recorded as a global attribute in this file) and at https:///pcmdi.llnl.gov/. The data producers and data providers make no warranty, either express or implied, including, but not limited to, warranties of merchantability and fitness for a particular purpose. All liabilities arising from the supply of the information (including any liability arising in negligence) are excluded to the fullest extent permitted by law.</dd><dt><span>mip_era :</span></dt><dd>CMIP6</dd><dt><span>nominal_resolution :</span></dt><dd>100 km</dd><dt><span>parent_activity_id :</span></dt><dd>no parent</dd><dt><span>parent_experiment_id :</span></dt><dd>no parent</dd><dt><span>parent_mip_era :</span></dt><dd>no parent</dd><dt><span>parent_source_id :</span></dt><dd>no parent</dd><dt><span>parent_time_units :</span></dt><dd>no parent</dd><dt><span>parent_variant_label :</span></dt><dd>no parent</dd><dt><span>physics_index :</span></dt><dd>1</dd><dt><span>product :</span></dt><dd>model-output</dd><dt><span>realization_index :</span></dt><dd>1</dd><dt><span>realm :</span></dt><dd>atmos</dd><dt><span>references :</span></dt><dd>Model described by Tongwen Wu et al. (JGR 2013; JMR 2014; GMD 2019). Also see http://forecast.bcccsm.ncc-cma.net/htm</dd><dt><span>run_variant :</span></dt><dd>forcing: greenhouse gases,solar constant,aerosol,volcano mass,land use,ozone</dd><dt><span>source :</span></dt><dd>BCC-CSM 2 MR (2017):   aerosol: none  atmos: BCC_AGCM3_MR (T106; 320 x 160 longitude/latitude; 46 levels; top level 1.46 hPa)  atmosChem: none  land: BCC_AVIM2  landIce: none  ocean: MOM4 (1/3 deg 10S-10N, 1/3-1 deg 10-30 N/S, and 1 deg in high latitudes; 360 x 232 longitude/latitude; 40 levels; top grid cell 0-10 m)  ocnBgchem: none  seaIce: SIS2</dd><dt><span>source_id :</span></dt><dd>BCC-CSM2-MR</dd><dt><span>source_type :</span></dt><dd>AOGCM</dd><dt><span>sub_experiment :</span></dt><dd>initialized near end of year 1961</dd><dt><span>sub_experiment_id :</span></dt><dd>s1961</dd><dt><span>table_id :</span></dt><dd>Amon</dd><dt><span>table_info :</span></dt><dd>Creation Date:(30 July 2018) MD5:e53ff52009d0b97d9d867dc12b6096c7</dd><dt><span>title :</span></dt><dd>BCC-CSM2-MR output prepared for CMIP6</dd><dt><span>tracking_id :</span></dt><dd>hdl:21.14100/bade3d12-e938-4e20-806b-ef2de6025814</dd><dt><span>variable_id :</span></dt><dd>pr</dd><dt><span>variant_label :</span></dt><dd>r1i1p1f1</dd></dl></div></li></ul></div></div>"
      ],
      "text/plain": [
       "<xarray.Dataset>\n",
       "Dimensions:    (ensemble: 8, init_date: 54, lead_time: 10)\n",
       "Coordinates:\n",
       "  * ensemble   (ensemble) int64 0 1 2 3 4 5 6 7\n",
       "  * init_date  (init_date) object 1961-01-16 00:00:00 ... 2014-01-16 00:00:00\n",
       "  * lead_time  (lead_time) int64 0 1 2 3 4 5 6 7 8 9\n",
       "    time       (lead_time, init_date) object dask.array<chunksize=(10, 54), meta=np.ndarray>\n",
       "Data variables:\n",
       "    pr         (init_date, ensemble, lead_time) float64 dask.array<chunksize=(1, 1, 10), meta=np.ndarray>\n",
       "Attributes: (12/49)\n",
       "    Conventions:            CF-1.7 CMIP-6.2\n",
       "    activity_id:            DCPP\n",
       "    branch_method:          no parent\n",
       "    branch_time_in_child:   0.0\n",
       "    branch_time_in_parent:  0.0\n",
       "    cmor_version:           3.3.2\n",
       "    ...                     ...\n",
       "    table_id:               Amon\n",
       "    table_info:             Creation Date:(30 July 2018) MD5:e53ff52009d0b97d...\n",
       "    title:                  BCC-CSM2-MR output prepared for CMIP6\n",
       "    tracking_id:            hdl:21.14100/bade3d12-e938-4e20-806b-ef2de6025814\n",
       "    variable_id:            pr\n",
       "    variant_label:          r1i1p1f1"
      ]
     },
     "execution_count": 16,
     "metadata": {},
     "output_type": "execute_result"
    }
   ],
   "source": [
    "model_ds"
   ]
  },
  {
   "cell_type": "markdown",
   "id": "b25bd815",
   "metadata": {
    "papermill": {
     "duration": 0.053638,
     "end_time": "2022-03-09T00:07:07.128473",
     "exception": false,
     "start_time": "2022-03-09T00:07:07.074835",
     "status": "completed"
    },
    "tags": []
   },
   "source": [
    "### Independence testing"
   ]
  },
  {
   "cell_type": "code",
   "execution_count": 17,
   "id": "b819d698",
   "metadata": {
    "execution": {
     "iopub.execute_input": "2022-03-09T00:07:07.245997Z",
     "iopub.status.busy": "2022-03-09T00:07:07.244767Z",
     "iopub.status.idle": "2022-03-09T00:07:07.256216Z",
     "shell.execute_reply": "2022-03-09T00:07:07.254911Z"
    },
    "papermill": {
     "duration": 0.072695,
     "end_time": "2022-03-09T00:07:07.256546",
     "exception": false,
     "start_time": "2022-03-09T00:07:07.183851",
     "status": "completed"
    },
    "tags": []
   },
   "outputs": [
    {
     "data": {
      "image/png": "[encoded data removed]",
      "text/plain": [
       "<IPython.core.display.Image object>"
      ]
     },
     "execution_count": 17,
     "metadata": {},
     "output_type": "execute_result"
    }
   ],
   "source": [
    "Image(filename=independence_plot)"
   ]
  },
  {
   "cell_type": "code",
   "execution_count": 18,
   "id": "a5ccabe2",
   "metadata": {
    "execution": {
     "iopub.execute_input": "2022-03-09T00:07:07.382990Z",
     "iopub.status.busy": "2022-03-09T00:07:07.381488Z",
     "iopub.status.idle": "2022-03-09T00:07:07.387795Z",
     "shell.execute_reply": "2022-03-09T00:07:07.386899Z"
    },
    "papermill": {
     "duration": 0.072866,
     "end_time": "2022-03-09T00:07:07.388030",
     "exception": false,
     "start_time": "2022-03-09T00:07:07.315164",
     "status": "completed"
    },
    "tags": []
   },
   "outputs": [
    {
     "name": "stdout",
     "output_type": "stream",
     "text": [
      "1\n"
     ]
    }
   ],
   "source": [
    "print(min_lead)"
   ]
  },
  {
   "cell_type": "code",
   "execution_count": 19,
   "id": "e055048c",
   "metadata": {
    "execution": {
     "iopub.execute_input": "2022-03-09T00:07:07.519582Z",
     "iopub.status.busy": "2022-03-09T00:07:07.515439Z",
     "iopub.status.idle": "2022-03-09T00:07:07.525498Z",
     "shell.execute_reply": "2022-03-09T00:07:07.524186Z"
    },
    "papermill": {
     "duration": 0.081291,
     "end_time": "2022-03-09T00:07:07.525873",
     "exception": false,
     "start_time": "2022-03-09T00:07:07.444582",
     "status": "completed"
    },
    "tags": []
   },
   "outputs": [],
   "source": [
    "model_da = model_ds['pr'].where(model_ds['lead_time'] >= min_lead)"
   ]
  },
  {
   "cell_type": "markdown",
   "id": "1e039e61",
   "metadata": {
    "papermill": {
     "duration": 0.060763,
     "end_time": "2022-03-09T00:07:07.648552",
     "exception": false,
     "start_time": "2022-03-09T00:07:07.587789",
     "status": "completed"
    },
    "tags": []
   },
   "source": [
    "### Bias correction and similarity testing"
   ]
  },
  {
   "cell_type": "code",
   "execution_count": 20,
   "id": "110c554e",
   "metadata": {
    "execution": {
     "iopub.execute_input": "2022-03-09T00:07:07.825854Z",
     "iopub.status.busy": "2022-03-09T00:07:07.782508Z",
     "iopub.status.idle": "2022-03-09T00:07:12.323522Z",
     "shell.execute_reply": "2022-03-09T00:07:12.322599Z"
    },
    "papermill": {
     "duration": 4.618496,
     "end_time": "2022-03-09T00:07:12.323778",
     "exception": false,
     "start_time": "2022-03-09T00:07:07.705282",
     "status": "completed"
    },
    "tags": []
   },
   "outputs": [
    {
     "data": {
      "image/png": "[encoded data removed]",
      "text/plain": [
       "<Figure size 720x432 with 1 Axes>"
      ]
     },
     "metadata": {
      "needs_background": "light"
     },
     "output_type": "display_data"
    }
   ],
   "source": [
    "fig = plt.figure(figsize=[10, 6])\n",
    "model_da.plot.hist(bins=50, density=True, label=model_name, alpha=0.7)\n",
    "model_bc_ds['pr'].plot.hist(bins=50, density=True, label=f'{model_name} bias corrected', facecolor='darkblue', alpha=0.7)\n",
    "bom_ds['pr'].plot.hist(bins=50, density=True, label='BoM', facecolor='green', alpha=0.7)\n",
    "plt.xlabel('precipitation (mm)')\n",
    "plt.ylabel('probability')\n",
    "plt.title(f'November rainfall for Australia ({model_name})')\n",
    "plt.legend()\n",
    "plt.savefig(f'/g/data/xv83/dbi599/nov-rain/figures/nov_precip_histogram_aus_{model_name}.png',\n",
    "            bbox_inches='tight', facecolor='white', dpi=dpi)\n",
    "plt.show()"
   ]
  },
  {
   "cell_type": "code",
   "execution_count": 21,
   "id": "8b3f7de0",
   "metadata": {
    "execution": {
     "iopub.execute_input": "2022-03-09T00:07:12.471933Z",
     "iopub.status.busy": "2022-03-09T00:07:12.470503Z",
     "iopub.status.idle": "2022-03-09T00:07:12.517677Z",
     "shell.execute_reply": "2022-03-09T00:07:12.518670Z"
    },
    "papermill": {
     "duration": 0.129074,
     "end_time": "2022-03-09T00:07:12.519149",
     "exception": false,
     "start_time": "2022-03-09T00:07:12.390075",
     "status": "completed"
    },
    "tags": []
   },
   "outputs": [
    {
     "data": {
      "text/plain": [
       "array([0.94184341, 0.97471305, 0.67310588, 0.96562814, 0.9105091 ,\n",
       "       0.9546865 , 0.56523589, 0.56523589, 0.61886629])"
      ]
     },
     "execution_count": 21,
     "metadata": {},
     "output_type": "execute_result"
    }
   ],
   "source": [
    "similarity_bias_ds = fileio.open_dataset(similarity_bc_file)\n",
    "similarity_bias_ds['pval'].values"
   ]
  },
  {
   "cell_type": "code",
   "execution_count": 22,
   "id": "a21af1f7",
   "metadata": {
    "execution": {
     "iopub.execute_input": "2022-03-09T00:07:12.812650Z",
     "iopub.status.busy": "2022-03-09T00:07:12.811634Z",
     "iopub.status.idle": "2022-03-09T00:07:12.864083Z",
     "shell.execute_reply": "2022-03-09T00:07:12.862279Z"
    },
    "papermill": {
     "duration": 0.125267,
     "end_time": "2022-03-09T00:07:12.864642",
     "exception": false,
     "start_time": "2022-03-09T00:07:12.739375",
     "status": "completed"
    },
    "tags": []
   },
   "outputs": [
    {
     "data": {
      "text/plain": [
       "array([0.09311706, 0.31038539, 0.25683544, 0.39303388, 0.07289809,\n",
       "       0.70012729, 0.35011638, 0.51307767, 0.29173113, 0.13706674])"
      ]
     },
     "execution_count": 22,
     "metadata": {},
     "output_type": "execute_result"
    }
   ],
   "source": [
    "similarity_raw_ds = fileio.open_dataset(similarity_raw_file)\n",
    "similarity_raw_ds['pval'].values"
   ]
  },
  {
   "cell_type": "markdown",
   "id": "1a8210c0",
   "metadata": {
    "papermill": {
     "duration": 0.06342,
     "end_time": "2022-03-09T00:07:12.989140",
     "exception": false,
     "start_time": "2022-03-09T00:07:12.925720",
     "status": "completed"
    },
    "tags": []
   },
   "source": [
    "These are the p-values for each lead time.\n",
    "\n",
    "p > 0.05 means the null hypothesis (that the two samples are from the same population) can't be rejected."
   ]
  },
  {
   "cell_type": "markdown",
   "id": "692c7b58",
   "metadata": {
    "papermill": {
     "duration": 0.061245,
     "end_time": "2022-03-09T00:07:13.110466",
     "exception": false,
     "start_time": "2022-03-09T00:07:13.049221",
     "status": "completed"
    },
    "tags": []
   },
   "source": [
    "### Exceedance curves"
   ]
  },
  {
   "cell_type": "code",
   "execution_count": 23,
   "id": "76186045",
   "metadata": {
    "execution": {
     "iopub.execute_input": "2022-03-09T00:07:13.246751Z",
     "iopub.status.busy": "2022-03-09T00:07:13.245050Z",
     "iopub.status.idle": "2022-03-09T00:07:13.250270Z",
     "shell.execute_reply": "2022-03-09T00:07:13.249054Z"
    },
    "papermill": {
     "duration": 0.080589,
     "end_time": "2022-03-09T00:07:13.250570",
     "exception": false,
     "start_time": "2022-03-09T00:07:13.169981",
     "status": "completed"
    },
    "tags": []
   },
   "outputs": [],
   "source": [
    "def plot_exceedance(sample_ds, model_name, outfile=None):\n",
    "    \"\"\"Plot single exceedance curve\"\"\"\n",
    "    \n",
    "    sorted_data, exceedance_data = general_utils.exceedance_curve(sample_ds)\n",
    "    \n",
    "    fig = plt.figure(figsize=[8, 6])\n",
    "    ax = fig.add_subplot()\n",
    "    ax.plot(sorted_data, exceedance_data)\n",
    "    ax.set_title(f'November rainfall for Australia ({model_name})')\n",
    "    ax.set_ylabel('likelihood of exceedance (%)')\n",
    "    ax.set_xlabel('monthly precipitation (mm)')\n",
    "    ax.axvline(pr2021, color='0.5', linestyle='--')\n",
    "    if outfile:\n",
    "        plt.savefig(outfile, bbox_inches='tight', facecolor='white', dpi=dpi)\n",
    "        print(outfile)\n",
    "    else:\n",
    "        plt.show()"
   ]
  },
  {
   "cell_type": "code",
   "execution_count": 24,
   "id": "116edf55",
   "metadata": {
    "execution": {
     "iopub.execute_input": "2022-03-09T00:07:13.391195Z",
     "iopub.status.busy": "2022-03-09T00:07:13.389484Z",
     "iopub.status.idle": "2022-03-09T00:07:13.395340Z",
     "shell.execute_reply": "2022-03-09T00:07:13.394269Z"
    },
    "papermill": {
     "duration": 0.083953,
     "end_time": "2022-03-09T00:07:13.395700",
     "exception": false,
     "start_time": "2022-03-09T00:07:13.311747",
     "status": "completed"
    },
    "tags": []
   },
   "outputs": [],
   "source": [
    "def plot_exceedance_by_decade(sample_ds, model_name):\n",
    "    \"\"\"Plot exceedance curve by decade\"\"\"\n",
    "\n",
    "    fig = plt.figure(figsize=[8, 6])\n",
    "    ax = fig.add_subplot()\n",
    "    start_years = [1960, 1970, 1980, 1990, 2000, 2010]\n",
    "    colors = iter(plt.cm.hot_r(np.linspace(0.3, 1, len(start_years))))\n",
    "\n",
    "    for start_year in start_years:\n",
    "        end_year = start_year + 9\n",
    "        start_date = f'{start_year}-01-01'\n",
    "        end_date = f'{end_year}-12-25'\n",
    "        ds_selection = time_utils.select_time_period(sample_ds, [start_date, end_date])\n",
    "        ds_selection = ds_selection.dropna('sample')\n",
    "        sorted_data, exceedance_data = general_utils.exceedance_curve(ds_selection)\n",
    "        n_years = len(sorted_data)\n",
    "        label = f'{start_year}-{end_year} ({n_years} samples)'\n",
    "        color = next(colors)\n",
    "        ax.plot(sorted_data, exceedance_data, label=label, color=color)\n",
    "    \n",
    "        print(f'{start_year}-{end_year}')\n",
    "        percentile, return_period = general_utils.event_in_context(ds_selection.values, pr2021, 'above')\n",
    "        print(f'{percentile:.2f}% percentile')\n",
    "        print(f'{return_period:.0f} year return period\\n')\n",
    "\n",
    "    ax.set_title(f'November rainfall for Australia ({model_name})')\n",
    "    ax.set_ylabel('likelihood of exceedance (%)')\n",
    "    ax.set_xlabel('monthly precipitation (mm)')\n",
    "    ax.legend()\n",
    "    ax.axvline(pr2021, color='0.5', linestyle='--')\n",
    "    outfile = f'/g/data/xv83/dbi599/nov-rain/figures/nov_precip_exceedence_aus_{model_name}_by-decade.png'\n",
    "    plt.savefig(outfile, bbox_inches='tight', facecolor='white', dpi=dpi)\n",
    "    print(outfile)"
   ]
  },
  {
   "cell_type": "markdown",
   "id": "d6a40828",
   "metadata": {
    "papermill": {
     "duration": 0.060208,
     "end_time": "2022-03-09T00:07:13.518857",
     "exception": false,
     "start_time": "2022-03-09T00:07:13.458649",
     "status": "completed"
    },
    "tags": []
   },
   "source": [
    "#### Bias corrected data"
   ]
  },
  {
   "cell_type": "code",
   "execution_count": 25,
   "id": "f0b0019b",
   "metadata": {
    "execution": {
     "iopub.execute_input": "2022-03-09T00:07:13.654529Z",
     "iopub.status.busy": "2022-03-09T00:07:13.653463Z",
     "iopub.status.idle": "2022-03-09T00:07:15.235302Z",
     "shell.execute_reply": "2022-03-09T00:07:15.234345Z"
    },
    "papermill": {
     "duration": 1.654051,
     "end_time": "2022-03-09T00:07:15.235555",
     "exception": false,
     "start_time": "2022-03-09T00:07:13.581504",
     "status": "completed"
    },
    "tags": []
   },
   "outputs": [],
   "source": [
    "model_bc_da_stacked = model_bc_ds.dropna('lead_time')['pr'].stack({'sample': ['ensemble', 'init_date', 'lead_time']})"
   ]
  },
  {
   "cell_type": "code",
   "execution_count": 26,
   "id": "7d4fdc9e",
   "metadata": {
    "execution": {
     "iopub.execute_input": "2022-03-09T00:07:15.372219Z",
     "iopub.status.busy": "2022-03-09T00:07:15.371192Z",
     "iopub.status.idle": "2022-03-09T00:07:15.379270Z",
     "shell.execute_reply": "2022-03-09T00:07:15.378322Z"
    },
    "papermill": {
     "duration": 0.07818,
     "end_time": "2022-03-09T00:07:15.379588",
     "exception": false,
     "start_time": "2022-03-09T00:07:15.301408",
     "status": "completed"
    },
    "tags": []
   },
   "outputs": [
    {
     "data": {
      "text/plain": [
       "(3888,)"
      ]
     },
     "execution_count": 26,
     "metadata": {},
     "output_type": "execute_result"
    }
   ],
   "source": [
    "model_bc_da_stacked.shape"
   ]
  },
  {
   "cell_type": "code",
   "execution_count": 27,
   "id": "59075ebb",
   "metadata": {
    "execution": {
     "iopub.execute_input": "2022-03-09T00:07:15.676466Z",
     "iopub.status.busy": "2022-03-09T00:07:15.671733Z",
     "iopub.status.idle": "2022-03-09T00:07:18.163903Z",
     "shell.execute_reply": "2022-03-09T00:07:18.162990Z"
    },
    "papermill": {
     "duration": 2.722737,
     "end_time": "2022-03-09T00:07:18.164184",
     "exception": false,
     "start_time": "2022-03-09T00:07:15.441447",
     "status": "completed"
    },
    "tags": []
   },
   "outputs": [
    {
     "name": "stdout",
     "output_type": "stream",
     "text": [
      "/g/data/xv83/dbi599/nov-rain/figures/nov_precip_exceedence_aus_BCC-CSM2-MR.png\n"
     ]
    },
    {
     "data": {
      "image/png": "[encoded data removed]",
      "text/plain": [
       "<Figure size 576x432 with 1 Axes>"
      ]
     },
     "metadata": {
      "needs_background": "light"
     },
     "output_type": "display_data"
    }
   ],
   "source": [
    "outfile = f'/g/data/xv83/dbi599/nov-rain/figures/nov_precip_exceedence_aus_{model_name}.png'\n",
    "plot_exceedance(model_bc_da_stacked, model_name, outfile=outfile)"
   ]
  },
  {
   "cell_type": "code",
   "execution_count": 28,
   "id": "39e4acf0",
   "metadata": {
    "execution": {
     "iopub.execute_input": "2022-03-09T00:07:18.320067Z",
     "iopub.status.busy": "2022-03-09T00:07:18.304581Z",
     "iopub.status.idle": "2022-03-09T00:07:19.962475Z",
     "shell.execute_reply": "2022-03-09T00:07:19.960351Z"
    },
    "papermill": {
     "duration": 1.734625,
     "end_time": "2022-03-09T00:07:19.963016",
     "exception": false,
     "start_time": "2022-03-09T00:07:18.228391",
     "status": "completed"
    },
    "tags": []
   },
   "outputs": [
    {
     "name": "stdout",
     "output_type": "stream",
     "text": [
      "BIAS CORRECTED DATA\n",
      "98.05% percentile\n",
      "51 year return period\n"
     ]
    }
   ],
   "source": [
    "percentile_bc, return_period_bc = general_utils.event_in_context(model_bc_da_stacked.values, pr2021, 'above')\n",
    "print('BIAS CORRECTED DATA')\n",
    "print(f'{percentile_bc:.2f}% percentile')\n",
    "print(f'{return_period_bc:.0f} year return period')"
   ]
  },
  {
   "cell_type": "code",
   "execution_count": 29,
   "id": "7789699c",
   "metadata": {
    "execution": {
     "iopub.execute_input": "2022-03-09T00:07:20.149404Z",
     "iopub.status.busy": "2022-03-09T00:07:20.147185Z",
     "iopub.status.idle": "2022-03-09T00:07:38.266007Z",
     "shell.execute_reply": "2022-03-09T00:07:38.264767Z"
    },
    "papermill": {
     "duration": 18.225356,
     "end_time": "2022-03-09T00:07:38.266298",
     "exception": false,
     "start_time": "2022-03-09T00:07:20.040942",
     "status": "completed"
    },
    "tags": []
   },
   "outputs": [
    {
     "name": "stdout",
     "output_type": "stream",
     "text": [
      "1960-1969\n"
     ]
    },
    {
     "name": "stdout",
     "output_type": "stream",
     "text": [
      "98.26% percentile\n",
      "58 year return period\n",
      "\n"
     ]
    },
    {
     "name": "stdout",
     "output_type": "stream",
     "text": [
      "1970-1979\n"
     ]
    },
    {
     "name": "stdout",
     "output_type": "stream",
     "text": [
      "98.19% percentile\n",
      "55 year return period\n",
      "\n"
     ]
    },
    {
     "name": "stdout",
     "output_type": "stream",
     "text": [
      "1980-1989\n"
     ]
    },
    {
     "name": "stdout",
     "output_type": "stream",
     "text": [
      "98.75% percentile\n",
      "80 year return period\n",
      "\n"
     ]
    },
    {
     "name": "stdout",
     "output_type": "stream",
     "text": [
      "1990-1999\n"
     ]
    },
    {
     "name": "stdout",
     "output_type": "stream",
     "text": [
      "98.19% percentile\n",
      "55 year return period\n",
      "\n"
     ]
    },
    {
     "name": "stdout",
     "output_type": "stream",
     "text": [
      "2000-2009\n"
     ]
    },
    {
     "name": "stdout",
     "output_type": "stream",
     "text": [
      "97.08% percentile\n",
      "34 year return period\n",
      "\n"
     ]
    },
    {
     "name": "stdout",
     "output_type": "stream",
     "text": [
      "2010-2019\n"
     ]
    },
    {
     "name": "stdout",
     "output_type": "stream",
     "text": [
      "97.66% percentile\n",
      "43 year return period\n",
      "\n"
     ]
    },
    {
     "name": "stdout",
     "output_type": "stream",
     "text": [
      "/g/data/xv83/dbi599/nov-rain/figures/nov_precip_exceedence_aus_BCC-CSM2-MR_by-decade.png\n"
     ]
    },
    {
     "data": {
      "image/png": "[encoded data removed]",
      "text/plain": [
       "<Figure size 576x432 with 1 Axes>"
      ]
     },
     "metadata": {
      "needs_background": "light"
     },
     "output_type": "display_data"
    }
   ],
   "source": [
    "plot_exceedance_by_decade(model_bc_da_stacked, model_name)"
   ]
  },
  {
   "cell_type": "markdown",
   "id": "c6a2c14c",
   "metadata": {
    "papermill": {
     "duration": 0.077766,
     "end_time": "2022-03-09T00:07:38.420249",
     "exception": false,
     "start_time": "2022-03-09T00:07:38.342483",
     "status": "completed"
    },
    "tags": []
   },
   "source": [
    "#### Raw data"
   ]
  },
  {
   "cell_type": "code",
   "execution_count": 30,
   "id": "6b40107c",
   "metadata": {
    "execution": {
     "iopub.execute_input": "2022-03-09T00:07:38.600389Z",
     "iopub.status.busy": "2022-03-09T00:07:38.575924Z",
     "iopub.status.idle": "2022-03-09T00:07:40.047191Z",
     "shell.execute_reply": "2022-03-09T00:07:40.046180Z"
    },
    "papermill": {
     "duration": 1.555559,
     "end_time": "2022-03-09T00:07:40.047472",
     "exception": false,
     "start_time": "2022-03-09T00:07:38.491913",
     "status": "completed"
    },
    "tags": []
   },
   "outputs": [],
   "source": [
    "model_da_stacked = model_da.dropna('lead_time').stack({'sample': ['ensemble', 'init_date', 'lead_time']})"
   ]
  },
  {
   "cell_type": "code",
   "execution_count": 31,
   "id": "10aaf4a0",
   "metadata": {
    "execution": {
     "iopub.execute_input": "2022-03-09T00:07:40.204650Z",
     "iopub.status.busy": "2022-03-09T00:07:40.203719Z",
     "iopub.status.idle": "2022-03-09T00:07:40.211953Z",
     "shell.execute_reply": "2022-03-09T00:07:40.211297Z"
    },
    "papermill": {
     "duration": 0.091753,
     "end_time": "2022-03-09T00:07:40.212285",
     "exception": false,
     "start_time": "2022-03-09T00:07:40.120532",
     "status": "completed"
    },
    "tags": []
   },
   "outputs": [
    {
     "data": {
      "text/plain": [
       "(3888,)"
      ]
     },
     "execution_count": 31,
     "metadata": {},
     "output_type": "execute_result"
    }
   ],
   "source": [
    "model_da_stacked.shape"
   ]
  },
  {
   "cell_type": "code",
   "execution_count": 32,
   "id": "cb75fa43",
   "metadata": {
    "execution": {
     "iopub.execute_input": "2022-03-09T00:07:40.404445Z",
     "iopub.status.busy": "2022-03-09T00:07:40.383807Z",
     "iopub.status.idle": "2022-03-09T00:07:42.035889Z",
     "shell.execute_reply": "2022-03-09T00:07:42.034518Z"
    },
    "papermill": {
     "duration": 1.745234,
     "end_time": "2022-03-09T00:07:42.036279",
     "exception": false,
     "start_time": "2022-03-09T00:07:40.291045",
     "status": "completed"
    },
    "tags": []
   },
   "outputs": [
    {
     "data": {
      "image/png": "[encoded data removed]",
      "text/plain": [
       "<Figure size 576x432 with 1 Axes>"
      ]
     },
     "metadata": {
      "needs_background": "light"
     },
     "output_type": "display_data"
    }
   ],
   "source": [
    "plot_exceedance(model_da_stacked, model_name)"
   ]
  },
  {
   "cell_type": "code",
   "execution_count": 33,
   "id": "89138fa6",
   "metadata": {
    "execution": {
     "iopub.execute_input": "2022-03-09T00:07:42.232950Z",
     "iopub.status.busy": "2022-03-09T00:07:42.212301Z",
     "iopub.status.idle": "2022-03-09T00:07:43.670741Z",
     "shell.execute_reply": "2022-03-09T00:07:43.672392Z"
    },
    "papermill": {
     "duration": 1.551161,
     "end_time": "2022-03-09T00:07:43.672941",
     "exception": false,
     "start_time": "2022-03-09T00:07:42.121780",
     "status": "completed"
    },
    "tags": []
   },
   "outputs": [
    {
     "name": "stdout",
     "output_type": "stream",
     "text": [
      "RAW DATA\n",
      "98.79% percentile\n",
      "83 year return period\n"
     ]
    }
   ],
   "source": [
    "percentile, return_period = general_utils.event_in_context(model_da_stacked.values, pr2021, 'above')\n",
    "print('RAW DATA')\n",
    "print(f'{percentile:.2f}% percentile')\n",
    "print(f'{return_period:.0f} year return period')"
   ]
  },
  {
   "cell_type": "code",
   "execution_count": null,
   "id": "cbfda751",
   "metadata": {
    "papermill": {
     "duration": 0.076463,
     "end_time": "2022-03-09T00:07:43.826280",
     "exception": false,
     "start_time": "2022-03-09T00:07:43.749817",
     "status": "completed"
    },
    "tags": []
   },
   "outputs": [],
   "source": []
  }
 ],
 "metadata": {
  "kernelspec": {
   "display_name": "Python 3",
   "language": "python",
   "name": "python3"
  },
  "language_info": {
   "codemirror_mode": {
    "name": "ipython",
    "version": 3
   },
   "file_extension": ".py",
   "mimetype": "text/x-python",
   "name": "python",
   "nbconvert_exporter": "python",
   "pygments_lexer": "ipython3",
   "version": "3.9.4"
  },
  "papermill": {
   "default_parameters": {},
   "duration": 57.132584,
   "end_time": "2022-03-09T00:07:45.691756",
   "environment_variables": {},
   "exception": null,
   "input_path": "analysis/analysis.ipynb",
   "output_path": "analysis/analysis_BCC-CSM2-MR.ipynb",
   "parameters": {
    "bom_file": "/g/data/xv83/dbi599/nov-rain/data/pr_BoM_1900-2021_nov_aus-mean.nc",
    "independence_plot": "/g/data/xv83/dbi599/nov-rain/figures/independence-test_pr_BCC-CSM2-MR-dcppA-hindcast_196101-201401_nov_aus-mean.png",
    "min_lead": 1,
    "model_bc_file": "/g/data/xv83/dbi599/nov-rain/data/pr_BCC-CSM2-MR-dcppA-hindcast_196101-201401_nov_aus-mean_bias-corrected-BoM-multiplicative.zarr.zip",
    "model_file": "/g/data/xv83/dbi599/nov-rain/data/pr_BCC-CSM2-MR-dcppA-hindcast_196101-201401_nov_aus-mean.zarr.zip",
    "model_name": "BCC-CSM2-MR",
    "similarity_bc_file": "/g/data/xv83/dbi599/nov-rain/data/ks-test_pr_BCC-CSM2-MR-dcppA-hindcast_1961-2014_nov_aus-mean_bias-corrected-BoM-multiplicative.zarr.zip",
    "similarity_raw_file": "/g/data/xv83/dbi599/nov-rain/data/ks-test_pr_BCC-CSM2-MR-dcppA-hindcast_1961-2014_nov_aus-mean_BoM.zarr.zip"
   },
   "start_time": "2022-03-09T00:06:48.559172",
   "version": "2.3.3"
  }
 },
 "nbformat": 4,
 "nbformat_minor": 5
}