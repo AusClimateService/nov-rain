{
 "cells": [
  {
   "cell_type": "markdown",
   "id": "4d047299",
   "metadata": {
    "papermill": {
     "duration": 0.062294,
     "end_time": "2022-03-07T03:30:35.422183",
     "exception": false,
     "start_time": "2022-03-07T03:30:35.359889",
     "status": "completed"
    },
    "tags": []
   },
   "source": [
    "# November rain\n",
    "\n",
    "November 2022 was the wettest November on record for Australia."
   ]
  },
  {
   "cell_type": "code",
   "execution_count": 1,
   "id": "95569a41",
   "metadata": {
    "execution": {
     "iopub.execute_input": "2022-03-07T03:30:35.518488Z",
     "iopub.status.busy": "2022-03-07T03:30:35.512893Z",
     "iopub.status.idle": "2022-03-07T03:30:44.429151Z",
     "shell.execute_reply": "2022-03-07T03:30:44.428185Z"
    },
    "papermill": {
     "duration": 8.964897,
     "end_time": "2022-03-07T03:30:44.429453",
     "exception": false,
     "start_time": "2022-03-07T03:30:35.464556",
     "status": "completed"
    },
    "tags": []
   },
   "outputs": [],
   "source": [
    "import os\n",
    "\n",
    "import matplotlib.pyplot as plt\n",
    "import pandas as pd\n",
    "import numpy as np\n",
    "from IPython.display import Image\n",
    "\n",
    "from unseen import fileio\n",
    "from unseen import general_utils"
   ]
  },
  {
   "cell_type": "code",
   "execution_count": 2,
   "id": "56e9e0ab",
   "metadata": {
    "execution": {
     "iopub.execute_input": "2022-03-07T03:30:44.500281Z",
     "iopub.status.busy": "2022-03-07T03:30:44.499547Z",
     "iopub.status.idle": "2022-03-07T03:30:44.503421Z",
     "shell.execute_reply": "2022-03-07T03:30:44.502680Z"
    },
    "papermill": {
     "duration": 0.041696,
     "end_time": "2022-03-07T03:30:44.503616",
     "exception": false,
     "start_time": "2022-03-07T03:30:44.461920",
     "status": "completed"
    },
    "tags": [
     "parameters"
    ]
   },
   "outputs": [],
   "source": [
    "# Optional parameters \n",
    "# (This cell is tagged \"parameters\")\n",
    "dpi = 300"
   ]
  },
  {
   "cell_type": "code",
   "execution_count": 3,
   "id": "ef291b11",
   "metadata": {
    "execution": {
     "iopub.execute_input": "2022-03-07T03:30:44.576080Z",
     "iopub.status.busy": "2022-03-07T03:30:44.575267Z",
     "iopub.status.idle": "2022-03-07T03:30:44.579161Z",
     "shell.execute_reply": "2022-03-07T03:30:44.578427Z"
    },
    "papermill": {
     "duration": 0.04409,
     "end_time": "2022-03-07T03:30:44.579347",
     "exception": false,
     "start_time": "2022-03-07T03:30:44.535257",
     "status": "completed"
    },
    "tags": [
     "injected-parameters"
    ]
   },
   "outputs": [],
   "source": [
    "# Parameters\n",
    "bom_file = \"/g/data/xv83/dbi599/nov-rain/data/pr_BoM_1900-2021_nov_aus-mean.nc\"\n",
    "model_file = \"/g/data/xv83/dbi599/nov-rain/data/pr_CMCC-CM2-SR5-dcppA-hindcast_196011-201911_nov_aus-mean.zarr.zip\"\n",
    "model_bc_file = \"/g/data/xv83/dbi599/nov-rain/data/pr_CMCC-CM2-SR5-dcppA-hindcast_196011-201911_nov_aus-mean_bias-corrected-BoM-multiplicative.zarr.zip\"\n",
    "similarity_bc_file = \"/g/data/xv83/dbi599/nov-rain/data/ks-test_pr_CMCC-CM2-SR5-dcppA-hindcast_196011-201911_nov_aus-mean_bias-corrected-BoM-multiplicative.zarr.zip\"\n",
    "similarity_raw_file = \"/g/data/xv83/dbi599/nov-rain/data/ks-test_pr_CMCC-CM2-SR5-dcppA-hindcast_196011-201911_nov_aus-mean_BoM.zarr.zip\"\n",
    "independence_plot = \"/g/data/xv83/dbi599/nov-rain/figures/independence-test_pr_CMCC-CM2-SR5-dcppA-hindcast_196011-201911_nov_aus-mean.png\"\n",
    "model_name = \"CMCC-CM2-SR5\"\n",
    "min_lead = 5\n"
   ]
  },
  {
   "cell_type": "code",
   "execution_count": 4,
   "id": "b9787631",
   "metadata": {
    "execution": {
     "iopub.execute_input": "2022-03-07T03:30:44.648553Z",
     "iopub.status.busy": "2022-03-07T03:30:44.647685Z",
     "iopub.status.idle": "2022-03-07T03:30:44.655292Z",
     "shell.execute_reply": "2022-03-07T03:30:44.654513Z"
    },
    "papermill": {
     "duration": 0.045229,
     "end_time": "2022-03-07T03:30:44.655513",
     "exception": false,
     "start_time": "2022-03-07T03:30:44.610284",
     "status": "completed"
    },
    "tags": []
   },
   "outputs": [],
   "source": [
    "# Required parameters\n",
    "assert 'model_name' in locals(), \"Must provide a model name\"\n",
    "assert 'min_lead' in locals(), \"Must provide a minimum lead time\"\n",
    "assert os.path.isfile(bom_file), \"Must provide an BoM data file (papermill option -p agcd_file [filepath])\"\n",
    "assert os.path.isfile(model_file), \"Must provide an model data file (papermill option -p cafe_file [filepath])\"\n",
    "assert os.path.isfile(model_bc_file), \"Must provide a model bias corrected data file (papermill option -p cafe_bc_file [filepath])\"\n",
    "assert os.path.isfile(similarity_bc_file), \"Must provide an bias corrected similarity test file (papermill option -p similarity_bias_file [filepath])\"\n",
    "assert os.path.isfile(similarity_raw_file), \"Must provide an raw data similarity test file (papermill option -p similarity_raw_file [filepath])\"\n",
    "assert os.path.isfile(independence_plot), \"Must provide an independence test plot (papermill option -p independence_plot [filepath])\""
   ]
  },
  {
   "cell_type": "code",
   "execution_count": 5,
   "id": "d80b0c20",
   "metadata": {
    "execution": {
     "iopub.execute_input": "2022-03-07T03:30:44.722030Z",
     "iopub.status.busy": "2022-03-07T03:30:44.721187Z",
     "iopub.status.idle": "2022-03-07T03:30:44.731312Z",
     "shell.execute_reply": "2022-03-07T03:30:44.730594Z"
    },
    "papermill": {
     "duration": 0.045065,
     "end_time": "2022-03-07T03:30:44.731526",
     "exception": false,
     "start_time": "2022-03-07T03:30:44.686461",
     "status": "completed"
    },
    "tags": []
   },
   "outputs": [
    {
     "data": {
      "image/png": "[encoded data removed]",
      "text/plain": [
       "<IPython.core.display.Image object>"
      ]
     },
     "execution_count": 5,
     "metadata": {},
     "output_type": "execute_result"
    }
   ],
   "source": [
    "Image(filename='pr_BoM_1900-2021_nov_aus-mean.png')"
   ]
  },
  {
   "cell_type": "markdown",
   "id": "5c8da4f2",
   "metadata": {
    "papermill": {
     "duration": 0.032819,
     "end_time": "2022-03-07T03:30:44.797740",
     "exception": false,
     "start_time": "2022-03-07T03:30:44.764921",
     "status": "completed"
    },
    "tags": []
   },
   "source": [
    "## Observations"
   ]
  },
  {
   "cell_type": "code",
   "execution_count": 6,
   "id": "f40952f6",
   "metadata": {
    "execution": {
     "iopub.execute_input": "2022-03-07T03:30:44.867397Z",
     "iopub.status.busy": "2022-03-07T03:30:44.866616Z",
     "iopub.status.idle": "2022-03-07T03:30:44.986773Z",
     "shell.execute_reply": "2022-03-07T03:30:44.987407Z"
    },
    "papermill": {
     "duration": 0.157829,
     "end_time": "2022-03-07T03:30:44.987652",
     "exception": false,
     "start_time": "2022-03-07T03:30:44.829823",
     "status": "completed"
    },
    "tags": []
   },
   "outputs": [],
   "source": [
    "bom_ds = fileio.open_dataset(bom_file)"
   ]
  },
  {
   "cell_type": "code",
   "execution_count": 7,
   "id": "1493ff0f",
   "metadata": {
    "execution": {
     "iopub.execute_input": "2022-03-07T03:30:45.127029Z",
     "iopub.status.busy": "2022-03-07T03:30:45.125081Z",
     "iopub.status.idle": "2022-03-07T03:30:45.142084Z",
     "shell.execute_reply": "2022-03-07T03:30:45.141317Z"
    },
    "papermill": {
     "duration": 0.122958,
     "end_time": "2022-03-07T03:30:45.142279",
     "exception": false,
     "start_time": "2022-03-07T03:30:45.019321",
     "status": "completed"
    },
    "tags": []
   },
   "outputs": [
    {
     "data": {
      "text/html": [
       "<div><svg style=\"position: absolute; width: 0; height: 0; overflow: hidden\">\n",
       "<defs>\n",
       "<symbol id=\"icon-database\" viewBox=\"0 0 32 32\">\n",
       "<path d=\"M16 0c-8.837 0-16 2.239-16 5v4c0 2.761 7.163 5 16 5s16-2.239 16-5v-4c0-2.761-7.163-5-16-5z\"></path>\n",
       "<path d=\"M16 17c-8.837 0-16-2.239-16-5v6c0 2.761 7.163 5 16 5s16-2.239 16-5v-6c0 2.761-7.163 5-16 5z\"></path>\n",
       "<path d=\"M16 26c-8.837 0-16-2.239-16-5v6c0 2.761 7.163 5 16 5s16-2.239 16-5v-6c0 2.761-7.163 5-16 5z\"></path>\n",
       "</symbol>\n",
       "<symbol id=\"icon-file-text2\" viewBox=\"0 0 32 32\">\n",
       "<path d=\"M28.681 7.159c-0.694-0.947-1.662-2.053-2.724-3.116s-2.169-2.030-3.116-2.724c-1.612-1.182-2.393-1.319-2.841-1.319h-15.5c-1.378 0-2.5 1.121-2.5 2.5v27c0 1.378 1.122 2.5 2.5 2.5h23c1.378 0 2.5-1.122 2.5-2.5v-19.5c0-0.448-0.137-1.23-1.319-2.841zM24.543 5.457c0.959 0.959 1.712 1.825 2.268 2.543h-4.811v-4.811c0.718 0.556 1.584 1.309 2.543 2.268zM28 29.5c0 0.271-0.229 0.5-0.5 0.5h-23c-0.271 0-0.5-0.229-0.5-0.5v-27c0-0.271 0.229-0.5 0.5-0.5 0 0 15.499-0 15.5 0v7c0 0.552 0.448 1 1 1h7v19.5z\"></path>\n",
       "<path d=\"M23 26h-14c-0.552 0-1-0.448-1-1s0.448-1 1-1h14c0.552 0 1 0.448 1 1s-0.448 1-1 1z\"></path>\n",
       "<path d=\"M23 22h-14c-0.552 0-1-0.448-1-1s0.448-1 1-1h14c0.552 0 1 0.448 1 1s-0.448 1-1 1z\"></path>\n",
       "<path d=\"M23 18h-14c-0.552 0-1-0.448-1-1s0.448-1 1-1h14c0.552 0 1 0.448 1 1s-0.448 1-1 1z\"></path>\n",
       "</symbol>\n",
       "</defs>\n",
       "</svg>\n",
       "<style>/* CSS stylesheet for displaying xarray objects in jupyterlab.\n",
       " *\n",
       " */\n",
       "\n",
       ":root {\n",
       "  --xr-font-color0: var(--jp-content-font-color0, rgba(0, 0, 0, 1));\n",
       "  --xr-font-color2: var(--jp-content-font-color2, rgba(0, 0, 0, 0.54));\n",
       "  --xr-font-color3: var(--jp-content-font-color3, rgba(0, 0, 0, 0.38));\n",
       "  --xr-border-color: var(--jp-border-color2, #e0e0e0);\n",
       "  --xr-disabled-color: var(--jp-layout-color3, #bdbdbd);\n",
       "  --xr-background-color: var(--jp-layout-color0, white);\n",
       "  --xr-background-color-row-even: var(--jp-layout-color1, white);\n",
       "  --xr-background-color-row-odd: var(--jp-layout-color2, #eeeeee);\n",
       "}\n",
       "\n",
       "html[theme=dark],\n",
       "body.vscode-dark {\n",
       "  --xr-font-color0: rgba(255, 255, 255, 1);\n",
       "  --xr-font-color2: rgba(255, 255, 255, 0.54);\n",
       "  --xr-font-color3: rgba(255, 255, 255, 0.38);\n",
       "  --xr-border-color: #1F1F1F;\n",
       "  --xr-disabled-color: #515151;\n",
       "  --xr-background-color: #111111;\n",
       "  --xr-background-color-row-even: #111111;\n",
       "  --xr-background-color-row-odd: #313131;\n",
       "}\n",
       "\n",
       ".xr-wrap {\n",
       "  display: block;\n",
       "  min-width: 300px;\n",
       "  max-width: 700px;\n",
       "}\n",
       "\n",
       ".xr-text-repr-fallback {\n",
       "  /* fallback to plain text repr when CSS is not injected (untrusted notebook) */\n",
       "  display: none;\n",
       "}\n",
       "\n",
       ".xr-header {\n",
       "  padding-top: 6px;\n",
       "  padding-bottom: 6px;\n",
       "  margin-bottom: 4px;\n",
       "  border-bottom: solid 1px var(--xr-border-color);\n",
       "}\n",
       "\n",
       ".xr-header > div,\n",
       ".xr-header > ul {\n",
       "  display: inline;\n",
       "  margin-top: 0;\n",
       "  margin-bottom: 0;\n",
       "}\n",
       "\n",
       ".xr-obj-type,\n",
       ".xr-array-name {\n",
       "  margin-left: 2px;\n",
       "  margin-right: 10px;\n",
       "}\n",
       "\n",
       ".xr-obj-type {\n",
       "  color: var(--xr-font-color2);\n",
       "}\n",
       "\n",
       ".xr-sections {\n",
       "  padding-left: 0 !important;\n",
       "  display: grid;\n",
       "  grid-template-columns: 150px auto auto 1fr 20px 20px;\n",
       "}\n",
       "\n",
       ".xr-section-item {\n",
       "  display: contents;\n",
       "}\n",
       "\n",
       ".xr-section-item input {\n",
       "  display: none;\n",
       "}\n",
       "\n",
       ".xr-section-item input + label {\n",
       "  color: var(--xr-disabled-color);\n",
       "}\n",
       "\n",
       ".xr-section-item input:enabled + label {\n",
       "  cursor: pointer;\n",
       "  color: var(--xr-font-color2);\n",
       "}\n",
       "\n",
       ".xr-section-item input:enabled + label:hover {\n",
       "  color: var(--xr-font-color0);\n",
       "}\n",
       "\n",
       ".xr-section-summary {\n",
       "  grid-column: 1;\n",
       "  color: var(--xr-font-color2);\n",
       "  font-weight: 500;\n",
       "}\n",
       "\n",
       ".xr-section-summary > span {\n",
       "  display: inline-block;\n",
       "  padding-left: 0.5em;\n",
       "}\n",
       "\n",
       ".xr-section-summary-in:disabled + label {\n",
       "  color: var(--xr-font-color2);\n",
       "}\n",
       "\n",
       ".xr-section-summary-in + label:before {\n",
       "  display: inline-block;\n",
       "  content: '►';\n",
       "  font-size: 11px;\n",
       "  width: 15px;\n",
       "  text-align: center;\n",
       "}\n",
       "\n",
       ".xr-section-summary-in:disabled + label:before {\n",
       "  color: var(--xr-disabled-color);\n",
       "}\n",
       "\n",
       ".xr-section-summary-in:checked + label:before {\n",
       "  content: '▼';\n",
       "}\n",
       "\n",
       ".xr-section-summary-in:checked + label > span {\n",
       "  display: none;\n",
       "}\n",
       "\n",
       ".xr-section-summary,\n",
       ".xr-section-inline-details {\n",
       "  padding-top: 4px;\n",
       "  padding-bottom: 4px;\n",
       "}\n",
       "\n",
       ".xr-section-inline-details {\n",
       "  grid-column: 2 / -1;\n",
       "}\n",
       "\n",
       ".xr-section-details {\n",
       "  display: none;\n",
       "  grid-column: 1 / -1;\n",
       "  margin-bottom: 5px;\n",
       "}\n",
       "\n",
       ".xr-section-summary-in:checked ~ .xr-section-details {\n",
       "  display: contents;\n",
       "}\n",
       "\n",
       ".xr-array-wrap {\n",
       "  grid-column: 1 / -1;\n",
       "  display: grid;\n",
       "  grid-template-columns: 20px auto;\n",
       "}\n",
       "\n",
       ".xr-array-wrap > label {\n",
       "  grid-column: 1;\n",
       "  vertical-align: top;\n",
       "}\n",
       "\n",
       ".xr-preview {\n",
       "  color: var(--xr-font-color3);\n",
       "}\n",
       "\n",
       ".xr-array-preview,\n",
       ".xr-array-data {\n",
       "  padding: 0 5px !important;\n",
       "  grid-column: 2;\n",
       "}\n",
       "\n",
       ".xr-array-data,\n",
       ".xr-array-in:checked ~ .xr-array-preview {\n",
       "  display: none;\n",
       "}\n",
       "\n",
       ".xr-array-in:checked ~ .xr-array-data,\n",
       ".xr-array-preview {\n",
       "  display: inline-block;\n",
       "}\n",
       "\n",
       ".xr-dim-list {\n",
       "  display: inline-block !important;\n",
       "  list-style: none;\n",
       "  padding: 0 !important;\n",
       "  margin: 0;\n",
       "}\n",
       "\n",
       ".xr-dim-list li {\n",
       "  display: inline-block;\n",
       "  padding: 0;\n",
       "  margin: 0;\n",
       "}\n",
       "\n",
       ".xr-dim-list:before {\n",
       "  content: '(';\n",
       "}\n",
       "\n",
       ".xr-dim-list:after {\n",
       "  content: ')';\n",
       "}\n",
       "\n",
       ".xr-dim-list li:not(:last-child):after {\n",
       "  content: ',';\n",
       "  padding-right: 5px;\n",
       "}\n",
       "\n",
       ".xr-has-index {\n",
       "  font-weight: bold;\n",
       "}\n",
       "\n",
       ".xr-var-list,\n",
       ".xr-var-item {\n",
       "  display: contents;\n",
       "}\n",
       "\n",
       ".xr-var-item > div,\n",
       ".xr-var-item label,\n",
       ".xr-var-item > .xr-var-name span {\n",
       "  background-color: var(--xr-background-color-row-even);\n",
       "  margin-bottom: 0;\n",
       "}\n",
       "\n",
       ".xr-var-item > .xr-var-name:hover span {\n",
       "  padding-right: 5px;\n",
       "}\n",
       "\n",
       ".xr-var-list > li:nth-child(odd) > div,\n",
       ".xr-var-list > li:nth-child(odd) > label,\n",
       ".xr-var-list > li:nth-child(odd) > .xr-var-name span {\n",
       "  background-color: var(--xr-background-color-row-odd);\n",
       "}\n",
       "\n",
       ".xr-var-name {\n",
       "  grid-column: 1;\n",
       "}\n",
       "\n",
       ".xr-var-dims {\n",
       "  grid-column: 2;\n",
       "}\n",
       "\n",
       ".xr-var-dtype {\n",
       "  grid-column: 3;\n",
       "  text-align: right;\n",
       "  color: var(--xr-font-color2);\n",
       "}\n",
       "\n",
       ".xr-var-preview {\n",
       "  grid-column: 4;\n",
       "}\n",
       "\n",
       ".xr-var-name,\n",
       ".xr-var-dims,\n",
       ".xr-var-dtype,\n",
       ".xr-preview,\n",
       ".xr-attrs dt {\n",
       "  white-space: nowrap;\n",
       "  overflow: hidden;\n",
       "  text-overflow: ellipsis;\n",
       "  padding-right: 10px;\n",
       "}\n",
       "\n",
       ".xr-var-name:hover,\n",
       ".xr-var-dims:hover,\n",
       ".xr-var-dtype:hover,\n",
       ".xr-attrs dt:hover {\n",
       "  overflow: visible;\n",
       "  width: auto;\n",
       "  z-index: 1;\n",
       "}\n",
       "\n",
       ".xr-var-attrs,\n",
       ".xr-var-data {\n",
       "  display: none;\n",
       "  background-color: var(--xr-background-color) !important;\n",
       "  padding-bottom: 5px !important;\n",
       "}\n",
       "\n",
       ".xr-var-attrs-in:checked ~ .xr-var-attrs,\n",
       ".xr-var-data-in:checked ~ .xr-var-data {\n",
       "  display: block;\n",
       "}\n",
       "\n",
       ".xr-var-data > table {\n",
       "  float: right;\n",
       "}\n",
       "\n",
       ".xr-var-name span,\n",
       ".xr-var-data,\n",
       ".xr-attrs {\n",
       "  padding-left: 25px !important;\n",
       "}\n",
       "\n",
       ".xr-attrs,\n",
       ".xr-var-attrs,\n",
       ".xr-var-data {\n",
       "  grid-column: 1 / -1;\n",
       "}\n",
       "\n",
       "dl.xr-attrs {\n",
       "  padding: 0;\n",
       "  margin: 0;\n",
       "  display: grid;\n",
       "  grid-template-columns: 125px auto;\n",
       "}\n",
       "\n",
       ".xr-attrs dt,\n",
       ".xr-attrs dd {\n",
       "  padding: 0;\n",
       "  margin: 0;\n",
       "  float: left;\n",
       "  padding-right: 10px;\n",
       "  width: auto;\n",
       "}\n",
       "\n",
       ".xr-attrs dt {\n",
       "  font-weight: normal;\n",
       "  grid-column: 1;\n",
       "}\n",
       "\n",
       ".xr-attrs dt:hover span {\n",
       "  display: inline-block;\n",
       "  background: var(--xr-background-color);\n",
       "  padding-right: 10px;\n",
       "}\n",
       "\n",
       ".xr-attrs dd {\n",
       "  grid-column: 2;\n",
       "  white-space: pre-wrap;\n",
       "  word-break: break-all;\n",
       "}\n",
       "\n",
       ".xr-icon-database,\n",
       ".xr-icon-file-text2 {\n",
       "  display: inline-block;\n",
       "  vertical-align: middle;\n",
       "  width: 1em;\n",
       "  height: 1.5em !important;\n",
       "  stroke-width: 0;\n",
       "  stroke: currentColor;\n",
       "  fill: currentColor;\n",
       "}\n",
       "</style><pre class='xr-text-repr-fallback'>&lt;xarray.Dataset&gt;\n",
       "Dimensions:  (time: 122)\n",
       "Coordinates:\n",
       "  * time     (time) object 1900-11-15 00:00:00 ... 2021-11-15 00:00:00\n",
       "Data variables:\n",
       "    pr       (time) float64 dask.array&lt;chunksize=(122,), meta=np.ndarray&gt;\n",
       "Attributes:\n",
       "    history:  Fri Feb 18 11:06:30 2022: /g/data/xv83/dbi599/miniconda3/envs/u...\n",
       "    source:   http://www.bom.gov.au/climate/change/</pre><div class='xr-wrap' hidden><div class='xr-header'><div class='xr-obj-type'>xarray.Dataset</div></div><ul class='xr-sections'><li class='xr-section-item'><input id='section-3cba9133-3ec2-4d40-817c-6bfe81af17dc' class='xr-section-summary-in' type='checkbox' disabled ><label for='section-3cba9133-3ec2-4d40-817c-6bfe81af17dc' class='xr-section-summary'  title='Expand/collapse section'>Dimensions:</label><div class='xr-section-inline-details'><ul class='xr-dim-list'><li><span class='xr-has-index'>time</span>: 122</li></ul></div><div class='xr-section-details'></div></li><li class='xr-section-item'><input id='section-0cb81d5b-3925-4aea-a188-eb4b6fcec4bc' class='xr-section-summary-in' type='checkbox'  checked><label for='section-0cb81d5b-3925-4aea-a188-eb4b6fcec4bc' class='xr-section-summary' >Coordinates: <span>(1)</span></label><div class='xr-section-inline-details'></div><div class='xr-section-details'><ul class='xr-var-list'><li class='xr-var-item'><div class='xr-var-name'><span class='xr-has-index'>time</span></div><div class='xr-var-dims'>(time)</div><div class='xr-var-dtype'>object</div><div class='xr-var-preview xr-preview'>1900-11-15 00:00:00 ... 2021-11-...</div><input id='attrs-9a95e920-9ce7-4c93-a77a-a4c4eb5b34ba' class='xr-var-attrs-in' type='checkbox' ><label for='attrs-9a95e920-9ce7-4c93-a77a-a4c4eb5b34ba' title='Show/Hide attributes'><svg class='icon xr-icon-file-text2'><use xlink:href='#icon-file-text2'></use></svg></label><input id='data-7d921898-f962-4a8b-827d-1bf86df683f2' class='xr-var-data-in' type='checkbox'><label for='data-7d921898-f962-4a8b-827d-1bf86df683f2' title='Show/Hide data repr'><svg class='icon xr-icon-database'><use xlink:href='#icon-database'></use></svg></label><div class='xr-var-attrs'><dl class='xr-attrs'><dt><span>long_name :</span></dt><dd>time</dd></dl></div><div class='xr-var-data'><pre>array([cftime.DatetimeJulian(1900, 11, 15, 0, 0, 0, 0, has_year_zero=False),\n",
       "       cftime.DatetimeJulian(1901, 11, 15, 0, 0, 0, 0, has_year_zero=False),\n",
       "       cftime.DatetimeJulian(1902, 11, 15, 0, 0, 0, 0, has_year_zero=False),\n",
       "       cftime.DatetimeJulian(1903, 11, 15, 0, 0, 0, 0, has_year_zero=False),\n",
       "       cftime.DatetimeJulian(1904, 11, 15, 0, 0, 0, 0, has_year_zero=False),\n",
       "       cftime.DatetimeJulian(1905, 11, 15, 0, 0, 0, 0, has_year_zero=False),\n",
       "       cftime.DatetimeJulian(1906, 11, 15, 0, 0, 0, 0, has_year_zero=False),\n",
       "       cftime.DatetimeJulian(1907, 11, 15, 0, 0, 0, 0, has_year_zero=False),\n",
       "       cftime.DatetimeJulian(1908, 11, 15, 0, 0, 0, 0, has_year_zero=False),\n",
       "       cftime.DatetimeJulian(1909, 11, 15, 0, 0, 0, 0, has_year_zero=False),\n",
       "       cftime.DatetimeJulian(1910, 11, 15, 0, 0, 0, 0, has_year_zero=False),\n",
       "       cftime.DatetimeJulian(1911, 11, 15, 0, 0, 0, 0, has_year_zero=False),\n",
       "       cftime.DatetimeJulian(1912, 11, 15, 0, 0, 0, 0, has_year_zero=False),\n",
       "       cftime.DatetimeJulian(1913, 11, 15, 0, 0, 0, 0, has_year_zero=False),\n",
       "       cftime.DatetimeJulian(1914, 11, 15, 0, 0, 0, 0, has_year_zero=False),\n",
       "       cftime.DatetimeJulian(1915, 11, 15, 0, 0, 0, 0, has_year_zero=False),\n",
       "       cftime.DatetimeJulian(1916, 11, 15, 0, 0, 0, 0, has_year_zero=False),\n",
       "       cftime.DatetimeJulian(1917, 11, 15, 0, 0, 0, 0, has_year_zero=False),\n",
       "       cftime.DatetimeJulian(1918, 11, 15, 0, 0, 0, 0, has_year_zero=False),\n",
       "       cftime.DatetimeJulian(1919, 11, 15, 0, 0, 0, 0, has_year_zero=False),\n",
       "       cftime.DatetimeJulian(1920, 11, 15, 0, 0, 0, 0, has_year_zero=False),\n",
       "       cftime.DatetimeJulian(1921, 11, 15, 0, 0, 0, 0, has_year_zero=False),\n",
       "       cftime.DatetimeJulian(1922, 11, 15, 0, 0, 0, 0, has_year_zero=False),\n",
       "       cftime.DatetimeJulian(1923, 11, 15, 0, 0, 0, 0, has_year_zero=False),\n",
       "       cftime.DatetimeJulian(1924, 11, 15, 0, 0, 0, 0, has_year_zero=False),\n",
       "       cftime.DatetimeJulian(1925, 11, 15, 0, 0, 0, 0, has_year_zero=False),\n",
       "       cftime.DatetimeJulian(1926, 11, 15, 0, 0, 0, 0, has_year_zero=False),\n",
       "       cftime.DatetimeJulian(1927, 11, 15, 0, 0, 0, 0, has_year_zero=False),\n",
       "       cftime.DatetimeJulian(1928, 11, 15, 0, 0, 0, 0, has_year_zero=False),\n",
       "       cftime.DatetimeJulian(1929, 11, 15, 0, 0, 0, 0, has_year_zero=False),\n",
       "       cftime.DatetimeJulian(1930, 11, 15, 0, 0, 0, 0, has_year_zero=False),\n",
       "       cftime.DatetimeJulian(1931, 11, 15, 0, 0, 0, 0, has_year_zero=False),\n",
       "       cftime.DatetimeJulian(1932, 11, 15, 0, 0, 0, 0, has_year_zero=False),\n",
       "       cftime.DatetimeJulian(1933, 11, 15, 0, 0, 0, 0, has_year_zero=False),\n",
       "       cftime.DatetimeJulian(1934, 11, 15, 0, 0, 0, 0, has_year_zero=False),\n",
       "       cftime.DatetimeJulian(1935, 11, 15, 0, 0, 0, 0, has_year_zero=False),\n",
       "       cftime.DatetimeJulian(1936, 11, 15, 0, 0, 0, 0, has_year_zero=False),\n",
       "       cftime.DatetimeJulian(1937, 11, 15, 0, 0, 0, 0, has_year_zero=False),\n",
       "       cftime.DatetimeJulian(1938, 11, 15, 0, 0, 0, 0, has_year_zero=False),\n",
       "       cftime.DatetimeJulian(1939, 11, 15, 0, 0, 0, 0, has_year_zero=False),\n",
       "       cftime.DatetimeJulian(1940, 11, 15, 0, 0, 0, 0, has_year_zero=False),\n",
       "       cftime.DatetimeJulian(1941, 11, 15, 0, 0, 0, 0, has_year_zero=False),\n",
       "       cftime.DatetimeJulian(1942, 11, 15, 0, 0, 0, 0, has_year_zero=False),\n",
       "       cftime.DatetimeJulian(1943, 11, 15, 0, 0, 0, 0, has_year_zero=False),\n",
       "       cftime.DatetimeJulian(1944, 11, 15, 0, 0, 0, 0, has_year_zero=False),\n",
       "       cftime.DatetimeJulian(1945, 11, 15, 0, 0, 0, 0, has_year_zero=False),\n",
       "       cftime.DatetimeJulian(1946, 11, 15, 0, 0, 0, 0, has_year_zero=False),\n",
       "       cftime.DatetimeJulian(1947, 11, 15, 0, 0, 0, 0, has_year_zero=False),\n",
       "       cftime.DatetimeJulian(1948, 11, 15, 0, 0, 0, 0, has_year_zero=False),\n",
       "       cftime.DatetimeJulian(1949, 11, 15, 0, 0, 0, 0, has_year_zero=False),\n",
       "       cftime.DatetimeJulian(1950, 11, 15, 0, 0, 0, 0, has_year_zero=False),\n",
       "       cftime.DatetimeJulian(1951, 11, 15, 0, 0, 0, 0, has_year_zero=False),\n",
       "       cftime.DatetimeJulian(1952, 11, 15, 0, 0, 0, 0, has_year_zero=False),\n",
       "       cftime.DatetimeJulian(1953, 11, 15, 0, 0, 0, 0, has_year_zero=False),\n",
       "       cftime.DatetimeJulian(1954, 11, 15, 0, 0, 0, 0, has_year_zero=False),\n",
       "       cftime.DatetimeJulian(1955, 11, 15, 0, 0, 0, 0, has_year_zero=False),\n",
       "       cftime.DatetimeJulian(1956, 11, 15, 0, 0, 0, 0, has_year_zero=False),\n",
       "       cftime.DatetimeJulian(1957, 11, 15, 0, 0, 0, 0, has_year_zero=False),\n",
       "       cftime.DatetimeJulian(1958, 11, 15, 0, 0, 0, 0, has_year_zero=False),\n",
       "       cftime.DatetimeJulian(1959, 11, 15, 0, 0, 0, 0, has_year_zero=False),\n",
       "       cftime.DatetimeJulian(1960, 11, 15, 0, 0, 0, 0, has_year_zero=False),\n",
       "       cftime.DatetimeJulian(1961, 11, 15, 0, 0, 0, 0, has_year_zero=False),\n",
       "       cftime.DatetimeJulian(1962, 11, 15, 0, 0, 0, 0, has_year_zero=False),\n",
       "       cftime.DatetimeJulian(1963, 11, 15, 0, 0, 0, 0, has_year_zero=False),\n",
       "       cftime.DatetimeJulian(1964, 11, 15, 0, 0, 0, 0, has_year_zero=False),\n",
       "       cftime.DatetimeJulian(1965, 11, 15, 0, 0, 0, 0, has_year_zero=False),\n",
       "       cftime.DatetimeJulian(1966, 11, 15, 0, 0, 0, 0, has_year_zero=False),\n",
       "       cftime.DatetimeJulian(1967, 11, 15, 0, 0, 0, 0, has_year_zero=False),\n",
       "       cftime.DatetimeJulian(1968, 11, 15, 0, 0, 0, 0, has_year_zero=False),\n",
       "       cftime.DatetimeJulian(1969, 11, 15, 0, 0, 0, 0, has_year_zero=False),\n",
       "       cftime.DatetimeJulian(1970, 11, 15, 0, 0, 0, 0, has_year_zero=False),\n",
       "       cftime.DatetimeJulian(1971, 11, 15, 0, 0, 0, 0, has_year_zero=False),\n",
       "       cftime.DatetimeJulian(1972, 11, 15, 0, 0, 0, 0, has_year_zero=False),\n",
       "       cftime.DatetimeJulian(1973, 11, 15, 0, 0, 0, 0, has_year_zero=False),\n",
       "       cftime.DatetimeJulian(1974, 11, 15, 0, 0, 0, 0, has_year_zero=False),\n",
       "       cftime.DatetimeJulian(1975, 11, 15, 0, 0, 0, 0, has_year_zero=False),\n",
       "       cftime.DatetimeJulian(1976, 11, 15, 0, 0, 0, 0, has_year_zero=False),\n",
       "       cftime.DatetimeJulian(1977, 11, 15, 0, 0, 0, 0, has_year_zero=False),\n",
       "       cftime.DatetimeJulian(1978, 11, 15, 0, 0, 0, 0, has_year_zero=False),\n",
       "       cftime.DatetimeJulian(1979, 11, 15, 0, 0, 0, 0, has_year_zero=False),\n",
       "       cftime.DatetimeJulian(1980, 11, 15, 0, 0, 0, 0, has_year_zero=False),\n",
       "       cftime.DatetimeJulian(1981, 11, 15, 0, 0, 0, 0, has_year_zero=False),\n",
       "       cftime.DatetimeJulian(1982, 11, 15, 0, 0, 0, 0, has_year_zero=False),\n",
       "       cftime.DatetimeJulian(1983, 11, 15, 0, 0, 0, 0, has_year_zero=False),\n",
       "       cftime.DatetimeJulian(1984, 11, 15, 0, 0, 0, 0, has_year_zero=False),\n",
       "       cftime.DatetimeJulian(1985, 11, 15, 0, 0, 0, 0, has_year_zero=False),\n",
       "       cftime.DatetimeJulian(1986, 11, 15, 0, 0, 0, 0, has_year_zero=False),\n",
       "       cftime.DatetimeJulian(1987, 11, 15, 0, 0, 0, 0, has_year_zero=False),\n",
       "       cftime.DatetimeJulian(1988, 11, 15, 0, 0, 0, 0, has_year_zero=False),\n",
       "       cftime.DatetimeJulian(1989, 11, 15, 0, 0, 0, 0, has_year_zero=False),\n",
       "       cftime.DatetimeJulian(1990, 11, 15, 0, 0, 0, 0, has_year_zero=False),\n",
       "       cftime.DatetimeJulian(1991, 11, 15, 0, 0, 0, 0, has_year_zero=False),\n",
       "       cftime.DatetimeJulian(1992, 11, 15, 0, 0, 0, 0, has_year_zero=False),\n",
       "       cftime.DatetimeJulian(1993, 11, 15, 0, 0, 0, 0, has_year_zero=False),\n",
       "       cftime.DatetimeJulian(1994, 11, 15, 0, 0, 0, 0, has_year_zero=False),\n",
       "       cftime.DatetimeJulian(1995, 11, 15, 0, 0, 0, 0, has_year_zero=False),\n",
       "       cftime.DatetimeJulian(1996, 11, 15, 0, 0, 0, 0, has_year_zero=False),\n",
       "       cftime.DatetimeJulian(1997, 11, 15, 0, 0, 0, 0, has_year_zero=False),\n",
       "       cftime.DatetimeJulian(1998, 11, 15, 0, 0, 0, 0, has_year_zero=False),\n",
       "       cftime.DatetimeJulian(1999, 11, 15, 0, 0, 0, 0, has_year_zero=False),\n",
       "       cftime.DatetimeJulian(2000, 11, 15, 0, 0, 0, 0, has_year_zero=False),\n",
       "       cftime.DatetimeJulian(2001, 11, 15, 0, 0, 0, 0, has_year_zero=False),\n",
       "       cftime.DatetimeJulian(2002, 11, 15, 0, 0, 0, 0, has_year_zero=False),\n",
       "       cftime.DatetimeJulian(2003, 11, 15, 0, 0, 0, 0, has_year_zero=False),\n",
       "       cftime.DatetimeJulian(2004, 11, 15, 0, 0, 0, 0, has_year_zero=False),\n",
       "       cftime.DatetimeJulian(2005, 11, 15, 0, 0, 0, 0, has_year_zero=False),\n",
       "       cftime.DatetimeJulian(2006, 11, 15, 0, 0, 0, 0, has_year_zero=False),\n",
       "       cftime.DatetimeJulian(2007, 11, 15, 0, 0, 0, 0, has_year_zero=False),\n",
       "       cftime.DatetimeJulian(2008, 11, 15, 0, 0, 0, 0, has_year_zero=False),\n",
       "       cftime.DatetimeJulian(2009, 11, 15, 0, 0, 0, 0, has_year_zero=False),\n",
       "       cftime.DatetimeJulian(2010, 11, 15, 0, 0, 0, 0, has_year_zero=False),\n",
       "       cftime.DatetimeJulian(2011, 11, 15, 0, 0, 0, 0, has_year_zero=False),\n",
       "       cftime.DatetimeJulian(2012, 11, 15, 0, 0, 0, 0, has_year_zero=False),\n",
       "       cftime.DatetimeJulian(2013, 11, 15, 0, 0, 0, 0, has_year_zero=False),\n",
       "       cftime.DatetimeJulian(2014, 11, 15, 0, 0, 0, 0, has_year_zero=False),\n",
       "       cftime.DatetimeJulian(2015, 11, 15, 0, 0, 0, 0, has_year_zero=False),\n",
       "       cftime.DatetimeJulian(2016, 11, 15, 0, 0, 0, 0, has_year_zero=False),\n",
       "       cftime.DatetimeJulian(2017, 11, 15, 0, 0, 0, 0, has_year_zero=False),\n",
       "       cftime.DatetimeJulian(2018, 11, 15, 0, 0, 0, 0, has_year_zero=False),\n",
       "       cftime.DatetimeJulian(2019, 11, 15, 0, 0, 0, 0, has_year_zero=False),\n",
       "       cftime.DatetimeJulian(2020, 11, 15, 0, 0, 0, 0, has_year_zero=False),\n",
       "       cftime.DatetimeJulian(2021, 11, 15, 0, 0, 0, 0, has_year_zero=False)],\n",
       "      dtype=object)</pre></div></li></ul></div></li><li class='xr-section-item'><input id='section-626b4a02-cd0e-47b3-86e7-5fe5c536d14f' class='xr-section-summary-in' type='checkbox'  checked><label for='section-626b4a02-cd0e-47b3-86e7-5fe5c536d14f' class='xr-section-summary' >Data variables: <span>(1)</span></label><div class='xr-section-inline-details'></div><div class='xr-section-details'><ul class='xr-var-list'><li class='xr-var-item'><div class='xr-var-name'><span>pr</span></div><div class='xr-var-dims'>(time)</div><div class='xr-var-dtype'>float64</div><div class='xr-var-preview xr-preview'>dask.array&lt;chunksize=(122,), meta=np.ndarray&gt;</div><input id='attrs-248b1a31-df69-4417-a584-0051eec3c211' class='xr-var-attrs-in' type='checkbox' ><label for='attrs-248b1a31-df69-4417-a584-0051eec3c211' title='Show/Hide attributes'><svg class='icon xr-icon-file-text2'><use xlink:href='#icon-file-text2'></use></svg></label><input id='data-580b139d-641e-4d19-a7a5-a91e269d8100' class='xr-var-data-in' type='checkbox'><label for='data-580b139d-641e-4d19-a7a5-a91e269d8100' title='Show/Hide data repr'><svg class='icon xr-icon-database'><use xlink:href='#icon-database'></use></svg></label><div class='xr-var-attrs'><dl class='xr-attrs'><dt><span>long_name :</span></dt><dd>precipitation</dd><dt><span>units :</span></dt><dd>mm month-1</dd></dl></div><div class='xr-var-data'><table>\n",
       "<tr>\n",
       "<td>\n",
       "<table>\n",
       "  <thead>\n",
       "    <tr><td> </td><th> Array </th><th> Chunk </th></tr>\n",
       "  </thead>\n",
       "  <tbody>\n",
       "    <tr><th> Bytes </th><td> 0.95 kiB </td> <td> 0.95 kiB </td></tr>\n",
       "    <tr><th> Shape </th><td> (122,) </td> <td> (122,) </td></tr>\n",
       "    <tr><th> Count </th><td> 2 Tasks </td><td> 1 Chunks </td></tr>\n",
       "    <tr><th> Type </th><td> float64 </td><td> numpy.ndarray </td></tr>\n",
       "  </tbody>\n",
       "</table>\n",
       "</td>\n",
       "<td>\n",
       "<svg width=\"170\" height=\"75\" style=\"stroke:rgb(0,0,0);stroke-width:1\" >\n",
       "\n",
       "  <!-- Horizontal lines -->\n",
       "  <line x1=\"0\" y1=\"0\" x2=\"120\" y2=\"0\" style=\"stroke-width:2\" />\n",
       "  <line x1=\"0\" y1=\"25\" x2=\"120\" y2=\"25\" style=\"stroke-width:2\" />\n",
       "\n",
       "  <!-- Vertical lines -->\n",
       "  <line x1=\"0\" y1=\"0\" x2=\"0\" y2=\"25\" style=\"stroke-width:2\" />\n",
       "  <line x1=\"120\" y1=\"0\" x2=\"120\" y2=\"25\" style=\"stroke-width:2\" />\n",
       "\n",
       "  <!-- Colored Rectangle -->\n",
       "  <polygon points=\"0.0,0.0 120.0,0.0 120.0,25.412616514582485 0.0,25.412616514582485\" style=\"fill:#ECB172A0;stroke-width:0\"/>\n",
       "\n",
       "  <!-- Text -->\n",
       "  <text x=\"60.000000\" y=\"45.412617\" font-size=\"1.0rem\" font-weight=\"100\" text-anchor=\"middle\" >122</text>\n",
       "  <text x=\"140.000000\" y=\"12.706308\" font-size=\"1.0rem\" font-weight=\"100\" text-anchor=\"middle\" transform=\"rotate(0,140.000000,12.706308)\">1</text>\n",
       "</svg>\n",
       "</td>\n",
       "</tr>\n",
       "</table></div></li></ul></div></li><li class='xr-section-item'><input id='section-9d309ced-72f6-4cf7-b096-ca9bcbab3433' class='xr-section-summary-in' type='checkbox'  checked><label for='section-9d309ced-72f6-4cf7-b096-ca9bcbab3433' class='xr-section-summary' >Attributes: <span>(2)</span></label><div class='xr-section-inline-details'></div><div class='xr-section-details'><dl class='xr-attrs'><dt><span>history :</span></dt><dd>Fri Feb 18 11:06:30 2022: /g/data/xv83/dbi599/miniconda3/envs/unseen/bin/python bom_txt_to_nc.py /g/data/xv83/dbi599/nov-rain/data/pr_BoM_1900-2021_nov_aus-mean.txt pr http://www.bom.gov.au/climate/change/ /g/data/xv83/dbi599/nov-rain/data/pr_BoM_1900-2021_nov_aus-mean.nc (git@github.com:AusClimateService/nov-rain)</dd><dt><span>source :</span></dt><dd>http://www.bom.gov.au/climate/change/</dd></dl></div></li></ul></div></div>"
      ],
      "text/plain": [
       "<xarray.Dataset>\n",
       "Dimensions:  (time: 122)\n",
       "Coordinates:\n",
       "  * time     (time) object 1900-11-15 00:00:00 ... 2021-11-15 00:00:00\n",
       "Data variables:\n",
       "    pr       (time) float64 dask.array<chunksize=(122,), meta=np.ndarray>\n",
       "Attributes:\n",
       "    history:  Fri Feb 18 11:06:30 2022: /g/data/xv83/dbi599/miniconda3/envs/u...\n",
       "    source:   http://www.bom.gov.au/climate/change/"
      ]
     },
     "execution_count": 7,
     "metadata": {},
     "output_type": "execute_result"
    }
   ],
   "source": [
    "bom_ds"
   ]
  },
  {
   "cell_type": "code",
   "execution_count": 8,
   "id": "9c701895",
   "metadata": {
    "execution": {
     "iopub.execute_input": "2022-03-07T03:30:45.219116Z",
     "iopub.status.busy": "2022-03-07T03:30:45.217019Z",
     "iopub.status.idle": "2022-03-07T03:30:45.222271Z",
     "shell.execute_reply": "2022-03-07T03:30:45.223012Z"
    },
    "papermill": {
     "duration": 0.047561,
     "end_time": "2022-03-07T03:30:45.223309",
     "exception": false,
     "start_time": "2022-03-07T03:30:45.175748",
     "status": "completed"
    },
    "tags": []
   },
   "outputs": [],
   "source": [
    "years = bom_ds['time'].dt.year.values\n",
    "bom_df = pd.DataFrame(index=years)\n",
    "bom_df['pr'] = bom_ds['pr'].values"
   ]
  },
  {
   "cell_type": "code",
   "execution_count": 9,
   "id": "6c1bcdcc",
   "metadata": {
    "execution": {
     "iopub.execute_input": "2022-03-07T03:30:45.314573Z",
     "iopub.status.busy": "2022-03-07T03:30:45.313542Z",
     "iopub.status.idle": "2022-03-07T03:30:45.320745Z",
     "shell.execute_reply": "2022-03-07T03:30:45.319221Z"
    },
    "papermill": {
     "duration": 0.061392,
     "end_time": "2022-03-07T03:30:45.321111",
     "exception": false,
     "start_time": "2022-03-07T03:30:45.259719",
     "status": "completed"
    },
    "tags": []
   },
   "outputs": [
    {
     "name": "stdout",
     "output_type": "stream",
     "text": [
      "pr    32.909262\n",
      "dtype: float64\n"
     ]
    }
   ],
   "source": [
    "mean_rainfall = bom_df.mean()\n",
    "print(mean_rainfall)"
   ]
  },
  {
   "cell_type": "code",
   "execution_count": 10,
   "id": "527ce770",
   "metadata": {
    "execution": {
     "iopub.execute_input": "2022-03-07T03:30:45.403125Z",
     "iopub.status.busy": "2022-03-07T03:30:45.402295Z",
     "iopub.status.idle": "2022-03-07T03:30:45.409610Z",
     "shell.execute_reply": "2022-03-07T03:30:45.408282Z"
    },
    "papermill": {
     "duration": 0.05314,
     "end_time": "2022-03-07T03:30:45.409923",
     "exception": false,
     "start_time": "2022-03-07T03:30:45.356783",
     "status": "completed"
    },
    "tags": []
   },
   "outputs": [
    {
     "data": {
      "text/plain": [
       "2021    76.18\n",
       "1973    70.14\n",
       "1917    68.51\n",
       "2000    68.41\n",
       "1950    63.03\n",
       "2008    62.38\n",
       "1999    62.30\n",
       "2011    62.29\n",
       "2010    60.67\n",
       "1998    55.49\n",
       "Name: pr, dtype: float64"
      ]
     },
     "execution_count": 10,
     "metadata": {},
     "output_type": "execute_result"
    }
   ],
   "source": [
    "ranked_years = bom_df['pr'].sort_values(ascending=False)\n",
    "ranked_years.head(n=10)"
   ]
  },
  {
   "cell_type": "markdown",
   "id": "d082e6af",
   "metadata": {
    "papermill": {
     "duration": 0.034022,
     "end_time": "2022-03-07T03:30:45.478897",
     "exception": false,
     "start_time": "2022-03-07T03:30:45.444875",
     "status": "completed"
    },
    "tags": []
   },
   "source": [
    "## Model ensemble"
   ]
  },
  {
   "cell_type": "code",
   "execution_count": 11,
   "id": "1620b927",
   "metadata": {
    "execution": {
     "iopub.execute_input": "2022-03-07T03:30:45.576271Z",
     "iopub.status.busy": "2022-03-07T03:30:45.575131Z",
     "iopub.status.idle": "2022-03-07T03:30:45.630900Z",
     "shell.execute_reply": "2022-03-07T03:30:45.629665Z"
    },
    "papermill": {
     "duration": 0.118198,
     "end_time": "2022-03-07T03:30:45.631199",
     "exception": false,
     "start_time": "2022-03-07T03:30:45.513001",
     "status": "completed"
    },
    "tags": []
   },
   "outputs": [],
   "source": [
    "model_ds = fileio.open_dataset(model_file)\n",
    "model_bc_ds = fileio.open_dataset(model_bc_file)"
   ]
  },
  {
   "cell_type": "code",
   "execution_count": 12,
   "id": "b3d4100a",
   "metadata": {
    "execution": {
     "iopub.execute_input": "2022-03-07T03:30:45.731978Z",
     "iopub.status.busy": "2022-03-07T03:30:45.726013Z",
     "iopub.status.idle": "2022-03-07T03:30:45.738330Z",
     "shell.execute_reply": "2022-03-07T03:30:45.737250Z"
    },
    "papermill": {
     "duration": 0.068135,
     "end_time": "2022-03-07T03:30:45.738628",
     "exception": false,
     "start_time": "2022-03-07T03:30:45.670493",
     "status": "completed"
    },
    "tags": []
   },
   "outputs": [
    {
     "data": {
      "text/html": [
       "<div><svg style=\"position: absolute; width: 0; height: 0; overflow: hidden\">\n",
       "<defs>\n",
       "<symbol id=\"icon-database\" viewBox=\"0 0 32 32\">\n",
       "<path d=\"M16 0c-8.837 0-16 2.239-16 5v4c0 2.761 7.163 5 16 5s16-2.239 16-5v-4c0-2.761-7.163-5-16-5z\"></path>\n",
       "<path d=\"M16 17c-8.837 0-16-2.239-16-5v6c0 2.761 7.163 5 16 5s16-2.239 16-5v-6c0 2.761-7.163 5-16 5z\"></path>\n",
       "<path d=\"M16 26c-8.837 0-16-2.239-16-5v6c0 2.761 7.163 5 16 5s16-2.239 16-5v-6c0 2.761-7.163 5-16 5z\"></path>\n",
       "</symbol>\n",
       "<symbol id=\"icon-file-text2\" viewBox=\"0 0 32 32\">\n",
       "<path d=\"M28.681 7.159c-0.694-0.947-1.662-2.053-2.724-3.116s-2.169-2.030-3.116-2.724c-1.612-1.182-2.393-1.319-2.841-1.319h-15.5c-1.378 0-2.5 1.121-2.5 2.5v27c0 1.378 1.122 2.5 2.5 2.5h23c1.378 0 2.5-1.122 2.5-2.5v-19.5c0-0.448-0.137-1.23-1.319-2.841zM24.543 5.457c0.959 0.959 1.712 1.825 2.268 2.543h-4.811v-4.811c0.718 0.556 1.584 1.309 2.543 2.268zM28 29.5c0 0.271-0.229 0.5-0.5 0.5h-23c-0.271 0-0.5-0.229-0.5-0.5v-27c0-0.271 0.229-0.5 0.5-0.5 0 0 15.499-0 15.5 0v7c0 0.552 0.448 1 1 1h7v19.5z\"></path>\n",
       "<path d=\"M23 26h-14c-0.552 0-1-0.448-1-1s0.448-1 1-1h14c0.552 0 1 0.448 1 1s-0.448 1-1 1z\"></path>\n",
       "<path d=\"M23 22h-14c-0.552 0-1-0.448-1-1s0.448-1 1-1h14c0.552 0 1 0.448 1 1s-0.448 1-1 1z\"></path>\n",
       "<path d=\"M23 18h-14c-0.552 0-1-0.448-1-1s0.448-1 1-1h14c0.552 0 1 0.448 1 1s-0.448 1-1 1z\"></path>\n",
       "</symbol>\n",
       "</defs>\n",
       "</svg>\n",
       "<style>/* CSS stylesheet for displaying xarray objects in jupyterlab.\n",
       " *\n",
       " */\n",
       "\n",
       ":root {\n",
       "  --xr-font-color0: var(--jp-content-font-color0, rgba(0, 0, 0, 1));\n",
       "  --xr-font-color2: var(--jp-content-font-color2, rgba(0, 0, 0, 0.54));\n",
       "  --xr-font-color3: var(--jp-content-font-color3, rgba(0, 0, 0, 0.38));\n",
       "  --xr-border-color: var(--jp-border-color2, #e0e0e0);\n",
       "  --xr-disabled-color: var(--jp-layout-color3, #bdbdbd);\n",
       "  --xr-background-color: var(--jp-layout-color0, white);\n",
       "  --xr-background-color-row-even: var(--jp-layout-color1, white);\n",
       "  --xr-background-color-row-odd: var(--jp-layout-color2, #eeeeee);\n",
       "}\n",
       "\n",
       "html[theme=dark],\n",
       "body.vscode-dark {\n",
       "  --xr-font-color0: rgba(255, 255, 255, 1);\n",
       "  --xr-font-color2: rgba(255, 255, 255, 0.54);\n",
       "  --xr-font-color3: rgba(255, 255, 255, 0.38);\n",
       "  --xr-border-color: #1F1F1F;\n",
       "  --xr-disabled-color: #515151;\n",
       "  --xr-background-color: #111111;\n",
       "  --xr-background-color-row-even: #111111;\n",
       "  --xr-background-color-row-odd: #313131;\n",
       "}\n",
       "\n",
       ".xr-wrap {\n",
       "  display: block;\n",
       "  min-width: 300px;\n",
       "  max-width: 700px;\n",
       "}\n",
       "\n",
       ".xr-text-repr-fallback {\n",
       "  /* fallback to plain text repr when CSS is not injected (untrusted notebook) */\n",
       "  display: none;\n",
       "}\n",
       "\n",
       ".xr-header {\n",
       "  padding-top: 6px;\n",
       "  padding-bottom: 6px;\n",
       "  margin-bottom: 4px;\n",
       "  border-bottom: solid 1px var(--xr-border-color);\n",
       "}\n",
       "\n",
       ".xr-header > div,\n",
       ".xr-header > ul {\n",
       "  display: inline;\n",
       "  margin-top: 0;\n",
       "  margin-bottom: 0;\n",
       "}\n",
       "\n",
       ".xr-obj-type,\n",
       ".xr-array-name {\n",
       "  margin-left: 2px;\n",
       "  margin-right: 10px;\n",
       "}\n",
       "\n",
       ".xr-obj-type {\n",
       "  color: var(--xr-font-color2);\n",
       "}\n",
       "\n",
       ".xr-sections {\n",
       "  padding-left: 0 !important;\n",
       "  display: grid;\n",
       "  grid-template-columns: 150px auto auto 1fr 20px 20px;\n",
       "}\n",
       "\n",
       ".xr-section-item {\n",
       "  display: contents;\n",
       "}\n",
       "\n",
       ".xr-section-item input {\n",
       "  display: none;\n",
       "}\n",
       "\n",
       ".xr-section-item input + label {\n",
       "  color: var(--xr-disabled-color);\n",
       "}\n",
       "\n",
       ".xr-section-item input:enabled + label {\n",
       "  cursor: pointer;\n",
       "  color: var(--xr-font-color2);\n",
       "}\n",
       "\n",
       ".xr-section-item input:enabled + label:hover {\n",
       "  color: var(--xr-font-color0);\n",
       "}\n",
       "\n",
       ".xr-section-summary {\n",
       "  grid-column: 1;\n",
       "  color: var(--xr-font-color2);\n",
       "  font-weight: 500;\n",
       "}\n",
       "\n",
       ".xr-section-summary > span {\n",
       "  display: inline-block;\n",
       "  padding-left: 0.5em;\n",
       "}\n",
       "\n",
       ".xr-section-summary-in:disabled + label {\n",
       "  color: var(--xr-font-color2);\n",
       "}\n",
       "\n",
       ".xr-section-summary-in + label:before {\n",
       "  display: inline-block;\n",
       "  content: '►';\n",
       "  font-size: 11px;\n",
       "  width: 15px;\n",
       "  text-align: center;\n",
       "}\n",
       "\n",
       ".xr-section-summary-in:disabled + label:before {\n",
       "  color: var(--xr-disabled-color);\n",
       "}\n",
       "\n",
       ".xr-section-summary-in:checked + label:before {\n",
       "  content: '▼';\n",
       "}\n",
       "\n",
       ".xr-section-summary-in:checked + label > span {\n",
       "  display: none;\n",
       "}\n",
       "\n",
       ".xr-section-summary,\n",
       ".xr-section-inline-details {\n",
       "  padding-top: 4px;\n",
       "  padding-bottom: 4px;\n",
       "}\n",
       "\n",
       ".xr-section-inline-details {\n",
       "  grid-column: 2 / -1;\n",
       "}\n",
       "\n",
       ".xr-section-details {\n",
       "  display: none;\n",
       "  grid-column: 1 / -1;\n",
       "  margin-bottom: 5px;\n",
       "}\n",
       "\n",
       ".xr-section-summary-in:checked ~ .xr-section-details {\n",
       "  display: contents;\n",
       "}\n",
       "\n",
       ".xr-array-wrap {\n",
       "  grid-column: 1 / -1;\n",
       "  display: grid;\n",
       "  grid-template-columns: 20px auto;\n",
       "}\n",
       "\n",
       ".xr-array-wrap > label {\n",
       "  grid-column: 1;\n",
       "  vertical-align: top;\n",
       "}\n",
       "\n",
       ".xr-preview {\n",
       "  color: var(--xr-font-color3);\n",
       "}\n",
       "\n",
       ".xr-array-preview,\n",
       ".xr-array-data {\n",
       "  padding: 0 5px !important;\n",
       "  grid-column: 2;\n",
       "}\n",
       "\n",
       ".xr-array-data,\n",
       ".xr-array-in:checked ~ .xr-array-preview {\n",
       "  display: none;\n",
       "}\n",
       "\n",
       ".xr-array-in:checked ~ .xr-array-data,\n",
       ".xr-array-preview {\n",
       "  display: inline-block;\n",
       "}\n",
       "\n",
       ".xr-dim-list {\n",
       "  display: inline-block !important;\n",
       "  list-style: none;\n",
       "  padding: 0 !important;\n",
       "  margin: 0;\n",
       "}\n",
       "\n",
       ".xr-dim-list li {\n",
       "  display: inline-block;\n",
       "  padding: 0;\n",
       "  margin: 0;\n",
       "}\n",
       "\n",
       ".xr-dim-list:before {\n",
       "  content: '(';\n",
       "}\n",
       "\n",
       ".xr-dim-list:after {\n",
       "  content: ')';\n",
       "}\n",
       "\n",
       ".xr-dim-list li:not(:last-child):after {\n",
       "  content: ',';\n",
       "  padding-right: 5px;\n",
       "}\n",
       "\n",
       ".xr-has-index {\n",
       "  font-weight: bold;\n",
       "}\n",
       "\n",
       ".xr-var-list,\n",
       ".xr-var-item {\n",
       "  display: contents;\n",
       "}\n",
       "\n",
       ".xr-var-item > div,\n",
       ".xr-var-item label,\n",
       ".xr-var-item > .xr-var-name span {\n",
       "  background-color: var(--xr-background-color-row-even);\n",
       "  margin-bottom: 0;\n",
       "}\n",
       "\n",
       ".xr-var-item > .xr-var-name:hover span {\n",
       "  padding-right: 5px;\n",
       "}\n",
       "\n",
       ".xr-var-list > li:nth-child(odd) > div,\n",
       ".xr-var-list > li:nth-child(odd) > label,\n",
       ".xr-var-list > li:nth-child(odd) > .xr-var-name span {\n",
       "  background-color: var(--xr-background-color-row-odd);\n",
       "}\n",
       "\n",
       ".xr-var-name {\n",
       "  grid-column: 1;\n",
       "}\n",
       "\n",
       ".xr-var-dims {\n",
       "  grid-column: 2;\n",
       "}\n",
       "\n",
       ".xr-var-dtype {\n",
       "  grid-column: 3;\n",
       "  text-align: right;\n",
       "  color: var(--xr-font-color2);\n",
       "}\n",
       "\n",
       ".xr-var-preview {\n",
       "  grid-column: 4;\n",
       "}\n",
       "\n",
       ".xr-var-name,\n",
       ".xr-var-dims,\n",
       ".xr-var-dtype,\n",
       ".xr-preview,\n",
       ".xr-attrs dt {\n",
       "  white-space: nowrap;\n",
       "  overflow: hidden;\n",
       "  text-overflow: ellipsis;\n",
       "  padding-right: 10px;\n",
       "}\n",
       "\n",
       ".xr-var-name:hover,\n",
       ".xr-var-dims:hover,\n",
       ".xr-var-dtype:hover,\n",
       ".xr-attrs dt:hover {\n",
       "  overflow: visible;\n",
       "  width: auto;\n",
       "  z-index: 1;\n",
       "}\n",
       "\n",
       ".xr-var-attrs,\n",
       ".xr-var-data {\n",
       "  display: none;\n",
       "  background-color: var(--xr-background-color) !important;\n",
       "  padding-bottom: 5px !important;\n",
       "}\n",
       "\n",
       ".xr-var-attrs-in:checked ~ .xr-var-attrs,\n",
       ".xr-var-data-in:checked ~ .xr-var-data {\n",
       "  display: block;\n",
       "}\n",
       "\n",
       ".xr-var-data > table {\n",
       "  float: right;\n",
       "}\n",
       "\n",
       ".xr-var-name span,\n",
       ".xr-var-data,\n",
       ".xr-attrs {\n",
       "  padding-left: 25px !important;\n",
       "}\n",
       "\n",
       ".xr-attrs,\n",
       ".xr-var-attrs,\n",
       ".xr-var-data {\n",
       "  grid-column: 1 / -1;\n",
       "}\n",
       "\n",
       "dl.xr-attrs {\n",
       "  padding: 0;\n",
       "  margin: 0;\n",
       "  display: grid;\n",
       "  grid-template-columns: 125px auto;\n",
       "}\n",
       "\n",
       ".xr-attrs dt,\n",
       ".xr-attrs dd {\n",
       "  padding: 0;\n",
       "  margin: 0;\n",
       "  float: left;\n",
       "  padding-right: 10px;\n",
       "  width: auto;\n",
       "}\n",
       "\n",
       ".xr-attrs dt {\n",
       "  font-weight: normal;\n",
       "  grid-column: 1;\n",
       "}\n",
       "\n",
       ".xr-attrs dt:hover span {\n",
       "  display: inline-block;\n",
       "  background: var(--xr-background-color);\n",
       "  padding-right: 10px;\n",
       "}\n",
       "\n",
       ".xr-attrs dd {\n",
       "  grid-column: 2;\n",
       "  white-space: pre-wrap;\n",
       "  word-break: break-all;\n",
       "}\n",
       "\n",
       ".xr-icon-database,\n",
       ".xr-icon-file-text2 {\n",
       "  display: inline-block;\n",
       "  vertical-align: middle;\n",
       "  width: 1em;\n",
       "  height: 1.5em !important;\n",
       "  stroke-width: 0;\n",
       "  stroke: currentColor;\n",
       "  fill: currentColor;\n",
       "}\n",
       "</style><pre class='xr-text-repr-fallback'>&lt;xarray.Dataset&gt;\n",
       "Dimensions:    (ensemble: 10, init_date: 60, lead_time: 11)\n",
       "Coordinates:\n",
       "  * ensemble   (ensemble) int64 0 1 2 3 4 5 6 7 8 9\n",
       "  * init_date  (init_date) object 1960-11-16 00:00:00 ... 2019-11-16 00:00:00\n",
       "  * lead_time  (lead_time) int64 0 1 2 3 4 5 6 7 8 9 10\n",
       "    time       (lead_time, init_date) object dask.array&lt;chunksize=(11, 60), meta=np.ndarray&gt;\n",
       "Data variables:\n",
       "    pr         (init_date, ensemble, lead_time) float64 dask.array&lt;chunksize=(1, 1, 11), meta=np.ndarray&gt;\n",
       "Attributes: (12/48)\n",
       "    Conventions:            CF-1.7 CMIP-6.2\n",
       "    activity_id:            DCPP\n",
       "    branch_method:          no parent\n",
       "    branch_time_in_child:   0.0\n",
       "    branch_time_in_parent:  0.0\n",
       "    cmor_version:           3.6.0\n",
       "    ...                     ...\n",
       "    table_id:               Amon\n",
       "    table_info:             Creation Date:(05 February 2020) MD5:6a248fd76c55...\n",
       "    title:                  CMCC-CM2-SR5 output prepared for CMIP6\n",
       "    tracking_id:            hdl:21.14100/9030313a-075d-4030-beea-5414dde0ee00\n",
       "    variable_id:            pr\n",
       "    variant_label:          r1i1p1f1</pre><div class='xr-wrap' hidden><div class='xr-header'><div class='xr-obj-type'>xarray.Dataset</div></div><ul class='xr-sections'><li class='xr-section-item'><input id='section-43ff93f6-33b9-4671-aa34-ec49436ccc4c' class='xr-section-summary-in' type='checkbox' disabled ><label for='section-43ff93f6-33b9-4671-aa34-ec49436ccc4c' class='xr-section-summary'  title='Expand/collapse section'>Dimensions:</label><div class='xr-section-inline-details'><ul class='xr-dim-list'><li><span class='xr-has-index'>ensemble</span>: 10</li><li><span class='xr-has-index'>init_date</span>: 60</li><li><span class='xr-has-index'>lead_time</span>: 11</li></ul></div><div class='xr-section-details'></div></li><li class='xr-section-item'><input id='section-f3a148f8-f51a-413d-bb65-1f983151179f' class='xr-section-summary-in' type='checkbox'  checked><label for='section-f3a148f8-f51a-413d-bb65-1f983151179f' class='xr-section-summary' >Coordinates: <span>(4)</span></label><div class='xr-section-inline-details'></div><div class='xr-section-details'><ul class='xr-var-list'><li class='xr-var-item'><div class='xr-var-name'><span class='xr-has-index'>ensemble</span></div><div class='xr-var-dims'>(ensemble)</div><div class='xr-var-dtype'>int64</div><div class='xr-var-preview xr-preview'>0 1 2 3 4 5 6 7 8 9</div><input id='attrs-fd3c638c-abd0-456f-ac81-bd73571ec4de' class='xr-var-attrs-in' type='checkbox' disabled><label for='attrs-fd3c638c-abd0-456f-ac81-bd73571ec4de' title='Show/Hide attributes'><svg class='icon xr-icon-file-text2'><use xlink:href='#icon-file-text2'></use></svg></label><input id='data-19e38660-86c8-4682-8bef-20e6224cb5ef' class='xr-var-data-in' type='checkbox'><label for='data-19e38660-86c8-4682-8bef-20e6224cb5ef' title='Show/Hide data repr'><svg class='icon xr-icon-database'><use xlink:href='#icon-database'></use></svg></label><div class='xr-var-attrs'><dl class='xr-attrs'></dl></div><div class='xr-var-data'><pre>array([0, 1, 2, 3, 4, 5, 6, 7, 8, 9])</pre></div></li><li class='xr-var-item'><div class='xr-var-name'><span class='xr-has-index'>init_date</span></div><div class='xr-var-dims'>(init_date)</div><div class='xr-var-dtype'>object</div><div class='xr-var-preview xr-preview'>1960-11-16 00:00:00 ... 2019-11-...</div><input id='attrs-e7bbbfcb-1da0-474f-af30-0eefa1bbf1b1' class='xr-var-attrs-in' type='checkbox' disabled><label for='attrs-e7bbbfcb-1da0-474f-af30-0eefa1bbf1b1' title='Show/Hide attributes'><svg class='icon xr-icon-file-text2'><use xlink:href='#icon-file-text2'></use></svg></label><input id='data-f3e9574d-7f23-47a0-9bc8-876efbe1b0d8' class='xr-var-data-in' type='checkbox'><label for='data-f3e9574d-7f23-47a0-9bc8-876efbe1b0d8' title='Show/Hide data repr'><svg class='icon xr-icon-database'><use xlink:href='#icon-database'></use></svg></label><div class='xr-var-attrs'><dl class='xr-attrs'></dl></div><div class='xr-var-data'><pre>array([cftime.DatetimeJulian(1960, 11, 16, 0, 0, 0, 0, has_year_zero=False),\n",
       "       cftime.DatetimeJulian(1961, 11, 16, 0, 0, 0, 0, has_year_zero=False),\n",
       "       cftime.DatetimeJulian(1962, 11, 16, 0, 0, 0, 0, has_year_zero=False),\n",
       "       cftime.DatetimeJulian(1963, 11, 16, 0, 0, 0, 0, has_year_zero=False),\n",
       "       cftime.DatetimeJulian(1964, 11, 16, 0, 0, 0, 0, has_year_zero=False),\n",
       "       cftime.DatetimeJulian(1965, 11, 16, 0, 0, 0, 0, has_year_zero=False),\n",
       "       cftime.DatetimeJulian(1966, 11, 16, 0, 0, 0, 0, has_year_zero=False),\n",
       "       cftime.DatetimeJulian(1967, 11, 16, 0, 0, 0, 0, has_year_zero=False),\n",
       "       cftime.DatetimeJulian(1968, 11, 16, 0, 0, 0, 0, has_year_zero=False),\n",
       "       cftime.DatetimeJulian(1969, 11, 16, 0, 0, 0, 0, has_year_zero=False),\n",
       "       cftime.DatetimeJulian(1970, 11, 16, 0, 0, 0, 0, has_year_zero=False),\n",
       "       cftime.DatetimeJulian(1971, 11, 16, 0, 0, 0, 0, has_year_zero=False),\n",
       "       cftime.DatetimeJulian(1972, 11, 16, 0, 0, 0, 0, has_year_zero=False),\n",
       "       cftime.DatetimeJulian(1973, 11, 16, 0, 0, 0, 0, has_year_zero=False),\n",
       "       cftime.DatetimeJulian(1974, 11, 16, 0, 0, 0, 0, has_year_zero=False),\n",
       "       cftime.DatetimeJulian(1975, 11, 16, 0, 0, 0, 0, has_year_zero=False),\n",
       "       cftime.DatetimeJulian(1976, 11, 16, 0, 0, 0, 0, has_year_zero=False),\n",
       "       cftime.DatetimeJulian(1977, 11, 16, 0, 0, 0, 0, has_year_zero=False),\n",
       "       cftime.DatetimeJulian(1978, 11, 16, 0, 0, 0, 0, has_year_zero=False),\n",
       "       cftime.DatetimeJulian(1979, 11, 16, 0, 0, 0, 0, has_year_zero=False),\n",
       "       cftime.DatetimeJulian(1980, 11, 16, 0, 0, 0, 0, has_year_zero=False),\n",
       "       cftime.DatetimeJulian(1981, 11, 16, 0, 0, 0, 0, has_year_zero=False),\n",
       "       cftime.DatetimeJulian(1982, 11, 16, 0, 0, 0, 0, has_year_zero=False),\n",
       "       cftime.DatetimeJulian(1983, 11, 16, 0, 0, 0, 0, has_year_zero=False),\n",
       "       cftime.DatetimeJulian(1984, 11, 16, 0, 0, 0, 0, has_year_zero=False),\n",
       "       cftime.DatetimeJulian(1985, 11, 16, 0, 0, 0, 0, has_year_zero=False),\n",
       "       cftime.DatetimeJulian(1986, 11, 16, 0, 0, 0, 0, has_year_zero=False),\n",
       "       cftime.DatetimeJulian(1987, 11, 16, 0, 0, 0, 0, has_year_zero=False),\n",
       "       cftime.DatetimeJulian(1988, 11, 16, 0, 0, 0, 0, has_year_zero=False),\n",
       "       cftime.DatetimeJulian(1989, 11, 16, 0, 0, 0, 0, has_year_zero=False),\n",
       "       cftime.DatetimeJulian(1990, 11, 16, 0, 0, 0, 0, has_year_zero=False),\n",
       "       cftime.DatetimeJulian(1991, 11, 16, 0, 0, 0, 0, has_year_zero=False),\n",
       "       cftime.DatetimeJulian(1992, 11, 16, 0, 0, 0, 0, has_year_zero=False),\n",
       "       cftime.DatetimeJulian(1993, 11, 16, 0, 0, 0, 0, has_year_zero=False),\n",
       "       cftime.DatetimeJulian(1994, 11, 16, 0, 0, 0, 0, has_year_zero=False),\n",
       "       cftime.DatetimeJulian(1995, 11, 16, 0, 0, 0, 0, has_year_zero=False),\n",
       "       cftime.DatetimeJulian(1996, 11, 16, 0, 0, 0, 0, has_year_zero=False),\n",
       "       cftime.DatetimeJulian(1997, 11, 16, 0, 0, 0, 0, has_year_zero=False),\n",
       "       cftime.DatetimeJulian(1998, 11, 16, 0, 0, 0, 0, has_year_zero=False),\n",
       "       cftime.DatetimeJulian(1999, 11, 16, 0, 0, 0, 0, has_year_zero=False),\n",
       "       cftime.DatetimeJulian(2000, 11, 16, 0, 0, 0, 0, has_year_zero=False),\n",
       "       cftime.DatetimeJulian(2001, 11, 16, 0, 0, 0, 0, has_year_zero=False),\n",
       "       cftime.DatetimeJulian(2002, 11, 16, 0, 0, 0, 0, has_year_zero=False),\n",
       "       cftime.DatetimeJulian(2003, 11, 16, 0, 0, 0, 0, has_year_zero=False),\n",
       "       cftime.DatetimeJulian(2004, 11, 16, 0, 0, 0, 0, has_year_zero=False),\n",
       "       cftime.DatetimeJulian(2005, 11, 16, 0, 0, 0, 0, has_year_zero=False),\n",
       "       cftime.DatetimeJulian(2006, 11, 16, 0, 0, 0, 0, has_year_zero=False),\n",
       "       cftime.DatetimeJulian(2007, 11, 16, 0, 0, 0, 0, has_year_zero=False),\n",
       "       cftime.DatetimeJulian(2008, 11, 16, 0, 0, 0, 0, has_year_zero=False),\n",
       "       cftime.DatetimeJulian(2009, 11, 16, 0, 0, 0, 0, has_year_zero=False),\n",
       "       cftime.DatetimeJulian(2010, 11, 16, 0, 0, 0, 0, has_year_zero=False),\n",
       "       cftime.DatetimeJulian(2011, 11, 16, 0, 0, 0, 0, has_year_zero=False),\n",
       "       cftime.DatetimeJulian(2012, 11, 16, 0, 0, 0, 0, has_year_zero=False),\n",
       "       cftime.DatetimeJulian(2013, 11, 16, 0, 0, 0, 0, has_year_zero=False),\n",
       "       cftime.DatetimeJulian(2014, 11, 16, 0, 0, 0, 0, has_year_zero=False),\n",
       "       cftime.DatetimeJulian(2015, 11, 16, 0, 0, 0, 0, has_year_zero=False),\n",
       "       cftime.DatetimeJulian(2016, 11, 16, 0, 0, 0, 0, has_year_zero=False),\n",
       "       cftime.DatetimeJulian(2017, 11, 16, 0, 0, 0, 0, has_year_zero=False),\n",
       "       cftime.DatetimeJulian(2018, 11, 16, 0, 0, 0, 0, has_year_zero=False),\n",
       "       cftime.DatetimeJulian(2019, 11, 16, 0, 0, 0, 0, has_year_zero=False)],\n",
       "      dtype=object)</pre></div></li><li class='xr-var-item'><div class='xr-var-name'><span class='xr-has-index'>lead_time</span></div><div class='xr-var-dims'>(lead_time)</div><div class='xr-var-dtype'>int64</div><div class='xr-var-preview xr-preview'>0 1 2 3 4 5 6 7 8 9 10</div><input id='attrs-29ea6910-0e67-486e-8e02-40541d17d276' class='xr-var-attrs-in' type='checkbox' disabled><label for='attrs-29ea6910-0e67-486e-8e02-40541d17d276' title='Show/Hide attributes'><svg class='icon xr-icon-file-text2'><use xlink:href='#icon-file-text2'></use></svg></label><input id='data-22368b03-deb8-4082-b47d-0991cc36a097' class='xr-var-data-in' type='checkbox'><label for='data-22368b03-deb8-4082-b47d-0991cc36a097' title='Show/Hide data repr'><svg class='icon xr-icon-database'><use xlink:href='#icon-database'></use></svg></label><div class='xr-var-attrs'><dl class='xr-attrs'></dl></div><div class='xr-var-data'><pre>array([ 0,  1,  2,  3,  4,  5,  6,  7,  8,  9, 10])</pre></div></li><li class='xr-var-item'><div class='xr-var-name'><span>time</span></div><div class='xr-var-dims'>(lead_time, init_date)</div><div class='xr-var-dtype'>object</div><div class='xr-var-preview xr-preview'>dask.array&lt;chunksize=(11, 60), meta=np.ndarray&gt;</div><input id='attrs-8b3da844-1eed-4d73-a520-f7359979dfa4' class='xr-var-attrs-in' type='checkbox' disabled><label for='attrs-8b3da844-1eed-4d73-a520-f7359979dfa4' title='Show/Hide attributes'><svg class='icon xr-icon-file-text2'><use xlink:href='#icon-file-text2'></use></svg></label><input id='data-6d55ebab-43f1-40c0-8e50-4e3d6c320802' class='xr-var-data-in' type='checkbox'><label for='data-6d55ebab-43f1-40c0-8e50-4e3d6c320802' title='Show/Hide data repr'><svg class='icon xr-icon-database'><use xlink:href='#icon-database'></use></svg></label><div class='xr-var-attrs'><dl class='xr-attrs'></dl></div><div class='xr-var-data'><table>\n",
       "<tr>\n",
       "<td>\n",
       "<table>\n",
       "  <thead>\n",
       "    <tr><td> </td><th> Array </th><th> Chunk </th></tr>\n",
       "  </thead>\n",
       "  <tbody>\n",
       "    <tr><th> Bytes </th><td> 5.16 kiB </td> <td> 5.16 kiB </td></tr>\n",
       "    <tr><th> Shape </th><td> (11, 60) </td> <td> (11, 60) </td></tr>\n",
       "    <tr><th> Count </th><td> 2 Tasks </td><td> 1 Chunks </td></tr>\n",
       "    <tr><th> Type </th><td> object </td><td> numpy.ndarray </td></tr>\n",
       "  </tbody>\n",
       "</table>\n",
       "</td>\n",
       "<td>\n",
       "<svg width=\"170\" height=\"91\" style=\"stroke:rgb(0,0,0);stroke-width:1\" >\n",
       "\n",
       "  <!-- Horizontal lines -->\n",
       "  <line x1=\"0\" y1=\"0\" x2=\"120\" y2=\"0\" style=\"stroke-width:2\" />\n",
       "  <line x1=\"0\" y1=\"41\" x2=\"120\" y2=\"41\" style=\"stroke-width:2\" />\n",
       "\n",
       "  <!-- Vertical lines -->\n",
       "  <line x1=\"0\" y1=\"0\" x2=\"0\" y2=\"41\" style=\"stroke-width:2\" />\n",
       "  <line x1=\"120\" y1=\"0\" x2=\"120\" y2=\"41\" style=\"stroke-width:2\" />\n",
       "\n",
       "  <!-- Colored Rectangle -->\n",
       "  <polygon points=\"0.0,0.0 120.0,0.0 120.0,41.63402265652002 0.0,41.63402265652002\" style=\"fill:#ECB172A0;stroke-width:0\"/>\n",
       "\n",
       "  <!-- Text -->\n",
       "  <text x=\"60.000000\" y=\"61.634023\" font-size=\"1.0rem\" font-weight=\"100\" text-anchor=\"middle\" >60</text>\n",
       "  <text x=\"140.000000\" y=\"20.817011\" font-size=\"1.0rem\" font-weight=\"100\" text-anchor=\"middle\" transform=\"rotate(0,140.000000,20.817011)\">11</text>\n",
       "</svg>\n",
       "</td>\n",
       "</tr>\n",
       "</table></div></li></ul></div></li><li class='xr-section-item'><input id='section-a78cf345-cc07-452e-b79e-73c4f555fc17' class='xr-section-summary-in' type='checkbox'  checked><label for='section-a78cf345-cc07-452e-b79e-73c4f555fc17' class='xr-section-summary' >Data variables: <span>(1)</span></label><div class='xr-section-inline-details'></div><div class='xr-section-details'><ul class='xr-var-list'><li class='xr-var-item'><div class='xr-var-name'><span>pr</span></div><div class='xr-var-dims'>(init_date, ensemble, lead_time)</div><div class='xr-var-dtype'>float64</div><div class='xr-var-preview xr-preview'>dask.array&lt;chunksize=(1, 1, 11), meta=np.ndarray&gt;</div><input id='attrs-0d0dcf44-db1d-4e06-addb-f04849909b03' class='xr-var-attrs-in' type='checkbox' ><label for='attrs-0d0dcf44-db1d-4e06-addb-f04849909b03' title='Show/Hide attributes'><svg class='icon xr-icon-file-text2'><use xlink:href='#icon-file-text2'></use></svg></label><input id='data-9a0c8a8e-66bb-403b-a19d-325b358f9fb9' class='xr-var-data-in' type='checkbox'><label for='data-9a0c8a8e-66bb-403b-a19d-325b358f9fb9' title='Show/Hide data repr'><svg class='icon xr-icon-database'><use xlink:href='#icon-database'></use></svg></label><div class='xr-var-attrs'><dl class='xr-attrs'><dt><span>cell_measures :</span></dt><dd>area: areacella</dd><dt><span>cell_methods :</span></dt><dd>area: time: mean</dd><dt><span>comment :</span></dt><dd>includes both liquid and solid phases</dd><dt><span>long_name :</span></dt><dd>Precipitation</dd><dt><span>original_name :</span></dt><dd>PRECT</dd><dt><span>standard_name :</span></dt><dd>precipitation_flux</dd><dt><span>units :</span></dt><dd>mm month-1</dd></dl></div><div class='xr-var-data'><table>\n",
       "<tr>\n",
       "<td>\n",
       "<table>\n",
       "  <thead>\n",
       "    <tr><td> </td><th> Array </th><th> Chunk </th></tr>\n",
       "  </thead>\n",
       "  <tbody>\n",
       "    <tr><th> Bytes </th><td> 51.56 kiB </td> <td> 88 B </td></tr>\n",
       "    <tr><th> Shape </th><td> (60, 10, 11) </td> <td> (1, 1, 11) </td></tr>\n",
       "    <tr><th> Count </th><td> 601 Tasks </td><td> 600 Chunks </td></tr>\n",
       "    <tr><th> Type </th><td> float64 </td><td> numpy.ndarray </td></tr>\n",
       "  </tbody>\n",
       "</table>\n",
       "</td>\n",
       "<td>\n",
       "<svg width=\"172\" height=\"161\" style=\"stroke:rgb(0,0,0);stroke-width:1\" >\n",
       "\n",
       "  <!-- Horizontal lines -->\n",
       "  <line x1=\"10\" y1=\"0\" x2=\"80\" y2=\"70\" style=\"stroke-width:2\" />\n",
       "  <line x1=\"10\" y1=\"4\" x2=\"80\" y2=\"74\" />\n",
       "  <line x1=\"10\" y1=\"8\" x2=\"80\" y2=\"78\" />\n",
       "  <line x1=\"10\" y1=\"12\" x2=\"80\" y2=\"82\" />\n",
       "  <line x1=\"10\" y1=\"16\" x2=\"80\" y2=\"87\" />\n",
       "  <line x1=\"10\" y1=\"20\" x2=\"80\" y2=\"91\" />\n",
       "  <line x1=\"10\" y1=\"24\" x2=\"80\" y2=\"95\" />\n",
       "  <line x1=\"10\" y1=\"28\" x2=\"80\" y2=\"99\" />\n",
       "  <line x1=\"10\" y1=\"32\" x2=\"80\" y2=\"103\" />\n",
       "  <line x1=\"10\" y1=\"37\" x2=\"80\" y2=\"107\" />\n",
       "  <line x1=\"10\" y1=\"41\" x2=\"80\" y2=\"111\" style=\"stroke-width:2\" />\n",
       "\n",
       "  <!-- Vertical lines -->\n",
       "  <line x1=\"10\" y1=\"0\" x2=\"10\" y2=\"41\" style=\"stroke-width:2\" />\n",
       "  <line x1=\"13\" y1=\"3\" x2=\"13\" y2=\"44\" />\n",
       "  <line x1=\"17\" y1=\"7\" x2=\"17\" y2=\"48\" />\n",
       "  <line x1=\"20\" y1=\"10\" x2=\"20\" y2=\"51\" />\n",
       "  <line x1=\"24\" y1=\"14\" x2=\"24\" y2=\"55\" />\n",
       "  <line x1=\"27\" y1=\"17\" x2=\"27\" y2=\"58\" />\n",
       "  <line x1=\"31\" y1=\"21\" x2=\"31\" y2=\"62\" />\n",
       "  <line x1=\"35\" y1=\"25\" x2=\"35\" y2=\"67\" />\n",
       "  <line x1=\"39\" y1=\"29\" x2=\"39\" y2=\"70\" />\n",
       "  <line x1=\"42\" y1=\"32\" x2=\"42\" y2=\"74\" />\n",
       "  <line x1=\"46\" y1=\"36\" x2=\"46\" y2=\"77\" />\n",
       "  <line x1=\"50\" y1=\"40\" x2=\"50\" y2=\"81\" />\n",
       "  <line x1=\"53\" y1=\"43\" x2=\"53\" y2=\"84\" />\n",
       "  <line x1=\"58\" y1=\"48\" x2=\"58\" y2=\"89\" />\n",
       "  <line x1=\"61\" y1=\"51\" x2=\"61\" y2=\"92\" />\n",
       "  <line x1=\"65\" y1=\"55\" x2=\"65\" y2=\"96\" />\n",
       "  <line x1=\"68\" y1=\"58\" x2=\"68\" y2=\"100\" />\n",
       "  <line x1=\"72\" y1=\"62\" x2=\"72\" y2=\"103\" />\n",
       "  <line x1=\"75\" y1=\"65\" x2=\"75\" y2=\"107\" />\n",
       "  <line x1=\"80\" y1=\"70\" x2=\"80\" y2=\"111\" style=\"stroke-width:2\" />\n",
       "\n",
       "  <!-- Colored Rectangle -->\n",
       "  <polygon points=\"10.0,0.0 80.58823529411765,70.58823529411765 80.58823529411765,111.79206471548505 10.0,41.20382942136741\" style=\"fill:#8B4903A0;stroke-width:0\"/>\n",
       "\n",
       "  <!-- Horizontal lines -->\n",
       "  <line x1=\"10\" y1=\"0\" x2=\"51\" y2=\"0\" style=\"stroke-width:2\" />\n",
       "  <line x1=\"13\" y1=\"3\" x2=\"55\" y2=\"3\" />\n",
       "  <line x1=\"17\" y1=\"7\" x2=\"58\" y2=\"7\" />\n",
       "  <line x1=\"20\" y1=\"10\" x2=\"62\" y2=\"10\" />\n",
       "  <line x1=\"24\" y1=\"14\" x2=\"65\" y2=\"14\" />\n",
       "  <line x1=\"27\" y1=\"17\" x2=\"69\" y2=\"17\" />\n",
       "  <line x1=\"31\" y1=\"21\" x2=\"72\" y2=\"21\" />\n",
       "  <line x1=\"35\" y1=\"25\" x2=\"77\" y2=\"25\" />\n",
       "  <line x1=\"39\" y1=\"29\" x2=\"81\" y2=\"29\" />\n",
       "  <line x1=\"42\" y1=\"32\" x2=\"84\" y2=\"32\" />\n",
       "  <line x1=\"46\" y1=\"36\" x2=\"88\" y2=\"36\" />\n",
       "  <line x1=\"50\" y1=\"40\" x2=\"91\" y2=\"40\" />\n",
       "  <line x1=\"53\" y1=\"43\" x2=\"95\" y2=\"43\" />\n",
       "  <line x1=\"58\" y1=\"48\" x2=\"99\" y2=\"48\" />\n",
       "  <line x1=\"61\" y1=\"51\" x2=\"103\" y2=\"51\" />\n",
       "  <line x1=\"65\" y1=\"55\" x2=\"106\" y2=\"55\" />\n",
       "  <line x1=\"68\" y1=\"58\" x2=\"110\" y2=\"58\" />\n",
       "  <line x1=\"72\" y1=\"62\" x2=\"113\" y2=\"62\" />\n",
       "  <line x1=\"75\" y1=\"65\" x2=\"117\" y2=\"65\" />\n",
       "  <line x1=\"80\" y1=\"70\" x2=\"122\" y2=\"70\" style=\"stroke-width:2\" />\n",
       "\n",
       "  <!-- Vertical lines -->\n",
       "  <line x1=\"10\" y1=\"0\" x2=\"80\" y2=\"70\" style=\"stroke-width:2\" />\n",
       "  <line x1=\"51\" y1=\"0\" x2=\"122\" y2=\"70\" style=\"stroke-width:2\" />\n",
       "\n",
       "  <!-- Colored Rectangle -->\n",
       "  <polygon points=\"10.0,0.0 51.63402265652002,0.0 122.22225795063767,70.58823529411765 80.58823529411765,70.58823529411765\" style=\"fill:#8B4903A0;stroke-width:0\"/>\n",
       "\n",
       "  <!-- Horizontal lines -->\n",
       "  <line x1=\"80\" y1=\"70\" x2=\"122\" y2=\"70\" style=\"stroke-width:2\" />\n",
       "  <line x1=\"80\" y1=\"74\" x2=\"122\" y2=\"74\" />\n",
       "  <line x1=\"80\" y1=\"78\" x2=\"122\" y2=\"78\" />\n",
       "  <line x1=\"80\" y1=\"82\" x2=\"122\" y2=\"82\" />\n",
       "  <line x1=\"80\" y1=\"87\" x2=\"122\" y2=\"87\" />\n",
       "  <line x1=\"80\" y1=\"91\" x2=\"122\" y2=\"91\" />\n",
       "  <line x1=\"80\" y1=\"95\" x2=\"122\" y2=\"95\" />\n",
       "  <line x1=\"80\" y1=\"99\" x2=\"122\" y2=\"99\" />\n",
       "  <line x1=\"80\" y1=\"103\" x2=\"122\" y2=\"103\" />\n",
       "  <line x1=\"80\" y1=\"107\" x2=\"122\" y2=\"107\" />\n",
       "  <line x1=\"80\" y1=\"111\" x2=\"122\" y2=\"111\" style=\"stroke-width:2\" />\n",
       "\n",
       "  <!-- Vertical lines -->\n",
       "  <line x1=\"80\" y1=\"70\" x2=\"80\" y2=\"111\" style=\"stroke-width:2\" />\n",
       "  <line x1=\"122\" y1=\"70\" x2=\"122\" y2=\"111\" style=\"stroke-width:2\" />\n",
       "\n",
       "  <!-- Colored Rectangle -->\n",
       "  <polygon points=\"80.58823529411765,70.58823529411765 122.22225795063767,70.58823529411765 122.22225795063767,111.79206471548505 80.58823529411765,111.79206471548505\" style=\"fill:#ECB172A0;stroke-width:0\"/>\n",
       "\n",
       "  <!-- Text -->\n",
       "  <text x=\"101.405247\" y=\"131.792065\" font-size=\"1.0rem\" font-weight=\"100\" text-anchor=\"middle\" >11</text>\n",
       "  <text x=\"142.222258\" y=\"91.190150\" font-size=\"1.0rem\" font-weight=\"100\" text-anchor=\"middle\" transform=\"rotate(0,142.222258,91.190150)\">10</text>\n",
       "  <text x=\"35.294118\" y=\"96.497947\" font-size=\"1.0rem\" font-weight=\"100\" text-anchor=\"middle\" transform=\"rotate(45,35.294118,96.497947)\">60</text>\n",
       "</svg>\n",
       "</td>\n",
       "</tr>\n",
       "</table></div></li></ul></div></li><li class='xr-section-item'><input id='section-7ab84fba-fa97-48b3-ba21-f25c6b0d49e2' class='xr-section-summary-in' type='checkbox'  ><label for='section-7ab84fba-fa97-48b3-ba21-f25c6b0d49e2' class='xr-section-summary' >Attributes: <span>(48)</span></label><div class='xr-section-inline-details'></div><div class='xr-section-details'><dl class='xr-attrs'><dt><span>Conventions :</span></dt><dd>CF-1.7 CMIP-6.2</dd><dt><span>activity_id :</span></dt><dd>DCPP</dd><dt><span>branch_method :</span></dt><dd>no parent</dd><dt><span>branch_time_in_child :</span></dt><dd>0.0</dd><dt><span>branch_time_in_parent :</span></dt><dd>0.0</dd><dt><span>cmor_version :</span></dt><dd>3.6.0</dd><dt><span>comment :</span></dt><dd>none</dd><dt><span>contact :</span></dt><dd>A. Bellucci</dd><dt><span>creation_date :</span></dt><dd>2021-03-08T14:59:39Z</dd><dt><span>data_specs_version :</span></dt><dd>01.00.31</dd><dt><span>experiment :</span></dt><dd>hindcast initialized based on observations and using historical forcing</dd><dt><span>experiment_id :</span></dt><dd>dcppA-hindcast</dd><dt><span>external_variables :</span></dt><dd>areacella</dd><dt><span>forcing_index :</span></dt><dd>1</dd><dt><span>frequency :</span></dt><dd>mon</dd><dt><span>further_info_url :</span></dt><dd>https://furtherinfo.es-doc.org/CMIP6.CMCC.CMCC-CM2-SR5.dcppA-hindcast.s1960.r1i1p1f1</dd><dt><span>grid :</span></dt><dd>native atmosphere regular grid</dd><dt><span>grid_label :</span></dt><dd>gn</dd><dt><span>history :</span></dt><dd>Mon Mar 07 14:23:18 2022: /g/data/xv83/dbi599/miniconda3/envs/unseen/bin/python3.9 /g/data/xv83/dbi599/miniconda3/envs/unseen/bin/fileio file_lists/CMCC-CM2-SR5_dcppA-hindcast_files.txt /g/data/xv83/dbi599/nov-rain/data/pr_CMCC-CM2-SR5-dcppA-hindcast_196011-201911_nov_aus-mean.zarr.zip --forecast --variables pr --spatial_coords -44 -11 113 154 --month 11 --shapefile /g/data/xv83/dbi599/nov-rain/shapefiles/australia.shp --spatial_agg mean --units pr=mm month-1 --units_timing middle --n_ensemble_files 10 --reset_times --output_chunks lead_time=50 --dask_config dask_local.yml --verbose (git@github.com:AusClimateService/nov-rain)</dd><dt><span>initialization_index :</span></dt><dd>1</dd><dt><span>institution :</span></dt><dd>Fondazione Centro Euro-Mediterraneo sui Cambiamenti Climatici, Lecce 73100, Italy</dd><dt><span>institution_id :</span></dt><dd>CMCC</dd><dt><span>license :</span></dt><dd>CMIP6 model data produced by CMCC is licensed under a Creative Commons Attribution ShareAlike 4.0 International License (https://creativecommons.org/licenses). Consult https://pcmdi.llnl.gov/CMIP6/TermsOfUse for terms of use governing CMIP6 output, including citation requirements and proper acknowledgment. Further information about this data, including some limitations, can be found via the further_info_url (recorded as a global attribute in this file) and at https:///pcmdi.llnl.gov/. The data producers and data providers make no warranty, either express or implied, including, but not limited to, warranties of merchantability and fitness for a particular purpose. All liabilities arising from the supply of the information (including any liability arising in negligence) are excluded to the fullest extent permitted by law.</dd><dt><span>mip_era :</span></dt><dd>CMIP6</dd><dt><span>nominal_resolution :</span></dt><dd>100 km</dd><dt><span>parent_activity_id :</span></dt><dd>no parent</dd><dt><span>parent_experiment_id :</span></dt><dd>no parent</dd><dt><span>parent_mip_era :</span></dt><dd>no parent</dd><dt><span>parent_source_id :</span></dt><dd>no parent</dd><dt><span>parent_time_units :</span></dt><dd>no parent</dd><dt><span>parent_variant_label :</span></dt><dd>no parent</dd><dt><span>physics_index :</span></dt><dd>1</dd><dt><span>product :</span></dt><dd>model-output</dd><dt><span>realization_index :</span></dt><dd>1</dd><dt><span>realm :</span></dt><dd>atmos</dd><dt><span>references :</span></dt><dd>none</dd><dt><span>run_variant :</span></dt><dd>1st realization</dd><dt><span>source :</span></dt><dd>CMCC-CM2-SR5 (2016): \n",
       "aerosol: MAM3\n",
       "atmos: CAM5.3 (1deg; 288 x 192 longitude/latitude; 30 levels; top at ~2 hPa)\n",
       "atmosChem: none\n",
       "land: CLM4.5 (BGC mode)\n",
       "landIce: none\n",
       "ocean: NEMO3.6 (ORCA1 tripolar primarly 1 deg lat/lon with meridional refinement down to 1/3 degree in the tropics; 362 x 292 longitude/latitude; 50 vertical levels; top grid cell 0-1 m)\n",
       "ocnBgchem: none\n",
       "seaIce: CICE4.0</dd><dt><span>source_id :</span></dt><dd>CMCC-CM2-SR5</dd><dt><span>source_type :</span></dt><dd>AOGCM</dd><dt><span>sub_experiment :</span></dt><dd>initialized near end of year 1960</dd><dt><span>sub_experiment_id :</span></dt><dd>s1960</dd><dt><span>table_id :</span></dt><dd>Amon</dd><dt><span>table_info :</span></dt><dd>Creation Date:(05 February 2020) MD5:6a248fd76c55aa6d6f7b3cc6866b5faf</dd><dt><span>title :</span></dt><dd>CMCC-CM2-SR5 output prepared for CMIP6</dd><dt><span>tracking_id :</span></dt><dd>hdl:21.14100/9030313a-075d-4030-beea-5414dde0ee00</dd><dt><span>variable_id :</span></dt><dd>pr</dd><dt><span>variant_label :</span></dt><dd>r1i1p1f1</dd></dl></div></li></ul></div></div>"
      ],
      "text/plain": [
       "<xarray.Dataset>\n",
       "Dimensions:    (ensemble: 10, init_date: 60, lead_time: 11)\n",
       "Coordinates:\n",
       "  * ensemble   (ensemble) int64 0 1 2 3 4 5 6 7 8 9\n",
       "  * init_date  (init_date) object 1960-11-16 00:00:00 ... 2019-11-16 00:00:00\n",
       "  * lead_time  (lead_time) int64 0 1 2 3 4 5 6 7 8 9 10\n",
       "    time       (lead_time, init_date) object dask.array<chunksize=(11, 60), meta=np.ndarray>\n",
       "Data variables:\n",
       "    pr         (init_date, ensemble, lead_time) float64 dask.array<chunksize=(1, 1, 11), meta=np.ndarray>\n",
       "Attributes: (12/48)\n",
       "    Conventions:            CF-1.7 CMIP-6.2\n",
       "    activity_id:            DCPP\n",
       "    branch_method:          no parent\n",
       "    branch_time_in_child:   0.0\n",
       "    branch_time_in_parent:  0.0\n",
       "    cmor_version:           3.6.0\n",
       "    ...                     ...\n",
       "    table_id:               Amon\n",
       "    table_info:             Creation Date:(05 February 2020) MD5:6a248fd76c55...\n",
       "    title:                  CMCC-CM2-SR5 output prepared for CMIP6\n",
       "    tracking_id:            hdl:21.14100/9030313a-075d-4030-beea-5414dde0ee00\n",
       "    variable_id:            pr\n",
       "    variant_label:          r1i1p1f1"
      ]
     },
     "execution_count": 12,
     "metadata": {},
     "output_type": "execute_result"
    }
   ],
   "source": [
    "model_ds"
   ]
  },
  {
   "cell_type": "markdown",
   "id": "b25bd815",
   "metadata": {
    "papermill": {
     "duration": 0.036803,
     "end_time": "2022-03-07T03:30:45.814759",
     "exception": false,
     "start_time": "2022-03-07T03:30:45.777956",
     "status": "completed"
    },
    "tags": []
   },
   "source": [
    "### Independence testing"
   ]
  },
  {
   "cell_type": "code",
   "execution_count": 13,
   "id": "b819d698",
   "metadata": {
    "execution": {
     "iopub.execute_input": "2022-03-07T03:30:45.894520Z",
     "iopub.status.busy": "2022-03-07T03:30:45.893332Z",
     "iopub.status.idle": "2022-03-07T03:30:45.903434Z",
     "shell.execute_reply": "2022-03-07T03:30:45.902266Z"
    },
    "papermill": {
     "duration": 0.052733,
     "end_time": "2022-03-07T03:30:45.903734",
     "exception": false,
     "start_time": "2022-03-07T03:30:45.851001",
     "status": "completed"
    },
    "tags": []
   },
   "outputs": [
    {
     "data": {
      "image/png": "[encoded data removed]",
      "text/plain": [
       "<IPython.core.display.Image object>"
      ]
     },
     "execution_count": 13,
     "metadata": {},
     "output_type": "execute_result"
    }
   ],
   "source": [
    "Image(filename=independence_plot)"
   ]
  },
  {
   "cell_type": "code",
   "execution_count": 14,
   "id": "e055048c",
   "metadata": {
    "execution": {
     "iopub.execute_input": "2022-03-07T03:30:45.994220Z",
     "iopub.status.busy": "2022-03-07T03:30:45.993035Z",
     "iopub.status.idle": "2022-03-07T03:30:45.998704Z",
     "shell.execute_reply": "2022-03-07T03:30:45.997517Z"
    },
    "papermill": {
     "duration": 0.055501,
     "end_time": "2022-03-07T03:30:45.998997",
     "exception": false,
     "start_time": "2022-03-07T03:30:45.943496",
     "status": "completed"
    },
    "tags": []
   },
   "outputs": [],
   "source": [
    "model_da = model_ds['pr'].where(model_ds['lead_time'] >= min_lead)"
   ]
  },
  {
   "cell_type": "markdown",
   "id": "1e039e61",
   "metadata": {
    "papermill": {
     "duration": 0.045154,
     "end_time": "2022-03-07T03:30:46.090977",
     "exception": false,
     "start_time": "2022-03-07T03:30:46.045823",
     "status": "completed"
    },
    "tags": []
   },
   "source": [
    "### Bias correction and similarity testing"
   ]
  },
  {
   "cell_type": "code",
   "execution_count": 15,
   "id": "110c554e",
   "metadata": {
    "execution": {
     "iopub.execute_input": "2022-03-07T03:30:46.215852Z",
     "iopub.status.busy": "2022-03-07T03:30:46.197229Z",
     "iopub.status.idle": "2022-03-07T03:30:51.981066Z",
     "shell.execute_reply": "2022-03-07T03:30:51.979647Z"
    },
    "papermill": {
     "duration": 5.84306,
     "end_time": "2022-03-07T03:30:51.981514",
     "exception": false,
     "start_time": "2022-03-07T03:30:46.138454",
     "status": "completed"
    },
    "tags": []
   },
   "outputs": [
    {
     "data": {
      "image/png": "[encoded data removed]",
      "text/plain": [
       "<Figure size 720x432 with 1 Axes>"
      ]
     },
     "metadata": {
      "needs_background": "light"
     },
     "output_type": "display_data"
    }
   ],
   "source": [
    "fig = plt.figure(figsize=[10, 6])\n",
    "model_da.plot.hist(bins=50, density=True, label=model_name, alpha=0.7)\n",
    "model_bc_ds['pr'].plot.hist(bins=50, density=True, label=f'{model_name} bias corrected', facecolor='darkblue', alpha=0.7)\n",
    "bom_ds['pr'].plot.hist(bins=50, density=True, label='BoM', facecolor='green', alpha=0.7)\n",
    "plt.xlabel('precipitation (mm)')\n",
    "plt.ylabel('probability')\n",
    "plt.title(f'November rainfall for Australia ({model_name})')\n",
    "plt.legend()\n",
    "plt.savefig(f'/g/data/xv83/dbi599/nov-rain/figures/nov_precip_histogram_aus_{model_name}.png',\n",
    "            bbox_inches='tight', facecolor='white', dpi=dpi)\n",
    "plt.show()"
   ]
  },
  {
   "cell_type": "code",
   "execution_count": 16,
   "id": "8b3f7de0",
   "metadata": {
    "execution": {
     "iopub.execute_input": "2022-03-07T03:30:52.089984Z",
     "iopub.status.busy": "2022-03-07T03:30:52.088764Z",
     "iopub.status.idle": "2022-03-07T03:30:52.128014Z",
     "shell.execute_reply": "2022-03-07T03:30:52.126240Z"
    },
    "papermill": {
     "duration": 0.095947,
     "end_time": "2022-03-07T03:30:52.128495",
     "exception": false,
     "start_time": "2022-03-07T03:30:52.032548",
     "status": "completed"
    },
    "tags": []
   },
   "outputs": [
    {
     "data": {
      "text/plain": [
       "array([0.3086527 , 0.81898512, 0.47734988, 0.24173559, 0.26709214,\n",
       "       0.20712453])"
      ]
     },
     "execution_count": 16,
     "metadata": {},
     "output_type": "execute_result"
    }
   ],
   "source": [
    "similarity_bias_ds = fileio.open_dataset(similarity_bc_file)\n",
    "similarity_bias_ds['pval'].values"
   ]
  },
  {
   "cell_type": "code",
   "execution_count": 17,
   "id": "a21af1f7",
   "metadata": {
    "execution": {
     "iopub.execute_input": "2022-03-07T03:30:52.235980Z",
     "iopub.status.busy": "2022-03-07T03:30:52.235056Z",
     "iopub.status.idle": "2022-03-07T03:30:52.286686Z",
     "shell.execute_reply": "2022-03-07T03:30:52.285762Z"
    },
    "papermill": {
     "duration": 0.107594,
     "end_time": "2022-03-07T03:30:52.286925",
     "exception": false,
     "start_time": "2022-03-07T03:30:52.179331",
     "status": "completed"
    },
    "tags": []
   },
   "outputs": [
    {
     "data": {
      "text/plain": [
       "array([1.24388034e-31, 2.60098860e-36, 1.23181874e-23, 4.09333851e-29,\n",
       "       2.60098860e-36, 6.53462484e-36, 6.22765525e-30, 2.76573350e-31,\n",
       "       2.76573350e-31, 1.07427748e-32, 8.31528427e-32])"
      ]
     },
     "execution_count": 17,
     "metadata": {},
     "output_type": "execute_result"
    }
   ],
   "source": [
    "similarity_raw_ds = fileio.open_dataset(similarity_raw_file)\n",
    "similarity_raw_ds['pval'].values"
   ]
  },
  {
   "cell_type": "markdown",
   "id": "1a8210c0",
   "metadata": {
    "papermill": {
     "duration": 0.052945,
     "end_time": "2022-03-07T03:30:52.390973",
     "exception": false,
     "start_time": "2022-03-07T03:30:52.338028",
     "status": "completed"
    },
    "tags": []
   },
   "source": [
    "These are the p-values for each lead time.\n",
    "\n",
    "p > 0.05 means the null hypothesis (that the two samples are from the same population) can't be rejected."
   ]
  },
  {
   "cell_type": "markdown",
   "id": "692c7b58",
   "metadata": {
    "papermill": {
     "duration": 0.048791,
     "end_time": "2022-03-07T03:30:52.488975",
     "exception": false,
     "start_time": "2022-03-07T03:30:52.440184",
     "status": "completed"
    },
    "tags": []
   },
   "source": [
    "### Exceedance curves"
   ]
  },
  {
   "cell_type": "code",
   "execution_count": 18,
   "id": "c8bfcbcf",
   "metadata": {
    "execution": {
     "iopub.execute_input": "2022-03-07T03:30:52.598600Z",
     "iopub.status.busy": "2022-03-07T03:30:52.597577Z",
     "iopub.status.idle": "2022-03-07T03:30:52.605891Z",
     "shell.execute_reply": "2022-03-07T03:30:52.604443Z"
    },
    "papermill": {
     "duration": 0.068398,
     "end_time": "2022-03-07T03:30:52.606241",
     "exception": false,
     "start_time": "2022-03-07T03:30:52.537843",
     "status": "completed"
    },
    "tags": []
   },
   "outputs": [
    {
     "name": "stdout",
     "output_type": "stream",
     "text": [
      "76.18\n"
     ]
    }
   ],
   "source": [
    "pr2021 = bom_ds['pr'].values.max()\n",
    "print(pr2021)"
   ]
  },
  {
   "cell_type": "markdown",
   "id": "d6a40828",
   "metadata": {
    "papermill": {
     "duration": 0.049988,
     "end_time": "2022-03-07T03:30:52.706155",
     "exception": false,
     "start_time": "2022-03-07T03:30:52.656167",
     "status": "completed"
    },
    "tags": []
   },
   "source": [
    "#### Bias corrected data"
   ]
  },
  {
   "cell_type": "code",
   "execution_count": 19,
   "id": "f0b0019b",
   "metadata": {
    "execution": {
     "iopub.execute_input": "2022-03-07T03:30:52.835467Z",
     "iopub.status.busy": "2022-03-07T03:30:52.830167Z",
     "iopub.status.idle": "2022-03-07T03:30:54.412241Z",
     "shell.execute_reply": "2022-03-07T03:30:54.410471Z"
    },
    "papermill": {
     "duration": 1.657717,
     "end_time": "2022-03-07T03:30:54.412764",
     "exception": false,
     "start_time": "2022-03-07T03:30:52.755047",
     "status": "completed"
    },
    "tags": []
   },
   "outputs": [],
   "source": [
    "model_bc_da_stacked = model_bc_ds.dropna('lead_time')['pr'].stack({'sample': ['ensemble', 'init_date', 'lead_time']})"
   ]
  },
  {
   "cell_type": "code",
   "execution_count": 20,
   "id": "7d4fdc9e",
   "metadata": {
    "execution": {
     "iopub.execute_input": "2022-03-07T03:30:54.526677Z",
     "iopub.status.busy": "2022-03-07T03:30:54.525633Z",
     "iopub.status.idle": "2022-03-07T03:30:54.533623Z",
     "shell.execute_reply": "2022-03-07T03:30:54.532414Z"
    },
    "papermill": {
     "duration": 0.06671,
     "end_time": "2022-03-07T03:30:54.533914",
     "exception": false,
     "start_time": "2022-03-07T03:30:54.467204",
     "status": "completed"
    },
    "tags": []
   },
   "outputs": [
    {
     "data": {
      "text/plain": [
       "(3600,)"
      ]
     },
     "execution_count": 20,
     "metadata": {},
     "output_type": "execute_result"
    }
   ],
   "source": [
    "model_bc_da_stacked.shape"
   ]
  },
  {
   "cell_type": "code",
   "execution_count": 21,
   "id": "2bfeb478",
   "metadata": {
    "execution": {
     "iopub.execute_input": "2022-03-07T03:30:54.642192Z",
     "iopub.status.busy": "2022-03-07T03:30:54.641040Z",
     "iopub.status.idle": "2022-03-07T03:30:57.347989Z",
     "shell.execute_reply": "2022-03-07T03:30:57.346591Z"
    },
    "papermill": {
     "duration": 2.763699,
     "end_time": "2022-03-07T03:30:57.348404",
     "exception": false,
     "start_time": "2022-03-07T03:30:54.584705",
     "status": "completed"
    },
    "tags": []
   },
   "outputs": [
    {
     "name": "stderr",
     "output_type": "stream",
     "text": [
      "/g/data/xv83/dbi599/miniconda3/envs/unseen/lib/python3.9/site-packages/dask/array/core.py:1508: FutureWarning: The `numpy.sort` function is not implemented by Dask array. You may want to use the da.map_blocks function or something similar to silence this warning. Your code may stop working in a future release.\n",
      "  warnings.warn(\n"
     ]
    }
   ],
   "source": [
    "sorted_data_bc, exceedance_bc = general_utils.exceedance_curve(model_bc_da_stacked.data)"
   ]
  },
  {
   "cell_type": "code",
   "execution_count": 22,
   "id": "ad23cea6",
   "metadata": {
    "execution": {
     "iopub.execute_input": "2022-03-07T03:30:57.495219Z",
     "iopub.status.busy": "2022-03-07T03:30:57.467840Z",
     "iopub.status.idle": "2022-03-07T03:30:58.244955Z",
     "shell.execute_reply": "2022-03-07T03:30:58.243608Z"
    },
    "papermill": {
     "duration": 0.840754,
     "end_time": "2022-03-07T03:30:58.245305",
     "exception": false,
     "start_time": "2022-03-07T03:30:57.404551",
     "status": "completed"
    },
    "tags": []
   },
   "outputs": [
    {
     "data": {
      "image/png": "[encoded data removed]",
      "text/plain": [
       "<Figure size 576x432 with 1 Axes>"
      ]
     },
     "metadata": {
      "needs_background": "light"
     },
     "output_type": "display_data"
    }
   ],
   "source": [
    "fig = plt.figure(figsize=[8, 6])\n",
    "ax = fig.add_subplot()\n",
    "ax.plot(sorted_data_bc, exceedance_bc)\n",
    "ax.set_title(f'November rainfall for Australia ({model_name})')\n",
    "ax.set_ylabel('likelihood of exceedance (%)')\n",
    "ax.set_xlabel('monthly precipitation (mm)')\n",
    "ax.axvline(pr2021, color='0.5', linestyle='--')\n",
    "plt.savefig(f'/g/data/xv83/dbi599/nov-rain/figures/nov_precip_exceedence_aus_{model_name}.png',\n",
    "            bbox_inches='tight', facecolor='white', dpi=dpi)\n",
    "plt.show()"
   ]
  },
  {
   "cell_type": "code",
   "execution_count": 23,
   "id": "39e4acf0",
   "metadata": {
    "execution": {
     "iopub.execute_input": "2022-03-07T03:30:58.372569Z",
     "iopub.status.busy": "2022-03-07T03:30:58.367946Z",
     "iopub.status.idle": "2022-03-07T03:31:01.203850Z",
     "shell.execute_reply": "2022-03-07T03:31:01.202598Z"
    },
    "papermill": {
     "duration": 2.903375,
     "end_time": "2022-03-07T03:31:01.204289",
     "exception": false,
     "start_time": "2022-03-07T03:30:58.300914",
     "status": "completed"
    },
    "tags": []
   },
   "outputs": [
    {
     "name": "stdout",
     "output_type": "stream",
     "text": [
      "BIAS CORRECTED DATA\n",
      "99.97% percentile\n",
      "3600 year return period\n"
     ]
    }
   ],
   "source": [
    "percentile_bc, return_period_bc = general_utils.event_in_context(model_bc_da_stacked.values, pr2021, 'above')\n",
    "print('BIAS CORRECTED DATA')\n",
    "print(f'{percentile_bc:.2f}% percentile')\n",
    "print(f'{return_period_bc:.0f} year return period')"
   ]
  },
  {
   "cell_type": "markdown",
   "id": "c6a2c14c",
   "metadata": {
    "papermill": {
     "duration": 0.052791,
     "end_time": "2022-03-07T03:31:01.314433",
     "exception": false,
     "start_time": "2022-03-07T03:31:01.261642",
     "status": "completed"
    },
    "tags": []
   },
   "source": [
    "#### Raw data"
   ]
  },
  {
   "cell_type": "code",
   "execution_count": 24,
   "id": "6b40107c",
   "metadata": {
    "execution": {
     "iopub.execute_input": "2022-03-07T03:31:01.451662Z",
     "iopub.status.busy": "2022-03-07T03:31:01.446126Z",
     "iopub.status.idle": "2022-03-07T03:31:02.755061Z",
     "shell.execute_reply": "2022-03-07T03:31:02.754329Z"
    },
    "papermill": {
     "duration": 1.386992,
     "end_time": "2022-03-07T03:31:02.755324",
     "exception": false,
     "start_time": "2022-03-07T03:31:01.368332",
     "status": "completed"
    },
    "tags": []
   },
   "outputs": [],
   "source": [
    "model_da_stacked = model_da.dropna('lead_time').stack({'sample': ['ensemble', 'init_date', 'lead_time']})"
   ]
  },
  {
   "cell_type": "code",
   "execution_count": 25,
   "id": "10aaf4a0",
   "metadata": {
    "execution": {
     "iopub.execute_input": "2022-03-07T03:31:02.878096Z",
     "iopub.status.busy": "2022-03-07T03:31:02.876549Z",
     "iopub.status.idle": "2022-03-07T03:31:02.883191Z",
     "shell.execute_reply": "2022-03-07T03:31:02.882542Z"
    },
    "papermill": {
     "duration": 0.067291,
     "end_time": "2022-03-07T03:31:02.883471",
     "exception": false,
     "start_time": "2022-03-07T03:31:02.816180",
     "status": "completed"
    },
    "tags": []
   },
   "outputs": [
    {
     "data": {
      "text/plain": [
       "(3600,)"
      ]
     },
     "execution_count": 25,
     "metadata": {},
     "output_type": "execute_result"
    }
   ],
   "source": [
    "model_da_stacked.shape"
   ]
  },
  {
   "cell_type": "code",
   "execution_count": 26,
   "id": "c35af20b",
   "metadata": {
    "execution": {
     "iopub.execute_input": "2022-03-07T03:31:03.008508Z",
     "iopub.status.busy": "2022-03-07T03:31:03.007546Z",
     "iopub.status.idle": "2022-03-07T03:31:05.245560Z",
     "shell.execute_reply": "2022-03-07T03:31:05.244595Z"
    },
    "papermill": {
     "duration": 2.307985,
     "end_time": "2022-03-07T03:31:05.245809",
     "exception": false,
     "start_time": "2022-03-07T03:31:02.937824",
     "status": "completed"
    },
    "tags": []
   },
   "outputs": [
    {
     "name": "stderr",
     "output_type": "stream",
     "text": [
      "/g/data/xv83/dbi599/miniconda3/envs/unseen/lib/python3.9/site-packages/dask/array/core.py:1508: FutureWarning: The `numpy.sort` function is not implemented by Dask array. You may want to use the da.map_blocks function or something similar to silence this warning. Your code may stop working in a future release.\n",
      "  warnings.warn(\n"
     ]
    }
   ],
   "source": [
    "sorted_data, exceedance = general_utils.exceedance_curve(model_da_stacked.data)"
   ]
  },
  {
   "cell_type": "code",
   "execution_count": 27,
   "id": "cb75fa43",
   "metadata": {
    "execution": {
     "iopub.execute_input": "2022-03-07T03:31:05.394922Z",
     "iopub.status.busy": "2022-03-07T03:31:05.392035Z",
     "iopub.status.idle": "2022-03-07T03:31:06.102509Z",
     "shell.execute_reply": "2022-03-07T03:31:06.101114Z"
    },
    "papermill": {
     "duration": 0.801995,
     "end_time": "2022-03-07T03:31:06.102869",
     "exception": false,
     "start_time": "2022-03-07T03:31:05.300874",
     "status": "completed"
    },
    "tags": []
   },
   "outputs": [
    {
     "data": {
      "image/png": "[encoded data removed]",
      "text/plain": [
       "<Figure size 576x432 with 1 Axes>"
      ]
     },
     "metadata": {
      "needs_background": "light"
     },
     "output_type": "display_data"
    }
   ],
   "source": [
    "fig = plt.figure(figsize=[8, 6])\n",
    "ax = fig.add_subplot()\n",
    "ax.plot(sorted_data, exceedance)\n",
    "ax.set_title(f'November rainfall for Australia ({model_name})')\n",
    "ax.set_ylabel('likelihood of exceedance (%)')\n",
    "ax.set_xlabel('monthly precipitation (mm)')\n",
    "ax.axvline(pr2021, color='0.5', linestyle='--')\n",
    "plt.savefig(f'/g/data/xv83/dbi599/nov-rain/figures/nov_precip_exceedence_aus_{model_name}.png',\n",
    "            bbox_inches='tight', facecolor='white', dpi=dpi)\n",
    "plt.show()"
   ]
  },
  {
   "cell_type": "code",
   "execution_count": 28,
   "id": "89138fa6",
   "metadata": {
    "execution": {
     "iopub.execute_input": "2022-03-07T03:31:06.239164Z",
     "iopub.status.busy": "2022-03-07T03:31:06.234573Z",
     "iopub.status.idle": "2022-03-07T03:31:08.456594Z",
     "shell.execute_reply": "2022-03-07T03:31:08.457845Z"
    },
    "papermill": {
     "duration": 2.296442,
     "end_time": "2022-03-07T03:31:08.458297",
     "exception": false,
     "start_time": "2022-03-07T03:31:06.161855",
     "status": "completed"
    },
    "tags": []
   },
   "outputs": [
    {
     "name": "stdout",
     "output_type": "stream",
     "text": [
      "RAW DATA\n",
      "47.08% percentile\n",
      "2 year return period\n"
     ]
    }
   ],
   "source": [
    "percentile, return_period = general_utils.event_in_context(model_da_stacked.values, pr2021, 'above')\n",
    "print('RAW DATA')\n",
    "print(f'{percentile:.2f}% percentile')\n",
    "print(f'{return_period:.0f} year return period')"
   ]
  },
  {
   "cell_type": "code",
   "execution_count": null,
   "id": "cbfda751",
   "metadata": {
    "papermill": {
     "duration": 0.062921,
     "end_time": "2022-03-07T03:31:08.584400",
     "exception": false,
     "start_time": "2022-03-07T03:31:08.521479",
     "status": "completed"
    },
    "tags": []
   },
   "outputs": [],
   "source": []
  }
 ],
 "metadata": {
  "kernelspec": {
   "display_name": "Python 3",
   "language": "python",
   "name": "python3"
  },
  "language_info": {
   "codemirror_mode": {
    "name": "ipython",
    "version": 3
   },
   "file_extension": ".py",
   "mimetype": "text/x-python",
   "name": "python",
   "nbconvert_exporter": "python",
   "pygments_lexer": "ipython3",
   "version": "3.9.4"
  },
  "papermill": {
   "default_parameters": {},
   "duration": 36.904614,
   "end_time": "2022-03-07T03:31:09.563457",
   "environment_variables": {},
   "exception": null,
   "input_path": "analysis.ipynb",
   "output_path": "analysis_CMCC-CM2-SR5.ipynb",
   "parameters": {
    "bom_file": "/g/data/xv83/dbi599/nov-rain/data/pr_BoM_1900-2021_nov_aus-mean.nc",
    "independence_plot": "/g/data/xv83/dbi599/nov-rain/figures/independence-test_pr_CMCC-CM2-SR5-dcppA-hindcast_196011-201911_nov_aus-mean.png",
    "min_lead": 5,
    "model_bc_file": "/g/data/xv83/dbi599/nov-rain/data/pr_CMCC-CM2-SR5-dcppA-hindcast_196011-201911_nov_aus-mean_bias-corrected-BoM-multiplicative.zarr.zip",
    "model_file": "/g/data/xv83/dbi599/nov-rain/data/pr_CMCC-CM2-SR5-dcppA-hindcast_196011-201911_nov_aus-mean.zarr.zip",
    "model_name": "CMCC-CM2-SR5",
    "similarity_bc_file": "/g/data/xv83/dbi599/nov-rain/data/ks-test_pr_CMCC-CM2-SR5-dcppA-hindcast_196011-201911_nov_aus-mean_bias-corrected-BoM-multiplicative.zarr.zip",
    "similarity_raw_file": "/g/data/xv83/dbi599/nov-rain/data/ks-test_pr_CMCC-CM2-SR5-dcppA-hindcast_196011-201911_nov_aus-mean_BoM.zarr.zip"
   },
   "start_time": "2022-03-07T03:30:32.658843",
   "version": "2.3.3"
  }
 },
 "nbformat": 4,
 "nbformat_minor": 5
}