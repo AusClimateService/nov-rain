{
 "cells": [
  {
   "cell_type": "markdown",
   "id": "4d047299",
   "metadata": {
    "papermill": {
     "duration": 0.056811,
     "end_time": "2022-03-08T05:58:14.766726",
     "exception": false,
     "start_time": "2022-03-08T05:58:14.709915",
     "status": "completed"
    },
    "tags": []
   },
   "source": [
    "# November rain\n",
    "\n",
    "November 2021 was the wettest November on record for Australia."
   ]
  },
  {
   "cell_type": "code",
   "execution_count": 1,
   "id": "95569a41",
   "metadata": {
    "execution": {
     "iopub.execute_input": "2022-03-08T05:58:14.873359Z",
     "iopub.status.busy": "2022-03-08T05:58:14.872254Z",
     "iopub.status.idle": "2022-03-08T05:58:24.382100Z",
     "shell.execute_reply": "2022-03-08T05:58:24.380600Z"
    },
    "papermill": {
     "duration": 9.571631,
     "end_time": "2022-03-08T05:58:24.382666",
     "exception": false,
     "start_time": "2022-03-08T05:58:14.811035",
     "status": "completed"
    },
    "tags": []
   },
   "outputs": [],
   "source": [
    "import os\n",
    "\n",
    "import matplotlib.pyplot as plt\n",
    "import pandas as pd\n",
    "import numpy as np\n",
    "from IPython.display import Image\n",
    "from scipy.stats import genextreme as gev\n",
    "\n",
    "from unseen import fileio\n",
    "from unseen import general_utils\n",
    "from unseen import indices\n",
    "from unseen import time_utils"
   ]
  },
  {
   "cell_type": "code",
   "execution_count": 2,
   "id": "56e9e0ab",
   "metadata": {
    "execution": {
     "iopub.execute_input": "2022-03-08T05:58:24.484705Z",
     "iopub.status.busy": "2022-03-08T05:58:24.483746Z",
     "iopub.status.idle": "2022-03-08T05:58:24.489082Z",
     "shell.execute_reply": "2022-03-08T05:58:24.488349Z"
    },
    "papermill": {
     "duration": 0.056792,
     "end_time": "2022-03-08T05:58:24.489322",
     "exception": false,
     "start_time": "2022-03-08T05:58:24.432530",
     "status": "completed"
    },
    "tags": [
     "parameters"
    ]
   },
   "outputs": [],
   "source": [
    "# Optional parameters \n",
    "# (This cell is tagged \"parameters\")\n",
    "dpi = 300"
   ]
  },
  {
   "cell_type": "code",
   "execution_count": 3,
   "id": "483e501e",
   "metadata": {
    "execution": {
     "iopub.execute_input": "2022-03-08T05:58:24.589887Z",
     "iopub.status.busy": "2022-03-08T05:58:24.588420Z",
     "iopub.status.idle": "2022-03-08T05:58:24.593149Z",
     "shell.execute_reply": "2022-03-08T05:58:24.594546Z"
    },
    "papermill": {
     "duration": 0.059379,
     "end_time": "2022-03-08T05:58:24.594937",
     "exception": false,
     "start_time": "2022-03-08T05:58:24.535558",
     "status": "completed"
    },
    "tags": [
     "injected-parameters"
    ]
   },
   "outputs": [],
   "source": [
    "# Parameters\n",
    "bom_file = \"/g/data/xv83/dbi599/nov-rain/data/pr_BoM_1900-2021_nov_aus-mean.nc\"\n",
    "model_file = \"/g/data/xv83/dbi599/nov-rain/data/pr_NorCPM1-dcppA-hindcast_196010-201810_nov_aus-mean.zarr.zip\"\n",
    "model_bc_file = \"/g/data/xv83/dbi599/nov-rain/data/pr_NorCPM1-dcppA-hindcast_196010-201810_nov_aus-mean_bias-corrected-BoM-multiplicative.zarr.zip\"\n",
    "similarity_bc_file = \"/g/data/xv83/dbi599/nov-rain/data/ks-test_pr_NorCPM1-dcppA-hindcast_1960-2018_nov_aus-mean_bias-corrected-BoM-multiplicative.zarr.zip\"\n",
    "similarity_raw_file = \"/g/data/xv83/dbi599/nov-rain/data/ks-test_pr_NorCPM1-dcppA-hindcast_1960-2018_nov_aus-mean_BoM.zarr.zip\"\n",
    "independence_plot = \"/g/data/xv83/dbi599/nov-rain/figures/independence-test_pr_NorCPM1-dcppA-hindcast_196010-201810_nov_aus-mean.png\"\n",
    "model_name = \"NorCPM1\"\n",
    "min_lead = 2\n"
   ]
  },
  {
   "cell_type": "code",
   "execution_count": 4,
   "id": "b9787631",
   "metadata": {
    "execution": {
     "iopub.execute_input": "2022-03-08T05:58:24.697767Z",
     "iopub.status.busy": "2022-03-08T05:58:24.696272Z",
     "iopub.status.idle": "2022-03-08T05:58:24.707768Z",
     "shell.execute_reply": "2022-03-08T05:58:24.706601Z"
    },
    "papermill": {
     "duration": 0.067267,
     "end_time": "2022-03-08T05:58:24.708150",
     "exception": false,
     "start_time": "2022-03-08T05:58:24.640883",
     "status": "completed"
    },
    "tags": []
   },
   "outputs": [],
   "source": [
    "# Required parameters\n",
    "assert 'model_name' in locals(), \"Must provide a model name\"\n",
    "assert 'min_lead' in locals(), \"Must provide a minimum lead time\"\n",
    "assert os.path.isfile(bom_file), \"Must provide an BoM data file (papermill option -p agcd_file [filepath])\"\n",
    "assert os.path.isfile(model_file), \"Must provide an model data file (papermill option -p cafe_file [filepath])\"\n",
    "assert os.path.isfile(model_bc_file), \"Must provide a model bias corrected data file (papermill option -p cafe_bc_file [filepath])\"\n",
    "assert os.path.isfile(similarity_bc_file), \"Must provide an bias corrected similarity test file (papermill option -p similarity_bias_file [filepath])\"\n",
    "assert os.path.isfile(similarity_raw_file), \"Must provide an raw data similarity test file (papermill option -p similarity_raw_file [filepath])\"\n",
    "assert os.path.isfile(independence_plot), \"Must provide an independence test plot (papermill option -p independence_plot [filepath])\""
   ]
  },
  {
   "cell_type": "markdown",
   "id": "5c8da4f2",
   "metadata": {
    "papermill": {
     "duration": 0.044129,
     "end_time": "2022-03-08T05:58:24.797700",
     "exception": false,
     "start_time": "2022-03-08T05:58:24.753571",
     "status": "completed"
    },
    "tags": []
   },
   "source": [
    "## Observations"
   ]
  },
  {
   "cell_type": "code",
   "execution_count": 5,
   "id": "d80b0c20",
   "metadata": {
    "execution": {
     "iopub.execute_input": "2022-03-08T05:58:24.897968Z",
     "iopub.status.busy": "2022-03-08T05:58:24.896578Z",
     "iopub.status.idle": "2022-03-08T05:58:24.913119Z",
     "shell.execute_reply": "2022-03-08T05:58:24.914339Z"
    },
    "papermill": {
     "duration": 0.072243,
     "end_time": "2022-03-08T05:58:24.914870",
     "exception": false,
     "start_time": "2022-03-08T05:58:24.842627",
     "status": "completed"
    },
    "tags": []
   },
   "outputs": [
    {
     "data": {
      "image/png": "[encoded data removed]",
      "text/plain": [
       "<IPython.core.display.Image object>"
      ]
     },
     "execution_count": 5,
     "metadata": {},
     "output_type": "execute_result"
    }
   ],
   "source": [
    "Image(filename='/home/599/dbi599/nov-rain/analysis/pr_BoM_1900-2021_nov_aus-mean.png')"
   ]
  },
  {
   "cell_type": "code",
   "execution_count": 6,
   "id": "f40952f6",
   "metadata": {
    "execution": {
     "iopub.execute_input": "2022-03-08T05:58:25.018019Z",
     "iopub.status.busy": "2022-03-08T05:58:25.016747Z",
     "iopub.status.idle": "2022-03-08T05:58:25.179265Z",
     "shell.execute_reply": "2022-03-08T05:58:25.177511Z"
    },
    "papermill": {
     "duration": 0.217079,
     "end_time": "2022-03-08T05:58:25.179766",
     "exception": false,
     "start_time": "2022-03-08T05:58:24.962687",
     "status": "completed"
    },
    "tags": []
   },
   "outputs": [],
   "source": [
    "bom_ds = fileio.open_dataset(bom_file)"
   ]
  },
  {
   "cell_type": "code",
   "execution_count": 7,
   "id": "1493ff0f",
   "metadata": {
    "execution": {
     "iopub.execute_input": "2022-03-08T05:58:25.297263Z",
     "iopub.status.busy": "2022-03-08T05:58:25.296317Z",
     "iopub.status.idle": "2022-03-08T05:58:25.316363Z",
     "shell.execute_reply": "2022-03-08T05:58:25.314979Z"
    },
    "papermill": {
     "duration": 0.085143,
     "end_time": "2022-03-08T05:58:25.316767",
     "exception": false,
     "start_time": "2022-03-08T05:58:25.231624",
     "status": "completed"
    },
    "tags": []
   },
   "outputs": [
    {
     "data": {
      "text/html": [
       "<div><svg style=\"position: absolute; width: 0; height: 0; overflow: hidden\">\n",
       "<defs>\n",
       "<symbol id=\"icon-database\" viewBox=\"0 0 32 32\">\n",
       "<path d=\"M16 0c-8.837 0-16 2.239-16 5v4c0 2.761 7.163 5 16 5s16-2.239 16-5v-4c0-2.761-7.163-5-16-5z\"></path>\n",
       "<path d=\"M16 17c-8.837 0-16-2.239-16-5v6c0 2.761 7.163 5 16 5s16-2.239 16-5v-6c0 2.761-7.163 5-16 5z\"></path>\n",
       "<path d=\"M16 26c-8.837 0-16-2.239-16-5v6c0 2.761 7.163 5 16 5s16-2.239 16-5v-6c0 2.761-7.163 5-16 5z\"></path>\n",
       "</symbol>\n",
       "<symbol id=\"icon-file-text2\" viewBox=\"0 0 32 32\">\n",
       "<path d=\"M28.681 7.159c-0.694-0.947-1.662-2.053-2.724-3.116s-2.169-2.030-3.116-2.724c-1.612-1.182-2.393-1.319-2.841-1.319h-15.5c-1.378 0-2.5 1.121-2.5 2.5v27c0 1.378 1.122 2.5 2.5 2.5h23c1.378 0 2.5-1.122 2.5-2.5v-19.5c0-0.448-0.137-1.23-1.319-2.841zM24.543 5.457c0.959 0.959 1.712 1.825 2.268 2.543h-4.811v-4.811c0.718 0.556 1.584 1.309 2.543 2.268zM28 29.5c0 0.271-0.229 0.5-0.5 0.5h-23c-0.271 0-0.5-0.229-0.5-0.5v-27c0-0.271 0.229-0.5 0.5-0.5 0 0 15.499-0 15.5 0v7c0 0.552 0.448 1 1 1h7v19.5z\"></path>\n",
       "<path d=\"M23 26h-14c-0.552 0-1-0.448-1-1s0.448-1 1-1h14c0.552 0 1 0.448 1 1s-0.448 1-1 1z\"></path>\n",
       "<path d=\"M23 22h-14c-0.552 0-1-0.448-1-1s0.448-1 1-1h14c0.552 0 1 0.448 1 1s-0.448 1-1 1z\"></path>\n",
       "<path d=\"M23 18h-14c-0.552 0-1-0.448-1-1s0.448-1 1-1h14c0.552 0 1 0.448 1 1s-0.448 1-1 1z\"></path>\n",
       "</symbol>\n",
       "</defs>\n",
       "</svg>\n",
       "<style>/* CSS stylesheet for displaying xarray objects in jupyterlab.\n",
       " *\n",
       " */\n",
       "\n",
       ":root {\n",
       "  --xr-font-color0: var(--jp-content-font-color0, rgba(0, 0, 0, 1));\n",
       "  --xr-font-color2: var(--jp-content-font-color2, rgba(0, 0, 0, 0.54));\n",
       "  --xr-font-color3: var(--jp-content-font-color3, rgba(0, 0, 0, 0.38));\n",
       "  --xr-border-color: var(--jp-border-color2, #e0e0e0);\n",
       "  --xr-disabled-color: var(--jp-layout-color3, #bdbdbd);\n",
       "  --xr-background-color: var(--jp-layout-color0, white);\n",
       "  --xr-background-color-row-even: var(--jp-layout-color1, white);\n",
       "  --xr-background-color-row-odd: var(--jp-layout-color2, #eeeeee);\n",
       "}\n",
       "\n",
       "html[theme=dark],\n",
       "body.vscode-dark {\n",
       "  --xr-font-color0: rgba(255, 255, 255, 1);\n",
       "  --xr-font-color2: rgba(255, 255, 255, 0.54);\n",
       "  --xr-font-color3: rgba(255, 255, 255, 0.38);\n",
       "  --xr-border-color: #1F1F1F;\n",
       "  --xr-disabled-color: #515151;\n",
       "  --xr-background-color: #111111;\n",
       "  --xr-background-color-row-even: #111111;\n",
       "  --xr-background-color-row-odd: #313131;\n",
       "}\n",
       "\n",
       ".xr-wrap {\n",
       "  display: block;\n",
       "  min-width: 300px;\n",
       "  max-width: 700px;\n",
       "}\n",
       "\n",
       ".xr-text-repr-fallback {\n",
       "  /* fallback to plain text repr when CSS is not injected (untrusted notebook) */\n",
       "  display: none;\n",
       "}\n",
       "\n",
       ".xr-header {\n",
       "  padding-top: 6px;\n",
       "  padding-bottom: 6px;\n",
       "  margin-bottom: 4px;\n",
       "  border-bottom: solid 1px var(--xr-border-color);\n",
       "}\n",
       "\n",
       ".xr-header > div,\n",
       ".xr-header > ul {\n",
       "  display: inline;\n",
       "  margin-top: 0;\n",
       "  margin-bottom: 0;\n",
       "}\n",
       "\n",
       ".xr-obj-type,\n",
       ".xr-array-name {\n",
       "  margin-left: 2px;\n",
       "  margin-right: 10px;\n",
       "}\n",
       "\n",
       ".xr-obj-type {\n",
       "  color: var(--xr-font-color2);\n",
       "}\n",
       "\n",
       ".xr-sections {\n",
       "  padding-left: 0 !important;\n",
       "  display: grid;\n",
       "  grid-template-columns: 150px auto auto 1fr 20px 20px;\n",
       "}\n",
       "\n",
       ".xr-section-item {\n",
       "  display: contents;\n",
       "}\n",
       "\n",
       ".xr-section-item input {\n",
       "  display: none;\n",
       "}\n",
       "\n",
       ".xr-section-item input + label {\n",
       "  color: var(--xr-disabled-color);\n",
       "}\n",
       "\n",
       ".xr-section-item input:enabled + label {\n",
       "  cursor: pointer;\n",
       "  color: var(--xr-font-color2);\n",
       "}\n",
       "\n",
       ".xr-section-item input:enabled + label:hover {\n",
       "  color: var(--xr-font-color0);\n",
       "}\n",
       "\n",
       ".xr-section-summary {\n",
       "  grid-column: 1;\n",
       "  color: var(--xr-font-color2);\n",
       "  font-weight: 500;\n",
       "}\n",
       "\n",
       ".xr-section-summary > span {\n",
       "  display: inline-block;\n",
       "  padding-left: 0.5em;\n",
       "}\n",
       "\n",
       ".xr-section-summary-in:disabled + label {\n",
       "  color: var(--xr-font-color2);\n",
       "}\n",
       "\n",
       ".xr-section-summary-in + label:before {\n",
       "  display: inline-block;\n",
       "  content: '►';\n",
       "  font-size: 11px;\n",
       "  width: 15px;\n",
       "  text-align: center;\n",
       "}\n",
       "\n",
       ".xr-section-summary-in:disabled + label:before {\n",
       "  color: var(--xr-disabled-color);\n",
       "}\n",
       "\n",
       ".xr-section-summary-in:checked + label:before {\n",
       "  content: '▼';\n",
       "}\n",
       "\n",
       ".xr-section-summary-in:checked + label > span {\n",
       "  display: none;\n",
       "}\n",
       "\n",
       ".xr-section-summary,\n",
       ".xr-section-inline-details {\n",
       "  padding-top: 4px;\n",
       "  padding-bottom: 4px;\n",
       "}\n",
       "\n",
       ".xr-section-inline-details {\n",
       "  grid-column: 2 / -1;\n",
       "}\n",
       "\n",
       ".xr-section-details {\n",
       "  display: none;\n",
       "  grid-column: 1 / -1;\n",
       "  margin-bottom: 5px;\n",
       "}\n",
       "\n",
       ".xr-section-summary-in:checked ~ .xr-section-details {\n",
       "  display: contents;\n",
       "}\n",
       "\n",
       ".xr-array-wrap {\n",
       "  grid-column: 1 / -1;\n",
       "  display: grid;\n",
       "  grid-template-columns: 20px auto;\n",
       "}\n",
       "\n",
       ".xr-array-wrap > label {\n",
       "  grid-column: 1;\n",
       "  vertical-align: top;\n",
       "}\n",
       "\n",
       ".xr-preview {\n",
       "  color: var(--xr-font-color3);\n",
       "}\n",
       "\n",
       ".xr-array-preview,\n",
       ".xr-array-data {\n",
       "  padding: 0 5px !important;\n",
       "  grid-column: 2;\n",
       "}\n",
       "\n",
       ".xr-array-data,\n",
       ".xr-array-in:checked ~ .xr-array-preview {\n",
       "  display: none;\n",
       "}\n",
       "\n",
       ".xr-array-in:checked ~ .xr-array-data,\n",
       ".xr-array-preview {\n",
       "  display: inline-block;\n",
       "}\n",
       "\n",
       ".xr-dim-list {\n",
       "  display: inline-block !important;\n",
       "  list-style: none;\n",
       "  padding: 0 !important;\n",
       "  margin: 0;\n",
       "}\n",
       "\n",
       ".xr-dim-list li {\n",
       "  display: inline-block;\n",
       "  padding: 0;\n",
       "  margin: 0;\n",
       "}\n",
       "\n",
       ".xr-dim-list:before {\n",
       "  content: '(';\n",
       "}\n",
       "\n",
       ".xr-dim-list:after {\n",
       "  content: ')';\n",
       "}\n",
       "\n",
       ".xr-dim-list li:not(:last-child):after {\n",
       "  content: ',';\n",
       "  padding-right: 5px;\n",
       "}\n",
       "\n",
       ".xr-has-index {\n",
       "  font-weight: bold;\n",
       "}\n",
       "\n",
       ".xr-var-list,\n",
       ".xr-var-item {\n",
       "  display: contents;\n",
       "}\n",
       "\n",
       ".xr-var-item > div,\n",
       ".xr-var-item label,\n",
       ".xr-var-item > .xr-var-name span {\n",
       "  background-color: var(--xr-background-color-row-even);\n",
       "  margin-bottom: 0;\n",
       "}\n",
       "\n",
       ".xr-var-item > .xr-var-name:hover span {\n",
       "  padding-right: 5px;\n",
       "}\n",
       "\n",
       ".xr-var-list > li:nth-child(odd) > div,\n",
       ".xr-var-list > li:nth-child(odd) > label,\n",
       ".xr-var-list > li:nth-child(odd) > .xr-var-name span {\n",
       "  background-color: var(--xr-background-color-row-odd);\n",
       "}\n",
       "\n",
       ".xr-var-name {\n",
       "  grid-column: 1;\n",
       "}\n",
       "\n",
       ".xr-var-dims {\n",
       "  grid-column: 2;\n",
       "}\n",
       "\n",
       ".xr-var-dtype {\n",
       "  grid-column: 3;\n",
       "  text-align: right;\n",
       "  color: var(--xr-font-color2);\n",
       "}\n",
       "\n",
       ".xr-var-preview {\n",
       "  grid-column: 4;\n",
       "}\n",
       "\n",
       ".xr-var-name,\n",
       ".xr-var-dims,\n",
       ".xr-var-dtype,\n",
       ".xr-preview,\n",
       ".xr-attrs dt {\n",
       "  white-space: nowrap;\n",
       "  overflow: hidden;\n",
       "  text-overflow: ellipsis;\n",
       "  padding-right: 10px;\n",
       "}\n",
       "\n",
       ".xr-var-name:hover,\n",
       ".xr-var-dims:hover,\n",
       ".xr-var-dtype:hover,\n",
       ".xr-attrs dt:hover {\n",
       "  overflow: visible;\n",
       "  width: auto;\n",
       "  z-index: 1;\n",
       "}\n",
       "\n",
       ".xr-var-attrs,\n",
       ".xr-var-data {\n",
       "  display: none;\n",
       "  background-color: var(--xr-background-color) !important;\n",
       "  padding-bottom: 5px !important;\n",
       "}\n",
       "\n",
       ".xr-var-attrs-in:checked ~ .xr-var-attrs,\n",
       ".xr-var-data-in:checked ~ .xr-var-data {\n",
       "  display: block;\n",
       "}\n",
       "\n",
       ".xr-var-data > table {\n",
       "  float: right;\n",
       "}\n",
       "\n",
       ".xr-var-name span,\n",
       ".xr-var-data,\n",
       ".xr-attrs {\n",
       "  padding-left: 25px !important;\n",
       "}\n",
       "\n",
       ".xr-attrs,\n",
       ".xr-var-attrs,\n",
       ".xr-var-data {\n",
       "  grid-column: 1 / -1;\n",
       "}\n",
       "\n",
       "dl.xr-attrs {\n",
       "  padding: 0;\n",
       "  margin: 0;\n",
       "  display: grid;\n",
       "  grid-template-columns: 125px auto;\n",
       "}\n",
       "\n",
       ".xr-attrs dt,\n",
       ".xr-attrs dd {\n",
       "  padding: 0;\n",
       "  margin: 0;\n",
       "  float: left;\n",
       "  padding-right: 10px;\n",
       "  width: auto;\n",
       "}\n",
       "\n",
       ".xr-attrs dt {\n",
       "  font-weight: normal;\n",
       "  grid-column: 1;\n",
       "}\n",
       "\n",
       ".xr-attrs dt:hover span {\n",
       "  display: inline-block;\n",
       "  background: var(--xr-background-color);\n",
       "  padding-right: 10px;\n",
       "}\n",
       "\n",
       ".xr-attrs dd {\n",
       "  grid-column: 2;\n",
       "  white-space: pre-wrap;\n",
       "  word-break: break-all;\n",
       "}\n",
       "\n",
       ".xr-icon-database,\n",
       ".xr-icon-file-text2 {\n",
       "  display: inline-block;\n",
       "  vertical-align: middle;\n",
       "  width: 1em;\n",
       "  height: 1.5em !important;\n",
       "  stroke-width: 0;\n",
       "  stroke: currentColor;\n",
       "  fill: currentColor;\n",
       "}\n",
       "</style><pre class='xr-text-repr-fallback'>&lt;xarray.Dataset&gt;\n",
       "Dimensions:  (time: 122)\n",
       "Coordinates:\n",
       "  * time     (time) object 1900-11-15 00:00:00 ... 2021-11-15 00:00:00\n",
       "Data variables:\n",
       "    pr       (time) float64 dask.array&lt;chunksize=(122,), meta=np.ndarray&gt;\n",
       "Attributes:\n",
       "    history:  Fri Feb 18 11:06:30 2022: /g/data/xv83/dbi599/miniconda3/envs/u...\n",
       "    source:   http://www.bom.gov.au/climate/change/</pre><div class='xr-wrap' hidden><div class='xr-header'><div class='xr-obj-type'>xarray.Dataset</div></div><ul class='xr-sections'><li class='xr-section-item'><input id='section-a62cc0c4-1565-49ce-bb6b-7f79e017cb12' class='xr-section-summary-in' type='checkbox' disabled ><label for='section-a62cc0c4-1565-49ce-bb6b-7f79e017cb12' class='xr-section-summary'  title='Expand/collapse section'>Dimensions:</label><div class='xr-section-inline-details'><ul class='xr-dim-list'><li><span class='xr-has-index'>time</span>: 122</li></ul></div><div class='xr-section-details'></div></li><li class='xr-section-item'><input id='section-20ac3762-d53b-4320-a20f-34b3062e7d07' class='xr-section-summary-in' type='checkbox'  checked><label for='section-20ac3762-d53b-4320-a20f-34b3062e7d07' class='xr-section-summary' >Coordinates: <span>(1)</span></label><div class='xr-section-inline-details'></div><div class='xr-section-details'><ul class='xr-var-list'><li class='xr-var-item'><div class='xr-var-name'><span class='xr-has-index'>time</span></div><div class='xr-var-dims'>(time)</div><div class='xr-var-dtype'>object</div><div class='xr-var-preview xr-preview'>1900-11-15 00:00:00 ... 2021-11-...</div><input id='attrs-ed33a45b-df3e-403d-b2c7-c57cb30dd47b' class='xr-var-attrs-in' type='checkbox' ><label for='attrs-ed33a45b-df3e-403d-b2c7-c57cb30dd47b' title='Show/Hide attributes'><svg class='icon xr-icon-file-text2'><use xlink:href='#icon-file-text2'></use></svg></label><input id='data-77df31fd-5cfd-47ec-9aae-cc5412a5d033' class='xr-var-data-in' type='checkbox'><label for='data-77df31fd-5cfd-47ec-9aae-cc5412a5d033' title='Show/Hide data repr'><svg class='icon xr-icon-database'><use xlink:href='#icon-database'></use></svg></label><div class='xr-var-attrs'><dl class='xr-attrs'><dt><span>long_name :</span></dt><dd>time</dd></dl></div><div class='xr-var-data'><pre>array([cftime.DatetimeJulian(1900, 11, 15, 0, 0, 0, 0, has_year_zero=False),\n",
       "       cftime.DatetimeJulian(1901, 11, 15, 0, 0, 0, 0, has_year_zero=False),\n",
       "       cftime.DatetimeJulian(1902, 11, 15, 0, 0, 0, 0, has_year_zero=False),\n",
       "       cftime.DatetimeJulian(1903, 11, 15, 0, 0, 0, 0, has_year_zero=False),\n",
       "       cftime.DatetimeJulian(1904, 11, 15, 0, 0, 0, 0, has_year_zero=False),\n",
       "       cftime.DatetimeJulian(1905, 11, 15, 0, 0, 0, 0, has_year_zero=False),\n",
       "       cftime.DatetimeJulian(1906, 11, 15, 0, 0, 0, 0, has_year_zero=False),\n",
       "       cftime.DatetimeJulian(1907, 11, 15, 0, 0, 0, 0, has_year_zero=False),\n",
       "       cftime.DatetimeJulian(1908, 11, 15, 0, 0, 0, 0, has_year_zero=False),\n",
       "       cftime.DatetimeJulian(1909, 11, 15, 0, 0, 0, 0, has_year_zero=False),\n",
       "       cftime.DatetimeJulian(1910, 11, 15, 0, 0, 0, 0, has_year_zero=False),\n",
       "       cftime.DatetimeJulian(1911, 11, 15, 0, 0, 0, 0, has_year_zero=False),\n",
       "       cftime.DatetimeJulian(1912, 11, 15, 0, 0, 0, 0, has_year_zero=False),\n",
       "       cftime.DatetimeJulian(1913, 11, 15, 0, 0, 0, 0, has_year_zero=False),\n",
       "       cftime.DatetimeJulian(1914, 11, 15, 0, 0, 0, 0, has_year_zero=False),\n",
       "       cftime.DatetimeJulian(1915, 11, 15, 0, 0, 0, 0, has_year_zero=False),\n",
       "       cftime.DatetimeJulian(1916, 11, 15, 0, 0, 0, 0, has_year_zero=False),\n",
       "       cftime.DatetimeJulian(1917, 11, 15, 0, 0, 0, 0, has_year_zero=False),\n",
       "       cftime.DatetimeJulian(1918, 11, 15, 0, 0, 0, 0, has_year_zero=False),\n",
       "       cftime.DatetimeJulian(1919, 11, 15, 0, 0, 0, 0, has_year_zero=False),\n",
       "       cftime.DatetimeJulian(1920, 11, 15, 0, 0, 0, 0, has_year_zero=False),\n",
       "       cftime.DatetimeJulian(1921, 11, 15, 0, 0, 0, 0, has_year_zero=False),\n",
       "       cftime.DatetimeJulian(1922, 11, 15, 0, 0, 0, 0, has_year_zero=False),\n",
       "       cftime.DatetimeJulian(1923, 11, 15, 0, 0, 0, 0, has_year_zero=False),\n",
       "       cftime.DatetimeJulian(1924, 11, 15, 0, 0, 0, 0, has_year_zero=False),\n",
       "       cftime.DatetimeJulian(1925, 11, 15, 0, 0, 0, 0, has_year_zero=False),\n",
       "       cftime.DatetimeJulian(1926, 11, 15, 0, 0, 0, 0, has_year_zero=False),\n",
       "       cftime.DatetimeJulian(1927, 11, 15, 0, 0, 0, 0, has_year_zero=False),\n",
       "       cftime.DatetimeJulian(1928, 11, 15, 0, 0, 0, 0, has_year_zero=False),\n",
       "       cftime.DatetimeJulian(1929, 11, 15, 0, 0, 0, 0, has_year_zero=False),\n",
       "       cftime.DatetimeJulian(1930, 11, 15, 0, 0, 0, 0, has_year_zero=False),\n",
       "       cftime.DatetimeJulian(1931, 11, 15, 0, 0, 0, 0, has_year_zero=False),\n",
       "       cftime.DatetimeJulian(1932, 11, 15, 0, 0, 0, 0, has_year_zero=False),\n",
       "       cftime.DatetimeJulian(1933, 11, 15, 0, 0, 0, 0, has_year_zero=False),\n",
       "       cftime.DatetimeJulian(1934, 11, 15, 0, 0, 0, 0, has_year_zero=False),\n",
       "       cftime.DatetimeJulian(1935, 11, 15, 0, 0, 0, 0, has_year_zero=False),\n",
       "       cftime.DatetimeJulian(1936, 11, 15, 0, 0, 0, 0, has_year_zero=False),\n",
       "       cftime.DatetimeJulian(1937, 11, 15, 0, 0, 0, 0, has_year_zero=False),\n",
       "       cftime.DatetimeJulian(1938, 11, 15, 0, 0, 0, 0, has_year_zero=False),\n",
       "       cftime.DatetimeJulian(1939, 11, 15, 0, 0, 0, 0, has_year_zero=False),\n",
       "       cftime.DatetimeJulian(1940, 11, 15, 0, 0, 0, 0, has_year_zero=False),\n",
       "       cftime.DatetimeJulian(1941, 11, 15, 0, 0, 0, 0, has_year_zero=False),\n",
       "       cftime.DatetimeJulian(1942, 11, 15, 0, 0, 0, 0, has_year_zero=False),\n",
       "       cftime.DatetimeJulian(1943, 11, 15, 0, 0, 0, 0, has_year_zero=False),\n",
       "       cftime.DatetimeJulian(1944, 11, 15, 0, 0, 0, 0, has_year_zero=False),\n",
       "       cftime.DatetimeJulian(1945, 11, 15, 0, 0, 0, 0, has_year_zero=False),\n",
       "       cftime.DatetimeJulian(1946, 11, 15, 0, 0, 0, 0, has_year_zero=False),\n",
       "       cftime.DatetimeJulian(1947, 11, 15, 0, 0, 0, 0, has_year_zero=False),\n",
       "       cftime.DatetimeJulian(1948, 11, 15, 0, 0, 0, 0, has_year_zero=False),\n",
       "       cftime.DatetimeJulian(1949, 11, 15, 0, 0, 0, 0, has_year_zero=False),\n",
       "       cftime.DatetimeJulian(1950, 11, 15, 0, 0, 0, 0, has_year_zero=False),\n",
       "       cftime.DatetimeJulian(1951, 11, 15, 0, 0, 0, 0, has_year_zero=False),\n",
       "       cftime.DatetimeJulian(1952, 11, 15, 0, 0, 0, 0, has_year_zero=False),\n",
       "       cftime.DatetimeJulian(1953, 11, 15, 0, 0, 0, 0, has_year_zero=False),\n",
       "       cftime.DatetimeJulian(1954, 11, 15, 0, 0, 0, 0, has_year_zero=False),\n",
       "       cftime.DatetimeJulian(1955, 11, 15, 0, 0, 0, 0, has_year_zero=False),\n",
       "       cftime.DatetimeJulian(1956, 11, 15, 0, 0, 0, 0, has_year_zero=False),\n",
       "       cftime.DatetimeJulian(1957, 11, 15, 0, 0, 0, 0, has_year_zero=False),\n",
       "       cftime.DatetimeJulian(1958, 11, 15, 0, 0, 0, 0, has_year_zero=False),\n",
       "       cftime.DatetimeJulian(1959, 11, 15, 0, 0, 0, 0, has_year_zero=False),\n",
       "       cftime.DatetimeJulian(1960, 11, 15, 0, 0, 0, 0, has_year_zero=False),\n",
       "       cftime.DatetimeJulian(1961, 11, 15, 0, 0, 0, 0, has_year_zero=False),\n",
       "       cftime.DatetimeJulian(1962, 11, 15, 0, 0, 0, 0, has_year_zero=False),\n",
       "       cftime.DatetimeJulian(1963, 11, 15, 0, 0, 0, 0, has_year_zero=False),\n",
       "       cftime.DatetimeJulian(1964, 11, 15, 0, 0, 0, 0, has_year_zero=False),\n",
       "       cftime.DatetimeJulian(1965, 11, 15, 0, 0, 0, 0, has_year_zero=False),\n",
       "       cftime.DatetimeJulian(1966, 11, 15, 0, 0, 0, 0, has_year_zero=False),\n",
       "       cftime.DatetimeJulian(1967, 11, 15, 0, 0, 0, 0, has_year_zero=False),\n",
       "       cftime.DatetimeJulian(1968, 11, 15, 0, 0, 0, 0, has_year_zero=False),\n",
       "       cftime.DatetimeJulian(1969, 11, 15, 0, 0, 0, 0, has_year_zero=False),\n",
       "       cftime.DatetimeJulian(1970, 11, 15, 0, 0, 0, 0, has_year_zero=False),\n",
       "       cftime.DatetimeJulian(1971, 11, 15, 0, 0, 0, 0, has_year_zero=False),\n",
       "       cftime.DatetimeJulian(1972, 11, 15, 0, 0, 0, 0, has_year_zero=False),\n",
       "       cftime.DatetimeJulian(1973, 11, 15, 0, 0, 0, 0, has_year_zero=False),\n",
       "       cftime.DatetimeJulian(1974, 11, 15, 0, 0, 0, 0, has_year_zero=False),\n",
       "       cftime.DatetimeJulian(1975, 11, 15, 0, 0, 0, 0, has_year_zero=False),\n",
       "       cftime.DatetimeJulian(1976, 11, 15, 0, 0, 0, 0, has_year_zero=False),\n",
       "       cftime.DatetimeJulian(1977, 11, 15, 0, 0, 0, 0, has_year_zero=False),\n",
       "       cftime.DatetimeJulian(1978, 11, 15, 0, 0, 0, 0, has_year_zero=False),\n",
       "       cftime.DatetimeJulian(1979, 11, 15, 0, 0, 0, 0, has_year_zero=False),\n",
       "       cftime.DatetimeJulian(1980, 11, 15, 0, 0, 0, 0, has_year_zero=False),\n",
       "       cftime.DatetimeJulian(1981, 11, 15, 0, 0, 0, 0, has_year_zero=False),\n",
       "       cftime.DatetimeJulian(1982, 11, 15, 0, 0, 0, 0, has_year_zero=False),\n",
       "       cftime.DatetimeJulian(1983, 11, 15, 0, 0, 0, 0, has_year_zero=False),\n",
       "       cftime.DatetimeJulian(1984, 11, 15, 0, 0, 0, 0, has_year_zero=False),\n",
       "       cftime.DatetimeJulian(1985, 11, 15, 0, 0, 0, 0, has_year_zero=False),\n",
       "       cftime.DatetimeJulian(1986, 11, 15, 0, 0, 0, 0, has_year_zero=False),\n",
       "       cftime.DatetimeJulian(1987, 11, 15, 0, 0, 0, 0, has_year_zero=False),\n",
       "       cftime.DatetimeJulian(1988, 11, 15, 0, 0, 0, 0, has_year_zero=False),\n",
       "       cftime.DatetimeJulian(1989, 11, 15, 0, 0, 0, 0, has_year_zero=False),\n",
       "       cftime.DatetimeJulian(1990, 11, 15, 0, 0, 0, 0, has_year_zero=False),\n",
       "       cftime.DatetimeJulian(1991, 11, 15, 0, 0, 0, 0, has_year_zero=False),\n",
       "       cftime.DatetimeJulian(1992, 11, 15, 0, 0, 0, 0, has_year_zero=False),\n",
       "       cftime.DatetimeJulian(1993, 11, 15, 0, 0, 0, 0, has_year_zero=False),\n",
       "       cftime.DatetimeJulian(1994, 11, 15, 0, 0, 0, 0, has_year_zero=False),\n",
       "       cftime.DatetimeJulian(1995, 11, 15, 0, 0, 0, 0, has_year_zero=False),\n",
       "       cftime.DatetimeJulian(1996, 11, 15, 0, 0, 0, 0, has_year_zero=False),\n",
       "       cftime.DatetimeJulian(1997, 11, 15, 0, 0, 0, 0, has_year_zero=False),\n",
       "       cftime.DatetimeJulian(1998, 11, 15, 0, 0, 0, 0, has_year_zero=False),\n",
       "       cftime.DatetimeJulian(1999, 11, 15, 0, 0, 0, 0, has_year_zero=False),\n",
       "       cftime.DatetimeJulian(2000, 11, 15, 0, 0, 0, 0, has_year_zero=False),\n",
       "       cftime.DatetimeJulian(2001, 11, 15, 0, 0, 0, 0, has_year_zero=False),\n",
       "       cftime.DatetimeJulian(2002, 11, 15, 0, 0, 0, 0, has_year_zero=False),\n",
       "       cftime.DatetimeJulian(2003, 11, 15, 0, 0, 0, 0, has_year_zero=False),\n",
       "       cftime.DatetimeJulian(2004, 11, 15, 0, 0, 0, 0, has_year_zero=False),\n",
       "       cftime.DatetimeJulian(2005, 11, 15, 0, 0, 0, 0, has_year_zero=False),\n",
       "       cftime.DatetimeJulian(2006, 11, 15, 0, 0, 0, 0, has_year_zero=False),\n",
       "       cftime.DatetimeJulian(2007, 11, 15, 0, 0, 0, 0, has_year_zero=False),\n",
       "       cftime.DatetimeJulian(2008, 11, 15, 0, 0, 0, 0, has_year_zero=False),\n",
       "       cftime.DatetimeJulian(2009, 11, 15, 0, 0, 0, 0, has_year_zero=False),\n",
       "       cftime.DatetimeJulian(2010, 11, 15, 0, 0, 0, 0, has_year_zero=False),\n",
       "       cftime.DatetimeJulian(2011, 11, 15, 0, 0, 0, 0, has_year_zero=False),\n",
       "       cftime.DatetimeJulian(2012, 11, 15, 0, 0, 0, 0, has_year_zero=False),\n",
       "       cftime.DatetimeJulian(2013, 11, 15, 0, 0, 0, 0, has_year_zero=False),\n",
       "       cftime.DatetimeJulian(2014, 11, 15, 0, 0, 0, 0, has_year_zero=False),\n",
       "       cftime.DatetimeJulian(2015, 11, 15, 0, 0, 0, 0, has_year_zero=False),\n",
       "       cftime.DatetimeJulian(2016, 11, 15, 0, 0, 0, 0, has_year_zero=False),\n",
       "       cftime.DatetimeJulian(2017, 11, 15, 0, 0, 0, 0, has_year_zero=False),\n",
       "       cftime.DatetimeJulian(2018, 11, 15, 0, 0, 0, 0, has_year_zero=False),\n",
       "       cftime.DatetimeJulian(2019, 11, 15, 0, 0, 0, 0, has_year_zero=False),\n",
       "       cftime.DatetimeJulian(2020, 11, 15, 0, 0, 0, 0, has_year_zero=False),\n",
       "       cftime.DatetimeJulian(2021, 11, 15, 0, 0, 0, 0, has_year_zero=False)],\n",
       "      dtype=object)</pre></div></li></ul></div></li><li class='xr-section-item'><input id='section-30d62f29-8973-4c41-bf14-59e12d707600' class='xr-section-summary-in' type='checkbox'  checked><label for='section-30d62f29-8973-4c41-bf14-59e12d707600' class='xr-section-summary' >Data variables: <span>(1)</span></label><div class='xr-section-inline-details'></div><div class='xr-section-details'><ul class='xr-var-list'><li class='xr-var-item'><div class='xr-var-name'><span>pr</span></div><div class='xr-var-dims'>(time)</div><div class='xr-var-dtype'>float64</div><div class='xr-var-preview xr-preview'>dask.array&lt;chunksize=(122,), meta=np.ndarray&gt;</div><input id='attrs-68843f77-27e8-4798-a68a-c3397fc940ab' class='xr-var-attrs-in' type='checkbox' ><label for='attrs-68843f77-27e8-4798-a68a-c3397fc940ab' title='Show/Hide attributes'><svg class='icon xr-icon-file-text2'><use xlink:href='#icon-file-text2'></use></svg></label><input id='data-55955cb4-b05c-4705-ad83-d8cf0dfe607c' class='xr-var-data-in' type='checkbox'><label for='data-55955cb4-b05c-4705-ad83-d8cf0dfe607c' title='Show/Hide data repr'><svg class='icon xr-icon-database'><use xlink:href='#icon-database'></use></svg></label><div class='xr-var-attrs'><dl class='xr-attrs'><dt><span>long_name :</span></dt><dd>precipitation</dd><dt><span>units :</span></dt><dd>mm month-1</dd></dl></div><div class='xr-var-data'><table>\n",
       "<tr>\n",
       "<td>\n",
       "<table>\n",
       "  <thead>\n",
       "    <tr><td> </td><th> Array </th><th> Chunk </th></tr>\n",
       "  </thead>\n",
       "  <tbody>\n",
       "    <tr><th> Bytes </th><td> 0.95 kiB </td> <td> 0.95 kiB </td></tr>\n",
       "    <tr><th> Shape </th><td> (122,) </td> <td> (122,) </td></tr>\n",
       "    <tr><th> Count </th><td> 2 Tasks </td><td> 1 Chunks </td></tr>\n",
       "    <tr><th> Type </th><td> float64 </td><td> numpy.ndarray </td></tr>\n",
       "  </tbody>\n",
       "</table>\n",
       "</td>\n",
       "<td>\n",
       "<svg width=\"170\" height=\"75\" style=\"stroke:rgb(0,0,0);stroke-width:1\" >\n",
       "\n",
       "  <!-- Horizontal lines -->\n",
       "  <line x1=\"0\" y1=\"0\" x2=\"120\" y2=\"0\" style=\"stroke-width:2\" />\n",
       "  <line x1=\"0\" y1=\"25\" x2=\"120\" y2=\"25\" style=\"stroke-width:2\" />\n",
       "\n",
       "  <!-- Vertical lines -->\n",
       "  <line x1=\"0\" y1=\"0\" x2=\"0\" y2=\"25\" style=\"stroke-width:2\" />\n",
       "  <line x1=\"120\" y1=\"0\" x2=\"120\" y2=\"25\" style=\"stroke-width:2\" />\n",
       "\n",
       "  <!-- Colored Rectangle -->\n",
       "  <polygon points=\"0.0,0.0 120.0,0.0 120.0,25.412616514582485 0.0,25.412616514582485\" style=\"fill:#ECB172A0;stroke-width:0\"/>\n",
       "\n",
       "  <!-- Text -->\n",
       "  <text x=\"60.000000\" y=\"45.412617\" font-size=\"1.0rem\" font-weight=\"100\" text-anchor=\"middle\" >122</text>\n",
       "  <text x=\"140.000000\" y=\"12.706308\" font-size=\"1.0rem\" font-weight=\"100\" text-anchor=\"middle\" transform=\"rotate(0,140.000000,12.706308)\">1</text>\n",
       "</svg>\n",
       "</td>\n",
       "</tr>\n",
       "</table></div></li></ul></div></li><li class='xr-section-item'><input id='section-16a03b26-9f4d-415b-99c1-d60e2749d97d' class='xr-section-summary-in' type='checkbox'  checked><label for='section-16a03b26-9f4d-415b-99c1-d60e2749d97d' class='xr-section-summary' >Attributes: <span>(2)</span></label><div class='xr-section-inline-details'></div><div class='xr-section-details'><dl class='xr-attrs'><dt><span>history :</span></dt><dd>Fri Feb 18 11:06:30 2022: /g/data/xv83/dbi599/miniconda3/envs/unseen/bin/python bom_txt_to_nc.py /g/data/xv83/dbi599/nov-rain/data/pr_BoM_1900-2021_nov_aus-mean.txt pr http://www.bom.gov.au/climate/change/ /g/data/xv83/dbi599/nov-rain/data/pr_BoM_1900-2021_nov_aus-mean.nc (git@github.com:AusClimateService/nov-rain)</dd><dt><span>source :</span></dt><dd>http://www.bom.gov.au/climate/change/</dd></dl></div></li></ul></div></div>"
      ],
      "text/plain": [
       "<xarray.Dataset>\n",
       "Dimensions:  (time: 122)\n",
       "Coordinates:\n",
       "  * time     (time) object 1900-11-15 00:00:00 ... 2021-11-15 00:00:00\n",
       "Data variables:\n",
       "    pr       (time) float64 dask.array<chunksize=(122,), meta=np.ndarray>\n",
       "Attributes:\n",
       "    history:  Fri Feb 18 11:06:30 2022: /g/data/xv83/dbi599/miniconda3/envs/u...\n",
       "    source:   http://www.bom.gov.au/climate/change/"
      ]
     },
     "execution_count": 7,
     "metadata": {},
     "output_type": "execute_result"
    }
   ],
   "source": [
    "bom_ds"
   ]
  },
  {
   "cell_type": "code",
   "execution_count": 8,
   "id": "9c701895",
   "metadata": {
    "execution": {
     "iopub.execute_input": "2022-03-08T05:58:25.431645Z",
     "iopub.status.busy": "2022-03-08T05:58:25.427830Z",
     "iopub.status.idle": "2022-03-08T05:58:25.439600Z",
     "shell.execute_reply": "2022-03-08T05:58:25.438673Z"
    },
    "papermill": {
     "duration": 0.07324,
     "end_time": "2022-03-08T05:58:25.439844",
     "exception": false,
     "start_time": "2022-03-08T05:58:25.366604",
     "status": "completed"
    },
    "tags": []
   },
   "outputs": [],
   "source": [
    "years = bom_ds['time'].dt.year.values\n",
    "bom_df = pd.DataFrame(index=years)\n",
    "bom_df['pr'] = bom_ds['pr'].values"
   ]
  },
  {
   "cell_type": "code",
   "execution_count": 9,
   "id": "6c1bcdcc",
   "metadata": {
    "execution": {
     "iopub.execute_input": "2022-03-08T05:58:25.554250Z",
     "iopub.status.busy": "2022-03-08T05:58:25.553131Z",
     "iopub.status.idle": "2022-03-08T05:58:25.560089Z",
     "shell.execute_reply": "2022-03-08T05:58:25.558962Z"
    },
    "papermill": {
     "duration": 0.071719,
     "end_time": "2022-03-08T05:58:25.560469",
     "exception": false,
     "start_time": "2022-03-08T05:58:25.488750",
     "status": "completed"
    },
    "tags": []
   },
   "outputs": [
    {
     "name": "stdout",
     "output_type": "stream",
     "text": [
      "pr    32.909262\n",
      "dtype: float64\n"
     ]
    }
   ],
   "source": [
    "mean_rainfall = bom_df.mean()\n",
    "print(mean_rainfall)"
   ]
  },
  {
   "cell_type": "code",
   "execution_count": 10,
   "id": "c8bfcbcf",
   "metadata": {
    "execution": {
     "iopub.execute_input": "2022-03-08T05:58:25.671322Z",
     "iopub.status.busy": "2022-03-08T05:58:25.670034Z",
     "iopub.status.idle": "2022-03-08T05:58:25.677444Z",
     "shell.execute_reply": "2022-03-08T05:58:25.676451Z"
    },
    "papermill": {
     "duration": 0.067974,
     "end_time": "2022-03-08T05:58:25.677827",
     "exception": false,
     "start_time": "2022-03-08T05:58:25.609853",
     "status": "completed"
    },
    "tags": []
   },
   "outputs": [
    {
     "name": "stdout",
     "output_type": "stream",
     "text": [
      "76.18\n"
     ]
    }
   ],
   "source": [
    "pr2021 = bom_ds['pr'].values.max()\n",
    "print(pr2021)"
   ]
  },
  {
   "cell_type": "code",
   "execution_count": 11,
   "id": "527ce770",
   "metadata": {
    "execution": {
     "iopub.execute_input": "2022-03-08T05:58:25.792106Z",
     "iopub.status.busy": "2022-03-08T05:58:25.790891Z",
     "iopub.status.idle": "2022-03-08T05:58:25.798640Z",
     "shell.execute_reply": "2022-03-08T05:58:25.797322Z"
    },
    "papermill": {
     "duration": 0.072461,
     "end_time": "2022-03-08T05:58:25.798958",
     "exception": false,
     "start_time": "2022-03-08T05:58:25.726497",
     "status": "completed"
    },
    "tags": []
   },
   "outputs": [
    {
     "data": {
      "text/plain": [
       "2021    76.18\n",
       "1973    70.14\n",
       "1917    68.51\n",
       "2000    68.41\n",
       "1950    63.03\n",
       "2008    62.38\n",
       "1999    62.30\n",
       "2011    62.29\n",
       "2010    60.67\n",
       "1998    55.49\n",
       "Name: pr, dtype: float64"
      ]
     },
     "execution_count": 11,
     "metadata": {},
     "output_type": "execute_result"
    }
   ],
   "source": [
    "ranked_years = bom_df['pr'].sort_values(ascending=False)\n",
    "ranked_years.head(n=10)"
   ]
  },
  {
   "cell_type": "code",
   "execution_count": 12,
   "id": "e31dba77",
   "metadata": {
    "execution": {
     "iopub.execute_input": "2022-03-08T05:58:25.911605Z",
     "iopub.status.busy": "2022-03-08T05:58:25.910621Z",
     "iopub.status.idle": "2022-03-08T05:58:26.086657Z",
     "shell.execute_reply": "2022-03-08T05:58:26.085264Z"
    },
    "papermill": {
     "duration": 0.23826,
     "end_time": "2022-03-08T05:58:26.086994",
     "exception": false,
     "start_time": "2022-03-08T05:58:25.848734",
     "status": "completed"
    },
    "tags": []
   },
   "outputs": [
    {
     "name": "stdout",
     "output_type": "stream",
     "text": [
      "Shape parameter: -0.07\n",
      "Location parameter: 26.16\n",
      "Scale parameter: 10.43\n"
     ]
    }
   ],
   "source": [
    "bom_gev_shape, bom_gev_loc, bom_gev_scale = indices.fit_gev(bom_df['pr'].values)\n",
    "print(f'Shape parameter: {bom_gev_shape:.2f}')\n",
    "print(f'Location parameter: {bom_gev_loc:.2f}')\n",
    "print(f'Scale parameter: {bom_gev_scale:.2f}')"
   ]
  },
  {
   "cell_type": "code",
   "execution_count": 13,
   "id": "806ebb06",
   "metadata": {
    "execution": {
     "iopub.execute_input": "2022-03-08T05:58:26.228237Z",
     "iopub.status.busy": "2022-03-08T05:58:26.227334Z",
     "iopub.status.idle": "2022-03-08T05:58:26.750161Z",
     "shell.execute_reply": "2022-03-08T05:58:26.749231Z"
    },
    "papermill": {
     "duration": 0.612795,
     "end_time": "2022-03-08T05:58:26.750439",
     "exception": false,
     "start_time": "2022-03-08T05:58:26.137644",
     "status": "completed"
    },
    "tags": []
   },
   "outputs": [
    {
     "data": {
      "image/png": "[encoded data removed]",
      "text/plain": [
       "<Figure size 720x576 with 1 Axes>"
      ]
     },
     "metadata": {
      "needs_background": "light"
     },
     "output_type": "display_data"
    }
   ],
   "source": [
    "fig, ax = plt.subplots(figsize=[10, 8])\n",
    "gev_xvals = np.arange(0, 120)\n",
    "bom_df['pr'].plot.hist(bins=40, density=True, color='tab:green', alpha=0.5)\n",
    "bom_gev_pdf = gev.pdf(gev_xvals, bom_gev_shape, bom_gev_loc, bom_gev_scale)\n",
    "plt.plot(gev_xvals, bom_gev_pdf, color='tab:green', linewidth=4.0)\n",
    "plt.show()"
   ]
  },
  {
   "cell_type": "code",
   "execution_count": 14,
   "id": "2b8059b4",
   "metadata": {
    "execution": {
     "iopub.execute_input": "2022-03-08T05:58:26.859299Z",
     "iopub.status.busy": "2022-03-08T05:58:26.858439Z",
     "iopub.status.idle": "2022-03-08T05:58:26.976210Z",
     "shell.execute_reply": "2022-03-08T05:58:26.975294Z"
    },
    "papermill": {
     "duration": 0.176878,
     "end_time": "2022-03-08T05:58:26.976499",
     "exception": false,
     "start_time": "2022-03-08T05:58:26.799621",
     "status": "completed"
    },
    "tags": []
   },
   "outputs": [
    {
     "name": "stdout",
     "output_type": "stream",
     "text": [
      "Sample size: 1000\n",
      "98.40% percentile\n",
      "62 year return period\n",
      "\n",
      "Sample size: 5000\n",
      "98.46% percentile\n",
      "65 year return period\n",
      "\n",
      "Sample size: 10000\n",
      "98.43% percentile\n",
      "64 year return period\n",
      "\n",
      "Sample size: 50000\n",
      "98.45% percentile\n",
      "64 year return period\n",
      "\n",
      "Sample size: 100000\n",
      "98.47% percentile\n",
      "65 year return period\n",
      "\n",
      "Sample size: 500000\n",
      "98.45% percentile\n",
      "64 year return period\n",
      "\n"
     ]
    }
   ],
   "source": [
    "for sample_size in [1000, 5000, 10000, 50000, 100000, 500000]:\n",
    "    bom_gev_data = gev.rvs(bom_gev_shape, loc=bom_gev_loc, scale=bom_gev_scale, size=sample_size)\n",
    "    bom_percentile, bom_return_period = general_utils.event_in_context(bom_gev_data, pr2021, 'above')\n",
    "    print(f'Sample size: {sample_size}')\n",
    "    print(f'{bom_percentile:.2f}% percentile')\n",
    "    print(f'{bom_return_period:.0f} year return period\\n')"
   ]
  },
  {
   "cell_type": "markdown",
   "id": "51274b2c",
   "metadata": {
    "papermill": {
     "duration": 0.053054,
     "end_time": "2022-03-08T05:58:27.079450",
     "exception": false,
     "start_time": "2022-03-08T05:58:27.026396",
     "status": "completed"
    },
    "tags": []
   },
   "source": [
    "Accordining to a GEV fitted to the observations, the event is in the 98th percentile with a 60-70 year return period."
   ]
  },
  {
   "cell_type": "markdown",
   "id": "d082e6af",
   "metadata": {
    "papermill": {
     "duration": 0.052114,
     "end_time": "2022-03-08T05:58:27.180770",
     "exception": false,
     "start_time": "2022-03-08T05:58:27.128656",
     "status": "completed"
    },
    "tags": []
   },
   "source": [
    "## Model ensemble"
   ]
  },
  {
   "cell_type": "code",
   "execution_count": 15,
   "id": "1620b927",
   "metadata": {
    "execution": {
     "iopub.execute_input": "2022-03-08T05:58:27.288396Z",
     "iopub.status.busy": "2022-03-08T05:58:27.287510Z",
     "iopub.status.idle": "2022-03-08T05:58:27.444777Z",
     "shell.execute_reply": "2022-03-08T05:58:27.443852Z"
    },
    "papermill": {
     "duration": 0.214994,
     "end_time": "2022-03-08T05:58:27.445023",
     "exception": false,
     "start_time": "2022-03-08T05:58:27.230029",
     "status": "completed"
    },
    "tags": []
   },
   "outputs": [],
   "source": [
    "model_ds = fileio.open_dataset(model_file)\n",
    "model_bc_ds = fileio.open_dataset(model_bc_file)"
   ]
  },
  {
   "cell_type": "code",
   "execution_count": 16,
   "id": "b3d4100a",
   "metadata": {
    "execution": {
     "iopub.execute_input": "2022-03-08T05:58:27.555941Z",
     "iopub.status.busy": "2022-03-08T05:58:27.555058Z",
     "iopub.status.idle": "2022-03-08T05:58:27.583038Z",
     "shell.execute_reply": "2022-03-08T05:58:27.582252Z"
    },
    "papermill": {
     "duration": 0.087961,
     "end_time": "2022-03-08T05:58:27.583274",
     "exception": false,
     "start_time": "2022-03-08T05:58:27.495313",
     "status": "completed"
    },
    "tags": []
   },
   "outputs": [
    {
     "data": {
      "text/html": [
       "<div><svg style=\"position: absolute; width: 0; height: 0; overflow: hidden\">\n",
       "<defs>\n",
       "<symbol id=\"icon-database\" viewBox=\"0 0 32 32\">\n",
       "<path d=\"M16 0c-8.837 0-16 2.239-16 5v4c0 2.761 7.163 5 16 5s16-2.239 16-5v-4c0-2.761-7.163-5-16-5z\"></path>\n",
       "<path d=\"M16 17c-8.837 0-16-2.239-16-5v6c0 2.761 7.163 5 16 5s16-2.239 16-5v-6c0 2.761-7.163 5-16 5z\"></path>\n",
       "<path d=\"M16 26c-8.837 0-16-2.239-16-5v6c0 2.761 7.163 5 16 5s16-2.239 16-5v-6c0 2.761-7.163 5-16 5z\"></path>\n",
       "</symbol>\n",
       "<symbol id=\"icon-file-text2\" viewBox=\"0 0 32 32\">\n",
       "<path d=\"M28.681 7.159c-0.694-0.947-1.662-2.053-2.724-3.116s-2.169-2.030-3.116-2.724c-1.612-1.182-2.393-1.319-2.841-1.319h-15.5c-1.378 0-2.5 1.121-2.5 2.5v27c0 1.378 1.122 2.5 2.5 2.5h23c1.378 0 2.5-1.122 2.5-2.5v-19.5c0-0.448-0.137-1.23-1.319-2.841zM24.543 5.457c0.959 0.959 1.712 1.825 2.268 2.543h-4.811v-4.811c0.718 0.556 1.584 1.309 2.543 2.268zM28 29.5c0 0.271-0.229 0.5-0.5 0.5h-23c-0.271 0-0.5-0.229-0.5-0.5v-27c0-0.271 0.229-0.5 0.5-0.5 0 0 15.499-0 15.5 0v7c0 0.552 0.448 1 1 1h7v19.5z\"></path>\n",
       "<path d=\"M23 26h-14c-0.552 0-1-0.448-1-1s0.448-1 1-1h14c0.552 0 1 0.448 1 1s-0.448 1-1 1z\"></path>\n",
       "<path d=\"M23 22h-14c-0.552 0-1-0.448-1-1s0.448-1 1-1h14c0.552 0 1 0.448 1 1s-0.448 1-1 1z\"></path>\n",
       "<path d=\"M23 18h-14c-0.552 0-1-0.448-1-1s0.448-1 1-1h14c0.552 0 1 0.448 1 1s-0.448 1-1 1z\"></path>\n",
       "</symbol>\n",
       "</defs>\n",
       "</svg>\n",
       "<style>/* CSS stylesheet for displaying xarray objects in jupyterlab.\n",
       " *\n",
       " */\n",
       "\n",
       ":root {\n",
       "  --xr-font-color0: var(--jp-content-font-color0, rgba(0, 0, 0, 1));\n",
       "  --xr-font-color2: var(--jp-content-font-color2, rgba(0, 0, 0, 0.54));\n",
       "  --xr-font-color3: var(--jp-content-font-color3, rgba(0, 0, 0, 0.38));\n",
       "  --xr-border-color: var(--jp-border-color2, #e0e0e0);\n",
       "  --xr-disabled-color: var(--jp-layout-color3, #bdbdbd);\n",
       "  --xr-background-color: var(--jp-layout-color0, white);\n",
       "  --xr-background-color-row-even: var(--jp-layout-color1, white);\n",
       "  --xr-background-color-row-odd: var(--jp-layout-color2, #eeeeee);\n",
       "}\n",
       "\n",
       "html[theme=dark],\n",
       "body.vscode-dark {\n",
       "  --xr-font-color0: rgba(255, 255, 255, 1);\n",
       "  --xr-font-color2: rgba(255, 255, 255, 0.54);\n",
       "  --xr-font-color3: rgba(255, 255, 255, 0.38);\n",
       "  --xr-border-color: #1F1F1F;\n",
       "  --xr-disabled-color: #515151;\n",
       "  --xr-background-color: #111111;\n",
       "  --xr-background-color-row-even: #111111;\n",
       "  --xr-background-color-row-odd: #313131;\n",
       "}\n",
       "\n",
       ".xr-wrap {\n",
       "  display: block;\n",
       "  min-width: 300px;\n",
       "  max-width: 700px;\n",
       "}\n",
       "\n",
       ".xr-text-repr-fallback {\n",
       "  /* fallback to plain text repr when CSS is not injected (untrusted notebook) */\n",
       "  display: none;\n",
       "}\n",
       "\n",
       ".xr-header {\n",
       "  padding-top: 6px;\n",
       "  padding-bottom: 6px;\n",
       "  margin-bottom: 4px;\n",
       "  border-bottom: solid 1px var(--xr-border-color);\n",
       "}\n",
       "\n",
       ".xr-header > div,\n",
       ".xr-header > ul {\n",
       "  display: inline;\n",
       "  margin-top: 0;\n",
       "  margin-bottom: 0;\n",
       "}\n",
       "\n",
       ".xr-obj-type,\n",
       ".xr-array-name {\n",
       "  margin-left: 2px;\n",
       "  margin-right: 10px;\n",
       "}\n",
       "\n",
       ".xr-obj-type {\n",
       "  color: var(--xr-font-color2);\n",
       "}\n",
       "\n",
       ".xr-sections {\n",
       "  padding-left: 0 !important;\n",
       "  display: grid;\n",
       "  grid-template-columns: 150px auto auto 1fr 20px 20px;\n",
       "}\n",
       "\n",
       ".xr-section-item {\n",
       "  display: contents;\n",
       "}\n",
       "\n",
       ".xr-section-item input {\n",
       "  display: none;\n",
       "}\n",
       "\n",
       ".xr-section-item input + label {\n",
       "  color: var(--xr-disabled-color);\n",
       "}\n",
       "\n",
       ".xr-section-item input:enabled + label {\n",
       "  cursor: pointer;\n",
       "  color: var(--xr-font-color2);\n",
       "}\n",
       "\n",
       ".xr-section-item input:enabled + label:hover {\n",
       "  color: var(--xr-font-color0);\n",
       "}\n",
       "\n",
       ".xr-section-summary {\n",
       "  grid-column: 1;\n",
       "  color: var(--xr-font-color2);\n",
       "  font-weight: 500;\n",
       "}\n",
       "\n",
       ".xr-section-summary > span {\n",
       "  display: inline-block;\n",
       "  padding-left: 0.5em;\n",
       "}\n",
       "\n",
       ".xr-section-summary-in:disabled + label {\n",
       "  color: var(--xr-font-color2);\n",
       "}\n",
       "\n",
       ".xr-section-summary-in + label:before {\n",
       "  display: inline-block;\n",
       "  content: '►';\n",
       "  font-size: 11px;\n",
       "  width: 15px;\n",
       "  text-align: center;\n",
       "}\n",
       "\n",
       ".xr-section-summary-in:disabled + label:before {\n",
       "  color: var(--xr-disabled-color);\n",
       "}\n",
       "\n",
       ".xr-section-summary-in:checked + label:before {\n",
       "  content: '▼';\n",
       "}\n",
       "\n",
       ".xr-section-summary-in:checked + label > span {\n",
       "  display: none;\n",
       "}\n",
       "\n",
       ".xr-section-summary,\n",
       ".xr-section-inline-details {\n",
       "  padding-top: 4px;\n",
       "  padding-bottom: 4px;\n",
       "}\n",
       "\n",
       ".xr-section-inline-details {\n",
       "  grid-column: 2 / -1;\n",
       "}\n",
       "\n",
       ".xr-section-details {\n",
       "  display: none;\n",
       "  grid-column: 1 / -1;\n",
       "  margin-bottom: 5px;\n",
       "}\n",
       "\n",
       ".xr-section-summary-in:checked ~ .xr-section-details {\n",
       "  display: contents;\n",
       "}\n",
       "\n",
       ".xr-array-wrap {\n",
       "  grid-column: 1 / -1;\n",
       "  display: grid;\n",
       "  grid-template-columns: 20px auto;\n",
       "}\n",
       "\n",
       ".xr-array-wrap > label {\n",
       "  grid-column: 1;\n",
       "  vertical-align: top;\n",
       "}\n",
       "\n",
       ".xr-preview {\n",
       "  color: var(--xr-font-color3);\n",
       "}\n",
       "\n",
       ".xr-array-preview,\n",
       ".xr-array-data {\n",
       "  padding: 0 5px !important;\n",
       "  grid-column: 2;\n",
       "}\n",
       "\n",
       ".xr-array-data,\n",
       ".xr-array-in:checked ~ .xr-array-preview {\n",
       "  display: none;\n",
       "}\n",
       "\n",
       ".xr-array-in:checked ~ .xr-array-data,\n",
       ".xr-array-preview {\n",
       "  display: inline-block;\n",
       "}\n",
       "\n",
       ".xr-dim-list {\n",
       "  display: inline-block !important;\n",
       "  list-style: none;\n",
       "  padding: 0 !important;\n",
       "  margin: 0;\n",
       "}\n",
       "\n",
       ".xr-dim-list li {\n",
       "  display: inline-block;\n",
       "  padding: 0;\n",
       "  margin: 0;\n",
       "}\n",
       "\n",
       ".xr-dim-list:before {\n",
       "  content: '(';\n",
       "}\n",
       "\n",
       ".xr-dim-list:after {\n",
       "  content: ')';\n",
       "}\n",
       "\n",
       ".xr-dim-list li:not(:last-child):after {\n",
       "  content: ',';\n",
       "  padding-right: 5px;\n",
       "}\n",
       "\n",
       ".xr-has-index {\n",
       "  font-weight: bold;\n",
       "}\n",
       "\n",
       ".xr-var-list,\n",
       ".xr-var-item {\n",
       "  display: contents;\n",
       "}\n",
       "\n",
       ".xr-var-item > div,\n",
       ".xr-var-item label,\n",
       ".xr-var-item > .xr-var-name span {\n",
       "  background-color: var(--xr-background-color-row-even);\n",
       "  margin-bottom: 0;\n",
       "}\n",
       "\n",
       ".xr-var-item > .xr-var-name:hover span {\n",
       "  padding-right: 5px;\n",
       "}\n",
       "\n",
       ".xr-var-list > li:nth-child(odd) > div,\n",
       ".xr-var-list > li:nth-child(odd) > label,\n",
       ".xr-var-list > li:nth-child(odd) > .xr-var-name span {\n",
       "  background-color: var(--xr-background-color-row-odd);\n",
       "}\n",
       "\n",
       ".xr-var-name {\n",
       "  grid-column: 1;\n",
       "}\n",
       "\n",
       ".xr-var-dims {\n",
       "  grid-column: 2;\n",
       "}\n",
       "\n",
       ".xr-var-dtype {\n",
       "  grid-column: 3;\n",
       "  text-align: right;\n",
       "  color: var(--xr-font-color2);\n",
       "}\n",
       "\n",
       ".xr-var-preview {\n",
       "  grid-column: 4;\n",
       "}\n",
       "\n",
       ".xr-var-name,\n",
       ".xr-var-dims,\n",
       ".xr-var-dtype,\n",
       ".xr-preview,\n",
       ".xr-attrs dt {\n",
       "  white-space: nowrap;\n",
       "  overflow: hidden;\n",
       "  text-overflow: ellipsis;\n",
       "  padding-right: 10px;\n",
       "}\n",
       "\n",
       ".xr-var-name:hover,\n",
       ".xr-var-dims:hover,\n",
       ".xr-var-dtype:hover,\n",
       ".xr-attrs dt:hover {\n",
       "  overflow: visible;\n",
       "  width: auto;\n",
       "  z-index: 1;\n",
       "}\n",
       "\n",
       ".xr-var-attrs,\n",
       ".xr-var-data {\n",
       "  display: none;\n",
       "  background-color: var(--xr-background-color) !important;\n",
       "  padding-bottom: 5px !important;\n",
       "}\n",
       "\n",
       ".xr-var-attrs-in:checked ~ .xr-var-attrs,\n",
       ".xr-var-data-in:checked ~ .xr-var-data {\n",
       "  display: block;\n",
       "}\n",
       "\n",
       ".xr-var-data > table {\n",
       "  float: right;\n",
       "}\n",
       "\n",
       ".xr-var-name span,\n",
       ".xr-var-data,\n",
       ".xr-attrs {\n",
       "  padding-left: 25px !important;\n",
       "}\n",
       "\n",
       ".xr-attrs,\n",
       ".xr-var-attrs,\n",
       ".xr-var-data {\n",
       "  grid-column: 1 / -1;\n",
       "}\n",
       "\n",
       "dl.xr-attrs {\n",
       "  padding: 0;\n",
       "  margin: 0;\n",
       "  display: grid;\n",
       "  grid-template-columns: 125px auto;\n",
       "}\n",
       "\n",
       ".xr-attrs dt,\n",
       ".xr-attrs dd {\n",
       "  padding: 0;\n",
       "  margin: 0;\n",
       "  float: left;\n",
       "  padding-right: 10px;\n",
       "  width: auto;\n",
       "}\n",
       "\n",
       ".xr-attrs dt {\n",
       "  font-weight: normal;\n",
       "  grid-column: 1;\n",
       "}\n",
       "\n",
       ".xr-attrs dt:hover span {\n",
       "  display: inline-block;\n",
       "  background: var(--xr-background-color);\n",
       "  padding-right: 10px;\n",
       "}\n",
       "\n",
       ".xr-attrs dd {\n",
       "  grid-column: 2;\n",
       "  white-space: pre-wrap;\n",
       "  word-break: break-all;\n",
       "}\n",
       "\n",
       ".xr-icon-database,\n",
       ".xr-icon-file-text2 {\n",
       "  display: inline-block;\n",
       "  vertical-align: middle;\n",
       "  width: 1em;\n",
       "  height: 1.5em !important;\n",
       "  stroke-width: 0;\n",
       "  stroke: currentColor;\n",
       "  fill: currentColor;\n",
       "}\n",
       "</style><pre class='xr-text-repr-fallback'>&lt;xarray.Dataset&gt;\n",
       "Dimensions:    (ensemble: 20, init_date: 58, lead_time: 11)\n",
       "Coordinates:\n",
       "  * ensemble   (ensemble) int64 0 1 2 3 4 5 6 7 8 ... 11 12 13 14 15 16 17 18 19\n",
       "  * init_date  (init_date) object 1960-10-16 00:00:00 ... 2018-10-16 00:00:00\n",
       "  * lead_time  (lead_time) int64 0 1 2 3 4 5 6 7 8 9 10\n",
       "    time       (lead_time, init_date) object dask.array&lt;chunksize=(11, 58), meta=np.ndarray&gt;\n",
       "Data variables:\n",
       "    pr         (init_date, ensemble, lead_time) float64 dask.array&lt;chunksize=(1, 1, 11), meta=np.ndarray&gt;\n",
       "Attributes: (12/51)\n",
       "    Conventions:               CF-1.7 CMIP-6.2\n",
       "    activity_id:               DCPP\n",
       "    branch_method:             standard\n",
       "    branch_time:               715308.0\n",
       "    branch_time_in_child:      715308.0\n",
       "    branch_time_in_parent:     715308.0\n",
       "    ...                        ...\n",
       "    table_id:                  Amon\n",
       "    table_info:                Creation Date:(24 July 2019) MD5:f0588f7f55b57...\n",
       "    title:                     NorCPM1 output prepared for CMIP6\n",
       "    tracking_id:               hdl:21.14100/a949c13d-0318-4054-94a6-7045c9e41733\n",
       "    variable_id:               pr\n",
       "    variant_label:             r1i1p1f1</pre><div class='xr-wrap' hidden><div class='xr-header'><div class='xr-obj-type'>xarray.Dataset</div></div><ul class='xr-sections'><li class='xr-section-item'><input id='section-23f7b949-1548-4835-b917-f6e3cfffd9d6' class='xr-section-summary-in' type='checkbox' disabled ><label for='section-23f7b949-1548-4835-b917-f6e3cfffd9d6' class='xr-section-summary'  title='Expand/collapse section'>Dimensions:</label><div class='xr-section-inline-details'><ul class='xr-dim-list'><li><span class='xr-has-index'>ensemble</span>: 20</li><li><span class='xr-has-index'>init_date</span>: 58</li><li><span class='xr-has-index'>lead_time</span>: 11</li></ul></div><div class='xr-section-details'></div></li><li class='xr-section-item'><input id='section-88501a67-cde3-4b66-8b5a-318b655e0df1' class='xr-section-summary-in' type='checkbox'  checked><label for='section-88501a67-cde3-4b66-8b5a-318b655e0df1' class='xr-section-summary' >Coordinates: <span>(4)</span></label><div class='xr-section-inline-details'></div><div class='xr-section-details'><ul class='xr-var-list'><li class='xr-var-item'><div class='xr-var-name'><span class='xr-has-index'>ensemble</span></div><div class='xr-var-dims'>(ensemble)</div><div class='xr-var-dtype'>int64</div><div class='xr-var-preview xr-preview'>0 1 2 3 4 5 6 ... 14 15 16 17 18 19</div><input id='attrs-83b2f670-e20d-4037-8504-898ccae7081f' class='xr-var-attrs-in' type='checkbox' disabled><label for='attrs-83b2f670-e20d-4037-8504-898ccae7081f' title='Show/Hide attributes'><svg class='icon xr-icon-file-text2'><use xlink:href='#icon-file-text2'></use></svg></label><input id='data-b4462b7d-83dd-4de8-aec0-b15c74ff0c5b' class='xr-var-data-in' type='checkbox'><label for='data-b4462b7d-83dd-4de8-aec0-b15c74ff0c5b' title='Show/Hide data repr'><svg class='icon xr-icon-database'><use xlink:href='#icon-database'></use></svg></label><div class='xr-var-attrs'><dl class='xr-attrs'></dl></div><div class='xr-var-data'><pre>array([ 0,  1,  2,  3,  4,  5,  6,  7,  8,  9, 10, 11, 12, 13, 14, 15, 16, 17,\n",
       "       18, 19])</pre></div></li><li class='xr-var-item'><div class='xr-var-name'><span class='xr-has-index'>init_date</span></div><div class='xr-var-dims'>(init_date)</div><div class='xr-var-dtype'>object</div><div class='xr-var-preview xr-preview'>1960-10-16 00:00:00 ... 2018-10-...</div><input id='attrs-f671d3dc-a597-4752-91c5-676854105883' class='xr-var-attrs-in' type='checkbox' disabled><label for='attrs-f671d3dc-a597-4752-91c5-676854105883' title='Show/Hide attributes'><svg class='icon xr-icon-file-text2'><use xlink:href='#icon-file-text2'></use></svg></label><input id='data-bb7a8d8b-c608-4297-9e1a-1e19d32418e3' class='xr-var-data-in' type='checkbox'><label for='data-bb7a8d8b-c608-4297-9e1a-1e19d32418e3' title='Show/Hide data repr'><svg class='icon xr-icon-database'><use xlink:href='#icon-database'></use></svg></label><div class='xr-var-attrs'><dl class='xr-attrs'></dl></div><div class='xr-var-data'><pre>array([cftime.DatetimeJulian(1960, 10, 16, 0, 0, 0, 0, has_year_zero=False),\n",
       "       cftime.DatetimeJulian(1961, 10, 16, 0, 0, 0, 0, has_year_zero=False),\n",
       "       cftime.DatetimeJulian(1962, 10, 16, 0, 0, 0, 0, has_year_zero=False),\n",
       "       cftime.DatetimeJulian(1963, 10, 16, 0, 0, 0, 0, has_year_zero=False),\n",
       "       cftime.DatetimeJulian(1964, 10, 16, 0, 0, 0, 0, has_year_zero=False),\n",
       "       cftime.DatetimeJulian(1965, 10, 16, 0, 0, 0, 0, has_year_zero=False),\n",
       "       cftime.DatetimeJulian(1966, 10, 16, 0, 0, 0, 0, has_year_zero=False),\n",
       "       cftime.DatetimeJulian(1967, 10, 16, 0, 0, 0, 0, has_year_zero=False),\n",
       "       cftime.DatetimeJulian(1968, 10, 16, 0, 0, 0, 0, has_year_zero=False),\n",
       "       cftime.DatetimeJulian(1969, 10, 16, 0, 0, 0, 0, has_year_zero=False),\n",
       "       cftime.DatetimeJulian(1970, 10, 16, 0, 0, 0, 0, has_year_zero=False),\n",
       "       cftime.DatetimeJulian(1971, 10, 16, 0, 0, 0, 0, has_year_zero=False),\n",
       "       cftime.DatetimeJulian(1972, 10, 16, 0, 0, 0, 0, has_year_zero=False),\n",
       "       cftime.DatetimeJulian(1973, 10, 16, 0, 0, 0, 0, has_year_zero=False),\n",
       "       cftime.DatetimeJulian(1974, 10, 16, 0, 0, 0, 0, has_year_zero=False),\n",
       "       cftime.DatetimeJulian(1975, 10, 16, 0, 0, 0, 0, has_year_zero=False),\n",
       "       cftime.DatetimeJulian(1976, 10, 16, 0, 0, 0, 0, has_year_zero=False),\n",
       "       cftime.DatetimeJulian(1977, 10, 16, 0, 0, 0, 0, has_year_zero=False),\n",
       "       cftime.DatetimeJulian(1978, 10, 16, 0, 0, 0, 0, has_year_zero=False),\n",
       "       cftime.DatetimeJulian(1979, 10, 16, 0, 0, 0, 0, has_year_zero=False),\n",
       "       cftime.DatetimeJulian(1980, 10, 16, 0, 0, 0, 0, has_year_zero=False),\n",
       "       cftime.DatetimeJulian(1981, 10, 16, 0, 0, 0, 0, has_year_zero=False),\n",
       "       cftime.DatetimeJulian(1982, 10, 16, 0, 0, 0, 0, has_year_zero=False),\n",
       "       cftime.DatetimeJulian(1983, 10, 16, 0, 0, 0, 0, has_year_zero=False),\n",
       "       cftime.DatetimeJulian(1984, 10, 16, 0, 0, 0, 0, has_year_zero=False),\n",
       "       cftime.DatetimeJulian(1985, 10, 16, 0, 0, 0, 0, has_year_zero=False),\n",
       "       cftime.DatetimeJulian(1986, 10, 16, 0, 0, 0, 0, has_year_zero=False),\n",
       "       cftime.DatetimeJulian(1988, 10, 16, 0, 0, 0, 0, has_year_zero=False),\n",
       "       cftime.DatetimeJulian(1989, 10, 16, 0, 0, 0, 0, has_year_zero=False),\n",
       "       cftime.DatetimeJulian(1990, 10, 16, 0, 0, 0, 0, has_year_zero=False),\n",
       "       cftime.DatetimeJulian(1991, 10, 16, 0, 0, 0, 0, has_year_zero=False),\n",
       "       cftime.DatetimeJulian(1992, 10, 16, 0, 0, 0, 0, has_year_zero=False),\n",
       "       cftime.DatetimeJulian(1993, 10, 16, 0, 0, 0, 0, has_year_zero=False),\n",
       "       cftime.DatetimeJulian(1994, 10, 16, 0, 0, 0, 0, has_year_zero=False),\n",
       "       cftime.DatetimeJulian(1995, 10, 16, 0, 0, 0, 0, has_year_zero=False),\n",
       "       cftime.DatetimeJulian(1996, 10, 16, 0, 0, 0, 0, has_year_zero=False),\n",
       "       cftime.DatetimeJulian(1997, 10, 16, 0, 0, 0, 0, has_year_zero=False),\n",
       "       cftime.DatetimeJulian(1998, 10, 16, 0, 0, 0, 0, has_year_zero=False),\n",
       "       cftime.DatetimeJulian(1999, 10, 16, 0, 0, 0, 0, has_year_zero=False),\n",
       "       cftime.DatetimeJulian(2000, 10, 16, 0, 0, 0, 0, has_year_zero=False),\n",
       "       cftime.DatetimeJulian(2001, 10, 16, 0, 0, 0, 0, has_year_zero=False),\n",
       "       cftime.DatetimeJulian(2002, 10, 16, 0, 0, 0, 0, has_year_zero=False),\n",
       "       cftime.DatetimeJulian(2003, 10, 16, 0, 0, 0, 0, has_year_zero=False),\n",
       "       cftime.DatetimeJulian(2004, 10, 16, 0, 0, 0, 0, has_year_zero=False),\n",
       "       cftime.DatetimeJulian(2005, 10, 16, 0, 0, 0, 0, has_year_zero=False),\n",
       "       cftime.DatetimeJulian(2006, 10, 16, 0, 0, 0, 0, has_year_zero=False),\n",
       "       cftime.DatetimeJulian(2007, 10, 16, 0, 0, 0, 0, has_year_zero=False),\n",
       "       cftime.DatetimeJulian(2008, 10, 16, 0, 0, 0, 0, has_year_zero=False),\n",
       "       cftime.DatetimeJulian(2009, 10, 16, 0, 0, 0, 0, has_year_zero=False),\n",
       "       cftime.DatetimeJulian(2010, 10, 16, 0, 0, 0, 0, has_year_zero=False),\n",
       "       cftime.DatetimeJulian(2011, 10, 16, 0, 0, 0, 0, has_year_zero=False),\n",
       "       cftime.DatetimeJulian(2012, 10, 16, 0, 0, 0, 0, has_year_zero=False),\n",
       "       cftime.DatetimeJulian(2013, 10, 16, 0, 0, 0, 0, has_year_zero=False),\n",
       "       cftime.DatetimeJulian(2014, 10, 16, 0, 0, 0, 0, has_year_zero=False),\n",
       "       cftime.DatetimeJulian(2015, 10, 16, 0, 0, 0, 0, has_year_zero=False),\n",
       "       cftime.DatetimeJulian(2016, 10, 16, 0, 0, 0, 0, has_year_zero=False),\n",
       "       cftime.DatetimeJulian(2017, 10, 16, 0, 0, 0, 0, has_year_zero=False),\n",
       "       cftime.DatetimeJulian(2018, 10, 16, 0, 0, 0, 0, has_year_zero=False)],\n",
       "      dtype=object)</pre></div></li><li class='xr-var-item'><div class='xr-var-name'><span class='xr-has-index'>lead_time</span></div><div class='xr-var-dims'>(lead_time)</div><div class='xr-var-dtype'>int64</div><div class='xr-var-preview xr-preview'>0 1 2 3 4 5 6 7 8 9 10</div><input id='attrs-cdd5bb65-115f-44bf-8ff1-7ea9c18b33f5' class='xr-var-attrs-in' type='checkbox' disabled><label for='attrs-cdd5bb65-115f-44bf-8ff1-7ea9c18b33f5' title='Show/Hide attributes'><svg class='icon xr-icon-file-text2'><use xlink:href='#icon-file-text2'></use></svg></label><input id='data-85ea3ac3-6247-4a60-919e-4b0106e35dc3' class='xr-var-data-in' type='checkbox'><label for='data-85ea3ac3-6247-4a60-919e-4b0106e35dc3' title='Show/Hide data repr'><svg class='icon xr-icon-database'><use xlink:href='#icon-database'></use></svg></label><div class='xr-var-attrs'><dl class='xr-attrs'></dl></div><div class='xr-var-data'><pre>array([ 0,  1,  2,  3,  4,  5,  6,  7,  8,  9, 10])</pre></div></li><li class='xr-var-item'><div class='xr-var-name'><span>time</span></div><div class='xr-var-dims'>(lead_time, init_date)</div><div class='xr-var-dtype'>object</div><div class='xr-var-preview xr-preview'>dask.array&lt;chunksize=(11, 58), meta=np.ndarray&gt;</div><input id='attrs-6e0e2475-5774-48c3-a107-c29615b8a786' class='xr-var-attrs-in' type='checkbox' disabled><label for='attrs-6e0e2475-5774-48c3-a107-c29615b8a786' title='Show/Hide attributes'><svg class='icon xr-icon-file-text2'><use xlink:href='#icon-file-text2'></use></svg></label><input id='data-6dc7a716-4b5c-4e9a-9cf2-0544d5ea8740' class='xr-var-data-in' type='checkbox'><label for='data-6dc7a716-4b5c-4e9a-9cf2-0544d5ea8740' title='Show/Hide data repr'><svg class='icon xr-icon-database'><use xlink:href='#icon-database'></use></svg></label><div class='xr-var-attrs'><dl class='xr-attrs'></dl></div><div class='xr-var-data'><table>\n",
       "<tr>\n",
       "<td>\n",
       "<table>\n",
       "  <thead>\n",
       "    <tr><td> </td><th> Array </th><th> Chunk </th></tr>\n",
       "  </thead>\n",
       "  <tbody>\n",
       "    <tr><th> Bytes </th><td> 4.98 kiB </td> <td> 4.98 kiB </td></tr>\n",
       "    <tr><th> Shape </th><td> (11, 58) </td> <td> (11, 58) </td></tr>\n",
       "    <tr><th> Count </th><td> 2 Tasks </td><td> 1 Chunks </td></tr>\n",
       "    <tr><th> Type </th><td> object </td><td> numpy.ndarray </td></tr>\n",
       "  </tbody>\n",
       "</table>\n",
       "</td>\n",
       "<td>\n",
       "<svg width=\"170\" height=\"91\" style=\"stroke:rgb(0,0,0);stroke-width:1\" >\n",
       "\n",
       "  <!-- Horizontal lines -->\n",
       "  <line x1=\"0\" y1=\"0\" x2=\"120\" y2=\"0\" style=\"stroke-width:2\" />\n",
       "  <line x1=\"0\" y1=\"41\" x2=\"120\" y2=\"41\" style=\"stroke-width:2\" />\n",
       "\n",
       "  <!-- Vertical lines -->\n",
       "  <line x1=\"0\" y1=\"0\" x2=\"0\" y2=\"41\" style=\"stroke-width:2\" />\n",
       "  <line x1=\"120\" y1=\"0\" x2=\"120\" y2=\"41\" style=\"stroke-width:2\" />\n",
       "\n",
       "  <!-- Colored Rectangle -->\n",
       "  <polygon points=\"0.0,0.0 120.0,0.0 120.0,41.78240073619522 0.0,41.78240073619522\" style=\"fill:#ECB172A0;stroke-width:0\"/>\n",
       "\n",
       "  <!-- Text -->\n",
       "  <text x=\"60.000000\" y=\"61.782401\" font-size=\"1.0rem\" font-weight=\"100\" text-anchor=\"middle\" >58</text>\n",
       "  <text x=\"140.000000\" y=\"20.891200\" font-size=\"1.0rem\" font-weight=\"100\" text-anchor=\"middle\" transform=\"rotate(0,140.000000,20.891200)\">11</text>\n",
       "</svg>\n",
       "</td>\n",
       "</tr>\n",
       "</table></div></li></ul></div></li><li class='xr-section-item'><input id='section-4c413ed0-ae84-48a1-a5a0-dc2414ef683f' class='xr-section-summary-in' type='checkbox'  checked><label for='section-4c413ed0-ae84-48a1-a5a0-dc2414ef683f' class='xr-section-summary' >Data variables: <span>(1)</span></label><div class='xr-section-inline-details'></div><div class='xr-section-details'><ul class='xr-var-list'><li class='xr-var-item'><div class='xr-var-name'><span>pr</span></div><div class='xr-var-dims'>(init_date, ensemble, lead_time)</div><div class='xr-var-dtype'>float64</div><div class='xr-var-preview xr-preview'>dask.array&lt;chunksize=(1, 1, 11), meta=np.ndarray&gt;</div><input id='attrs-50ad8eaf-9e40-499a-9328-5cc26e323713' class='xr-var-attrs-in' type='checkbox' ><label for='attrs-50ad8eaf-9e40-499a-9328-5cc26e323713' title='Show/Hide attributes'><svg class='icon xr-icon-file-text2'><use xlink:href='#icon-file-text2'></use></svg></label><input id='data-abc574a4-7f93-4533-9f0a-bc0d89af1442' class='xr-var-data-in' type='checkbox'><label for='data-abc574a4-7f93-4533-9f0a-bc0d89af1442' title='Show/Hide data repr'><svg class='icon xr-icon-database'><use xlink:href='#icon-database'></use></svg></label><div class='xr-var-attrs'><dl class='xr-attrs'><dt><span>cell_measures :</span></dt><dd>area: areacella</dd><dt><span>cell_methods :</span></dt><dd>area: time: mean</dd><dt><span>comment :</span></dt><dd>includes both liquid and solid phases</dd><dt><span>history :</span></dt><dd>2019-09-19T18:32:46Z altered by CMOR: Converted type from &#x27;d&#x27; to &#x27;f&#x27;.</dd><dt><span>long_name :</span></dt><dd>Precipitation</dd><dt><span>original_name :</span></dt><dd>PRECT</dd><dt><span>standard_name :</span></dt><dd>precipitation_flux</dd><dt><span>units :</span></dt><dd>mm month-1</dd></dl></div><div class='xr-var-data'><table>\n",
       "<tr>\n",
       "<td>\n",
       "<table>\n",
       "  <thead>\n",
       "    <tr><td> </td><th> Array </th><th> Chunk </th></tr>\n",
       "  </thead>\n",
       "  <tbody>\n",
       "    <tr><th> Bytes </th><td> 99.69 kiB </td> <td> 88 B </td></tr>\n",
       "    <tr><th> Shape </th><td> (58, 20, 11) </td> <td> (1, 1, 11) </td></tr>\n",
       "    <tr><th> Count </th><td> 1161 Tasks </td><td> 1160 Chunks </td></tr>\n",
       "    <tr><th> Type </th><td> float64 </td><td> numpy.ndarray </td></tr>\n",
       "  </tbody>\n",
       "</table>\n",
       "</td>\n",
       "<td>\n",
       "<svg width=\"172\" height=\"164\" style=\"stroke:rgb(0,0,0);stroke-width:1\" >\n",
       "\n",
       "  <!-- Horizontal lines -->\n",
       "  <line x1=\"10\" y1=\"0\" x2=\"80\" y2=\"70\" style=\"stroke-width:2\" />\n",
       "  <line x1=\"10\" y1=\"2\" x2=\"80\" y2=\"72\" />\n",
       "  <line x1=\"10\" y1=\"4\" x2=\"80\" y2=\"74\" />\n",
       "  <line x1=\"10\" y1=\"6\" x2=\"80\" y2=\"77\" />\n",
       "  <line x1=\"10\" y1=\"8\" x2=\"80\" y2=\"79\" />\n",
       "  <line x1=\"10\" y1=\"10\" x2=\"80\" y2=\"81\" />\n",
       "  <line x1=\"10\" y1=\"13\" x2=\"80\" y2=\"83\" />\n",
       "  <line x1=\"10\" y1=\"15\" x2=\"80\" y2=\"85\" />\n",
       "  <line x1=\"10\" y1=\"17\" x2=\"80\" y2=\"88\" />\n",
       "  <line x1=\"10\" y1=\"19\" x2=\"80\" y2=\"90\" />\n",
       "  <line x1=\"10\" y1=\"21\" x2=\"80\" y2=\"92\" />\n",
       "  <line x1=\"10\" y1=\"24\" x2=\"80\" y2=\"94\" />\n",
       "  <line x1=\"10\" y1=\"26\" x2=\"80\" y2=\"96\" />\n",
       "  <line x1=\"10\" y1=\"28\" x2=\"80\" y2=\"99\" />\n",
       "  <line x1=\"10\" y1=\"30\" x2=\"80\" y2=\"101\" />\n",
       "  <line x1=\"10\" y1=\"32\" x2=\"80\" y2=\"103\" />\n",
       "  <line x1=\"10\" y1=\"35\" x2=\"80\" y2=\"105\" />\n",
       "  <line x1=\"10\" y1=\"37\" x2=\"80\" y2=\"107\" />\n",
       "  <line x1=\"10\" y1=\"39\" x2=\"80\" y2=\"110\" />\n",
       "  <line x1=\"10\" y1=\"43\" x2=\"80\" y2=\"114\" style=\"stroke-width:2\" />\n",
       "\n",
       "  <!-- Vertical lines -->\n",
       "  <line x1=\"10\" y1=\"0\" x2=\"10\" y2=\"43\" style=\"stroke-width:2\" />\n",
       "  <line x1=\"13\" y1=\"3\" x2=\"13\" y2=\"47\" />\n",
       "  <line x1=\"17\" y1=\"7\" x2=\"17\" y2=\"51\" />\n",
       "  <line x1=\"20\" y1=\"10\" x2=\"20\" y2=\"54\" />\n",
       "  <line x1=\"24\" y1=\"14\" x2=\"24\" y2=\"58\" />\n",
       "  <line x1=\"28\" y1=\"18\" x2=\"28\" y2=\"62\" />\n",
       "  <line x1=\"31\" y1=\"21\" x2=\"31\" y2=\"65\" />\n",
       "  <line x1=\"35\" y1=\"25\" x2=\"35\" y2=\"69\" />\n",
       "  <line x1=\"39\" y1=\"29\" x2=\"39\" y2=\"73\" />\n",
       "  <line x1=\"42\" y1=\"32\" x2=\"42\" y2=\"76\" />\n",
       "  <line x1=\"46\" y1=\"36\" x2=\"46\" y2=\"80\" />\n",
       "  <line x1=\"50\" y1=\"40\" x2=\"50\" y2=\"84\" />\n",
       "  <line x1=\"53\" y1=\"43\" x2=\"53\" y2=\"87\" />\n",
       "  <line x1=\"57\" y1=\"47\" x2=\"57\" y2=\"91\" />\n",
       "  <line x1=\"61\" y1=\"51\" x2=\"61\" y2=\"95\" />\n",
       "  <line x1=\"64\" y1=\"54\" x2=\"64\" y2=\"98\" />\n",
       "  <line x1=\"68\" y1=\"58\" x2=\"68\" y2=\"102\" />\n",
       "  <line x1=\"72\" y1=\"62\" x2=\"72\" y2=\"106\" />\n",
       "  <line x1=\"75\" y1=\"65\" x2=\"75\" y2=\"109\" />\n",
       "  <line x1=\"80\" y1=\"70\" x2=\"80\" y2=\"114\" style=\"stroke-width:2\" />\n",
       "\n",
       "  <!-- Colored Rectangle -->\n",
       "  <polygon points=\"10.0,0.0 80.58823529411765,70.58823529411765 80.58823529411765,114.57887831955384 10.0,43.990643025436185\" style=\"fill:#8B4903A0;stroke-width:0\"/>\n",
       "\n",
       "  <!-- Horizontal lines -->\n",
       "  <line x1=\"10\" y1=\"0\" x2=\"51\" y2=\"0\" style=\"stroke-width:2\" />\n",
       "  <line x1=\"13\" y1=\"3\" x2=\"55\" y2=\"3\" />\n",
       "  <line x1=\"17\" y1=\"7\" x2=\"59\" y2=\"7\" />\n",
       "  <line x1=\"20\" y1=\"10\" x2=\"62\" y2=\"10\" />\n",
       "  <line x1=\"24\" y1=\"14\" x2=\"66\" y2=\"14\" />\n",
       "  <line x1=\"28\" y1=\"18\" x2=\"70\" y2=\"18\" />\n",
       "  <line x1=\"31\" y1=\"21\" x2=\"73\" y2=\"21\" />\n",
       "  <line x1=\"35\" y1=\"25\" x2=\"77\" y2=\"25\" />\n",
       "  <line x1=\"39\" y1=\"29\" x2=\"80\" y2=\"29\" />\n",
       "  <line x1=\"42\" y1=\"32\" x2=\"84\" y2=\"32\" />\n",
       "  <line x1=\"46\" y1=\"36\" x2=\"88\" y2=\"36\" />\n",
       "  <line x1=\"50\" y1=\"40\" x2=\"91\" y2=\"40\" />\n",
       "  <line x1=\"53\" y1=\"43\" x2=\"95\" y2=\"43\" />\n",
       "  <line x1=\"57\" y1=\"47\" x2=\"99\" y2=\"47\" />\n",
       "  <line x1=\"61\" y1=\"51\" x2=\"102\" y2=\"51\" />\n",
       "  <line x1=\"64\" y1=\"54\" x2=\"106\" y2=\"54\" />\n",
       "  <line x1=\"68\" y1=\"58\" x2=\"110\" y2=\"58\" />\n",
       "  <line x1=\"72\" y1=\"62\" x2=\"113\" y2=\"62\" />\n",
       "  <line x1=\"75\" y1=\"65\" x2=\"117\" y2=\"65\" />\n",
       "  <line x1=\"80\" y1=\"70\" x2=\"122\" y2=\"70\" style=\"stroke-width:2\" />\n",
       "\n",
       "  <!-- Vertical lines -->\n",
       "  <line x1=\"10\" y1=\"0\" x2=\"80\" y2=\"70\" style=\"stroke-width:2\" />\n",
       "  <line x1=\"51\" y1=\"0\" x2=\"122\" y2=\"70\" style=\"stroke-width:2\" />\n",
       "\n",
       "  <!-- Colored Rectangle -->\n",
       "  <polygon points=\"10.0,0.0 51.78240073619522,0.0 122.37063603031288,70.58823529411765 80.58823529411765,70.58823529411765\" style=\"fill:#8B4903A0;stroke-width:0\"/>\n",
       "\n",
       "  <!-- Horizontal lines -->\n",
       "  <line x1=\"80\" y1=\"70\" x2=\"122\" y2=\"70\" style=\"stroke-width:2\" />\n",
       "  <line x1=\"80\" y1=\"72\" x2=\"122\" y2=\"72\" />\n",
       "  <line x1=\"80\" y1=\"74\" x2=\"122\" y2=\"74\" />\n",
       "  <line x1=\"80\" y1=\"77\" x2=\"122\" y2=\"77\" />\n",
       "  <line x1=\"80\" y1=\"79\" x2=\"122\" y2=\"79\" />\n",
       "  <line x1=\"80\" y1=\"81\" x2=\"122\" y2=\"81\" />\n",
       "  <line x1=\"80\" y1=\"83\" x2=\"122\" y2=\"83\" />\n",
       "  <line x1=\"80\" y1=\"85\" x2=\"122\" y2=\"85\" />\n",
       "  <line x1=\"80\" y1=\"88\" x2=\"122\" y2=\"88\" />\n",
       "  <line x1=\"80\" y1=\"90\" x2=\"122\" y2=\"90\" />\n",
       "  <line x1=\"80\" y1=\"92\" x2=\"122\" y2=\"92\" />\n",
       "  <line x1=\"80\" y1=\"94\" x2=\"122\" y2=\"94\" />\n",
       "  <line x1=\"80\" y1=\"96\" x2=\"122\" y2=\"96\" />\n",
       "  <line x1=\"80\" y1=\"99\" x2=\"122\" y2=\"99\" />\n",
       "  <line x1=\"80\" y1=\"101\" x2=\"122\" y2=\"101\" />\n",
       "  <line x1=\"80\" y1=\"103\" x2=\"122\" y2=\"103\" />\n",
       "  <line x1=\"80\" y1=\"105\" x2=\"122\" y2=\"105\" />\n",
       "  <line x1=\"80\" y1=\"107\" x2=\"122\" y2=\"107\" />\n",
       "  <line x1=\"80\" y1=\"110\" x2=\"122\" y2=\"110\" />\n",
       "  <line x1=\"80\" y1=\"114\" x2=\"122\" y2=\"114\" style=\"stroke-width:2\" />\n",
       "\n",
       "  <!-- Vertical lines -->\n",
       "  <line x1=\"80\" y1=\"70\" x2=\"80\" y2=\"114\" style=\"stroke-width:2\" />\n",
       "  <line x1=\"122\" y1=\"70\" x2=\"122\" y2=\"114\" style=\"stroke-width:2\" />\n",
       "\n",
       "  <!-- Colored Rectangle -->\n",
       "  <polygon points=\"80.58823529411765,70.58823529411765 122.37063603031288,70.58823529411765 122.37063603031288,114.57887831955384 80.58823529411765,114.57887831955384\" style=\"fill:#8B4903A0;stroke-width:0\"/>\n",
       "\n",
       "  <!-- Text -->\n",
       "  <text x=\"101.479436\" y=\"134.578878\" font-size=\"1.0rem\" font-weight=\"100\" text-anchor=\"middle\" >11</text>\n",
       "  <text x=\"142.370636\" y=\"92.583557\" font-size=\"1.0rem\" font-weight=\"100\" text-anchor=\"middle\" transform=\"rotate(0,142.370636,92.583557)\">20</text>\n",
       "  <text x=\"35.294118\" y=\"99.284761\" font-size=\"1.0rem\" font-weight=\"100\" text-anchor=\"middle\" transform=\"rotate(45,35.294118,99.284761)\">58</text>\n",
       "</svg>\n",
       "</td>\n",
       "</tr>\n",
       "</table></div></li></ul></div></li><li class='xr-section-item'><input id='section-5aeac587-95fe-48aa-b1f6-dd0b34e503cf' class='xr-section-summary-in' type='checkbox'  ><label for='section-5aeac587-95fe-48aa-b1f6-dd0b34e503cf' class='xr-section-summary' >Attributes: <span>(51)</span></label><div class='xr-section-inline-details'></div><div class='xr-section-details'><dl class='xr-attrs'><dt><span>Conventions :</span></dt><dd>CF-1.7 CMIP-6.2</dd><dt><span>activity_id :</span></dt><dd>DCPP</dd><dt><span>branch_method :</span></dt><dd>standard</dd><dt><span>branch_time :</span></dt><dd>715308.0</dd><dt><span>branch_time_in_child :</span></dt><dd>715308.0</dd><dt><span>branch_time_in_parent :</span></dt><dd>715308.0</dd><dt><span>cmor_version :</span></dt><dd>3.5.0</dd><dt><span>comment :</span></dt><dd>i1 stands for anomaly assimilation of SST and T/S profile observations into ocean component using 1980-2010 as climatological period (see Bethke et al. for details)</dd><dt><span>contact :</span></dt><dd>Please send any requests or bug reports to norcpm@uib.no</dd><dt><span>creation_date :</span></dt><dd>2019-09-19T18:32:46Z</dd><dt><span>data_specs_version :</span></dt><dd>01.00.31</dd><dt><span>experiment :</span></dt><dd>hindcast initialized based on observations and using historical forcing</dd><dt><span>experiment_id :</span></dt><dd>dcppA-hindcast</dd><dt><span>external_variables :</span></dt><dd>areacella</dd><dt><span>forcing_index :</span></dt><dd>1</dd><dt><span>frequency :</span></dt><dd>mon</dd><dt><span>further_info_url :</span></dt><dd>https://furtherinfo.es-doc.org/CMIP6.NCC.NorCPM1.dcppA-hindcast.s1960.r1i1p1f1</dd><dt><span>grid :</span></dt><dd>finite-volume grid with 1.9x2.5 degree lat/lon resolution</dd><dt><span>grid_label :</span></dt><dd>gn</dd><dt><span>history :</span></dt><dd>Thu Feb 24 11:39:56 2022: /g/data/xv83/dbi599/miniconda3/envs/unseen/bin/python3.9 /g/data/xv83/dbi599/miniconda3/envs/unseen/bin/fileio file_lists/NorCPM1_dcppA-hindcast_files.txt /g/data/xv83/dbi599/nov-rain/data/pr_NorCPM1-dcppA-hindcast_196010-201810_nov_aus-mean.zarr.zip --forecast --variables pr --spatial_coords -44 -11 113 154 --month 11 --shapefile /g/data/xv83/dbi599/nov-rain/shapefiles/australia.shp --spatial_agg mean --units pr=mm month-1 --units_timing middle --n_ensemble_files 20 --reset_times --output_chunks lead_time=50 --dask_config dask_local.yml (git@github.com:AusClimateService/nov-rain)</dd><dt><span>initialization_index :</span></dt><dd>1</dd><dt><span>institution :</span></dt><dd>NorESM Climate modeling Consortium consisting of CICERO (Center for International Climate and Environmental Research, Oslo 0349), MET-Norway (Norwegian Meteorological Institute, Oslo 0313), NERSC (Nansen Environmental and Remote Sensing Center, Bergen 5006), NILU (Norwegian Institute for Air Research, Kjeller 2027), UiB (University of Bergen, Bergen 5007), UiO (University of Oslo, Oslo 0313) and UNI (Uni Research, Bergen 5008), Norway. Mailing address: NCC, c/o MET-Norway, Henrik Mohns plass 1, Oslo 0313, Norway</dd><dt><span>institution_id :</span></dt><dd>NCC</dd><dt><span>license :</span></dt><dd>CMIP6 model data produced by NCC is licensed under a Creative Commons Attribution ShareAlike 4.0 International License (https://creativecommons.org/licenses). Consult https://pcmdi.llnl.gov/CMIP6/TermsOfUse for terms of use governing CMIP6 output, including citation requirements and proper acknowledgment. Further information about this data, including some limitations, can be found via the further_info_url (recorded as a global attribute in this file) and at https:///pcmdi.llnl.gov/. The data producers and data providers make no warranty, either express or implied, including, but not limited to, warranties of merchantability and fitness for a particular purpose. All liabilities arising from the supply of the information (including any liability arising in negligence) are excluded to the fullest extent permitted by law.</dd><dt><span>mip_era :</span></dt><dd>CMIP6</dd><dt><span>model_id :</span></dt><dd>NorCPM1</dd><dt><span>nominal_resolution :</span></dt><dd>250 km</dd><dt><span>parent_activity_id :</span></dt><dd>DCPP</dd><dt><span>parent_experiment_id :</span></dt><dd>dcppA-assim</dd><dt><span>parent_mip_era :</span></dt><dd>CMIP6</dd><dt><span>parent_source_id :</span></dt><dd>NorCPM1</dd><dt><span>parent_sub_experiment_id :</span></dt><dd>none</dd><dt><span>parent_time_units :</span></dt><dd>days since 0001-01-01</dd><dt><span>parent_variant_label :</span></dt><dd>r1i1p1f1</dd><dt><span>physics_index :</span></dt><dd>1</dd><dt><span>product :</span></dt><dd>model-output</dd><dt><span>realization_index :</span></dt><dd>1</dd><dt><span>realm :</span></dt><dd>atmos</dd><dt><span>references :</span></dt><dd>Bethke et al. (in prep), NorCPM1 and its contribution to CMIP6 DCPP, to be submitted to Geosci.Model Dev. \n",
       " Counillon et al. (2016) Flow-dependent assimilation of sea surface temperature in isopycnal coordinates with the Norwegian Climate Prediction Model, Tellus A: Dynamic Meteorology and Oceanography, 68:1, DOI: 10.3402/tellusa.v68.32437 \n",
       " Wang et al. (2017) Optimising assimilation of hydrographic profiles into isopycnal ocean models with ensemble data assimilation. Ocean Modelling, 114, DOI: 10.1016/j.ocemod.2017.04.007</dd><dt><span>run_variant :</span></dt><dd>N/A</dd><dt><span>source :</span></dt><dd>NorCPM1 (2019): \n",
       "aerosol: OsloAero4.1 (same grid as atmos)\n",
       "atmos: CAM-OSLO4.1 (2 degree resolution; 144 x 96 longitude/latitude; 26 levels; top level ~2 hPa)\n",
       "atmosChem: OsloChemSimp4.1 (same grid as atmos)\n",
       "land: CLM4 (same grid as atmos)\n",
       "landIce: none\n",
       "ocean: MICOM1.1 (1 degree resolution; 320 x 384 longitude/latitude; 53 levels; top grid cell 0-2.5 m [native model uses hybrid density and generic upper-layer coordinate interpolated to z-level for contributed data])\n",
       "ocnBgchem: HAMOCC5.1 (same grid as ocean)\n",
       "seaIce: CICE4 (same grid as ocean)</dd><dt><span>source_id :</span></dt><dd>NorCPM1</dd><dt><span>source_type :</span></dt><dd>AOGCM</dd><dt><span>sub_experiment :</span></dt><dd>initialized near end of year 1960</dd><dt><span>sub_experiment_id :</span></dt><dd>s1960</dd><dt><span>table_id :</span></dt><dd>Amon</dd><dt><span>table_info :</span></dt><dd>Creation Date:(24 July 2019) MD5:f0588f7f55b5732b17302f8d9d0d7b8c</dd><dt><span>title :</span></dt><dd>NorCPM1 output prepared for CMIP6</dd><dt><span>tracking_id :</span></dt><dd>hdl:21.14100/a949c13d-0318-4054-94a6-7045c9e41733</dd><dt><span>variable_id :</span></dt><dd>pr</dd><dt><span>variant_label :</span></dt><dd>r1i1p1f1</dd></dl></div></li></ul></div></div>"
      ],
      "text/plain": [
       "<xarray.Dataset>\n",
       "Dimensions:    (ensemble: 20, init_date: 58, lead_time: 11)\n",
       "Coordinates:\n",
       "  * ensemble   (ensemble) int64 0 1 2 3 4 5 6 7 8 ... 11 12 13 14 15 16 17 18 19\n",
       "  * init_date  (init_date) object 1960-10-16 00:00:00 ... 2018-10-16 00:00:00\n",
       "  * lead_time  (lead_time) int64 0 1 2 3 4 5 6 7 8 9 10\n",
       "    time       (lead_time, init_date) object dask.array<chunksize=(11, 58), meta=np.ndarray>\n",
       "Data variables:\n",
       "    pr         (init_date, ensemble, lead_time) float64 dask.array<chunksize=(1, 1, 11), meta=np.ndarray>\n",
       "Attributes: (12/51)\n",
       "    Conventions:               CF-1.7 CMIP-6.2\n",
       "    activity_id:               DCPP\n",
       "    branch_method:             standard\n",
       "    branch_time:               715308.0\n",
       "    branch_time_in_child:      715308.0\n",
       "    branch_time_in_parent:     715308.0\n",
       "    ...                        ...\n",
       "    table_id:                  Amon\n",
       "    table_info:                Creation Date:(24 July 2019) MD5:f0588f7f55b57...\n",
       "    title:                     NorCPM1 output prepared for CMIP6\n",
       "    tracking_id:               hdl:21.14100/a949c13d-0318-4054-94a6-7045c9e41733\n",
       "    variable_id:               pr\n",
       "    variant_label:             r1i1p1f1"
      ]
     },
     "execution_count": 16,
     "metadata": {},
     "output_type": "execute_result"
    }
   ],
   "source": [
    "model_ds"
   ]
  },
  {
   "cell_type": "markdown",
   "id": "b25bd815",
   "metadata": {
    "papermill": {
     "duration": 0.054002,
     "end_time": "2022-03-08T05:58:27.689492",
     "exception": false,
     "start_time": "2022-03-08T05:58:27.635490",
     "status": "completed"
    },
    "tags": []
   },
   "source": [
    "### Independence testing"
   ]
  },
  {
   "cell_type": "code",
   "execution_count": 17,
   "id": "b819d698",
   "metadata": {
    "execution": {
     "iopub.execute_input": "2022-03-08T05:58:27.800202Z",
     "iopub.status.busy": "2022-03-08T05:58:27.799315Z",
     "iopub.status.idle": "2022-03-08T05:58:27.842575Z",
     "shell.execute_reply": "2022-03-08T05:58:27.841592Z"
    },
    "papermill": {
     "duration": 0.1019,
     "end_time": "2022-03-08T05:58:27.842811",
     "exception": false,
     "start_time": "2022-03-08T05:58:27.740911",
     "status": "completed"
    },
    "tags": []
   },
   "outputs": [
    {
     "data": {
      "image/png": "[encoded data removed]",
      "text/plain": [
       "<IPython.core.display.Image object>"
      ]
     },
     "execution_count": 17,
     "metadata": {},
     "output_type": "execute_result"
    }
   ],
   "source": [
    "Image(filename=independence_plot)"
   ]
  },
  {
   "cell_type": "code",
   "execution_count": 18,
   "id": "a5ccabe2",
   "metadata": {
    "execution": {
     "iopub.execute_input": "2022-03-08T05:58:27.959721Z",
     "iopub.status.busy": "2022-03-08T05:58:27.958737Z",
     "iopub.status.idle": "2022-03-08T05:58:27.964165Z",
     "shell.execute_reply": "2022-03-08T05:58:27.963256Z"
    },
    "papermill": {
     "duration": 0.065844,
     "end_time": "2022-03-08T05:58:27.964431",
     "exception": false,
     "start_time": "2022-03-08T05:58:27.898587",
     "status": "completed"
    },
    "tags": []
   },
   "outputs": [
    {
     "name": "stdout",
     "output_type": "stream",
     "text": [
      "2\n"
     ]
    }
   ],
   "source": [
    "print(min_lead)"
   ]
  },
  {
   "cell_type": "code",
   "execution_count": 19,
   "id": "e055048c",
   "metadata": {
    "execution": {
     "iopub.execute_input": "2022-03-08T05:58:28.096426Z",
     "iopub.status.busy": "2022-03-08T05:58:28.095540Z",
     "iopub.status.idle": "2022-03-08T05:58:28.100039Z",
     "shell.execute_reply": "2022-03-08T05:58:28.099138Z"
    },
    "papermill": {
     "duration": 0.077702,
     "end_time": "2022-03-08T05:58:28.100275",
     "exception": false,
     "start_time": "2022-03-08T05:58:28.022573",
     "status": "completed"
    },
    "tags": []
   },
   "outputs": [],
   "source": [
    "model_da = model_ds['pr'].where(model_ds['lead_time'] >= min_lead)"
   ]
  },
  {
   "cell_type": "markdown",
   "id": "1e039e61",
   "metadata": {
    "papermill": {
     "duration": 0.059204,
     "end_time": "2022-03-08T05:58:28.214474",
     "exception": false,
     "start_time": "2022-03-08T05:58:28.155270",
     "status": "completed"
    },
    "tags": []
   },
   "source": [
    "### Bias correction and similarity testing"
   ]
  },
  {
   "cell_type": "code",
   "execution_count": 20,
   "id": "110c554e",
   "metadata": {
    "execution": {
     "iopub.execute_input": "2022-03-08T05:58:28.366675Z",
     "iopub.status.busy": "2022-03-08T05:58:28.359002Z",
     "iopub.status.idle": "2022-03-08T05:58:35.011055Z",
     "shell.execute_reply": "2022-03-08T05:58:35.010304Z"
    },
    "papermill": {
     "duration": 6.740678,
     "end_time": "2022-03-08T05:58:35.011268",
     "exception": false,
     "start_time": "2022-03-08T05:58:28.270590",
     "status": "completed"
    },
    "tags": []
   },
   "outputs": [
    {
     "data": {
      "image/png": "[encoded data removed]",
      "text/plain": [
       "<Figure size 720x432 with 1 Axes>"
      ]
     },
     "metadata": {
      "needs_background": "light"
     },
     "output_type": "display_data"
    }
   ],
   "source": [
    "fig = plt.figure(figsize=[10, 6])\n",
    "model_da.plot.hist(bins=50, density=True, label=model_name, alpha=0.7)\n",
    "model_bc_ds['pr'].plot.hist(bins=50, density=True, label=f'{model_name} bias corrected', facecolor='darkblue', alpha=0.7)\n",
    "bom_ds['pr'].plot.hist(bins=50, density=True, label='BoM', facecolor='green', alpha=0.7)\n",
    "plt.xlabel('precipitation (mm)')\n",
    "plt.ylabel('probability')\n",
    "plt.title(f'November rainfall for Australia ({model_name})')\n",
    "plt.legend()\n",
    "plt.savefig(f'/g/data/xv83/dbi599/nov-rain/figures/nov_precip_histogram_aus_{model_name}.png',\n",
    "            bbox_inches='tight', facecolor='white', dpi=dpi)\n",
    "plt.show()"
   ]
  },
  {
   "cell_type": "code",
   "execution_count": 21,
   "id": "8b3f7de0",
   "metadata": {
    "execution": {
     "iopub.execute_input": "2022-03-08T05:58:35.118686Z",
     "iopub.status.busy": "2022-03-08T05:58:35.117880Z",
     "iopub.status.idle": "2022-03-08T05:58:35.210990Z",
     "shell.execute_reply": "2022-03-08T05:58:35.210242Z"
    },
    "papermill": {
     "duration": 0.151409,
     "end_time": "2022-03-08T05:58:35.211182",
     "exception": false,
     "start_time": "2022-03-08T05:58:35.059773",
     "status": "completed"
    },
    "tags": []
   },
   "outputs": [
    {
     "data": {
      "text/plain": [
       "array([0.13811689, 0.07824767, 0.06394574, 0.09673132, 0.05193357,\n",
       "       0.07079119, 0.03897171, 0.01847226, 0.01571858])"
      ]
     },
     "execution_count": 21,
     "metadata": {},
     "output_type": "execute_result"
    }
   ],
   "source": [
    "similarity_bias_ds = fileio.open_dataset(similarity_bc_file)\n",
    "similarity_bias_ds['pval'].values"
   ]
  },
  {
   "cell_type": "code",
   "execution_count": 22,
   "id": "a21af1f7",
   "metadata": {
    "execution": {
     "iopub.execute_input": "2022-03-08T05:58:35.315810Z",
     "iopub.status.busy": "2022-03-08T05:58:35.314999Z",
     "iopub.status.idle": "2022-03-08T05:58:35.362971Z",
     "shell.execute_reply": "2022-03-08T05:58:35.361559Z"
    },
    "papermill": {
     "duration": 0.104683,
     "end_time": "2022-03-08T05:58:35.363502",
     "exception": false,
     "start_time": "2022-03-08T05:58:35.258819",
     "status": "completed"
    },
    "tags": []
   },
   "outputs": [
    {
     "data": {
      "text/plain": [
       "array([7.77156117e-16, 7.77156117e-16, 7.77156117e-16, 7.77156117e-16,\n",
       "       7.77156117e-16, 7.77156117e-16, 7.77156117e-16, 7.77156117e-16,\n",
       "       7.77156117e-16, 7.77156117e-16, 7.77156117e-16])"
      ]
     },
     "execution_count": 22,
     "metadata": {},
     "output_type": "execute_result"
    }
   ],
   "source": [
    "similarity_raw_ds = fileio.open_dataset(similarity_raw_file)\n",
    "similarity_raw_ds['pval'].values"
   ]
  },
  {
   "cell_type": "markdown",
   "id": "1a8210c0",
   "metadata": {
    "papermill": {
     "duration": 0.052364,
     "end_time": "2022-03-08T05:58:35.463945",
     "exception": false,
     "start_time": "2022-03-08T05:58:35.411581",
     "status": "completed"
    },
    "tags": []
   },
   "source": [
    "These are the p-values for each lead time.\n",
    "\n",
    "p > 0.05 means the null hypothesis (that the two samples are from the same population) can't be rejected."
   ]
  },
  {
   "cell_type": "markdown",
   "id": "692c7b58",
   "metadata": {
    "papermill": {
     "duration": 0.04941,
     "end_time": "2022-03-08T05:58:35.561454",
     "exception": false,
     "start_time": "2022-03-08T05:58:35.512044",
     "status": "completed"
    },
    "tags": []
   },
   "source": [
    "### Exceedance curves"
   ]
  },
  {
   "cell_type": "code",
   "execution_count": 23,
   "id": "76186045",
   "metadata": {
    "execution": {
     "iopub.execute_input": "2022-03-08T05:58:35.669815Z",
     "iopub.status.busy": "2022-03-08T05:58:35.668406Z",
     "iopub.status.idle": "2022-03-08T05:58:35.674238Z",
     "shell.execute_reply": "2022-03-08T05:58:35.673255Z"
    },
    "papermill": {
     "duration": 0.065303,
     "end_time": "2022-03-08T05:58:35.674622",
     "exception": false,
     "start_time": "2022-03-08T05:58:35.609319",
     "status": "completed"
    },
    "tags": []
   },
   "outputs": [],
   "source": [
    "def plot_exceedance(sample_ds, model_name):\n",
    "    \"\"\"Plot single exceedance curve\"\"\"\n",
    "    \n",
    "    sorted_data, exceedance_data = general_utils.exceedance_curve(sample_ds)\n",
    "    \n",
    "    fig = plt.figure(figsize=[8, 6])\n",
    "    ax = fig.add_subplot()\n",
    "    ax.plot(sorted_data, exceedance_data)\n",
    "    ax.set_title(f'November rainfall for Australia ({model_name})')\n",
    "    ax.set_ylabel('likelihood of exceedance (%)')\n",
    "    ax.set_xlabel('monthly precipitation (mm)')\n",
    "    ax.axvline(pr2021, color='0.5', linestyle='--')\n",
    "    outfile = f'/g/data/xv83/dbi599/nov-rain/figures/nov_precip_exceedence_aus_{model_name}.png'\n",
    "    plt.savefig(outfile, bbox_inches='tight', facecolor='white', dpi=dpi)\n",
    "    print(outfile)"
   ]
  },
  {
   "cell_type": "code",
   "execution_count": 24,
   "id": "116edf55",
   "metadata": {
    "execution": {
     "iopub.execute_input": "2022-03-08T05:58:35.789866Z",
     "iopub.status.busy": "2022-03-08T05:58:35.788175Z",
     "iopub.status.idle": "2022-03-08T05:58:35.793687Z",
     "shell.execute_reply": "2022-03-08T05:58:35.794433Z"
    },
    "papermill": {
     "duration": 0.070844,
     "end_time": "2022-03-08T05:58:35.794736",
     "exception": false,
     "start_time": "2022-03-08T05:58:35.723892",
     "status": "completed"
    },
    "tags": []
   },
   "outputs": [],
   "source": [
    "def plot_exceedance_by_decade(sample_ds, model_name):\n",
    "    \"\"\"Plot exceedance curve by decade\"\"\"\n",
    "\n",
    "    fig = plt.figure(figsize=[8, 6])\n",
    "    ax = fig.add_subplot()\n",
    "    start_years = [1960, 1970, 1980, 1990, 2000, 2010]\n",
    "    colors = iter(plt.cm.hot_r(np.linspace(0.3, 1, len(start_years))))\n",
    "\n",
    "    for start_year in start_years:\n",
    "        end_year = start_year + 9\n",
    "        start_date = f'{start_year}-01-01'\n",
    "        end_date = f'{end_year}-12-25'\n",
    "        ds_selection = time_utils.select_time_period(sample_ds, [start_date, end_date])\n",
    "        ds_selection = ds_selection.dropna('sample')\n",
    "        sorted_data, exceedance_data = general_utils.exceedance_curve(ds_selection)\n",
    "        n_years = len(sorted_data)\n",
    "        label = f'{start_year}-{end_year} ({n_years} samples)'\n",
    "        color = next(colors)\n",
    "        ax.plot(sorted_data, exceedance_data, label=label, color=color)\n",
    "    \n",
    "        print(f'{start_year}-{end_year}')\n",
    "        percentile, return_period = general_utils.event_in_context(ds_selection.values, pr2021, 'above')\n",
    "        print(f'{percentile:.2f}% percentile')\n",
    "        print(f'{return_period:.0f} year return period\\n')\n",
    "\n",
    "    ax.set_title(f'November rainfall for Australia ({model_name})')\n",
    "    ax.set_ylabel('likelihood of exceedance (%)')\n",
    "    ax.set_xlabel('monthly precipitation (mm)')\n",
    "    ax.legend()\n",
    "    ax.axvline(pr2021, color='0.5', linestyle='--')\n",
    "    outfile = f'/g/data/xv83/dbi599/nov-rain/figures/nov_precip_exceedence_aus_{model_name}_by-decade.png'\n",
    "    plt.savefig(outfile, bbox_inches='tight', facecolor='white', dpi=dpi)\n",
    "    print(outfile)"
   ]
  },
  {
   "cell_type": "markdown",
   "id": "d6a40828",
   "metadata": {
    "papermill": {
     "duration": 0.060102,
     "end_time": "2022-03-08T05:58:35.913670",
     "exception": false,
     "start_time": "2022-03-08T05:58:35.853568",
     "status": "completed"
    },
    "tags": []
   },
   "source": [
    "#### Bias corrected data"
   ]
  },
  {
   "cell_type": "code",
   "execution_count": 25,
   "id": "f0b0019b",
   "metadata": {
    "execution": {
     "iopub.execute_input": "2022-03-08T05:58:36.057214Z",
     "iopub.status.busy": "2022-03-08T05:58:36.042510Z",
     "iopub.status.idle": "2022-03-08T05:58:40.605701Z",
     "shell.execute_reply": "2022-03-08T05:58:40.603616Z"
    },
    "papermill": {
     "duration": 4.633982,
     "end_time": "2022-03-08T05:58:40.606295",
     "exception": false,
     "start_time": "2022-03-08T05:58:35.972313",
     "status": "completed"
    },
    "tags": []
   },
   "outputs": [],
   "source": [
    "model_bc_da_stacked = model_bc_ds.dropna('lead_time')['pr'].stack({'sample': ['ensemble', 'init_date', 'lead_time']})"
   ]
  },
  {
   "cell_type": "code",
   "execution_count": 26,
   "id": "7d4fdc9e",
   "metadata": {
    "execution": {
     "iopub.execute_input": "2022-03-08T05:58:40.745924Z",
     "iopub.status.busy": "2022-03-08T05:58:40.744920Z",
     "iopub.status.idle": "2022-03-08T05:58:40.753939Z",
     "shell.execute_reply": "2022-03-08T05:58:40.752645Z"
    },
    "papermill": {
     "duration": 0.082851,
     "end_time": "2022-03-08T05:58:40.754258",
     "exception": false,
     "start_time": "2022-03-08T05:58:40.671407",
     "status": "completed"
    },
    "tags": []
   },
   "outputs": [
    {
     "data": {
      "text/plain": [
       "(10440,)"
      ]
     },
     "execution_count": 26,
     "metadata": {},
     "output_type": "execute_result"
    }
   ],
   "source": [
    "model_bc_da_stacked.shape"
   ]
  },
  {
   "cell_type": "code",
   "execution_count": 27,
   "id": "59075ebb",
   "metadata": {
    "execution": {
     "iopub.execute_input": "2022-03-08T05:58:40.889563Z",
     "iopub.status.busy": "2022-03-08T05:58:40.884301Z",
     "iopub.status.idle": "2022-03-08T05:58:46.814307Z",
     "shell.execute_reply": "2022-03-08T05:58:46.815276Z"
    },
    "papermill": {
     "duration": 6.001199,
     "end_time": "2022-03-08T05:58:46.815650",
     "exception": false,
     "start_time": "2022-03-08T05:58:40.814451",
     "status": "completed"
    },
    "tags": []
   },
   "outputs": [
    {
     "name": "stdout",
     "output_type": "stream",
     "text": [
      "/g/data/xv83/dbi599/nov-rain/figures/nov_precip_exceedence_aus_NorCPM1.png\n"
     ]
    },
    {
     "data": {
      "image/png": "[encoded data removed]",
      "text/plain": [
       "<Figure size 576x432 with 1 Axes>"
      ]
     },
     "metadata": {
      "needs_background": "light"
     },
     "output_type": "display_data"
    }
   ],
   "source": [
    "plot_exceedance(model_bc_da_stacked, model_name)"
   ]
  },
  {
   "cell_type": "code",
   "execution_count": 28,
   "id": "39e4acf0",
   "metadata": {
    "execution": {
     "iopub.execute_input": "2022-03-08T05:58:46.971340Z",
     "iopub.status.busy": "2022-03-08T05:58:46.966148Z",
     "iopub.status.idle": "2022-03-08T05:58:52.201114Z",
     "shell.execute_reply": "2022-03-08T05:58:52.199656Z"
    },
    "papermill": {
     "duration": 5.322105,
     "end_time": "2022-03-08T05:58:52.201567",
     "exception": false,
     "start_time": "2022-03-08T05:58:46.879462",
     "status": "completed"
    },
    "tags": []
   },
   "outputs": [
    {
     "name": "stdout",
     "output_type": "stream",
     "text": [
      "BIAS CORRECTED DATA\n",
      "100.00% percentile\n",
      "inf year return period\n"
     ]
    },
    {
     "name": "stderr",
     "output_type": "stream",
     "text": [
      "/home/599/dbi599/forks/unseen/unseen/general_utils.py:147: RuntimeWarning: divide by zero encountered in long_scalars\n",
      "  return_period = n_population / n_events\n"
     ]
    }
   ],
   "source": [
    "percentile_bc, return_period_bc = general_utils.event_in_context(model_bc_da_stacked.values, pr2021, 'above')\n",
    "print('BIAS CORRECTED DATA')\n",
    "print(f'{percentile_bc:.2f}% percentile')\n",
    "print(f'{return_period_bc:.0f} year return period')"
   ]
  },
  {
   "cell_type": "code",
   "execution_count": 29,
   "id": "7789699c",
   "metadata": {
    "execution": {
     "iopub.execute_input": "2022-03-08T05:58:52.388566Z",
     "iopub.status.busy": "2022-03-08T05:58:52.385916Z",
     "iopub.status.idle": "2022-03-08T05:59:57.193062Z",
     "shell.execute_reply": "2022-03-08T05:59:57.194088Z"
    },
    "papermill": {
     "duration": 64.924042,
     "end_time": "2022-03-08T05:59:57.194728",
     "exception": false,
     "start_time": "2022-03-08T05:58:52.270686",
     "status": "completed"
    },
    "tags": []
   },
   "outputs": [
    {
     "name": "stdout",
     "output_type": "stream",
     "text": [
      "1960-1969\n"
     ]
    },
    {
     "name": "stderr",
     "output_type": "stream",
     "text": [
      "/home/599/dbi599/forks/unseen/unseen/general_utils.py:147: RuntimeWarning: divide by zero encountered in long_scalars\n",
      "  return_period = n_population / n_events\n"
     ]
    },
    {
     "name": "stdout",
     "output_type": "stream",
     "text": [
      "100.00% percentile\n",
      "inf year return period\n",
      "\n"
     ]
    },
    {
     "name": "stdout",
     "output_type": "stream",
     "text": [
      "1970-1979\n"
     ]
    },
    {
     "name": "stderr",
     "output_type": "stream",
     "text": [
      "/home/599/dbi599/forks/unseen/unseen/general_utils.py:147: RuntimeWarning: divide by zero encountered in long_scalars\n",
      "  return_period = n_population / n_events\n"
     ]
    },
    {
     "name": "stdout",
     "output_type": "stream",
     "text": [
      "100.00% percentile\n",
      "inf year return period\n",
      "\n"
     ]
    },
    {
     "name": "stdout",
     "output_type": "stream",
     "text": [
      "1980-1989\n"
     ]
    },
    {
     "name": "stderr",
     "output_type": "stream",
     "text": [
      "/home/599/dbi599/forks/unseen/unseen/general_utils.py:147: RuntimeWarning: divide by zero encountered in long_scalars\n",
      "  return_period = n_population / n_events\n"
     ]
    },
    {
     "name": "stdout",
     "output_type": "stream",
     "text": [
      "100.00% percentile\n",
      "inf year return period\n",
      "\n"
     ]
    },
    {
     "name": "stdout",
     "output_type": "stream",
     "text": [
      "1990-1999\n"
     ]
    },
    {
     "name": "stderr",
     "output_type": "stream",
     "text": [
      "/home/599/dbi599/forks/unseen/unseen/general_utils.py:147: RuntimeWarning: divide by zero encountered in long_scalars\n",
      "  return_period = n_population / n_events\n"
     ]
    },
    {
     "name": "stdout",
     "output_type": "stream",
     "text": [
      "100.00% percentile\n",
      "inf year return period\n",
      "\n"
     ]
    },
    {
     "name": "stdout",
     "output_type": "stream",
     "text": [
      "2000-2009\n"
     ]
    },
    {
     "name": "stderr",
     "output_type": "stream",
     "text": [
      "/home/599/dbi599/forks/unseen/unseen/general_utils.py:147: RuntimeWarning: divide by zero encountered in long_scalars\n",
      "  return_period = n_population / n_events\n"
     ]
    },
    {
     "name": "stdout",
     "output_type": "stream",
     "text": [
      "100.00% percentile\n",
      "inf year return period\n",
      "\n"
     ]
    },
    {
     "name": "stdout",
     "output_type": "stream",
     "text": [
      "2010-2019\n"
     ]
    },
    {
     "name": "stderr",
     "output_type": "stream",
     "text": [
      "/home/599/dbi599/forks/unseen/unseen/general_utils.py:147: RuntimeWarning: divide by zero encountered in long_scalars\n",
      "  return_period = n_population / n_events\n"
     ]
    },
    {
     "name": "stdout",
     "output_type": "stream",
     "text": [
      "100.00% percentile\n",
      "inf year return period\n",
      "\n"
     ]
    },
    {
     "name": "stdout",
     "output_type": "stream",
     "text": [
      "/g/data/xv83/dbi599/nov-rain/figures/nov_precip_exceedence_aus_NorCPM1_by-decade.png\n"
     ]
    },
    {
     "data": {
      "image/png": "[encoded data removed]",
      "text/plain": [
       "<Figure size 576x432 with 1 Axes>"
      ]
     },
     "metadata": {
      "needs_background": "light"
     },
     "output_type": "display_data"
    }
   ],
   "source": [
    "plot_exceedance_by_decade(model_bc_da_stacked, model_name)"
   ]
  },
  {
   "cell_type": "markdown",
   "id": "c6a2c14c",
   "metadata": {
    "papermill": {
     "duration": 0.076879,
     "end_time": "2022-03-08T05:59:57.350059",
     "exception": false,
     "start_time": "2022-03-08T05:59:57.273180",
     "status": "completed"
    },
    "tags": []
   },
   "source": [
    "#### Raw data"
   ]
  },
  {
   "cell_type": "code",
   "execution_count": 30,
   "id": "6b40107c",
   "metadata": {
    "execution": {
     "iopub.execute_input": "2022-03-08T05:59:57.531568Z",
     "iopub.status.busy": "2022-03-08T05:59:57.518699Z",
     "iopub.status.idle": "2022-03-08T06:00:01.653022Z",
     "shell.execute_reply": "2022-03-08T06:00:01.652188Z"
    },
    "papermill": {
     "duration": 4.228789,
     "end_time": "2022-03-08T06:00:01.653284",
     "exception": false,
     "start_time": "2022-03-08T05:59:57.424495",
     "status": "completed"
    },
    "tags": []
   },
   "outputs": [],
   "source": [
    "model_da_stacked = model_da.dropna('lead_time').stack({'sample': ['ensemble', 'init_date', 'lead_time']})"
   ]
  },
  {
   "cell_type": "code",
   "execution_count": 31,
   "id": "10aaf4a0",
   "metadata": {
    "execution": {
     "iopub.execute_input": "2022-03-08T06:00:01.805646Z",
     "iopub.status.busy": "2022-03-08T06:00:01.804163Z",
     "iopub.status.idle": "2022-03-08T06:00:01.810899Z",
     "shell.execute_reply": "2022-03-08T06:00:01.810053Z"
    },
    "papermill": {
     "duration": 0.085303,
     "end_time": "2022-03-08T06:00:01.811131",
     "exception": false,
     "start_time": "2022-03-08T06:00:01.725828",
     "status": "completed"
    },
    "tags": []
   },
   "outputs": [
    {
     "data": {
      "text/plain": [
       "(10440,)"
      ]
     },
     "execution_count": 31,
     "metadata": {},
     "output_type": "execute_result"
    }
   ],
   "source": [
    "model_da_stacked.shape"
   ]
  },
  {
   "cell_type": "code",
   "execution_count": 32,
   "id": "cb75fa43",
   "metadata": {
    "execution": {
     "iopub.execute_input": "2022-03-08T06:00:02.145241Z",
     "iopub.status.busy": "2022-03-08T06:00:02.129279Z",
     "iopub.status.idle": "2022-03-08T06:00:06.591523Z",
     "shell.execute_reply": "2022-03-08T06:00:06.590076Z"
    },
    "papermill": {
     "duration": 4.708129,
     "end_time": "2022-03-08T06:00:06.591897",
     "exception": false,
     "start_time": "2022-03-08T06:00:01.883768",
     "status": "completed"
    },
    "tags": []
   },
   "outputs": [
    {
     "name": "stdout",
     "output_type": "stream",
     "text": [
      "/g/data/xv83/dbi599/nov-rain/figures/nov_precip_exceedence_aus_NorCPM1.png\n"
     ]
    },
    {
     "data": {
      "image/png": "[encoded data removed]",
      "text/plain": [
       "<Figure size 576x432 with 1 Axes>"
      ]
     },
     "metadata": {
      "needs_background": "light"
     },
     "output_type": "display_data"
    }
   ],
   "source": [
    "plot_exceedance(model_da_stacked, model_name)"
   ]
  },
  {
   "cell_type": "code",
   "execution_count": 33,
   "id": "89138fa6",
   "metadata": {
    "execution": {
     "iopub.execute_input": "2022-03-08T06:00:06.756921Z",
     "iopub.status.busy": "2022-03-08T06:00:06.755692Z",
     "iopub.status.idle": "2022-03-08T06:00:10.997938Z",
     "shell.execute_reply": "2022-03-08T06:00:10.996586Z"
    },
    "papermill": {
     "duration": 4.325773,
     "end_time": "2022-03-08T06:00:10.998281",
     "exception": false,
     "start_time": "2022-03-08T06:00:06.672508",
     "status": "completed"
    },
    "tags": []
   },
   "outputs": [
    {
     "name": "stdout",
     "output_type": "stream",
     "text": [
      "RAW DATA\n",
      "32.03% percentile\n",
      "1 year return period\n"
     ]
    }
   ],
   "source": [
    "percentile, return_period = general_utils.event_in_context(model_da_stacked.values, pr2021, 'above')\n",
    "print('RAW DATA')\n",
    "print(f'{percentile:.2f}% percentile')\n",
    "print(f'{return_period:.0f} year return period')"
   ]
  },
  {
   "cell_type": "code",
   "execution_count": null,
   "id": "cbfda751",
   "metadata": {
    "papermill": {
     "duration": 0.079475,
     "end_time": "2022-03-08T06:00:11.160038",
     "exception": false,
     "start_time": "2022-03-08T06:00:11.080563",
     "status": "completed"
    },
    "tags": []
   },
   "outputs": [],
   "source": []
  }
 ],
 "metadata": {
  "kernelspec": {
   "display_name": "Python 3",
   "language": "python",
   "name": "python3"
  },
  "language_info": {
   "codemirror_mode": {
    "name": "ipython",
    "version": 3
   },
   "file_extension": ".py",
   "mimetype": "text/x-python",
   "name": "python",
   "nbconvert_exporter": "python",
   "pygments_lexer": "ipython3",
   "version": "3.9.4"
  },
  "papermill": {
   "default_parameters": {},
   "duration": 121.180436,
   "end_time": "2022-03-08T06:00:13.072859",
   "environment_variables": {},
   "exception": null,
   "input_path": "analysis/analysis.ipynb",
   "output_path": "analysis/analysis_NorCPM1.ipynb",
   "parameters": {
    "bom_file": "/g/data/xv83/dbi599/nov-rain/data/pr_BoM_1900-2021_nov_aus-mean.nc",
    "independence_plot": "/g/data/xv83/dbi599/nov-rain/figures/independence-test_pr_NorCPM1-dcppA-hindcast_196010-201810_nov_aus-mean.png",
    "min_lead": 2,
    "model_bc_file": "/g/data/xv83/dbi599/nov-rain/data/pr_NorCPM1-dcppA-hindcast_196010-201810_nov_aus-mean_bias-corrected-BoM-multiplicative.zarr.zip",
    "model_file": "/g/data/xv83/dbi599/nov-rain/data/pr_NorCPM1-dcppA-hindcast_196010-201810_nov_aus-mean.zarr.zip",
    "model_name": "NorCPM1",
    "similarity_bc_file": "/g/data/xv83/dbi599/nov-rain/data/ks-test_pr_NorCPM1-dcppA-hindcast_1960-2018_nov_aus-mean_bias-corrected-BoM-multiplicative.zarr.zip",
    "similarity_raw_file": "/g/data/xv83/dbi599/nov-rain/data/ks-test_pr_NorCPM1-dcppA-hindcast_1960-2018_nov_aus-mean_BoM.zarr.zip"
   },
   "start_time": "2022-03-08T05:58:11.892423",
   "version": "2.3.3"
  }
 },
 "nbformat": 4,
 "nbformat_minor": 5
}