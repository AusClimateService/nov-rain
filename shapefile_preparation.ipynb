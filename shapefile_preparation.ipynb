{
 "cells": [
  {
   "cell_type": "code",
   "execution_count": 26,
   "id": "b56d6138",
   "metadata": {},
   "outputs": [],
   "source": [
    "import geopandas as gp"
   ]
  },
  {
   "cell_type": "code",
   "execution_count": 27,
   "id": "56d55f6f",
   "metadata": {},
   "outputs": [],
   "source": [
    "shapefile = '/g/data/xv83/dbi599/nov-rain/AUS_2021_AUST_SHP_GDA2020.zip'\n",
    "aus = gp.read_file(shapefile)"
   ]
  },
  {
   "cell_type": "code",
   "execution_count": 28,
   "id": "fa30682d",
   "metadata": {},
   "outputs": [
    {
     "data": {
      "text/html": [
       "<div>\n",
       "<style scoped>\n",
       "    .dataframe tbody tr th:only-of-type {\n",
       "        vertical-align: middle;\n",
       "    }\n",
       "\n",
       "    .dataframe tbody tr th {\n",
       "        vertical-align: top;\n",
       "    }\n",
       "\n",
       "    .dataframe thead th {\n",
       "        text-align: right;\n",
       "    }\n",
       "</style>\n",
       "<table border=\"1\" class=\"dataframe\">\n",
       "  <thead>\n",
       "    <tr style=\"text-align: right;\">\n",
       "      <th></th>\n",
       "      <th>AUS_CODE21</th>\n",
       "      <th>AUS_NAME21</th>\n",
       "      <th>CHG_FLAG21</th>\n",
       "      <th>CHG_LBL21</th>\n",
       "      <th>AREASQKM21</th>\n",
       "      <th>LOCI_URI21</th>\n",
       "      <th>geometry</th>\n",
       "    </tr>\n",
       "  </thead>\n",
       "  <tbody>\n",
       "    <tr>\n",
       "      <th>0</th>\n",
       "      <td>AUS</td>\n",
       "      <td>Australia</td>\n",
       "      <td>0</td>\n",
       "      <td>No change</td>\n",
       "      <td>7.688095e+06</td>\n",
       "      <td>http://linked.data.gov.au/dataset/asgsed3/AUS/AUS</td>\n",
       "      <td>MULTIPOLYGON (((96.91524 -12.15313, 96.91523 -...</td>\n",
       "    </tr>\n",
       "    <tr>\n",
       "      <th>1</th>\n",
       "      <td>ZZZ</td>\n",
       "      <td>Outside Australia</td>\n",
       "      <td>1</td>\n",
       "      <td>New</td>\n",
       "      <td>NaN</td>\n",
       "      <td>http://linked.data.gov.au/dataset/asgsed3/AUS/ZZZ</td>\n",
       "      <td>None</td>\n",
       "    </tr>\n",
       "  </tbody>\n",
       "</table>\n",
       "</div>"
      ],
      "text/plain": [
       "  AUS_CODE21         AUS_NAME21 CHG_FLAG21  CHG_LBL21    AREASQKM21  \\\n",
       "0        AUS          Australia          0  No change  7.688095e+06   \n",
       "1        ZZZ  Outside Australia          1        New           NaN   \n",
       "\n",
       "                                          LOCI_URI21  \\\n",
       "0  http://linked.data.gov.au/dataset/asgsed3/AUS/AUS   \n",
       "1  http://linked.data.gov.au/dataset/asgsed3/AUS/ZZZ   \n",
       "\n",
       "                                            geometry  \n",
       "0  MULTIPOLYGON (((96.91524 -12.15313, 96.91523 -...  \n",
       "1                                               None  "
      ]
     },
     "execution_count": 28,
     "metadata": {},
     "output_type": "execute_result"
    }
   ],
   "source": [
    "aus"
   ]
  },
  {
   "cell_type": "code",
   "execution_count": 29,
   "id": "223c6be0",
   "metadata": {},
   "outputs": [],
   "source": [
    "aus = aus.drop([1])\n",
    "aus = aus.drop(columns=['CHG_FLAG21', 'CHG_LBL21'])"
   ]
  },
  {
   "cell_type": "code",
   "execution_count": 30,
   "id": "eee1ad90",
   "metadata": {},
   "outputs": [
    {
     "data": {
      "text/html": [
       "<div>\n",
       "<style scoped>\n",
       "    .dataframe tbody tr th:only-of-type {\n",
       "        vertical-align: middle;\n",
       "    }\n",
       "\n",
       "    .dataframe tbody tr th {\n",
       "        vertical-align: top;\n",
       "    }\n",
       "\n",
       "    .dataframe thead th {\n",
       "        text-align: right;\n",
       "    }\n",
       "</style>\n",
       "<table border=\"1\" class=\"dataframe\">\n",
       "  <thead>\n",
       "    <tr style=\"text-align: right;\">\n",
       "      <th></th>\n",
       "      <th>AUS_CODE21</th>\n",
       "      <th>AUS_NAME21</th>\n",
       "      <th>AREASQKM21</th>\n",
       "      <th>LOCI_URI21</th>\n",
       "      <th>geometry</th>\n",
       "    </tr>\n",
       "  </thead>\n",
       "  <tbody>\n",
       "    <tr>\n",
       "      <th>0</th>\n",
       "      <td>AUS</td>\n",
       "      <td>Australia</td>\n",
       "      <td>7.688095e+06</td>\n",
       "      <td>http://linked.data.gov.au/dataset/asgsed3/AUS/AUS</td>\n",
       "      <td>MULTIPOLYGON (((96.91524 -12.15313, 96.91523 -...</td>\n",
       "    </tr>\n",
       "  </tbody>\n",
       "</table>\n",
       "</div>"
      ],
      "text/plain": [
       "  AUS_CODE21 AUS_NAME21    AREASQKM21  \\\n",
       "0        AUS  Australia  7.688095e+06   \n",
       "\n",
       "                                          LOCI_URI21  \\\n",
       "0  http://linked.data.gov.au/dataset/asgsed3/AUS/AUS   \n",
       "\n",
       "                                            geometry  \n",
       "0  MULTIPOLYGON (((96.91524 -12.15313, 96.91523 -...  "
      ]
     },
     "execution_count": 30,
     "metadata": {},
     "output_type": "execute_result"
    }
   ],
   "source": [
    "aus"
   ]
  },
  {
   "cell_type": "code",
   "execution_count": 31,
   "id": "eb8cbdb8",
   "metadata": {},
   "outputs": [
    {
     "data": {
      "text/plain": [
       "<AxesSubplot:>"
      ]
     },
     "execution_count": 31,
     "metadata": {},
     "output_type": "execute_result"
    },
    {
     "data": {
      "image/png": "[encoded data removed]",
      "text/plain": [
       "<Figure size 432x288 with 1 Axes>"
      ]
     },
     "metadata": {
      "needs_background": "light"
     },
     "output_type": "display_data"
    }
   ],
   "source": [
    "aus.plot()"
   ]
  },
  {
   "cell_type": "code",
   "execution_count": 32,
   "id": "bf2189e2",
   "metadata": {},
   "outputs": [],
   "source": [
    "aus.to_file('/g/data/xv83/dbi599/nov-rain/shapefiles/australia.shp')"
   ]
  },
  {
   "cell_type": "code",
   "execution_count": 33,
   "id": "275d4a9d",
   "metadata": {},
   "outputs": [
    {
     "name": "stdout",
     "output_type": "stream",
     "text": [
      "/g/data/xv83/dbi599/nov-rain/shapefiles/australia.cpg\r\n",
      "/g/data/xv83/dbi599/nov-rain/shapefiles/australia.dbf\r\n",
      "/g/data/xv83/dbi599/nov-rain/shapefiles/australia.prj\r\n",
      "/g/data/xv83/dbi599/nov-rain/shapefiles/australia.shp\r\n",
      "/g/data/xv83/dbi599/nov-rain/shapefiles/australia.shx\r\n"
     ]
    }
   ],
   "source": [
    "!ls /g/data/xv83/dbi599/nov-rain/shapefiles/australia*"
   ]
  },
  {
   "cell_type": "code",
   "execution_count": 34,
   "id": "b8627d4a",
   "metadata": {},
   "outputs": [
    {
     "data": {
      "text/html": [
       "<div>\n",
       "<style scoped>\n",
       "    .dataframe tbody tr th:only-of-type {\n",
       "        vertical-align: middle;\n",
       "    }\n",
       "\n",
       "    .dataframe tbody tr th {\n",
       "        vertical-align: top;\n",
       "    }\n",
       "\n",
       "    .dataframe thead th {\n",
       "        text-align: right;\n",
       "    }\n",
       "</style>\n",
       "<table border=\"1\" class=\"dataframe\">\n",
       "  <thead>\n",
       "    <tr style=\"text-align: right;\">\n",
       "      <th></th>\n",
       "      <th>AUS_CODE21</th>\n",
       "      <th>AUS_NAME21</th>\n",
       "      <th>AREASQKM21</th>\n",
       "      <th>LOCI_URI21</th>\n",
       "      <th>geometry</th>\n",
       "    </tr>\n",
       "  </thead>\n",
       "  <tbody>\n",
       "    <tr>\n",
       "      <th>0</th>\n",
       "      <td>AUS</td>\n",
       "      <td>Australia</td>\n",
       "      <td>7.688095e+06</td>\n",
       "      <td>http://linked.data.gov.au/dataset/asgsed3/AUS/AUS</td>\n",
       "      <td>MULTIPOLYGON (((96.91524 -12.15313, 96.91523 -...</td>\n",
       "    </tr>\n",
       "  </tbody>\n",
       "</table>\n",
       "</div>"
      ],
      "text/plain": [
       "  AUS_CODE21 AUS_NAME21    AREASQKM21  \\\n",
       "0        AUS  Australia  7.688095e+06   \n",
       "\n",
       "                                          LOCI_URI21  \\\n",
       "0  http://linked.data.gov.au/dataset/asgsed3/AUS/AUS   \n",
       "\n",
       "                                            geometry  \n",
       "0  MULTIPOLYGON (((96.91524 -12.15313, 96.91523 -...  "
      ]
     },
     "execution_count": 34,
     "metadata": {},
     "output_type": "execute_result"
    }
   ],
   "source": [
    "gp.read_file('/g/data/xv83/dbi599/nov-rain/shapefiles/australia.shp')"
   ]
  },
  {
   "cell_type": "code",
   "execution_count": null,
   "id": "e016ad1a",
   "metadata": {},
   "outputs": [],
   "source": []
  }
 ],
 "metadata": {
  "kernelspec": {
   "display_name": "Python 3",
   "language": "python",
   "name": "python3"
  },
  "language_info": {
   "codemirror_mode": {
    "name": "ipython",
    "version": 3
   },
   "file_extension": ".py",
   "mimetype": "text/x-python",
   "name": "python",
   "nbconvert_exporter": "python",
   "pygments_lexer": "ipython3",
   "version": "3.9.4"
  }
 },
 "nbformat": 4,
 "nbformat_minor": 5
}
